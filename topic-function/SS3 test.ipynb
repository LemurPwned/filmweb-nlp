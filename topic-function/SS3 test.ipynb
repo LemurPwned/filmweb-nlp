{
 "cells": [
  {
   "cell_type": "code",
   "execution_count": 1,
   "metadata": {},
   "outputs": [],
   "source": [
    "from pyss3 import SS3\n",
    "from pyss3.util import Dataset\n",
    "from pyss3.server import Server\n",
    "import pandas as pd \n",
    "import numpy as np\n",
    "\n",
    "from sklearn.metrics import accuracy_score"
   ]
  },
  {
   "cell_type": "code",
   "execution_count": 8,
   "metadata": {},
   "outputs": [],
   "source": [
    "import glob \n",
    "review_file = \"/Users/jakubmojsiejuk/Documents/agh/filmweb-nlp/data/reviews_for_bert*.csv\"\n",
    "\n",
    "reviews = pd.DataFrame()\n",
    "for rev_file in glob.glob(review_file):\n",
    "    r = pd.read_csv(rev_file)\n",
    "    reviews = pd.concat([reviews, r])\n",
    "    \n",
    "msk = np.random.rand(len(reviews)) < 0.7\n",
    "reviews['sent'] = reviews['rating'].apply(lambda x: 'pos' if x > 5 else 'neg')\n",
    "X_train, y_train = reviews['content'][msk].tolist(), reviews['sent'][msk].tolist()\n",
    "X_test, y_test = reviews['content'][~msk].tolist(), reviews['sent'][~msk].tolist()"
   ]
  },
  {
   "cell_type": "code",
   "execution_count": 9,
   "metadata": {},
   "outputs": [
    {
     "name": "stdout",
     "output_type": "stream",
     "text": [
      "66.89828218490639 5181\n"
     ]
    }
   ],
   "source": [
    "reviews['sent'] = (reviews['rating'] > 5)\n",
    "s = np.sum(reviews['sent'])\n",
    "\n",
    "print(s*100/len(reviews), len(reviews))"
   ]
  },
  {
   "cell_type": "code",
   "execution_count": 10,
   "metadata": {},
   "outputs": [
    {
     "name": "stdout",
     "output_type": "stream",
     "text": [
      "Smoothness(s): 0.45\n",
      "Significance(l): 0.5\n",
      "Sanction(p): 1\n"
     ]
    }
   ],
   "source": [
    "clf = SS3()\n",
    "s, l, p, _ = clf.get_hyperparameters()\n",
    "\n",
    "print(\"Smoothness(s):\", s)\n",
    "print(\"Significance(l):\", l)\n",
    "print(\"Sanction(p):\", p)"
   ]
  },
  {
   "cell_type": "code",
   "execution_count": 11,
   "metadata": {},
   "outputs": [
    {
     "name": "stderr",
     "output_type": "stream",
     "text": [
      "\r",
      " Training:   0%|          | 0/2 [00:00<?, ?it/s]"
     ]
    },
    {
     "name": "stdout",
     "output_type": "stream",
     "text": [
      "\u001b[94m [ about to start training ]\u001b[0m\n"
     ]
    },
    {
     "name": "stderr",
     "output_type": "stream",
     "text": [
      " Training: 100%|██████████| 2/2 [00:16<00:00,  7.16s/it]\n"
     ]
    },
    {
     "name": "stdout",
     "output_type": "stream",
     "text": [
      "\u001b[94m [ pruning tries... ]\u001b[0m\n",
      "\u001b[94m [ finished --time: 16.9s ]\u001b[0m\n",
      "\u001b[94m [ about to start updating values... ]\u001b[0m\n",
      "\u001b[94m [ caching lv values ]\u001b[0m\n",
      "\u001b[94m    [ lv values for 0 (neg) ]\u001b[0m\n",
      "\u001b[94m    [ lv values for 1 (pos) ]\u001b[0m\n",
      "\u001b[94m [ caching sg values ]\u001b[0m\n",
      "\u001b[94m    [ sg values for 0 (neg) ]\u001b[0m\n",
      "\u001b[94m    [ sg values for 1 (pos) ]\u001b[0m\n",
      "\u001b[94m[ caching gv values ]\u001b[0m\n",
      "\u001b[94m    [ gv values for 0 (neg) ]\u001b[0m\n",
      "\u001b[94m    [ gv values for 1 (pos) ]\u001b[0m\n",
      "\u001b[94m [ updating max gv values ]\u001b[0m\n",
      "\u001b[94m    [ max gv values for 0 (neg) ]\u001b[0m\n",
      "\u001b[94m    [ max gv values for 1 (pos) ]\u001b[0m\n",
      "\u001b[94m [ max gv values have been updated ]\u001b[0m\n",
      "\u001b[94m [ caching confidence values (cvs) ]\u001b[0m\n",
      "\u001b[94m    [ cvs for 0 (neg) ]\u001b[0m\n",
      "\u001b[94m    [ cvs for 1 (pos) ]\u001b[0m\n",
      "\u001b[94m [ finished --time: 2.6s ]\u001b[0m\n"
     ]
    }
   ],
   "source": [
    "clf.fit(X_train, y_train)"
   ]
  },
  {
   "cell_type": "code",
   "execution_count": 12,
   "metadata": {},
   "outputs": [
    {
     "name": "stderr",
     "output_type": "stream",
     "text": [
      " Classification:   1%|          | 10/1546 [00:00<00:16, 95.70it/s]"
     ]
    },
    {
     "name": "stdout",
     "output_type": "stream",
     "text": [
      "\u001b[94m [ default category was automatically set to 'pos' (the most probable one) ]\u001b[0m\n",
      "\u001b[94m [ about to start classifying test documents ]\u001b[0m\n"
     ]
    },
    {
     "name": "stderr",
     "output_type": "stream",
     "text": [
      " Classification: 100%|██████████| 1546/1546 [00:26<00:00, 58.45it/s]"
     ]
    },
    {
     "name": "stdout",
     "output_type": "stream",
     "text": [
      "\u001b[94m [ finished --time: 26.5s ]\u001b[0m\n",
      "Accuracy: 0.720569210866753\n"
     ]
    },
    {
     "name": "stderr",
     "output_type": "stream",
     "text": [
      "\n"
     ]
    }
   ],
   "source": [
    "y_pred = clf.predict(X_test)\n",
    "print(\"Accuracy:\", accuracy_score(y_pred, y_test))"
   ]
  },
  {
   "cell_type": "code",
   "execution_count": 13,
   "metadata": {},
   "outputs": [
    {
     "name": "stderr",
     "output_type": "stream",
     "text": [
      "\r",
      " Training:   0%|          | 0/2 [00:00<?, ?it/s]"
     ]
    },
    {
     "name": "stdout",
     "output_type": "stream",
     "text": [
      "\u001b[94m [ about to start training ]\u001b[0m\n"
     ]
    },
    {
     "name": "stderr",
     "output_type": "stream",
     "text": [
      " Training: 100%|██████████| 2/2 [00:22<00:00,  9.58s/it]\n"
     ]
    },
    {
     "name": "stdout",
     "output_type": "stream",
     "text": [
      "\u001b[94m [ pruning tries... ]\u001b[0m\n",
      "\u001b[94m [ finished --time: 23.2s ]\u001b[0m\n",
      "\u001b[94m [ about to start updating values... ]\u001b[0m\n",
      "\u001b[94m [ caching lv values ]\u001b[0m\n",
      "\u001b[94m    [ lv values for 0 (neg) ]\u001b[0m\n",
      "\u001b[94m    [ lv values for 1 (pos) ]\u001b[0m\n",
      "\u001b[94m [ caching sg values ]\u001b[0m\n",
      "\u001b[94m    [ sg values for 0 (neg) ]\u001b[0m\n",
      "\u001b[94m    [ sg values for 1 (pos) ]\u001b[0m\n",
      "\u001b[94m[ caching gv values ]\u001b[0m\n",
      "\u001b[94m    [ gv values for 0 (neg) ]\u001b[0m\n",
      "\u001b[94m    [ gv values for 1 (pos) ]\u001b[0m\n",
      "\u001b[94m [ updating max gv values ]\u001b[0m\n",
      "\u001b[94m    [ max gv values for 0 (neg) ]\u001b[0m\n",
      "\u001b[94m    [ max gv values for 1 (pos) ]\u001b[0m\n",
      "\u001b[94m [ max gv values have been updated ]\u001b[0m\n",
      "\u001b[94m [ caching confidence values (cvs) ]\u001b[0m\n",
      "\u001b[94m    [ cvs for 0 (neg) ]\u001b[0m\n",
      "\u001b[94m    [ cvs for 1 (pos) ]\u001b[0m\n"
     ]
    },
    {
     "name": "stderr",
     "output_type": "stream",
     "text": [
      " Classification:   1%|          | 10/1546 [00:00<00:16, 95.54it/s]"
     ]
    },
    {
     "name": "stdout",
     "output_type": "stream",
     "text": [
      "\u001b[94m [ finished --time: 3.0s ]\u001b[0m\n",
      "\u001b[94m [ default category was automatically set to 'pos' (the most probable one) ]\u001b[0m\n",
      "\u001b[94m [ about to start classifying test documents ]\u001b[0m\n"
     ]
    },
    {
     "name": "stderr",
     "output_type": "stream",
     "text": [
      " Classification: 100%|██████████| 1546/1546 [00:27<00:00, 60.99it/s]"
     ]
    },
    {
     "name": "stdout",
     "output_type": "stream",
     "text": [
      "\u001b[94m [ finished --time: 27.3s ]\u001b[0m\n",
      "Accuracy: 0.7238033635187581\n"
     ]
    },
    {
     "name": "stderr",
     "output_type": "stream",
     "text": [
      "\n"
     ]
    }
   ],
   "source": [
    "clf.fit(X_train, y_train, n_grams=3) \n",
    "y_pred = clf.predict(X_test)\n",
    "print(\"Accuracy:\", accuracy_score(y_pred, y_test))"
   ]
  },
  {
   "cell_type": "code",
   "execution_count": 14,
   "metadata": {},
   "outputs": [
    {
     "name": "stderr",
     "output_type": "stream",
     "text": [
      "\r",
      " Training:   0%|          | 0/2 [00:00<?, ?it/s]"
     ]
    },
    {
     "name": "stdout",
     "output_type": "stream",
     "text": [
      "\u001b[94m [ about to start training ]\u001b[0m\n"
     ]
    },
    {
     "name": "stderr",
     "output_type": "stream",
     "text": [
      " Training: 100%|██████████| 2/2 [00:15<00:00,  6.56s/it]\n"
     ]
    },
    {
     "name": "stdout",
     "output_type": "stream",
     "text": [
      "\u001b[94m [ pruning tries... ]\u001b[0m\n",
      "\u001b[94m [ finished --time: 15.5s ]\u001b[0m\n",
      "\u001b[94m [ about to start updating values... ]\u001b[0m\n",
      "\u001b[94m [ caching lv values ]\u001b[0m\n",
      "\u001b[94m    [ lv values for 0 (neg) ]\u001b[0m\n",
      "\u001b[94m    [ lv values for 1 (pos) ]\u001b[0m\n",
      "\u001b[94m [ caching sg values ]\u001b[0m\n",
      "\u001b[94m    [ sg values for 0 (neg) ]\u001b[0m\n",
      "\u001b[94m    [ sg values for 1 (pos) ]\u001b[0m\n",
      "\u001b[94m[ caching gv values ]\u001b[0m\n",
      "\u001b[94m    [ gv values for 0 (neg) ]\u001b[0m\n",
      "\u001b[94m    [ gv values for 1 (pos) ]\u001b[0m\n",
      "\u001b[94m [ updating max gv values ]\u001b[0m\n",
      "\u001b[94m    [ max gv values for 0 (neg) ]\u001b[0m\n",
      "\u001b[94m    [ max gv values for 1 (pos) ]\u001b[0m\n",
      "\u001b[94m [ max gv values have been updated ]\u001b[0m\n",
      "\u001b[94m [ caching confidence values (cvs) ]\u001b[0m\n",
      "\u001b[94m    [ cvs for 0 (neg) ]\u001b[0m\n",
      "\u001b[94m    [ cvs for 1 (pos) ]\u001b[0m\n"
     ]
    },
    {
     "name": "stderr",
     "output_type": "stream",
     "text": [
      " Classification:   1%|          | 10/1546 [00:00<00:16, 92.56it/s]"
     ]
    },
    {
     "name": "stdout",
     "output_type": "stream",
     "text": [
      "\u001b[94m [ finished --time: 3.0s ]\u001b[0m\n",
      "\u001b[94m [ default category was automatically set to 'pos' (the most probable one) ]\u001b[0m\n",
      "\u001b[94m [ about to start classifying test documents ]\u001b[0m\n"
     ]
    },
    {
     "name": "stderr",
     "output_type": "stream",
     "text": [
      " Classification: 100%|██████████| 1546/1546 [00:26<00:00, 58.87it/s]\n",
      " Training:   0%|          | 0/2 [00:00<?, ?it/s]"
     ]
    },
    {
     "name": "stdout",
     "output_type": "stream",
     "text": [
      "\u001b[94m [ finished --time: 26.3s ]\u001b[0m\n",
      "Accuracy: 0.7238033635187581\n",
      "\u001b[94m [ about to start training ]\u001b[0m\n"
     ]
    },
    {
     "name": "stderr",
     "output_type": "stream",
     "text": [
      " Training: 100%|██████████| 2/2 [00:18<00:00,  7.81s/it]\n"
     ]
    },
    {
     "name": "stdout",
     "output_type": "stream",
     "text": [
      "\u001b[94m [ pruning tries... ]\u001b[0m\n",
      "\u001b[94m [ finished --time: 18.8s ]\u001b[0m\n",
      "\u001b[94m [ about to start updating values... ]\u001b[0m\n",
      "\u001b[94m [ caching lv values ]\u001b[0m\n",
      "\u001b[94m    [ lv values for 0 (neg) ]\u001b[0m\n",
      "\u001b[94m    [ lv values for 1 (pos) ]\u001b[0m\n",
      "\u001b[94m [ caching sg values ]\u001b[0m\n",
      "\u001b[94m    [ sg values for 0 (neg) ]\u001b[0m\n",
      "\u001b[94m    [ sg values for 1 (pos) ]\u001b[0m\n",
      "\u001b[94m[ caching gv values ]\u001b[0m\n",
      "\u001b[94m    [ gv values for 0 (neg) ]\u001b[0m\n",
      "\u001b[94m    [ gv values for 1 (pos) ]\u001b[0m\n",
      "\u001b[94m [ updating max gv values ]\u001b[0m\n",
      "\u001b[94m    [ max gv values for 0 (neg) ]\u001b[0m\n",
      "\u001b[94m    [ max gv values for 1 (pos) ]\u001b[0m\n",
      "\u001b[94m [ max gv values have been updated ]\u001b[0m\n",
      "\u001b[94m [ caching confidence values (cvs) ]\u001b[0m\n",
      "\u001b[94m    [ cvs for 0 (neg) ]\u001b[0m\n",
      "\u001b[94m    [ cvs for 1 (pos) ]\u001b[0m\n"
     ]
    },
    {
     "name": "stderr",
     "output_type": "stream",
     "text": [
      " Classification:   1%|          | 10/1546 [00:00<00:16, 95.16it/s]"
     ]
    },
    {
     "name": "stdout",
     "output_type": "stream",
     "text": [
      "\u001b[94m [ finished --time: 3.0s ]\u001b[0m\n",
      "\u001b[94m [ default category was automatically set to 'pos' (the most probable one) ]\u001b[0m\n",
      "\u001b[94m [ about to start classifying test documents ]\u001b[0m\n"
     ]
    },
    {
     "name": "stderr",
     "output_type": "stream",
     "text": [
      " Classification: 100%|██████████| 1546/1546 [00:26<00:00, 58.68it/s]\n",
      " Training:   0%|          | 0/2 [00:00<?, ?it/s]"
     ]
    },
    {
     "name": "stdout",
     "output_type": "stream",
     "text": [
      "\u001b[94m [ finished --time: 26.3s ]\u001b[0m\n",
      "Accuracy: 0.723156532988357\n",
      "\u001b[94m [ about to start training ]\u001b[0m\n"
     ]
    },
    {
     "name": "stderr",
     "output_type": "stream",
     "text": [
      " Training: 100%|██████████| 2/2 [00:22<00:00,  9.59s/it]\n"
     ]
    },
    {
     "name": "stdout",
     "output_type": "stream",
     "text": [
      "\u001b[94m [ pruning tries... ]\u001b[0m\n",
      "\u001b[94m [ finished --time: 23.0s ]\u001b[0m\n",
      "\u001b[94m [ about to start updating values... ]\u001b[0m\n",
      "\u001b[94m [ caching lv values ]\u001b[0m\n",
      "\u001b[94m    [ lv values for 0 (neg) ]\u001b[0m\n",
      "\u001b[94m    [ lv values for 1 (pos) ]\u001b[0m\n",
      "\u001b[94m [ caching sg values ]\u001b[0m\n",
      "\u001b[94m    [ sg values for 0 (neg) ]\u001b[0m\n",
      "\u001b[94m    [ sg values for 1 (pos) ]\u001b[0m\n",
      "\u001b[94m[ caching gv values ]\u001b[0m\n",
      "\u001b[94m    [ gv values for 0 (neg) ]\u001b[0m\n",
      "\u001b[94m    [ gv values for 1 (pos) ]\u001b[0m\n",
      "\u001b[94m [ updating max gv values ]\u001b[0m\n",
      "\u001b[94m    [ max gv values for 0 (neg) ]\u001b[0m\n",
      "\u001b[94m    [ max gv values for 1 (pos) ]\u001b[0m\n",
      "\u001b[94m [ max gv values have been updated ]\u001b[0m\n",
      "\u001b[94m [ caching confidence values (cvs) ]\u001b[0m\n",
      "\u001b[94m    [ cvs for 0 (neg) ]\u001b[0m\n",
      "\u001b[94m    [ cvs for 1 (pos) ]\u001b[0m\n"
     ]
    },
    {
     "name": "stderr",
     "output_type": "stream",
     "text": [
      " Classification:   1%|          | 10/1546 [00:00<00:15, 96.80it/s]"
     ]
    },
    {
     "name": "stdout",
     "output_type": "stream",
     "text": [
      "\u001b[94m [ finished --time: 3.0s ]\u001b[0m\n",
      "\u001b[94m [ default category was automatically set to 'pos' (the most probable one) ]\u001b[0m\n",
      "\u001b[94m [ about to start classifying test documents ]\u001b[0m\n"
     ]
    },
    {
     "name": "stderr",
     "output_type": "stream",
     "text": [
      " Classification: 100%|██████████| 1546/1546 [00:26<00:00, 58.74it/s]\n",
      " Training:   0%|          | 0/2 [00:00<?, ?it/s]"
     ]
    },
    {
     "name": "stdout",
     "output_type": "stream",
     "text": [
      "\u001b[94m [ finished --time: 26.3s ]\u001b[0m\n",
      "Accuracy: 0.7238033635187581\n",
      "\u001b[94m [ about to start training ]\u001b[0m\n"
     ]
    },
    {
     "name": "stderr",
     "output_type": "stream",
     "text": [
      " Training: 100%|██████████| 2/2 [00:25<00:00, 10.64s/it]\n"
     ]
    },
    {
     "name": "stdout",
     "output_type": "stream",
     "text": [
      "\u001b[94m [ pruning tries... ]\u001b[0m\n",
      "\u001b[94m [ finished --time: 25.9s ]\u001b[0m\n",
      "\u001b[94m [ about to start updating values... ]\u001b[0m\n",
      "\u001b[94m [ caching lv values ]\u001b[0m\n",
      "\u001b[94m    [ lv values for 0 (neg) ]\u001b[0m\n",
      "\u001b[94m    [ lv values for 1 (pos) ]\u001b[0m\n",
      "\u001b[94m [ caching sg values ]\u001b[0m\n",
      "\u001b[94m    [ sg values for 0 (neg) ]\u001b[0m\n",
      "\u001b[94m    [ sg values for 1 (pos) ]\u001b[0m\n",
      "\u001b[94m[ caching gv values ]\u001b[0m\n",
      "\u001b[94m    [ gv values for 0 (neg) ]\u001b[0m\n",
      "\u001b[94m    [ gv values for 1 (pos) ]\u001b[0m\n",
      "\u001b[94m [ updating max gv values ]\u001b[0m\n",
      "\u001b[94m    [ max gv values for 0 (neg) ]\u001b[0m\n",
      "\u001b[94m    [ max gv values for 1 (pos) ]\u001b[0m\n",
      "\u001b[94m [ max gv values have been updated ]\u001b[0m\n",
      "\u001b[94m [ caching confidence values (cvs) ]\u001b[0m\n",
      "\u001b[94m    [ cvs for 0 (neg) ]\u001b[0m\n",
      "\u001b[94m    [ cvs for 1 (pos) ]\u001b[0m\n"
     ]
    },
    {
     "name": "stderr",
     "output_type": "stream",
     "text": [
      " Classification:   1%|          | 10/1546 [00:00<00:15, 99.63it/s]"
     ]
    },
    {
     "name": "stdout",
     "output_type": "stream",
     "text": [
      "\u001b[94m [ finished --time: 2.9s ]\u001b[0m\n",
      "\u001b[94m [ default category was automatically set to 'pos' (the most probable one) ]\u001b[0m\n",
      "\u001b[94m [ about to start classifying test documents ]\u001b[0m\n"
     ]
    },
    {
     "name": "stderr",
     "output_type": "stream",
     "text": [
      " Classification: 100%|██████████| 1546/1546 [00:26<00:00, 58.77it/s]"
     ]
    },
    {
     "name": "stdout",
     "output_type": "stream",
     "text": [
      "\u001b[94m [ finished --time: 26.3s ]\u001b[0m\n",
      "Accuracy: 0.723156532988357\n"
     ]
    },
    {
     "name": "stderr",
     "output_type": "stream",
     "text": [
      "\n"
     ]
    }
   ],
   "source": [
    "for ngram in range(1, 5):\n",
    "    clf.fit(X_train, y_train, n_grams=ngram) \n",
    "    y_pred = clf.predict(X_test)\n",
    "    print(\"Accuracy:\", accuracy_score(y_pred, y_test))"
   ]
  },
  {
   "cell_type": "code",
   "execution_count": 15,
   "metadata": {},
   "outputs": [
    {
     "name": "stderr",
     "output_type": "stream",
     "text": [
      "/usr/local/lib/python3.7/site-packages/ipykernel_launcher.py:4: SettingWithCopyWarning: \n",
      "A value is trying to be set on a copy of a slice from a DataFrame.\n",
      "Try using .loc[row_indexer,col_indexer] = value instead\n",
      "\n",
      "See the caveats in the documentation: http://pandas.pydata.org/pandas-docs/stable/indexing.html#indexing-view-versus-copy\n",
      "  after removing the cwd from sys.path.\n"
     ]
    }
   ],
   "source": [
    "# more radical reviews\n",
    "radical_reviews = reviews.loc[(reviews['rating'] <= 3) | (reviews['rating'] >= 8)]\n",
    "msk = np.random.rand(len(radical_reviews)) < 0.7\n",
    "radical_reviews['sent'] = radical_reviews['rating'].apply(lambda x: 'pos' if x > 5 else 'neg')\n",
    "X_train, y_train = radical_reviews['content'][msk].tolist(), radical_reviews['sent'][msk].tolist()\n",
    "X_test, y_test = radical_reviews['content'][~msk].tolist(), radical_reviews['sent'][~msk].tolist()"
   ]
  },
  {
   "cell_type": "code",
   "execution_count": 21,
   "metadata": {},
   "outputs": [
    {
     "name": "stderr",
     "output_type": "stream",
     "text": [
      "\r",
      " Training:   0%|          | 0/2 [00:00<?, ?it/s]"
     ]
    },
    {
     "name": "stdout",
     "output_type": "stream",
     "text": [
      "\u001b[94m [ about to start training ]\u001b[0m\n"
     ]
    },
    {
     "name": "stderr",
     "output_type": "stream",
     "text": [
      " Training: 100%|██████████| 2/2 [00:08<00:00,  3.70s/it]\n"
     ]
    },
    {
     "name": "stdout",
     "output_type": "stream",
     "text": [
      "\u001b[94m [ pruning tries... ]\u001b[0m\n",
      "\u001b[94m [ finished --time: 9.3s ]\u001b[0m\n",
      "\u001b[94m [ about to start updating values... ]\u001b[0m\n",
      "\u001b[94m [ caching lv values ]\u001b[0m\n",
      "\u001b[94m    [ lv values for 0 (neg) ]\u001b[0m\n",
      "\u001b[94m    [ lv values for 1 (pos) ]\u001b[0m\n",
      "\u001b[94m [ caching sg values ]\u001b[0m\n",
      "\u001b[94m    [ sg values for 0 (neg) ]\u001b[0m\n",
      "\u001b[94m    [ sg values for 1 (pos) ]\u001b[0m\n",
      "\u001b[94m[ caching gv values ]\u001b[0m\n",
      "\u001b[94m    [ gv values for 0 (neg) ]\u001b[0m\n",
      "\u001b[94m    [ gv values for 1 (pos) ]\u001b[0m\n",
      "\u001b[94m [ updating max gv values ]\u001b[0m\n",
      "\u001b[94m    [ max gv values for 0 (neg) ]\u001b[0m\n",
      "\u001b[94m    [ max gv values for 1 (pos) ]\u001b[0m\n",
      "\u001b[94m [ max gv values have been updated ]\u001b[0m\n",
      "\u001b[94m [ caching confidence values (cvs) ]\u001b[0m\n",
      "\u001b[94m    [ cvs for 0 (neg) ]\u001b[0m\n",
      "\u001b[94m    [ cvs for 1 (pos) ]\u001b[0m\n"
     ]
    },
    {
     "name": "stderr",
     "output_type": "stream",
     "text": [
      " Classification:   1%|          | 5/402 [00:00<00:08, 47.77it/s]"
     ]
    },
    {
     "name": "stdout",
     "output_type": "stream",
     "text": [
      "\u001b[94m [ finished --time: 3.7s ]\u001b[0m\n",
      "\u001b[94m [ default category was automatically set to 'pos' (the most probable one) ]\u001b[0m\n",
      "\u001b[94m [ about to start classifying test documents ]\u001b[0m\n"
     ]
    },
    {
     "name": "stderr",
     "output_type": "stream",
     "text": [
      " Classification: 100%|██████████| 402/402 [00:10<00:00, 39.31it/s]\n",
      " Training:   0%|          | 0/2 [00:00<?, ?it/s]"
     ]
    },
    {
     "name": "stdout",
     "output_type": "stream",
     "text": [
      "\u001b[94m [ finished --time: 10.2s ]\u001b[0m\n",
      "\u001b[94m [ about to start training ]\u001b[0m\n"
     ]
    },
    {
     "name": "stderr",
     "output_type": "stream",
     "text": [
      " Training: 100%|██████████| 2/2 [00:07<00:00,  3.52s/it]\n"
     ]
    },
    {
     "name": "stdout",
     "output_type": "stream",
     "text": [
      "\u001b[94m [ pruning tries... ]\u001b[0m\n",
      "\u001b[94m [ finished --time: 8.1s ]\u001b[0m\n",
      "\u001b[94m [ about to start updating values... ]\u001b[0m\n",
      "\u001b[94m [ caching lv values ]\u001b[0m\n",
      "\u001b[94m    [ lv values for 0 (neg) ]\u001b[0m\n",
      "\u001b[94m    [ lv values for 1 (pos) ]\u001b[0m\n",
      "\u001b[94m [ caching sg values ]\u001b[0m\n",
      "\u001b[94m    [ sg values for 0 (neg) ]\u001b[0m\n",
      "\u001b[94m    [ sg values for 1 (pos) ]\u001b[0m\n",
      "\u001b[94m[ caching gv values ]\u001b[0m\n",
      "\u001b[94m    [ gv values for 0 (neg) ]\u001b[0m\n",
      "\u001b[94m    [ gv values for 1 (pos) ]\u001b[0m\n",
      "\u001b[94m [ updating max gv values ]\u001b[0m\n",
      "\u001b[94m    [ max gv values for 0 (neg) ]\u001b[0m\n",
      "\u001b[94m    [ max gv values for 1 (pos) ]\u001b[0m\n",
      "\u001b[94m [ max gv values have been updated ]\u001b[0m\n",
      "\u001b[94m [ caching confidence values (cvs) ]\u001b[0m\n",
      "\u001b[94m    [ cvs for 0 (neg) ]\u001b[0m\n",
      "\u001b[94m    [ cvs for 1 (pos) ]\u001b[0m\n"
     ]
    },
    {
     "name": "stderr",
     "output_type": "stream",
     "text": [
      " Classification:   2%|▏         | 9/402 [00:00<00:04, 81.74it/s]"
     ]
    },
    {
     "name": "stdout",
     "output_type": "stream",
     "text": [
      "\u001b[94m [ finished --time: 3.2s ]\u001b[0m\n",
      "\u001b[94m [ default category was automatically set to 'pos' (the most probable one) ]\u001b[0m\n",
      "\u001b[94m [ about to start classifying test documents ]\u001b[0m\n"
     ]
    },
    {
     "name": "stderr",
     "output_type": "stream",
     "text": [
      " Classification: 100%|██████████| 402/402 [00:06<00:00, 57.60it/s]\n",
      " Training:   0%|          | 0/2 [00:00<?, ?it/s]"
     ]
    },
    {
     "name": "stdout",
     "output_type": "stream",
     "text": [
      "\u001b[94m [ finished --time: 7.0s ]\u001b[0m\n",
      "\u001b[94m [ about to start training ]\u001b[0m\n"
     ]
    },
    {
     "name": "stderr",
     "output_type": "stream",
     "text": [
      " Training: 100%|██████████| 2/2 [00:06<00:00,  3.12s/it]\n"
     ]
    },
    {
     "name": "stdout",
     "output_type": "stream",
     "text": [
      "\u001b[94m [ pruning tries... ]\u001b[0m\n",
      "\u001b[94m [ finished --time: 7.6s ]\u001b[0m\n",
      "\u001b[94m [ about to start updating values... ]\u001b[0m\n",
      "\u001b[94m [ caching lv values ]\u001b[0m\n",
      "\u001b[94m    [ lv values for 0 (neg) ]\u001b[0m\n",
      "\u001b[94m    [ lv values for 1 (pos) ]\u001b[0m\n",
      "\u001b[94m [ caching sg values ]\u001b[0m\n",
      "\u001b[94m    [ sg values for 0 (neg) ]\u001b[0m\n",
      "\u001b[94m    [ sg values for 1 (pos) ]\u001b[0m\n",
      "\u001b[94m[ caching gv values ]\u001b[0m\n",
      "\u001b[94m    [ gv values for 0 (neg) ]\u001b[0m\n",
      "\u001b[94m    [ gv values for 1 (pos) ]\u001b[0m\n",
      "\u001b[94m [ updating max gv values ]\u001b[0m\n",
      "\u001b[94m    [ max gv values for 0 (neg) ]\u001b[0m\n",
      "\u001b[94m    [ max gv values for 1 (pos) ]\u001b[0m\n",
      "\u001b[94m [ max gv values have been updated ]\u001b[0m\n",
      "\u001b[94m [ caching confidence values (cvs) ]\u001b[0m\n",
      "\u001b[94m    [ cvs for 0 (neg) ]\u001b[0m\n",
      "\u001b[94m    [ cvs for 1 (pos) ]\u001b[0m\n"
     ]
    },
    {
     "name": "stderr",
     "output_type": "stream",
     "text": [
      " Classification:   2%|▏         | 8/402 [00:00<00:05, 71.91it/s]"
     ]
    },
    {
     "name": "stdout",
     "output_type": "stream",
     "text": [
      "\u001b[94m [ finished --time: 3.2s ]\u001b[0m\n",
      "\u001b[94m [ default category was automatically set to 'pos' (the most probable one) ]\u001b[0m\n",
      "\u001b[94m [ about to start classifying test documents ]\u001b[0m\n"
     ]
    },
    {
     "name": "stderr",
     "output_type": "stream",
     "text": [
      " Classification: 100%|██████████| 402/402 [00:08<00:00, 49.15it/s]\n",
      " Training:   0%|          | 0/2 [00:00<?, ?it/s]"
     ]
    },
    {
     "name": "stdout",
     "output_type": "stream",
     "text": [
      "\u001b[94m [ finished --time: 8.2s ]\u001b[0m\n",
      "\u001b[94m [ about to start training ]\u001b[0m\n"
     ]
    },
    {
     "name": "stderr",
     "output_type": "stream",
     "text": [
      " Training: 100%|██████████| 2/2 [00:08<00:00,  3.76s/it]\n"
     ]
    },
    {
     "name": "stdout",
     "output_type": "stream",
     "text": [
      "\u001b[94m [ pruning tries... ]\u001b[0m\n",
      "\u001b[94m [ finished --time: 9.4s ]\u001b[0m\n",
      "\u001b[94m [ about to start updating values... ]\u001b[0m\n",
      "\u001b[94m [ caching lv values ]\u001b[0m\n",
      "\u001b[94m    [ lv values for 0 (neg) ]\u001b[0m\n",
      "\u001b[94m    [ lv values for 1 (pos) ]\u001b[0m\n",
      "\u001b[94m [ caching sg values ]\u001b[0m\n",
      "\u001b[94m    [ sg values for 0 (neg) ]\u001b[0m\n",
      "\u001b[94m    [ sg values for 1 (pos) ]\u001b[0m\n",
      "\u001b[94m[ caching gv values ]\u001b[0m\n",
      "\u001b[94m    [ gv values for 0 (neg) ]\u001b[0m\n",
      "\u001b[94m    [ gv values for 1 (pos) ]\u001b[0m\n",
      "\u001b[94m [ updating max gv values ]\u001b[0m\n",
      "\u001b[94m    [ max gv values for 0 (neg) ]\u001b[0m\n",
      "\u001b[94m    [ max gv values for 1 (pos) ]\u001b[0m\n",
      "\u001b[94m [ max gv values have been updated ]\u001b[0m\n",
      "\u001b[94m [ caching confidence values (cvs) ]\u001b[0m\n",
      "\u001b[94m    [ cvs for 0 (neg) ]\u001b[0m\n",
      "\u001b[94m    [ cvs for 1 (pos) ]\u001b[0m\n"
     ]
    },
    {
     "name": "stderr",
     "output_type": "stream",
     "text": [
      " Classification:   2%|▏         | 8/402 [00:00<00:04, 79.26it/s]"
     ]
    },
    {
     "name": "stdout",
     "output_type": "stream",
     "text": [
      "\u001b[94m [ finished --time: 3.5s ]\u001b[0m\n",
      "\u001b[94m [ default category was automatically set to 'pos' (the most probable one) ]\u001b[0m\n",
      "\u001b[94m [ about to start classifying test documents ]\u001b[0m\n"
     ]
    },
    {
     "name": "stderr",
     "output_type": "stream",
     "text": [
      " Classification: 100%|██████████| 402/402 [00:09<00:00, 43.05it/s]\n",
      " Training:   0%|          | 0/2 [00:00<?, ?it/s]"
     ]
    },
    {
     "name": "stdout",
     "output_type": "stream",
     "text": [
      "\u001b[94m [ finished --time: 9.3s ]\u001b[0m\n",
      "\u001b[94m [ about to start training ]\u001b[0m\n"
     ]
    },
    {
     "name": "stderr",
     "output_type": "stream",
     "text": [
      " Training: 100%|██████████| 2/2 [00:09<00:00,  4.65s/it]\n"
     ]
    },
    {
     "name": "stdout",
     "output_type": "stream",
     "text": [
      "\u001b[94m [ pruning tries... ]\u001b[0m\n",
      "\u001b[94m [ finished --time: 10.3s ]\u001b[0m\n",
      "\u001b[94m [ about to start updating values... ]\u001b[0m\n",
      "\u001b[94m [ caching lv values ]\u001b[0m\n",
      "\u001b[94m    [ lv values for 0 (neg) ]\u001b[0m\n",
      "\u001b[94m    [ lv values for 1 (pos) ]\u001b[0m\n",
      "\u001b[94m [ caching sg values ]\u001b[0m\n",
      "\u001b[94m    [ sg values for 0 (neg) ]\u001b[0m\n",
      "\u001b[94m    [ sg values for 1 (pos) ]\u001b[0m\n",
      "\u001b[94m[ caching gv values ]\u001b[0m\n",
      "\u001b[94m    [ gv values for 0 (neg) ]\u001b[0m\n",
      "\u001b[94m    [ gv values for 1 (pos) ]\u001b[0m\n",
      "\u001b[94m [ updating max gv values ]\u001b[0m\n",
      "\u001b[94m    [ max gv values for 0 (neg) ]\u001b[0m\n",
      "\u001b[94m    [ max gv values for 1 (pos) ]\u001b[0m\n",
      "\u001b[94m [ max gv values have been updated ]\u001b[0m\n",
      "\u001b[94m [ caching confidence values (cvs) ]\u001b[0m\n",
      "\u001b[94m    [ cvs for 0 (neg) ]\u001b[0m\n",
      "\u001b[94m    [ cvs for 1 (pos) ]\u001b[0m\n"
     ]
    },
    {
     "name": "stderr",
     "output_type": "stream",
     "text": [
      " Classification:   2%|▏         | 8/402 [00:00<00:04, 78.90it/s]"
     ]
    },
    {
     "name": "stdout",
     "output_type": "stream",
     "text": [
      "\u001b[94m [ finished --time: 3.2s ]\u001b[0m\n",
      "\u001b[94m [ default category was automatically set to 'pos' (the most probable one) ]\u001b[0m\n",
      "\u001b[94m [ about to start classifying test documents ]\u001b[0m\n"
     ]
    },
    {
     "name": "stderr",
     "output_type": "stream",
     "text": [
      " Classification: 100%|██████████| 402/402 [00:07<00:00, 57.18it/s]\n",
      " Training:   0%|          | 0/2 [00:00<?, ?it/s]"
     ]
    },
    {
     "name": "stdout",
     "output_type": "stream",
     "text": [
      "\u001b[94m [ finished --time: 7.0s ]\u001b[0m\n",
      "\u001b[94m [ about to start training ]\u001b[0m\n"
     ]
    },
    {
     "name": "stderr",
     "output_type": "stream",
     "text": [
      " Training: 100%|██████████| 2/2 [00:06<00:00,  3.10s/it]\n"
     ]
    },
    {
     "name": "stdout",
     "output_type": "stream",
     "text": [
      "\u001b[94m [ pruning tries... ]\u001b[0m\n",
      "\u001b[94m [ finished --time: 7.6s ]\u001b[0m\n",
      "\u001b[94m [ about to start updating values... ]\u001b[0m\n",
      "\u001b[94m [ caching lv values ]\u001b[0m\n",
      "\u001b[94m    [ lv values for 0 (neg) ]\u001b[0m\n",
      "\u001b[94m    [ lv values for 1 (pos) ]\u001b[0m\n",
      "\u001b[94m [ caching sg values ]\u001b[0m\n",
      "\u001b[94m    [ sg values for 0 (neg) ]\u001b[0m\n",
      "\u001b[94m    [ sg values for 1 (pos) ]\u001b[0m\n",
      "\u001b[94m[ caching gv values ]\u001b[0m\n",
      "\u001b[94m    [ gv values for 0 (neg) ]\u001b[0m\n",
      "\u001b[94m    [ gv values for 1 (pos) ]\u001b[0m\n",
      "\u001b[94m [ updating max gv values ]\u001b[0m\n",
      "\u001b[94m    [ max gv values for 0 (neg) ]\u001b[0m\n",
      "\u001b[94m    [ max gv values for 1 (pos) ]\u001b[0m\n",
      "\u001b[94m [ max gv values have been updated ]\u001b[0m\n",
      "\u001b[94m [ caching confidence values (cvs) ]\u001b[0m\n",
      "\u001b[94m    [ cvs for 0 (neg) ]\u001b[0m\n",
      "\u001b[94m    [ cvs for 1 (pos) ]\u001b[0m\n"
     ]
    },
    {
     "name": "stderr",
     "output_type": "stream",
     "text": [
      " Classification:   2%|▏         | 8/402 [00:00<00:05, 75.33it/s]"
     ]
    },
    {
     "name": "stdout",
     "output_type": "stream",
     "text": [
      "\u001b[94m [ finished --time: 3.5s ]\u001b[0m\n",
      "\u001b[94m [ default category was automatically set to 'pos' (the most probable one) ]\u001b[0m\n",
      "\u001b[94m [ about to start classifying test documents ]\u001b[0m\n"
     ]
    },
    {
     "name": "stderr",
     "output_type": "stream",
     "text": [
      " Classification: 100%|██████████| 402/402 [00:07<00:00, 54.26it/s]\n",
      " Training:   0%|          | 0/2 [00:00<?, ?it/s]"
     ]
    },
    {
     "name": "stdout",
     "output_type": "stream",
     "text": [
      "\u001b[94m [ finished --time: 7.4s ]\u001b[0m\n",
      "\u001b[94m [ about to start training ]\u001b[0m\n"
     ]
    },
    {
     "name": "stderr",
     "output_type": "stream",
     "text": [
      " Training: 100%|██████████| 2/2 [00:08<00:00,  4.15s/it]\n"
     ]
    },
    {
     "name": "stdout",
     "output_type": "stream",
     "text": [
      "\u001b[94m [ pruning tries... ]\u001b[0m\n",
      "\u001b[94m [ finished --time: 9.3s ]\u001b[0m\n",
      "\u001b[94m [ about to start updating values... ]\u001b[0m\n",
      "\u001b[94m [ caching lv values ]\u001b[0m\n",
      "\u001b[94m    [ lv values for 0 (neg) ]\u001b[0m\n",
      "\u001b[94m    [ lv values for 1 (pos) ]\u001b[0m\n",
      "\u001b[94m [ caching sg values ]\u001b[0m\n",
      "\u001b[94m    [ sg values for 0 (neg) ]\u001b[0m\n",
      "\u001b[94m    [ sg values for 1 (pos) ]\u001b[0m\n",
      "\u001b[94m[ caching gv values ]\u001b[0m\n",
      "\u001b[94m    [ gv values for 0 (neg) ]\u001b[0m\n",
      "\u001b[94m    [ gv values for 1 (pos) ]\u001b[0m\n",
      "\u001b[94m [ updating max gv values ]\u001b[0m\n",
      "\u001b[94m    [ max gv values for 0 (neg) ]\u001b[0m\n",
      "\u001b[94m    [ max gv values for 1 (pos) ]\u001b[0m\n",
      "\u001b[94m [ max gv values have been updated ]\u001b[0m\n",
      "\u001b[94m [ caching confidence values (cvs) ]\u001b[0m\n",
      "\u001b[94m    [ cvs for 0 (neg) ]\u001b[0m\n",
      "\u001b[94m    [ cvs for 1 (pos) ]\u001b[0m\n"
     ]
    },
    {
     "name": "stderr",
     "output_type": "stream",
     "text": [
      " Classification:   2%|▏         | 7/402 [00:00<00:05, 66.37it/s]"
     ]
    },
    {
     "name": "stdout",
     "output_type": "stream",
     "text": [
      "\u001b[94m [ finished --time: 3.8s ]\u001b[0m\n",
      "\u001b[94m [ default category was automatically set to 'pos' (the most probable one) ]\u001b[0m\n",
      "\u001b[94m [ about to start classifying test documents ]\u001b[0m\n"
     ]
    },
    {
     "name": "stderr",
     "output_type": "stream",
     "text": [
      " Classification: 100%|██████████| 402/402 [00:07<00:00, 53.02it/s]\n",
      " Training:   0%|          | 0/2 [00:00<?, ?it/s]"
     ]
    },
    {
     "name": "stdout",
     "output_type": "stream",
     "text": [
      "\u001b[94m [ finished --time: 7.6s ]\u001b[0m\n",
      "\u001b[94m [ about to start training ]\u001b[0m\n"
     ]
    },
    {
     "name": "stderr",
     "output_type": "stream",
     "text": [
      " Training: 100%|██████████| 2/2 [00:07<00:00,  3.21s/it]\n"
     ]
    },
    {
     "name": "stdout",
     "output_type": "stream",
     "text": [
      "\u001b[94m [ pruning tries... ]\u001b[0m\n",
      "\u001b[94m [ finished --time: 7.9s ]\u001b[0m\n",
      "\u001b[94m [ about to start updating values... ]\u001b[0m\n",
      "\u001b[94m [ caching lv values ]\u001b[0m\n",
      "\u001b[94m    [ lv values for 0 (neg) ]\u001b[0m\n",
      "\u001b[94m    [ lv values for 1 (pos) ]\u001b[0m\n",
      "\u001b[94m [ caching sg values ]\u001b[0m\n",
      "\u001b[94m    [ sg values for 0 (neg) ]\u001b[0m\n",
      "\u001b[94m    [ sg values for 1 (pos) ]\u001b[0m\n",
      "\u001b[94m[ caching gv values ]\u001b[0m\n",
      "\u001b[94m    [ gv values for 0 (neg) ]\u001b[0m\n",
      "\u001b[94m    [ gv values for 1 (pos) ]\u001b[0m\n",
      "\u001b[94m [ updating max gv values ]\u001b[0m\n",
      "\u001b[94m    [ max gv values for 0 (neg) ]\u001b[0m\n",
      "\u001b[94m    [ max gv values for 1 (pos) ]\u001b[0m\n",
      "\u001b[94m [ max gv values have been updated ]\u001b[0m\n",
      "\u001b[94m [ caching confidence values (cvs) ]\u001b[0m\n",
      "\u001b[94m    [ cvs for 0 (neg) ]\u001b[0m\n",
      "\u001b[94m    [ cvs for 1 (pos) ]\u001b[0m\n"
     ]
    },
    {
     "name": "stderr",
     "output_type": "stream",
     "text": [
      " Classification:   2%|▏         | 8/402 [00:00<00:05, 70.27it/s]"
     ]
    },
    {
     "name": "stdout",
     "output_type": "stream",
     "text": [
      "\u001b[94m [ finished --time: 3.3s ]\u001b[0m\n",
      "\u001b[94m [ default category was automatically set to 'pos' (the most probable one) ]\u001b[0m\n",
      "\u001b[94m [ about to start classifying test documents ]\u001b[0m\n"
     ]
    },
    {
     "name": "stderr",
     "output_type": "stream",
     "text": [
      " Classification: 100%|██████████| 402/402 [00:08<00:00, 47.47it/s]\n",
      " Training:   0%|          | 0/2 [00:00<?, ?it/s]"
     ]
    },
    {
     "name": "stdout",
     "output_type": "stream",
     "text": [
      "\u001b[94m [ finished --time: 8.5s ]\u001b[0m\n",
      "\u001b[94m [ about to start training ]\u001b[0m\n"
     ]
    },
    {
     "name": "stderr",
     "output_type": "stream",
     "text": [
      " Training: 100%|██████████| 2/2 [00:07<00:00,  3.38s/it]\n"
     ]
    },
    {
     "name": "stdout",
     "output_type": "stream",
     "text": [
      "\u001b[94m [ pruning tries... ]\u001b[0m\n",
      "\u001b[94m [ finished --time: 8.4s ]\u001b[0m\n",
      "\u001b[94m [ about to start updating values... ]\u001b[0m\n",
      "\u001b[94m [ caching lv values ]\u001b[0m\n",
      "\u001b[94m    [ lv values for 0 (neg) ]\u001b[0m\n",
      "\u001b[94m    [ lv values for 1 (pos) ]\u001b[0m\n",
      "\u001b[94m [ caching sg values ]\u001b[0m\n",
      "\u001b[94m    [ sg values for 0 (neg) ]\u001b[0m\n",
      "\u001b[94m    [ sg values for 1 (pos) ]\u001b[0m\n",
      "\u001b[94m[ caching gv values ]\u001b[0m\n",
      "\u001b[94m    [ gv values for 0 (neg) ]\u001b[0m\n",
      "\u001b[94m    [ gv values for 1 (pos) ]\u001b[0m\n",
      "\u001b[94m [ updating max gv values ]\u001b[0m\n",
      "\u001b[94m    [ max gv values for 0 (neg) ]\u001b[0m\n",
      "\u001b[94m    [ max gv values for 1 (pos) ]\u001b[0m\n",
      "\u001b[94m [ max gv values have been updated ]\u001b[0m\n",
      "\u001b[94m [ caching confidence values (cvs) ]\u001b[0m\n",
      "\u001b[94m    [ cvs for 0 (neg) ]\u001b[0m\n",
      "\u001b[94m    [ cvs for 1 (pos) ]\u001b[0m\n"
     ]
    },
    {
     "name": "stderr",
     "output_type": "stream",
     "text": [
      " Classification:   1%|▏         | 6/402 [00:00<00:07, 55.58it/s]"
     ]
    },
    {
     "name": "stdout",
     "output_type": "stream",
     "text": [
      "\u001b[94m [ finished --time: 3.7s ]\u001b[0m\n",
      "\u001b[94m [ default category was automatically set to 'pos' (the most probable one) ]\u001b[0m\n",
      "\u001b[94m [ about to start classifying test documents ]\u001b[0m\n"
     ]
    },
    {
     "name": "stderr",
     "output_type": "stream",
     "text": [
      " Classification: 100%|██████████| 402/402 [00:07<00:00, 50.49it/s]\n",
      " Training:   0%|          | 0/2 [00:00<?, ?it/s]"
     ]
    },
    {
     "name": "stdout",
     "output_type": "stream",
     "text": [
      "\u001b[94m [ finished --time: 8.0s ]\u001b[0m\n",
      "\u001b[94m [ about to start training ]\u001b[0m\n"
     ]
    },
    {
     "name": "stderr",
     "output_type": "stream",
     "text": [
      " Training: 100%|██████████| 2/2 [00:07<00:00,  3.34s/it]\n"
     ]
    },
    {
     "name": "stdout",
     "output_type": "stream",
     "text": [
      "\u001b[94m [ pruning tries... ]\u001b[0m\n",
      "\u001b[94m [ finished --time: 8.1s ]\u001b[0m\n",
      "\u001b[94m [ about to start updating values... ]\u001b[0m\n",
      "\u001b[94m [ caching lv values ]\u001b[0m\n",
      "\u001b[94m    [ lv values for 0 (neg) ]\u001b[0m\n",
      "\u001b[94m    [ lv values for 1 (pos) ]\u001b[0m\n",
      "\u001b[94m [ caching sg values ]\u001b[0m\n",
      "\u001b[94m    [ sg values for 0 (neg) ]\u001b[0m\n",
      "\u001b[94m    [ sg values for 1 (pos) ]\u001b[0m\n",
      "\u001b[94m[ caching gv values ]\u001b[0m\n",
      "\u001b[94m    [ gv values for 0 (neg) ]\u001b[0m\n",
      "\u001b[94m    [ gv values for 1 (pos) ]\u001b[0m\n",
      "\u001b[94m [ updating max gv values ]\u001b[0m\n",
      "\u001b[94m    [ max gv values for 0 (neg) ]\u001b[0m\n",
      "\u001b[94m    [ max gv values for 1 (pos) ]\u001b[0m\n",
      "\u001b[94m [ max gv values have been updated ]\u001b[0m\n",
      "\u001b[94m [ caching confidence values (cvs) ]\u001b[0m\n",
      "\u001b[94m    [ cvs for 0 (neg) ]\u001b[0m\n",
      "\u001b[94m    [ cvs for 1 (pos) ]\u001b[0m\n"
     ]
    },
    {
     "name": "stderr",
     "output_type": "stream",
     "text": [
      " Classification:   2%|▏         | 9/402 [00:00<00:04, 83.10it/s]"
     ]
    },
    {
     "name": "stdout",
     "output_type": "stream",
     "text": [
      "\u001b[94m [ finished --time: 3.5s ]\u001b[0m\n",
      "\u001b[94m [ default category was automatically set to 'pos' (the most probable one) ]\u001b[0m\n",
      "\u001b[94m [ about to start classifying test documents ]\u001b[0m\n"
     ]
    },
    {
     "name": "stderr",
     "output_type": "stream",
     "text": [
      " Classification: 100%|██████████| 402/402 [00:08<00:00, 49.58it/s]\n",
      " Training:   0%|          | 0/2 [00:00<?, ?it/s]"
     ]
    },
    {
     "name": "stdout",
     "output_type": "stream",
     "text": [
      "\u001b[94m [ finished --time: 8.1s ]\u001b[0m\n",
      "\u001b[94m [ about to start training ]\u001b[0m\n"
     ]
    },
    {
     "name": "stderr",
     "output_type": "stream",
     "text": [
      " Training: 100%|██████████| 2/2 [00:08<00:00,  3.97s/it]\n"
     ]
    },
    {
     "name": "stdout",
     "output_type": "stream",
     "text": [
      "\u001b[94m [ pruning tries... ]\u001b[0m\n",
      "\u001b[94m [ finished --time: 9.4s ]\u001b[0m\n",
      "\u001b[94m [ about to start updating values... ]\u001b[0m\n",
      "\u001b[94m [ caching lv values ]\u001b[0m\n",
      "\u001b[94m    [ lv values for 0 (neg) ]\u001b[0m\n",
      "\u001b[94m    [ lv values for 1 (pos) ]\u001b[0m\n",
      "\u001b[94m [ caching sg values ]\u001b[0m\n",
      "\u001b[94m    [ sg values for 0 (neg) ]\u001b[0m\n",
      "\u001b[94m    [ sg values for 1 (pos) ]\u001b[0m\n",
      "\u001b[94m[ caching gv values ]\u001b[0m\n",
      "\u001b[94m    [ gv values for 0 (neg) ]\u001b[0m\n",
      "\u001b[94m    [ gv values for 1 (pos) ]\u001b[0m\n",
      "\u001b[94m [ updating max gv values ]\u001b[0m\n",
      "\u001b[94m    [ max gv values for 0 (neg) ]\u001b[0m\n",
      "\u001b[94m    [ max gv values for 1 (pos) ]\u001b[0m\n",
      "\u001b[94m [ max gv values have been updated ]\u001b[0m\n",
      "\u001b[94m [ caching confidence values (cvs) ]\u001b[0m\n",
      "\u001b[94m    [ cvs for 0 (neg) ]\u001b[0m\n",
      "\u001b[94m    [ cvs for 1 (pos) ]\u001b[0m\n"
     ]
    },
    {
     "name": "stderr",
     "output_type": "stream",
     "text": [
      " Classification:   2%|▏         | 7/402 [00:00<00:05, 66.36it/s]"
     ]
    },
    {
     "name": "stdout",
     "output_type": "stream",
     "text": [
      "\u001b[94m [ finished --time: 3.6s ]\u001b[0m\n",
      "\u001b[94m [ default category was automatically set to 'pos' (the most probable one) ]\u001b[0m\n",
      "\u001b[94m [ about to start classifying test documents ]\u001b[0m\n"
     ]
    },
    {
     "name": "stderr",
     "output_type": "stream",
     "text": [
      " Classification: 100%|██████████| 402/402 [00:09<00:00, 40.43it/s]\n",
      " Training:   0%|          | 0/2 [00:00<?, ?it/s]"
     ]
    },
    {
     "name": "stdout",
     "output_type": "stream",
     "text": [
      "\u001b[94m [ finished --time: 9.9s ]\u001b[0m\n",
      "\u001b[94m [ about to start training ]\u001b[0m\n"
     ]
    },
    {
     "name": "stderr",
     "output_type": "stream",
     "text": [
      " Training: 100%|██████████| 2/2 [00:10<00:00,  4.57s/it]\n"
     ]
    },
    {
     "name": "stdout",
     "output_type": "stream",
     "text": [
      "\u001b[94m [ pruning tries... ]\u001b[0m\n",
      "\u001b[94m [ finished --time: 11.0s ]\u001b[0m\n",
      "\u001b[94m [ about to start updating values... ]\u001b[0m\n",
      "\u001b[94m [ caching lv values ]\u001b[0m\n",
      "\u001b[94m    [ lv values for 0 (neg) ]\u001b[0m\n",
      "\u001b[94m    [ lv values for 1 (pos) ]\u001b[0m\n",
      "\u001b[94m [ caching sg values ]\u001b[0m\n",
      "\u001b[94m    [ sg values for 0 (neg) ]\u001b[0m\n",
      "\u001b[94m    [ sg values for 1 (pos) ]\u001b[0m\n",
      "\u001b[94m[ caching gv values ]\u001b[0m\n",
      "\u001b[94m    [ gv values for 0 (neg) ]\u001b[0m\n",
      "\u001b[94m    [ gv values for 1 (pos) ]\u001b[0m\n",
      "\u001b[94m [ updating max gv values ]\u001b[0m\n",
      "\u001b[94m    [ max gv values for 0 (neg) ]\u001b[0m\n",
      "\u001b[94m    [ max gv values for 1 (pos) ]\u001b[0m\n",
      "\u001b[94m [ max gv values have been updated ]\u001b[0m\n",
      "\u001b[94m [ caching confidence values (cvs) ]\u001b[0m\n",
      "\u001b[94m    [ cvs for 0 (neg) ]\u001b[0m\n",
      "\u001b[94m    [ cvs for 1 (pos) ]\u001b[0m\n"
     ]
    },
    {
     "name": "stderr",
     "output_type": "stream",
     "text": [
      " Classification:   2%|▏         | 7/402 [00:00<00:05, 67.36it/s]"
     ]
    },
    {
     "name": "stdout",
     "output_type": "stream",
     "text": [
      "\u001b[94m [ finished --time: 5.3s ]\u001b[0m\n",
      "\u001b[94m [ default category was automatically set to 'pos' (the most probable one) ]\u001b[0m\n",
      "\u001b[94m [ about to start classifying test documents ]\u001b[0m\n"
     ]
    },
    {
     "name": "stderr",
     "output_type": "stream",
     "text": [
      " Classification: 100%|██████████| 402/402 [00:09<00:00, 41.36it/s]\n",
      " Training:   0%|          | 0/2 [00:00<?, ?it/s]"
     ]
    },
    {
     "name": "stdout",
     "output_type": "stream",
     "text": [
      "\u001b[94m [ finished --time: 9.7s ]\u001b[0m\n",
      "\u001b[94m [ about to start training ]\u001b[0m\n"
     ]
    },
    {
     "name": "stderr",
     "output_type": "stream",
     "text": [
      " Training: 100%|██████████| 2/2 [00:07<00:00,  3.50s/it]\n"
     ]
    },
    {
     "name": "stdout",
     "output_type": "stream",
     "text": [
      "\u001b[94m [ pruning tries... ]\u001b[0m\n",
      "\u001b[94m [ finished --time: 8.1s ]\u001b[0m\n",
      "\u001b[94m [ about to start updating values... ]\u001b[0m\n",
      "\u001b[94m [ caching lv values ]\u001b[0m\n",
      "\u001b[94m    [ lv values for 0 (neg) ]\u001b[0m\n",
      "\u001b[94m    [ lv values for 1 (pos) ]\u001b[0m\n",
      "\u001b[94m [ caching sg values ]\u001b[0m\n",
      "\u001b[94m    [ sg values for 0 (neg) ]\u001b[0m\n",
      "\u001b[94m    [ sg values for 1 (pos) ]\u001b[0m\n",
      "\u001b[94m[ caching gv values ]\u001b[0m\n",
      "\u001b[94m    [ gv values for 0 (neg) ]\u001b[0m\n",
      "\u001b[94m    [ gv values for 1 (pos) ]\u001b[0m\n",
      "\u001b[94m [ updating max gv values ]\u001b[0m\n",
      "\u001b[94m    [ max gv values for 0 (neg) ]\u001b[0m\n",
      "\u001b[94m    [ max gv values for 1 (pos) ]\u001b[0m\n",
      "\u001b[94m [ max gv values have been updated ]\u001b[0m\n",
      "\u001b[94m [ caching confidence values (cvs) ]\u001b[0m\n",
      "\u001b[94m    [ cvs for 0 (neg) ]\u001b[0m\n",
      "\u001b[94m    [ cvs for 1 (pos) ]\u001b[0m\n"
     ]
    },
    {
     "name": "stderr",
     "output_type": "stream",
     "text": [
      " Classification:   2%|▏         | 9/402 [00:00<00:04, 83.72it/s]"
     ]
    },
    {
     "name": "stdout",
     "output_type": "stream",
     "text": [
      "\u001b[94m [ finished --time: 3.3s ]\u001b[0m\n",
      "\u001b[94m [ default category was automatically set to 'pos' (the most probable one) ]\u001b[0m\n",
      "\u001b[94m [ about to start classifying test documents ]\u001b[0m\n"
     ]
    },
    {
     "name": "stderr",
     "output_type": "stream",
     "text": [
      " Classification: 100%|██████████| 402/402 [00:07<00:00, 56.76it/s]\n",
      " Training:   0%|          | 0/2 [00:00<?, ?it/s]"
     ]
    },
    {
     "name": "stdout",
     "output_type": "stream",
     "text": [
      "\u001b[94m [ finished --time: 7.1s ]\u001b[0m\n",
      "\u001b[94m [ about to start training ]\u001b[0m\n"
     ]
    },
    {
     "name": "stderr",
     "output_type": "stream",
     "text": [
      " Training: 100%|██████████| 2/2 [00:07<00:00,  3.63s/it]\n"
     ]
    },
    {
     "name": "stdout",
     "output_type": "stream",
     "text": [
      "\u001b[94m [ pruning tries... ]\u001b[0m\n",
      "\u001b[94m [ finished --time: 8.3s ]\u001b[0m\n",
      "\u001b[94m [ about to start updating values... ]\u001b[0m\n",
      "\u001b[94m [ caching lv values ]\u001b[0m\n",
      "\u001b[94m    [ lv values for 0 (neg) ]\u001b[0m\n",
      "\u001b[94m    [ lv values for 1 (pos) ]\u001b[0m\n",
      "\u001b[94m [ caching sg values ]\u001b[0m\n",
      "\u001b[94m    [ sg values for 0 (neg) ]\u001b[0m\n",
      "\u001b[94m    [ sg values for 1 (pos) ]\u001b[0m\n",
      "\u001b[94m[ caching gv values ]\u001b[0m\n",
      "\u001b[94m    [ gv values for 0 (neg) ]\u001b[0m\n",
      "\u001b[94m    [ gv values for 1 (pos) ]\u001b[0m\n",
      "\u001b[94m [ updating max gv values ]\u001b[0m\n",
      "\u001b[94m    [ max gv values for 0 (neg) ]\u001b[0m\n",
      "\u001b[94m    [ max gv values for 1 (pos) ]\u001b[0m\n",
      "\u001b[94m [ max gv values have been updated ]\u001b[0m\n",
      "\u001b[94m [ caching confidence values (cvs) ]\u001b[0m\n",
      "\u001b[94m    [ cvs for 0 (neg) ]\u001b[0m\n",
      "\u001b[94m    [ cvs for 1 (pos) ]\u001b[0m\n"
     ]
    },
    {
     "name": "stderr",
     "output_type": "stream",
     "text": [
      " Classification:   1%|▏         | 6/402 [00:00<00:06, 58.94it/s]"
     ]
    },
    {
     "name": "stdout",
     "output_type": "stream",
     "text": [
      "\u001b[94m [ finished --time: 3.6s ]\u001b[0m\n",
      "\u001b[94m [ default category was automatically set to 'pos' (the most probable one) ]\u001b[0m\n",
      "\u001b[94m [ about to start classifying test documents ]\u001b[0m\n"
     ]
    },
    {
     "name": "stderr",
     "output_type": "stream",
     "text": [
      " Classification: 100%|██████████| 402/402 [00:07<00:00, 56.13it/s]\n",
      " Training:   0%|          | 0/2 [00:00<?, ?it/s]"
     ]
    },
    {
     "name": "stdout",
     "output_type": "stream",
     "text": [
      "\u001b[94m [ finished --time: 7.2s ]\u001b[0m\n",
      "\u001b[94m [ about to start training ]\u001b[0m\n"
     ]
    },
    {
     "name": "stderr",
     "output_type": "stream",
     "text": [
      " Training: 100%|██████████| 2/2 [00:06<00:00,  3.10s/it]\n"
     ]
    },
    {
     "name": "stdout",
     "output_type": "stream",
     "text": [
      "\u001b[94m [ pruning tries... ]\u001b[0m\n",
      "\u001b[94m [ finished --time: 7.5s ]\u001b[0m\n",
      "\u001b[94m [ about to start updating values... ]\u001b[0m\n",
      "\u001b[94m [ caching lv values ]\u001b[0m\n",
      "\u001b[94m    [ lv values for 0 (neg) ]\u001b[0m\n",
      "\u001b[94m    [ lv values for 1 (pos) ]\u001b[0m\n",
      "\u001b[94m [ caching sg values ]\u001b[0m\n",
      "\u001b[94m    [ sg values for 0 (neg) ]\u001b[0m\n",
      "\u001b[94m    [ sg values for 1 (pos) ]\u001b[0m\n",
      "\u001b[94m[ caching gv values ]\u001b[0m\n",
      "\u001b[94m    [ gv values for 0 (neg) ]\u001b[0m\n",
      "\u001b[94m    [ gv values for 1 (pos) ]\u001b[0m\n",
      "\u001b[94m [ updating max gv values ]\u001b[0m\n",
      "\u001b[94m    [ max gv values for 0 (neg) ]\u001b[0m\n",
      "\u001b[94m    [ max gv values for 1 (pos) ]\u001b[0m\n",
      "\u001b[94m [ max gv values have been updated ]\u001b[0m\n",
      "\u001b[94m [ caching confidence values (cvs) ]\u001b[0m\n",
      "\u001b[94m    [ cvs for 0 (neg) ]\u001b[0m\n",
      "\u001b[94m    [ cvs for 1 (pos) ]\u001b[0m\n"
     ]
    },
    {
     "name": "stderr",
     "output_type": "stream",
     "text": [
      " Classification:   2%|▏         | 9/402 [00:00<00:04, 83.81it/s]"
     ]
    },
    {
     "name": "stdout",
     "output_type": "stream",
     "text": [
      "\u001b[94m [ finished --time: 3.3s ]\u001b[0m\n",
      "\u001b[94m [ default category was automatically set to 'pos' (the most probable one) ]\u001b[0m\n",
      "\u001b[94m [ about to start classifying test documents ]\u001b[0m\n"
     ]
    },
    {
     "name": "stderr",
     "output_type": "stream",
     "text": [
      " Classification: 100%|██████████| 402/402 [00:07<00:00, 54.66it/s]\n",
      " Training:   0%|          | 0/2 [00:00<?, ?it/s]"
     ]
    },
    {
     "name": "stdout",
     "output_type": "stream",
     "text": [
      "\u001b[94m [ finished --time: 7.4s ]\u001b[0m\n",
      "\u001b[94m [ about to start training ]\u001b[0m\n"
     ]
    },
    {
     "name": "stderr",
     "output_type": "stream",
     "text": [
      " Training: 100%|██████████| 2/2 [00:07<00:00,  3.55s/it]\n"
     ]
    },
    {
     "name": "stdout",
     "output_type": "stream",
     "text": [
      "\u001b[94m [ pruning tries... ]\u001b[0m\n",
      "\u001b[94m [ finished --time: 8.4s ]\u001b[0m\n",
      "\u001b[94m [ about to start updating values... ]\u001b[0m\n",
      "\u001b[94m [ caching lv values ]\u001b[0m\n",
      "\u001b[94m    [ lv values for 0 (neg) ]\u001b[0m\n",
      "\u001b[94m    [ lv values for 1 (pos) ]\u001b[0m\n",
      "\u001b[94m [ caching sg values ]\u001b[0m\n",
      "\u001b[94m    [ sg values for 0 (neg) ]\u001b[0m\n",
      "\u001b[94m    [ sg values for 1 (pos) ]\u001b[0m\n",
      "\u001b[94m[ caching gv values ]\u001b[0m\n",
      "\u001b[94m    [ gv values for 0 (neg) ]\u001b[0m\n",
      "\u001b[94m    [ gv values for 1 (pos) ]\u001b[0m\n",
      "\u001b[94m [ updating max gv values ]\u001b[0m\n",
      "\u001b[94m    [ max gv values for 0 (neg) ]\u001b[0m\n",
      "\u001b[94m    [ max gv values for 1 (pos) ]\u001b[0m\n",
      "\u001b[94m [ max gv values have been updated ]\u001b[0m\n",
      "\u001b[94m [ caching confidence values (cvs) ]\u001b[0m\n",
      "\u001b[94m    [ cvs for 0 (neg) ]\u001b[0m\n",
      "\u001b[94m    [ cvs for 1 (pos) ]\u001b[0m\n"
     ]
    },
    {
     "name": "stderr",
     "output_type": "stream",
     "text": [
      " Classification:   2%|▏         | 9/402 [00:00<00:04, 80.61it/s]"
     ]
    },
    {
     "name": "stdout",
     "output_type": "stream",
     "text": [
      "\u001b[94m [ finished --time: 3.2s ]\u001b[0m\n",
      "\u001b[94m [ default category was automatically set to 'pos' (the most probable one) ]\u001b[0m\n",
      "\u001b[94m [ about to start classifying test documents ]\u001b[0m\n"
     ]
    },
    {
     "name": "stderr",
     "output_type": "stream",
     "text": [
      " Classification: 100%|██████████| 402/402 [00:06<00:00, 58.89it/s]\n",
      " Training:   0%|          | 0/2 [00:00<?, ?it/s]"
     ]
    },
    {
     "name": "stdout",
     "output_type": "stream",
     "text": [
      "\u001b[94m [ finished --time: 6.8s ]\u001b[0m\n",
      "\u001b[94m [ about to start training ]\u001b[0m\n"
     ]
    },
    {
     "name": "stderr",
     "output_type": "stream",
     "text": [
      " Training: 100%|██████████| 2/2 [00:06<00:00,  3.05s/it]\n"
     ]
    },
    {
     "name": "stdout",
     "output_type": "stream",
     "text": [
      "\u001b[94m [ pruning tries... ]\u001b[0m\n",
      "\u001b[94m [ finished --time: 7.4s ]\u001b[0m\n",
      "\u001b[94m [ about to start updating values... ]\u001b[0m\n",
      "\u001b[94m [ caching lv values ]\u001b[0m\n",
      "\u001b[94m    [ lv values for 0 (neg) ]\u001b[0m\n",
      "\u001b[94m    [ lv values for 1 (pos) ]\u001b[0m\n",
      "\u001b[94m [ caching sg values ]\u001b[0m\n",
      "\u001b[94m    [ sg values for 0 (neg) ]\u001b[0m\n",
      "\u001b[94m    [ sg values for 1 (pos) ]\u001b[0m\n",
      "\u001b[94m[ caching gv values ]\u001b[0m\n",
      "\u001b[94m    [ gv values for 0 (neg) ]\u001b[0m\n",
      "\u001b[94m    [ gv values for 1 (pos) ]\u001b[0m\n",
      "\u001b[94m [ updating max gv values ]\u001b[0m\n",
      "\u001b[94m    [ max gv values for 0 (neg) ]\u001b[0m\n",
      "\u001b[94m    [ max gv values for 1 (pos) ]\u001b[0m\n",
      "\u001b[94m [ max gv values have been updated ]\u001b[0m\n",
      "\u001b[94m [ caching confidence values (cvs) ]\u001b[0m\n",
      "\u001b[94m    [ cvs for 0 (neg) ]\u001b[0m\n",
      "\u001b[94m    [ cvs for 1 (pos) ]\u001b[0m\n"
     ]
    },
    {
     "name": "stderr",
     "output_type": "stream",
     "text": [
      " Classification:   2%|▏         | 9/402 [00:00<00:04, 81.25it/s]"
     ]
    },
    {
     "name": "stdout",
     "output_type": "stream",
     "text": [
      "\u001b[94m [ finished --time: 3.2s ]\u001b[0m\n",
      "\u001b[94m [ default category was automatically set to 'pos' (the most probable one) ]\u001b[0m\n",
      "\u001b[94m [ about to start classifying test documents ]\u001b[0m\n"
     ]
    },
    {
     "name": "stderr",
     "output_type": "stream",
     "text": [
      " Classification: 100%|██████████| 402/402 [00:09<00:00, 43.27it/s]\n",
      " Training:   0%|          | 0/2 [00:00<?, ?it/s]"
     ]
    },
    {
     "name": "stdout",
     "output_type": "stream",
     "text": [
      "\u001b[94m [ finished --time: 9.3s ]\u001b[0m\n",
      "\u001b[94m [ about to start training ]\u001b[0m\n"
     ]
    },
    {
     "name": "stderr",
     "output_type": "stream",
     "text": [
      " Training: 100%|██████████| 2/2 [00:06<00:00,  3.16s/it]\n"
     ]
    },
    {
     "name": "stdout",
     "output_type": "stream",
     "text": [
      "\u001b[94m [ pruning tries... ]\u001b[0m\n",
      "\u001b[94m [ finished --time: 7.5s ]\u001b[0m\n",
      "\u001b[94m [ about to start updating values... ]\u001b[0m\n",
      "\u001b[94m [ caching lv values ]\u001b[0m\n",
      "\u001b[94m    [ lv values for 0 (neg) ]\u001b[0m\n",
      "\u001b[94m    [ lv values for 1 (pos) ]\u001b[0m\n",
      "\u001b[94m [ caching sg values ]\u001b[0m\n",
      "\u001b[94m    [ sg values for 0 (neg) ]\u001b[0m\n",
      "\u001b[94m    [ sg values for 1 (pos) ]\u001b[0m\n",
      "\u001b[94m[ caching gv values ]\u001b[0m\n",
      "\u001b[94m    [ gv values for 0 (neg) ]\u001b[0m\n",
      "\u001b[94m    [ gv values for 1 (pos) ]\u001b[0m\n",
      "\u001b[94m [ updating max gv values ]\u001b[0m\n",
      "\u001b[94m    [ max gv values for 0 (neg) ]\u001b[0m\n",
      "\u001b[94m    [ max gv values for 1 (pos) ]\u001b[0m\n",
      "\u001b[94m [ max gv values have been updated ]\u001b[0m\n",
      "\u001b[94m [ caching confidence values (cvs) ]\u001b[0m\n",
      "\u001b[94m    [ cvs for 0 (neg) ]\u001b[0m\n",
      "\u001b[94m    [ cvs for 1 (pos) ]\u001b[0m\n"
     ]
    },
    {
     "name": "stderr",
     "output_type": "stream",
     "text": [
      " Classification:   2%|▏         | 9/402 [00:00<00:04, 80.71it/s]"
     ]
    },
    {
     "name": "stdout",
     "output_type": "stream",
     "text": [
      "\u001b[94m [ finished --time: 3.3s ]\u001b[0m\n",
      "\u001b[94m [ default category was automatically set to 'pos' (the most probable one) ]\u001b[0m\n",
      "\u001b[94m [ about to start classifying test documents ]\u001b[0m\n"
     ]
    },
    {
     "name": "stderr",
     "output_type": "stream",
     "text": [
      " Classification: 100%|██████████| 402/402 [00:07<00:00, 57.12it/s]\n",
      " Training:   0%|          | 0/2 [00:00<?, ?it/s]"
     ]
    },
    {
     "name": "stdout",
     "output_type": "stream",
     "text": [
      "\u001b[94m [ finished --time: 7.0s ]\u001b[0m\n",
      "\u001b[94m [ about to start training ]\u001b[0m\n"
     ]
    },
    {
     "name": "stderr",
     "output_type": "stream",
     "text": [
      " Training: 100%|██████████| 2/2 [00:07<00:00,  3.36s/it]\n"
     ]
    },
    {
     "name": "stdout",
     "output_type": "stream",
     "text": [
      "\u001b[94m [ pruning tries... ]\u001b[0m\n",
      "\u001b[94m [ finished --time: 7.9s ]\u001b[0m\n",
      "\u001b[94m [ about to start updating values... ]\u001b[0m\n",
      "\u001b[94m [ caching lv values ]\u001b[0m\n",
      "\u001b[94m    [ lv values for 0 (neg) ]\u001b[0m\n",
      "\u001b[94m    [ lv values for 1 (pos) ]\u001b[0m\n",
      "\u001b[94m [ caching sg values ]\u001b[0m\n",
      "\u001b[94m    [ sg values for 0 (neg) ]\u001b[0m\n",
      "\u001b[94m    [ sg values for 1 (pos) ]\u001b[0m\n",
      "\u001b[94m[ caching gv values ]\u001b[0m\n",
      "\u001b[94m    [ gv values for 0 (neg) ]\u001b[0m\n",
      "\u001b[94m    [ gv values for 1 (pos) ]\u001b[0m\n",
      "\u001b[94m [ updating max gv values ]\u001b[0m\n",
      "\u001b[94m    [ max gv values for 0 (neg) ]\u001b[0m\n",
      "\u001b[94m    [ max gv values for 1 (pos) ]\u001b[0m\n",
      "\u001b[94m [ max gv values have been updated ]\u001b[0m\n",
      "\u001b[94m [ caching confidence values (cvs) ]\u001b[0m\n",
      "\u001b[94m    [ cvs for 0 (neg) ]\u001b[0m\n",
      "\u001b[94m    [ cvs for 1 (pos) ]\u001b[0m\n"
     ]
    },
    {
     "name": "stderr",
     "output_type": "stream",
     "text": [
      " Classification:   2%|▏         | 9/402 [00:00<00:04, 83.72it/s]"
     ]
    },
    {
     "name": "stdout",
     "output_type": "stream",
     "text": [
      "\u001b[94m [ finished --time: 3.3s ]\u001b[0m\n",
      "\u001b[94m [ default category was automatically set to 'pos' (the most probable one) ]\u001b[0m\n",
      "\u001b[94m [ about to start classifying test documents ]\u001b[0m\n"
     ]
    },
    {
     "name": "stderr",
     "output_type": "stream",
     "text": [
      " Classification: 100%|██████████| 402/402 [00:07<00:00, 54.53it/s]\n",
      " Training:   0%|          | 0/2 [00:00<?, ?it/s]"
     ]
    },
    {
     "name": "stdout",
     "output_type": "stream",
     "text": [
      "\u001b[94m [ finished --time: 7.4s ]\u001b[0m\n",
      "\u001b[94m [ about to start training ]\u001b[0m\n"
     ]
    },
    {
     "name": "stderr",
     "output_type": "stream",
     "text": [
      " Training: 100%|██████████| 2/2 [00:07<00:00,  3.39s/it]\n"
     ]
    },
    {
     "name": "stdout",
     "output_type": "stream",
     "text": [
      "\u001b[94m [ pruning tries... ]\u001b[0m\n",
      "\u001b[94m [ finished --time: 8.0s ]\u001b[0m\n",
      "\u001b[94m [ about to start updating values... ]\u001b[0m\n",
      "\u001b[94m [ caching lv values ]\u001b[0m\n",
      "\u001b[94m    [ lv values for 0 (neg) ]\u001b[0m\n",
      "\u001b[94m    [ lv values for 1 (pos) ]\u001b[0m\n",
      "\u001b[94m [ caching sg values ]\u001b[0m\n",
      "\u001b[94m    [ sg values for 0 (neg) ]\u001b[0m\n",
      "\u001b[94m    [ sg values for 1 (pos) ]\u001b[0m\n",
      "\u001b[94m[ caching gv values ]\u001b[0m\n",
      "\u001b[94m    [ gv values for 0 (neg) ]\u001b[0m\n",
      "\u001b[94m    [ gv values for 1 (pos) ]\u001b[0m\n",
      "\u001b[94m [ updating max gv values ]\u001b[0m\n",
      "\u001b[94m    [ max gv values for 0 (neg) ]\u001b[0m\n",
      "\u001b[94m    [ max gv values for 1 (pos) ]\u001b[0m\n",
      "\u001b[94m [ max gv values have been updated ]\u001b[0m\n",
      "\u001b[94m [ caching confidence values (cvs) ]\u001b[0m\n",
      "\u001b[94m    [ cvs for 0 (neg) ]\u001b[0m\n",
      "\u001b[94m    [ cvs for 1 (pos) ]\u001b[0m\n"
     ]
    },
    {
     "name": "stderr",
     "output_type": "stream",
     "text": [
      " Classification:   2%|▏         | 9/402 [00:00<00:04, 82.00it/s]"
     ]
    },
    {
     "name": "stdout",
     "output_type": "stream",
     "text": [
      "\u001b[94m [ finished --time: 3.3s ]\u001b[0m\n",
      "\u001b[94m [ default category was automatically set to 'pos' (the most probable one) ]\u001b[0m\n",
      "\u001b[94m [ about to start classifying test documents ]\u001b[0m\n"
     ]
    },
    {
     "name": "stderr",
     "output_type": "stream",
     "text": [
      " Classification: 100%|██████████| 402/402 [00:06<00:00, 58.23it/s]\n",
      " Training:   0%|          | 0/2 [00:00<?, ?it/s]"
     ]
    },
    {
     "name": "stdout",
     "output_type": "stream",
     "text": [
      "\u001b[94m [ finished --time: 6.9s ]\u001b[0m\n",
      "\u001b[94m [ about to start training ]\u001b[0m\n"
     ]
    },
    {
     "name": "stderr",
     "output_type": "stream",
     "text": [
      " Training: 100%|██████████| 2/2 [00:07<00:00,  3.36s/it]\n"
     ]
    },
    {
     "name": "stdout",
     "output_type": "stream",
     "text": [
      "\u001b[94m [ pruning tries... ]\u001b[0m\n",
      "\u001b[94m [ finished --time: 7.8s ]\u001b[0m\n",
      "\u001b[94m [ about to start updating values... ]\u001b[0m\n",
      "\u001b[94m [ caching lv values ]\u001b[0m\n",
      "\u001b[94m    [ lv values for 0 (neg) ]\u001b[0m\n",
      "\u001b[94m    [ lv values for 1 (pos) ]\u001b[0m\n",
      "\u001b[94m [ caching sg values ]\u001b[0m\n",
      "\u001b[94m    [ sg values for 0 (neg) ]\u001b[0m\n",
      "\u001b[94m    [ sg values for 1 (pos) ]\u001b[0m\n",
      "\u001b[94m[ caching gv values ]\u001b[0m\n",
      "\u001b[94m    [ gv values for 0 (neg) ]\u001b[0m\n",
      "\u001b[94m    [ gv values for 1 (pos) ]\u001b[0m\n",
      "\u001b[94m [ updating max gv values ]\u001b[0m\n",
      "\u001b[94m    [ max gv values for 0 (neg) ]\u001b[0m\n",
      "\u001b[94m    [ max gv values for 1 (pos) ]\u001b[0m\n",
      "\u001b[94m [ max gv values have been updated ]\u001b[0m\n",
      "\u001b[94m [ caching confidence values (cvs) ]\u001b[0m\n",
      "\u001b[94m    [ cvs for 0 (neg) ]\u001b[0m\n",
      "\u001b[94m    [ cvs for 1 (pos) ]\u001b[0m\n"
     ]
    },
    {
     "name": "stderr",
     "output_type": "stream",
     "text": [
      " Classification:   2%|▏         | 9/402 [00:00<00:04, 85.11it/s]"
     ]
    },
    {
     "name": "stdout",
     "output_type": "stream",
     "text": [
      "\u001b[94m [ finished --time: 3.3s ]\u001b[0m\n",
      "\u001b[94m [ default category was automatically set to 'pos' (the most probable one) ]\u001b[0m\n",
      "\u001b[94m [ about to start classifying test documents ]\u001b[0m\n"
     ]
    },
    {
     "name": "stderr",
     "output_type": "stream",
     "text": [
      " Classification: 100%|██████████| 402/402 [00:06<00:00, 59.80it/s]\n",
      " Training:   0%|          | 0/2 [00:00<?, ?it/s]"
     ]
    },
    {
     "name": "stdout",
     "output_type": "stream",
     "text": [
      "\u001b[94m [ finished --time: 7.0s ]\u001b[0m\n",
      "\u001b[94m [ about to start training ]\u001b[0m\n"
     ]
    },
    {
     "name": "stderr",
     "output_type": "stream",
     "text": [
      " Training: 100%|██████████| 2/2 [00:06<00:00,  3.18s/it]\n"
     ]
    },
    {
     "name": "stdout",
     "output_type": "stream",
     "text": [
      "\u001b[94m [ pruning tries... ]\u001b[0m\n",
      "\u001b[94m [ finished --time: 7.5s ]\u001b[0m\n",
      "\u001b[94m [ about to start updating values... ]\u001b[0m\n",
      "\u001b[94m [ caching lv values ]\u001b[0m\n",
      "\u001b[94m    [ lv values for 0 (neg) ]\u001b[0m\n",
      "\u001b[94m    [ lv values for 1 (pos) ]\u001b[0m\n",
      "\u001b[94m [ caching sg values ]\u001b[0m\n",
      "\u001b[94m    [ sg values for 0 (neg) ]\u001b[0m\n",
      "\u001b[94m    [ sg values for 1 (pos) ]\u001b[0m\n",
      "\u001b[94m[ caching gv values ]\u001b[0m\n",
      "\u001b[94m    [ gv values for 0 (neg) ]\u001b[0m\n",
      "\u001b[94m    [ gv values for 1 (pos) ]\u001b[0m\n",
      "\u001b[94m [ updating max gv values ]\u001b[0m\n",
      "\u001b[94m    [ max gv values for 0 (neg) ]\u001b[0m\n",
      "\u001b[94m    [ max gv values for 1 (pos) ]\u001b[0m\n",
      "\u001b[94m [ max gv values have been updated ]\u001b[0m\n",
      "\u001b[94m [ caching confidence values (cvs) ]\u001b[0m\n",
      "\u001b[94m    [ cvs for 0 (neg) ]\u001b[0m\n",
      "\u001b[94m    [ cvs for 1 (pos) ]\u001b[0m\n"
     ]
    },
    {
     "name": "stderr",
     "output_type": "stream",
     "text": [
      " Classification:   2%|▏         | 9/402 [00:00<00:04, 83.72it/s]"
     ]
    },
    {
     "name": "stdout",
     "output_type": "stream",
     "text": [
      "\u001b[94m [ finished --time: 3.3s ]\u001b[0m\n",
      "\u001b[94m [ default category was automatically set to 'pos' (the most probable one) ]\u001b[0m\n",
      "\u001b[94m [ about to start classifying test documents ]\u001b[0m\n"
     ]
    },
    {
     "name": "stderr",
     "output_type": "stream",
     "text": [
      " Classification: 100%|██████████| 402/402 [00:06<00:00, 55.08it/s]\n",
      " Training:   0%|          | 0/2 [00:00<?, ?it/s]"
     ]
    },
    {
     "name": "stdout",
     "output_type": "stream",
     "text": [
      "\u001b[94m [ finished --time: 6.9s ]\u001b[0m\n",
      "\u001b[94m [ about to start training ]\u001b[0m\n"
     ]
    },
    {
     "name": "stderr",
     "output_type": "stream",
     "text": [
      " Training: 100%|██████████| 2/2 [00:07<00:00,  3.60s/it]\n"
     ]
    },
    {
     "name": "stdout",
     "output_type": "stream",
     "text": [
      "\u001b[94m [ pruning tries... ]\u001b[0m\n",
      "\u001b[94m [ finished --time: 8.5s ]\u001b[0m\n",
      "\u001b[94m [ about to start updating values... ]\u001b[0m\n",
      "\u001b[94m [ caching lv values ]\u001b[0m\n",
      "\u001b[94m    [ lv values for 0 (neg) ]\u001b[0m\n",
      "\u001b[94m    [ lv values for 1 (pos) ]\u001b[0m\n",
      "\u001b[94m [ caching sg values ]\u001b[0m\n",
      "\u001b[94m    [ sg values for 0 (neg) ]\u001b[0m\n",
      "\u001b[94m    [ sg values for 1 (pos) ]\u001b[0m\n",
      "\u001b[94m[ caching gv values ]\u001b[0m\n",
      "\u001b[94m    [ gv values for 0 (neg) ]\u001b[0m\n",
      "\u001b[94m    [ gv values for 1 (pos) ]\u001b[0m\n",
      "\u001b[94m [ updating max gv values ]\u001b[0m\n",
      "\u001b[94m    [ max gv values for 0 (neg) ]\u001b[0m\n",
      "\u001b[94m    [ max gv values for 1 (pos) ]\u001b[0m\n",
      "\u001b[94m [ max gv values have been updated ]\u001b[0m\n",
      "\u001b[94m [ caching confidence values (cvs) ]\u001b[0m\n",
      "\u001b[94m    [ cvs for 0 (neg) ]\u001b[0m\n",
      "\u001b[94m    [ cvs for 1 (pos) ]\u001b[0m\n"
     ]
    },
    {
     "name": "stderr",
     "output_type": "stream",
     "text": [
      " Classification:   2%|▏         | 9/402 [00:00<00:04, 83.01it/s]"
     ]
    },
    {
     "name": "stdout",
     "output_type": "stream",
     "text": [
      "\u001b[94m [ finished --time: 3.9s ]\u001b[0m\n",
      "\u001b[94m [ default category was automatically set to 'pos' (the most probable one) ]\u001b[0m\n",
      "\u001b[94m [ about to start classifying test documents ]\u001b[0m\n"
     ]
    },
    {
     "name": "stderr",
     "output_type": "stream",
     "text": [
      " Classification: 100%|██████████| 402/402 [00:07<00:00, 54.91it/s]\n",
      " Training:   0%|          | 0/2 [00:00<?, ?it/s]"
     ]
    },
    {
     "name": "stdout",
     "output_type": "stream",
     "text": [
      "\u001b[94m [ finished --time: 7.3s ]\u001b[0m\n",
      "\u001b[94m [ about to start training ]\u001b[0m\n"
     ]
    },
    {
     "name": "stderr",
     "output_type": "stream",
     "text": [
      " Training: 100%|██████████| 2/2 [00:06<00:00,  3.09s/it]\n"
     ]
    },
    {
     "name": "stdout",
     "output_type": "stream",
     "text": [
      "\u001b[94m [ pruning tries... ]\u001b[0m\n",
      "\u001b[94m [ finished --time: 7.5s ]\u001b[0m\n",
      "\u001b[94m [ about to start updating values... ]\u001b[0m\n",
      "\u001b[94m [ caching lv values ]\u001b[0m\n",
      "\u001b[94m    [ lv values for 0 (neg) ]\u001b[0m\n",
      "\u001b[94m    [ lv values for 1 (pos) ]\u001b[0m\n",
      "\u001b[94m [ caching sg values ]\u001b[0m\n",
      "\u001b[94m    [ sg values for 0 (neg) ]\u001b[0m\n",
      "\u001b[94m    [ sg values for 1 (pos) ]\u001b[0m\n",
      "\u001b[94m[ caching gv values ]\u001b[0m\n",
      "\u001b[94m    [ gv values for 0 (neg) ]\u001b[0m\n",
      "\u001b[94m    [ gv values for 1 (pos) ]\u001b[0m\n",
      "\u001b[94m [ updating max gv values ]\u001b[0m\n",
      "\u001b[94m    [ max gv values for 0 (neg) ]\u001b[0m\n",
      "\u001b[94m    [ max gv values for 1 (pos) ]\u001b[0m\n",
      "\u001b[94m [ max gv values have been updated ]\u001b[0m\n",
      "\u001b[94m [ caching confidence values (cvs) ]\u001b[0m\n",
      "\u001b[94m    [ cvs for 0 (neg) ]\u001b[0m\n",
      "\u001b[94m    [ cvs for 1 (pos) ]\u001b[0m\n"
     ]
    },
    {
     "name": "stderr",
     "output_type": "stream",
     "text": [
      " Classification:   2%|▏         | 9/402 [00:00<00:04, 85.07it/s]"
     ]
    },
    {
     "name": "stdout",
     "output_type": "stream",
     "text": [
      "\u001b[94m [ finished --time: 3.2s ]\u001b[0m\n",
      "\u001b[94m [ default category was automatically set to 'pos' (the most probable one) ]\u001b[0m\n",
      "\u001b[94m [ about to start classifying test documents ]\u001b[0m\n"
     ]
    },
    {
     "name": "stderr",
     "output_type": "stream",
     "text": [
      " Classification: 100%|██████████| 402/402 [00:07<00:00, 56.89it/s]\n",
      " Training:   0%|          | 0/2 [00:00<?, ?it/s]"
     ]
    },
    {
     "name": "stdout",
     "output_type": "stream",
     "text": [
      "\u001b[94m [ finished --time: 7.1s ]\u001b[0m\n",
      "\u001b[94m [ about to start training ]\u001b[0m\n"
     ]
    },
    {
     "name": "stderr",
     "output_type": "stream",
     "text": [
      " Training: 100%|██████████| 2/2 [00:06<00:00,  3.20s/it]\n"
     ]
    },
    {
     "name": "stdout",
     "output_type": "stream",
     "text": [
      "\u001b[94m [ pruning tries... ]\u001b[0m\n",
      "\u001b[94m [ finished --time: 7.6s ]\u001b[0m\n",
      "\u001b[94m [ about to start updating values... ]\u001b[0m\n",
      "\u001b[94m [ caching lv values ]\u001b[0m\n",
      "\u001b[94m    [ lv values for 0 (neg) ]\u001b[0m\n",
      "\u001b[94m    [ lv values for 1 (pos) ]\u001b[0m\n",
      "\u001b[94m [ caching sg values ]\u001b[0m\n",
      "\u001b[94m    [ sg values for 0 (neg) ]\u001b[0m\n",
      "\u001b[94m    [ sg values for 1 (pos) ]\u001b[0m\n",
      "\u001b[94m[ caching gv values ]\u001b[0m\n",
      "\u001b[94m    [ gv values for 0 (neg) ]\u001b[0m\n",
      "\u001b[94m    [ gv values for 1 (pos) ]\u001b[0m\n",
      "\u001b[94m [ updating max gv values ]\u001b[0m\n",
      "\u001b[94m    [ max gv values for 0 (neg) ]\u001b[0m\n",
      "\u001b[94m    [ max gv values for 1 (pos) ]\u001b[0m\n",
      "\u001b[94m [ max gv values have been updated ]\u001b[0m\n",
      "\u001b[94m [ caching confidence values (cvs) ]\u001b[0m\n",
      "\u001b[94m    [ cvs for 0 (neg) ]\u001b[0m\n",
      "\u001b[94m    [ cvs for 1 (pos) ]\u001b[0m\n"
     ]
    },
    {
     "name": "stderr",
     "output_type": "stream",
     "text": [
      " Classification:   2%|▏         | 9/402 [00:00<00:04, 83.68it/s]"
     ]
    },
    {
     "name": "stdout",
     "output_type": "stream",
     "text": [
      "\u001b[94m [ finished --time: 3.2s ]\u001b[0m\n",
      "\u001b[94m [ default category was automatically set to 'pos' (the most probable one) ]\u001b[0m\n",
      "\u001b[94m [ about to start classifying test documents ]\u001b[0m\n"
     ]
    },
    {
     "name": "stderr",
     "output_type": "stream",
     "text": [
      " Classification: 100%|██████████| 402/402 [00:07<00:00, 56.85it/s]\n",
      " Training:   0%|          | 0/2 [00:00<?, ?it/s]"
     ]
    },
    {
     "name": "stdout",
     "output_type": "stream",
     "text": [
      "\u001b[94m [ finished --time: 7.1s ]\u001b[0m\n",
      "\u001b[94m [ about to start training ]\u001b[0m\n"
     ]
    },
    {
     "name": "stderr",
     "output_type": "stream",
     "text": [
      " Training: 100%|██████████| 2/2 [00:07<00:00,  3.53s/it]\n"
     ]
    },
    {
     "name": "stdout",
     "output_type": "stream",
     "text": [
      "\u001b[94m [ pruning tries... ]\u001b[0m\n",
      "\u001b[94m [ finished --time: 8.1s ]\u001b[0m\n",
      "\u001b[94m [ about to start updating values... ]\u001b[0m\n",
      "\u001b[94m [ caching lv values ]\u001b[0m\n",
      "\u001b[94m    [ lv values for 0 (neg) ]\u001b[0m\n",
      "\u001b[94m    [ lv values for 1 (pos) ]\u001b[0m\n",
      "\u001b[94m [ caching sg values ]\u001b[0m\n",
      "\u001b[94m    [ sg values for 0 (neg) ]\u001b[0m\n",
      "\u001b[94m    [ sg values for 1 (pos) ]\u001b[0m\n",
      "\u001b[94m[ caching gv values ]\u001b[0m\n",
      "\u001b[94m    [ gv values for 0 (neg) ]\u001b[0m\n",
      "\u001b[94m    [ gv values for 1 (pos) ]\u001b[0m\n",
      "\u001b[94m [ updating max gv values ]\u001b[0m\n",
      "\u001b[94m    [ max gv values for 0 (neg) ]\u001b[0m\n",
      "\u001b[94m    [ max gv values for 1 (pos) ]\u001b[0m\n",
      "\u001b[94m [ max gv values have been updated ]\u001b[0m\n",
      "\u001b[94m [ caching confidence values (cvs) ]\u001b[0m\n",
      "\u001b[94m    [ cvs for 0 (neg) ]\u001b[0m\n",
      "\u001b[94m    [ cvs for 1 (pos) ]\u001b[0m\n"
     ]
    },
    {
     "name": "stderr",
     "output_type": "stream",
     "text": [
      " Classification:   2%|▏         | 8/402 [00:00<00:05, 78.09it/s]"
     ]
    },
    {
     "name": "stdout",
     "output_type": "stream",
     "text": [
      "\u001b[94m [ finished --time: 3.3s ]\u001b[0m\n",
      "\u001b[94m [ default category was automatically set to 'pos' (the most probable one) ]\u001b[0m\n",
      "\u001b[94m [ about to start classifying test documents ]\u001b[0m\n"
     ]
    },
    {
     "name": "stderr",
     "output_type": "stream",
     "text": [
      " Classification: 100%|██████████| 402/402 [00:06<00:00, 57.71it/s]\n",
      " Training:   0%|          | 0/2 [00:00<?, ?it/s]"
     ]
    },
    {
     "name": "stdout",
     "output_type": "stream",
     "text": [
      "\u001b[94m [ finished --time: 7.0s ]\u001b[0m\n",
      "\u001b[94m [ about to start training ]\u001b[0m\n"
     ]
    },
    {
     "name": "stderr",
     "output_type": "stream",
     "text": [
      " Training: 100%|██████████| 2/2 [00:06<00:00,  3.07s/it]\n"
     ]
    },
    {
     "name": "stdout",
     "output_type": "stream",
     "text": [
      "\u001b[94m [ pruning tries... ]\u001b[0m\n",
      "\u001b[94m [ finished --time: 7.5s ]\u001b[0m\n",
      "\u001b[94m [ about to start updating values... ]\u001b[0m\n",
      "\u001b[94m [ caching lv values ]\u001b[0m\n",
      "\u001b[94m    [ lv values for 0 (neg) ]\u001b[0m\n",
      "\u001b[94m    [ lv values for 1 (pos) ]\u001b[0m\n",
      "\u001b[94m [ caching sg values ]\u001b[0m\n",
      "\u001b[94m    [ sg values for 0 (neg) ]\u001b[0m\n",
      "\u001b[94m    [ sg values for 1 (pos) ]\u001b[0m\n",
      "\u001b[94m[ caching gv values ]\u001b[0m\n",
      "\u001b[94m    [ gv values for 0 (neg) ]\u001b[0m\n",
      "\u001b[94m    [ gv values for 1 (pos) ]\u001b[0m\n",
      "\u001b[94m [ updating max gv values ]\u001b[0m\n",
      "\u001b[94m    [ max gv values for 0 (neg) ]\u001b[0m\n",
      "\u001b[94m    [ max gv values for 1 (pos) ]\u001b[0m\n",
      "\u001b[94m [ max gv values have been updated ]\u001b[0m\n",
      "\u001b[94m [ caching confidence values (cvs) ]\u001b[0m\n",
      "\u001b[94m    [ cvs for 0 (neg) ]\u001b[0m\n",
      "\u001b[94m    [ cvs for 1 (pos) ]\u001b[0m\n"
     ]
    },
    {
     "name": "stderr",
     "output_type": "stream",
     "text": [
      " Classification:   2%|▏         | 9/402 [00:00<00:04, 80.24it/s]"
     ]
    },
    {
     "name": "stdout",
     "output_type": "stream",
     "text": [
      "\u001b[94m [ finished --time: 3.3s ]\u001b[0m\n",
      "\u001b[94m [ default category was automatically set to 'pos' (the most probable one) ]\u001b[0m\n",
      "\u001b[94m [ about to start classifying test documents ]\u001b[0m\n"
     ]
    },
    {
     "name": "stderr",
     "output_type": "stream",
     "text": [
      " Classification: 100%|██████████| 402/402 [00:08<00:00, 47.95it/s]\n",
      " Training:   0%|          | 0/2 [00:00<?, ?it/s]"
     ]
    },
    {
     "name": "stdout",
     "output_type": "stream",
     "text": [
      "\u001b[94m [ finished --time: 8.4s ]\u001b[0m\n",
      "\u001b[94m [ about to start training ]\u001b[0m\n"
     ]
    },
    {
     "name": "stderr",
     "output_type": "stream",
     "text": [
      " Training: 100%|██████████| 2/2 [00:07<00:00,  3.80s/it]\n"
     ]
    },
    {
     "name": "stdout",
     "output_type": "stream",
     "text": [
      "\u001b[94m [ pruning tries... ]\u001b[0m\n",
      "\u001b[94m [ finished --time: 8.5s ]\u001b[0m\n",
      "\u001b[94m [ about to start updating values... ]\u001b[0m\n",
      "\u001b[94m [ caching lv values ]\u001b[0m\n",
      "\u001b[94m    [ lv values for 0 (neg) ]\u001b[0m\n",
      "\u001b[94m    [ lv values for 1 (pos) ]\u001b[0m\n",
      "\u001b[94m [ caching sg values ]\u001b[0m\n",
      "\u001b[94m    [ sg values for 0 (neg) ]\u001b[0m\n",
      "\u001b[94m    [ sg values for 1 (pos) ]\u001b[0m\n",
      "\u001b[94m[ caching gv values ]\u001b[0m\n",
      "\u001b[94m    [ gv values for 0 (neg) ]\u001b[0m\n",
      "\u001b[94m    [ gv values for 1 (pos) ]\u001b[0m\n",
      "\u001b[94m [ updating max gv values ]\u001b[0m\n",
      "\u001b[94m    [ max gv values for 0 (neg) ]\u001b[0m\n",
      "\u001b[94m    [ max gv values for 1 (pos) ]\u001b[0m\n",
      "\u001b[94m [ max gv values have been updated ]\u001b[0m\n",
      "\u001b[94m [ caching confidence values (cvs) ]\u001b[0m\n",
      "\u001b[94m    [ cvs for 0 (neg) ]\u001b[0m\n",
      "\u001b[94m    [ cvs for 1 (pos) ]\u001b[0m\n"
     ]
    },
    {
     "name": "stderr",
     "output_type": "stream",
     "text": [
      " Classification:   2%|▏         | 9/402 [00:00<00:04, 83.29it/s]"
     ]
    },
    {
     "name": "stdout",
     "output_type": "stream",
     "text": [
      "\u001b[94m [ finished --time: 3.2s ]\u001b[0m\n",
      "\u001b[94m [ default category was automatically set to 'pos' (the most probable one) ]\u001b[0m\n",
      "\u001b[94m [ about to start classifying test documents ]\u001b[0m\n"
     ]
    },
    {
     "name": "stderr",
     "output_type": "stream",
     "text": [
      " Classification: 100%|██████████| 402/402 [00:07<00:00, 54.13it/s]\n",
      " Training:   0%|          | 0/2 [00:00<?, ?it/s]"
     ]
    },
    {
     "name": "stdout",
     "output_type": "stream",
     "text": [
      "\u001b[94m [ finished --time: 7.4s ]\u001b[0m\n",
      "\u001b[94m [ about to start training ]\u001b[0m\n"
     ]
    },
    {
     "name": "stderr",
     "output_type": "stream",
     "text": [
      " Training: 100%|██████████| 2/2 [00:06<00:00,  3.06s/it]\n"
     ]
    },
    {
     "name": "stdout",
     "output_type": "stream",
     "text": [
      "\u001b[94m [ pruning tries... ]\u001b[0m\n",
      "\u001b[94m [ finished --time: 7.4s ]\u001b[0m\n",
      "\u001b[94m [ about to start updating values... ]\u001b[0m\n",
      "\u001b[94m [ caching lv values ]\u001b[0m\n",
      "\u001b[94m    [ lv values for 0 (neg) ]\u001b[0m\n",
      "\u001b[94m    [ lv values for 1 (pos) ]\u001b[0m\n",
      "\u001b[94m [ caching sg values ]\u001b[0m\n",
      "\u001b[94m    [ sg values for 0 (neg) ]\u001b[0m\n",
      "\u001b[94m    [ sg values for 1 (pos) ]\u001b[0m\n",
      "\u001b[94m[ caching gv values ]\u001b[0m\n",
      "\u001b[94m    [ gv values for 0 (neg) ]\u001b[0m\n",
      "\u001b[94m    [ gv values for 1 (pos) ]\u001b[0m\n",
      "\u001b[94m [ updating max gv values ]\u001b[0m\n",
      "\u001b[94m    [ max gv values for 0 (neg) ]\u001b[0m\n",
      "\u001b[94m    [ max gv values for 1 (pos) ]\u001b[0m\n",
      "\u001b[94m [ max gv values have been updated ]\u001b[0m\n",
      "\u001b[94m [ caching confidence values (cvs) ]\u001b[0m\n",
      "\u001b[94m    [ cvs for 0 (neg) ]\u001b[0m\n",
      "\u001b[94m    [ cvs for 1 (pos) ]\u001b[0m\n"
     ]
    },
    {
     "name": "stderr",
     "output_type": "stream",
     "text": [
      " Classification:   2%|▏         | 9/402 [00:00<00:05, 78.25it/s]"
     ]
    },
    {
     "name": "stdout",
     "output_type": "stream",
     "text": [
      "\u001b[94m [ finished --time: 4.4s ]\u001b[0m\n",
      "\u001b[94m [ default category was automatically set to 'pos' (the most probable one) ]\u001b[0m\n",
      "\u001b[94m [ about to start classifying test documents ]\u001b[0m\n"
     ]
    },
    {
     "name": "stderr",
     "output_type": "stream",
     "text": [
      " Classification: 100%|██████████| 402/402 [00:09<00:00, 44.31it/s]\n",
      " Training:   0%|          | 0/2 [00:00<?, ?it/s]"
     ]
    },
    {
     "name": "stdout",
     "output_type": "stream",
     "text": [
      "\u001b[94m [ finished --time: 9.1s ]\u001b[0m\n",
      "\u001b[94m [ about to start training ]\u001b[0m\n"
     ]
    },
    {
     "name": "stderr",
     "output_type": "stream",
     "text": [
      " Training: 100%|██████████| 2/2 [00:08<00:00,  4.19s/it]\n"
     ]
    },
    {
     "name": "stdout",
     "output_type": "stream",
     "text": [
      "\u001b[94m [ pruning tries... ]\u001b[0m\n",
      "\u001b[94m [ finished --time: 9.6s ]\u001b[0m\n",
      "\u001b[94m [ about to start updating values... ]\u001b[0m\n",
      "\u001b[94m [ caching lv values ]\u001b[0m\n",
      "\u001b[94m    [ lv values for 0 (neg) ]\u001b[0m\n",
      "\u001b[94m    [ lv values for 1 (pos) ]\u001b[0m\n",
      "\u001b[94m [ caching sg values ]\u001b[0m\n",
      "\u001b[94m    [ sg values for 0 (neg) ]\u001b[0m\n",
      "\u001b[94m    [ sg values for 1 (pos) ]\u001b[0m\n",
      "\u001b[94m[ caching gv values ]\u001b[0m\n",
      "\u001b[94m    [ gv values for 0 (neg) ]\u001b[0m\n",
      "\u001b[94m    [ gv values for 1 (pos) ]\u001b[0m\n",
      "\u001b[94m [ updating max gv values ]\u001b[0m\n",
      "\u001b[94m    [ max gv values for 0 (neg) ]\u001b[0m\n",
      "\u001b[94m    [ max gv values for 1 (pos) ]\u001b[0m\n",
      "\u001b[94m [ max gv values have been updated ]\u001b[0m\n",
      "\u001b[94m [ caching confidence values (cvs) ]\u001b[0m\n",
      "\u001b[94m    [ cvs for 0 (neg) ]\u001b[0m\n",
      "\u001b[94m    [ cvs for 1 (pos) ]\u001b[0m\n"
     ]
    },
    {
     "name": "stderr",
     "output_type": "stream",
     "text": [
      " Classification:   2%|▏         | 8/402 [00:00<00:05, 68.48it/s]"
     ]
    },
    {
     "name": "stdout",
     "output_type": "stream",
     "text": [
      "\u001b[94m [ finished --time: 3.6s ]\u001b[0m\n",
      "\u001b[94m [ default category was automatically set to 'pos' (the most probable one) ]\u001b[0m\n",
      "\u001b[94m [ about to start classifying test documents ]\u001b[0m\n"
     ]
    },
    {
     "name": "stderr",
     "output_type": "stream",
     "text": [
      " Classification: 100%|██████████| 402/402 [00:06<00:00, 58.89it/s]\n",
      " Training:   0%|          | 0/2 [00:00<?, ?it/s]"
     ]
    },
    {
     "name": "stdout",
     "output_type": "stream",
     "text": [
      "\u001b[94m [ finished --time: 6.8s ]\u001b[0m\n",
      "\u001b[94m [ about to start training ]\u001b[0m\n"
     ]
    },
    {
     "name": "stderr",
     "output_type": "stream",
     "text": [
      " Training: 100%|██████████| 2/2 [00:06<00:00,  3.22s/it]\n"
     ]
    },
    {
     "name": "stdout",
     "output_type": "stream",
     "text": [
      "\u001b[94m [ pruning tries... ]\u001b[0m\n",
      "\u001b[94m [ finished --time: 7.6s ]\u001b[0m\n",
      "\u001b[94m [ about to start updating values... ]\u001b[0m\n",
      "\u001b[94m [ caching lv values ]\u001b[0m\n",
      "\u001b[94m    [ lv values for 0 (neg) ]\u001b[0m\n",
      "\u001b[94m    [ lv values for 1 (pos) ]\u001b[0m\n",
      "\u001b[94m [ caching sg values ]\u001b[0m\n",
      "\u001b[94m    [ sg values for 0 (neg) ]\u001b[0m\n",
      "\u001b[94m    [ sg values for 1 (pos) ]\u001b[0m\n",
      "\u001b[94m[ caching gv values ]\u001b[0m\n",
      "\u001b[94m    [ gv values for 0 (neg) ]\u001b[0m\n",
      "\u001b[94m    [ gv values for 1 (pos) ]\u001b[0m\n",
      "\u001b[94m [ updating max gv values ]\u001b[0m\n",
      "\u001b[94m    [ max gv values for 0 (neg) ]\u001b[0m\n",
      "\u001b[94m    [ max gv values for 1 (pos) ]\u001b[0m\n",
      "\u001b[94m [ max gv values have been updated ]\u001b[0m\n",
      "\u001b[94m [ caching confidence values (cvs) ]\u001b[0m\n",
      "\u001b[94m    [ cvs for 0 (neg) ]\u001b[0m\n",
      "\u001b[94m    [ cvs for 1 (pos) ]\u001b[0m\n"
     ]
    },
    {
     "name": "stderr",
     "output_type": "stream",
     "text": [
      " Classification:   2%|▏         | 9/402 [00:00<00:04, 84.45it/s]"
     ]
    },
    {
     "name": "stdout",
     "output_type": "stream",
     "text": [
      "\u001b[94m [ finished --time: 3.2s ]\u001b[0m\n",
      "\u001b[94m [ default category was automatically set to 'pos' (the most probable one) ]\u001b[0m\n",
      "\u001b[94m [ about to start classifying test documents ]\u001b[0m\n"
     ]
    },
    {
     "name": "stderr",
     "output_type": "stream",
     "text": [
      " Classification: 100%|██████████| 402/402 [00:06<00:00, 59.51it/s]\n",
      " Training:   0%|          | 0/2 [00:00<?, ?it/s]"
     ]
    },
    {
     "name": "stdout",
     "output_type": "stream",
     "text": [
      "\u001b[94m [ finished --time: 6.8s ]\u001b[0m\n",
      "\u001b[94m [ about to start training ]\u001b[0m\n"
     ]
    },
    {
     "name": "stderr",
     "output_type": "stream",
     "text": [
      " Training: 100%|██████████| 2/2 [00:07<00:00,  3.30s/it]\n"
     ]
    },
    {
     "name": "stdout",
     "output_type": "stream",
     "text": [
      "\u001b[94m [ pruning tries... ]\u001b[0m\n",
      "\u001b[94m [ finished --time: 7.7s ]\u001b[0m\n",
      "\u001b[94m [ about to start updating values... ]\u001b[0m\n",
      "\u001b[94m [ caching lv values ]\u001b[0m\n",
      "\u001b[94m    [ lv values for 0 (neg) ]\u001b[0m\n",
      "\u001b[94m    [ lv values for 1 (pos) ]\u001b[0m\n",
      "\u001b[94m [ caching sg values ]\u001b[0m\n",
      "\u001b[94m    [ sg values for 0 (neg) ]\u001b[0m\n",
      "\u001b[94m    [ sg values for 1 (pos) ]\u001b[0m\n",
      "\u001b[94m[ caching gv values ]\u001b[0m\n",
      "\u001b[94m    [ gv values for 0 (neg) ]\u001b[0m\n",
      "\u001b[94m    [ gv values for 1 (pos) ]\u001b[0m\n",
      "\u001b[94m [ updating max gv values ]\u001b[0m\n",
      "\u001b[94m    [ max gv values for 0 (neg) ]\u001b[0m\n",
      "\u001b[94m    [ max gv values for 1 (pos) ]\u001b[0m\n",
      "\u001b[94m [ max gv values have been updated ]\u001b[0m\n",
      "\u001b[94m [ caching confidence values (cvs) ]\u001b[0m\n",
      "\u001b[94m    [ cvs for 0 (neg) ]\u001b[0m\n",
      "\u001b[94m    [ cvs for 1 (pos) ]\u001b[0m\n"
     ]
    },
    {
     "name": "stderr",
     "output_type": "stream",
     "text": [
      " Classification:   2%|▏         | 9/402 [00:00<00:04, 80.55it/s]"
     ]
    },
    {
     "name": "stdout",
     "output_type": "stream",
     "text": [
      "\u001b[94m [ finished --time: 3.3s ]\u001b[0m\n",
      "\u001b[94m [ default category was automatically set to 'pos' (the most probable one) ]\u001b[0m\n",
      "\u001b[94m [ about to start classifying test documents ]\u001b[0m\n"
     ]
    },
    {
     "name": "stderr",
     "output_type": "stream",
     "text": [
      " Classification: 100%|██████████| 402/402 [00:06<00:00, 59.94it/s]\n",
      " Training:   0%|          | 0/2 [00:00<?, ?it/s]"
     ]
    },
    {
     "name": "stdout",
     "output_type": "stream",
     "text": [
      "\u001b[94m [ finished --time: 6.7s ]\u001b[0m\n",
      "\u001b[94m [ about to start training ]\u001b[0m\n"
     ]
    },
    {
     "name": "stderr",
     "output_type": "stream",
     "text": [
      " Training: 100%|██████████| 2/2 [00:07<00:00,  3.16s/it]\n"
     ]
    },
    {
     "name": "stdout",
     "output_type": "stream",
     "text": [
      "\u001b[94m [ pruning tries... ]\u001b[0m\n",
      "\u001b[94m [ finished --time: 7.8s ]\u001b[0m\n",
      "\u001b[94m [ about to start updating values... ]\u001b[0m\n",
      "\u001b[94m [ caching lv values ]\u001b[0m\n",
      "\u001b[94m    [ lv values for 0 (neg) ]\u001b[0m\n",
      "\u001b[94m    [ lv values for 1 (pos) ]\u001b[0m\n",
      "\u001b[94m [ caching sg values ]\u001b[0m\n",
      "\u001b[94m    [ sg values for 0 (neg) ]\u001b[0m\n",
      "\u001b[94m    [ sg values for 1 (pos) ]\u001b[0m\n",
      "\u001b[94m[ caching gv values ]\u001b[0m\n",
      "\u001b[94m    [ gv values for 0 (neg) ]\u001b[0m\n",
      "\u001b[94m    [ gv values for 1 (pos) ]\u001b[0m\n",
      "\u001b[94m [ updating max gv values ]\u001b[0m\n",
      "\u001b[94m    [ max gv values for 0 (neg) ]\u001b[0m\n",
      "\u001b[94m    [ max gv values for 1 (pos) ]\u001b[0m\n",
      "\u001b[94m [ max gv values have been updated ]\u001b[0m\n",
      "\u001b[94m [ caching confidence values (cvs) ]\u001b[0m\n",
      "\u001b[94m    [ cvs for 0 (neg) ]\u001b[0m\n",
      "\u001b[94m    [ cvs for 1 (pos) ]\u001b[0m\n"
     ]
    },
    {
     "name": "stderr",
     "output_type": "stream",
     "text": [
      " Classification:   2%|▏         | 9/402 [00:00<00:04, 83.84it/s]"
     ]
    },
    {
     "name": "stdout",
     "output_type": "stream",
     "text": [
      "\u001b[94m [ finished --time: 3.2s ]\u001b[0m\n",
      "\u001b[94m [ default category was automatically set to 'pos' (the most probable one) ]\u001b[0m\n",
      "\u001b[94m [ about to start classifying test documents ]\u001b[0m\n"
     ]
    },
    {
     "name": "stderr",
     "output_type": "stream",
     "text": [
      " Classification: 100%|██████████| 402/402 [00:06<00:00, 58.68it/s]\n",
      " Training:   0%|          | 0/2 [00:00<?, ?it/s]"
     ]
    },
    {
     "name": "stdout",
     "output_type": "stream",
     "text": [
      "\u001b[94m [ finished --time: 6.9s ]\u001b[0m\n",
      "\u001b[94m [ about to start training ]\u001b[0m\n"
     ]
    },
    {
     "name": "stderr",
     "output_type": "stream",
     "text": [
      " Training: 100%|██████████| 2/2 [00:06<00:00,  2.93s/it]\n"
     ]
    },
    {
     "name": "stdout",
     "output_type": "stream",
     "text": [
      "\u001b[94m [ pruning tries... ]\u001b[0m\n",
      "\u001b[94m [ finished --time: 7.6s ]\u001b[0m\n",
      "\u001b[94m [ about to start updating values... ]\u001b[0m\n",
      "\u001b[94m [ caching lv values ]\u001b[0m\n",
      "\u001b[94m    [ lv values for 0 (neg) ]\u001b[0m\n",
      "\u001b[94m    [ lv values for 1 (pos) ]\u001b[0m\n",
      "\u001b[94m [ caching sg values ]\u001b[0m\n",
      "\u001b[94m    [ sg values for 0 (neg) ]\u001b[0m\n",
      "\u001b[94m    [ sg values for 1 (pos) ]\u001b[0m\n",
      "\u001b[94m[ caching gv values ]\u001b[0m\n",
      "\u001b[94m    [ gv values for 0 (neg) ]\u001b[0m\n",
      "\u001b[94m    [ gv values for 1 (pos) ]\u001b[0m\n",
      "\u001b[94m [ updating max gv values ]\u001b[0m\n",
      "\u001b[94m    [ max gv values for 0 (neg) ]\u001b[0m\n",
      "\u001b[94m    [ max gv values for 1 (pos) ]\u001b[0m\n",
      "\u001b[94m [ max gv values have been updated ]\u001b[0m\n",
      "\u001b[94m [ caching confidence values (cvs) ]\u001b[0m\n",
      "\u001b[94m    [ cvs for 0 (neg) ]\u001b[0m\n",
      "\u001b[94m    [ cvs for 1 (pos) ]\u001b[0m\n"
     ]
    },
    {
     "name": "stderr",
     "output_type": "stream",
     "text": [
      " Classification:   2%|▏         | 9/402 [00:00<00:04, 80.14it/s]"
     ]
    },
    {
     "name": "stdout",
     "output_type": "stream",
     "text": [
      "\u001b[94m [ finished --time: 3.1s ]\u001b[0m\n",
      "\u001b[94m [ default category was automatically set to 'pos' (the most probable one) ]\u001b[0m\n",
      "\u001b[94m [ about to start classifying test documents ]\u001b[0m\n"
     ]
    },
    {
     "name": "stderr",
     "output_type": "stream",
     "text": [
      " Classification: 100%|██████████| 402/402 [00:06<00:00, 57.44it/s]\n",
      " Training:   0%|          | 0/2 [00:00<?, ?it/s]"
     ]
    },
    {
     "name": "stdout",
     "output_type": "stream",
     "text": [
      "\u001b[94m [ finished --time: 7.0s ]\u001b[0m\n",
      "\u001b[94m [ about to start training ]\u001b[0m\n"
     ]
    },
    {
     "name": "stderr",
     "output_type": "stream",
     "text": [
      " Training: 100%|██████████| 2/2 [00:07<00:00,  3.18s/it]\n"
     ]
    },
    {
     "name": "stdout",
     "output_type": "stream",
     "text": [
      "\u001b[94m [ pruning tries... ]\u001b[0m\n",
      "\u001b[94m [ finished --time: 7.8s ]\u001b[0m\n",
      "\u001b[94m [ about to start updating values... ]\u001b[0m\n",
      "\u001b[94m [ caching lv values ]\u001b[0m\n",
      "\u001b[94m    [ lv values for 0 (neg) ]\u001b[0m\n",
      "\u001b[94m    [ lv values for 1 (pos) ]\u001b[0m\n",
      "\u001b[94m [ caching sg values ]\u001b[0m\n",
      "\u001b[94m    [ sg values for 0 (neg) ]\u001b[0m\n",
      "\u001b[94m    [ sg values for 1 (pos) ]\u001b[0m\n",
      "\u001b[94m[ caching gv values ]\u001b[0m\n",
      "\u001b[94m    [ gv values for 0 (neg) ]\u001b[0m\n",
      "\u001b[94m    [ gv values for 1 (pos) ]\u001b[0m\n",
      "\u001b[94m [ updating max gv values ]\u001b[0m\n",
      "\u001b[94m    [ max gv values for 0 (neg) ]\u001b[0m\n",
      "\u001b[94m    [ max gv values for 1 (pos) ]\u001b[0m\n",
      "\u001b[94m [ max gv values have been updated ]\u001b[0m\n",
      "\u001b[94m [ caching confidence values (cvs) ]\u001b[0m\n",
      "\u001b[94m    [ cvs for 0 (neg) ]\u001b[0m\n",
      "\u001b[94m    [ cvs for 1 (pos) ]\u001b[0m\n"
     ]
    },
    {
     "name": "stderr",
     "output_type": "stream",
     "text": [
      " Classification:   2%|▏         | 9/402 [00:00<00:04, 83.01it/s]"
     ]
    },
    {
     "name": "stdout",
     "output_type": "stream",
     "text": [
      "\u001b[94m [ finished --time: 3.4s ]\u001b[0m\n",
      "\u001b[94m [ default category was automatically set to 'pos' (the most probable one) ]\u001b[0m\n",
      "\u001b[94m [ about to start classifying test documents ]\u001b[0m\n"
     ]
    },
    {
     "name": "stderr",
     "output_type": "stream",
     "text": [
      " Classification: 100%|██████████| 402/402 [00:07<00:00, 55.73it/s]\n",
      " Training:   0%|          | 0/2 [00:00<?, ?it/s]"
     ]
    },
    {
     "name": "stdout",
     "output_type": "stream",
     "text": [
      "\u001b[94m [ finished --time: 7.2s ]\u001b[0m\n",
      "\u001b[94m [ about to start training ]\u001b[0m\n"
     ]
    },
    {
     "name": "stderr",
     "output_type": "stream",
     "text": [
      " Training: 100%|██████████| 2/2 [00:07<00:00,  3.22s/it]\n"
     ]
    },
    {
     "name": "stdout",
     "output_type": "stream",
     "text": [
      "\u001b[94m [ pruning tries... ]\u001b[0m\n",
      "\u001b[94m [ finished --time: 7.7s ]\u001b[0m\n",
      "\u001b[94m [ about to start updating values... ]\u001b[0m\n",
      "\u001b[94m [ caching lv values ]\u001b[0m\n",
      "\u001b[94m    [ lv values for 0 (neg) ]\u001b[0m\n",
      "\u001b[94m    [ lv values for 1 (pos) ]\u001b[0m\n",
      "\u001b[94m [ caching sg values ]\u001b[0m\n",
      "\u001b[94m    [ sg values for 0 (neg) ]\u001b[0m\n",
      "\u001b[94m    [ sg values for 1 (pos) ]\u001b[0m\n",
      "\u001b[94m[ caching gv values ]\u001b[0m\n",
      "\u001b[94m    [ gv values for 0 (neg) ]\u001b[0m\n",
      "\u001b[94m    [ gv values for 1 (pos) ]\u001b[0m\n",
      "\u001b[94m [ updating max gv values ]\u001b[0m\n",
      "\u001b[94m    [ max gv values for 0 (neg) ]\u001b[0m\n",
      "\u001b[94m    [ max gv values for 1 (pos) ]\u001b[0m\n",
      "\u001b[94m [ max gv values have been updated ]\u001b[0m\n",
      "\u001b[94m [ caching confidence values (cvs) ]\u001b[0m\n",
      "\u001b[94m    [ cvs for 0 (neg) ]\u001b[0m\n",
      "\u001b[94m    [ cvs for 1 (pos) ]\u001b[0m\n"
     ]
    },
    {
     "name": "stderr",
     "output_type": "stream",
     "text": [
      " Classification:   2%|▏         | 9/402 [00:00<00:04, 82.80it/s]"
     ]
    },
    {
     "name": "stdout",
     "output_type": "stream",
     "text": [
      "\u001b[94m [ finished --time: 3.3s ]\u001b[0m\n",
      "\u001b[94m [ default category was automatically set to 'pos' (the most probable one) ]\u001b[0m\n",
      "\u001b[94m [ about to start classifying test documents ]\u001b[0m\n"
     ]
    },
    {
     "name": "stderr",
     "output_type": "stream",
     "text": [
      " Classification: 100%|██████████| 402/402 [00:07<00:00, 52.43it/s]\n",
      " Training:   0%|          | 0/2 [00:00<?, ?it/s]"
     ]
    },
    {
     "name": "stdout",
     "output_type": "stream",
     "text": [
      "\u001b[94m [ finished --time: 7.7s ]\u001b[0m\n",
      "\u001b[94m [ about to start training ]\u001b[0m\n"
     ]
    },
    {
     "name": "stderr",
     "output_type": "stream",
     "text": [
      " Training: 100%|██████████| 2/2 [00:07<00:00,  3.35s/it]\n"
     ]
    },
    {
     "name": "stdout",
     "output_type": "stream",
     "text": [
      "\u001b[94m [ pruning tries... ]\u001b[0m\n",
      "\u001b[94m [ finished --time: 7.9s ]\u001b[0m\n",
      "\u001b[94m [ about to start updating values... ]\u001b[0m\n",
      "\u001b[94m [ caching lv values ]\u001b[0m\n",
      "\u001b[94m    [ lv values for 0 (neg) ]\u001b[0m\n",
      "\u001b[94m    [ lv values for 1 (pos) ]\u001b[0m\n",
      "\u001b[94m [ caching sg values ]\u001b[0m\n",
      "\u001b[94m    [ sg values for 0 (neg) ]\u001b[0m\n",
      "\u001b[94m    [ sg values for 1 (pos) ]\u001b[0m\n",
      "\u001b[94m[ caching gv values ]\u001b[0m\n",
      "\u001b[94m    [ gv values for 0 (neg) ]\u001b[0m\n",
      "\u001b[94m    [ gv values for 1 (pos) ]\u001b[0m\n",
      "\u001b[94m [ updating max gv values ]\u001b[0m\n",
      "\u001b[94m    [ max gv values for 0 (neg) ]\u001b[0m\n",
      "\u001b[94m    [ max gv values for 1 (pos) ]\u001b[0m\n",
      "\u001b[94m [ max gv values have been updated ]\u001b[0m\n",
      "\u001b[94m [ caching confidence values (cvs) ]\u001b[0m\n",
      "\u001b[94m    [ cvs for 0 (neg) ]\u001b[0m\n",
      "\u001b[94m    [ cvs for 1 (pos) ]\u001b[0m\n"
     ]
    },
    {
     "name": "stderr",
     "output_type": "stream",
     "text": [
      " Classification:   1%|▏         | 6/402 [00:00<00:07, 53.98it/s]"
     ]
    },
    {
     "name": "stdout",
     "output_type": "stream",
     "text": [
      "\u001b[94m [ finished --time: 3.6s ]\u001b[0m\n",
      "\u001b[94m [ default category was automatically set to 'pos' (the most probable one) ]\u001b[0m\n",
      "\u001b[94m [ about to start classifying test documents ]\u001b[0m\n"
     ]
    },
    {
     "name": "stderr",
     "output_type": "stream",
     "text": [
      " Classification: 100%|██████████| 402/402 [00:07<00:00, 52.69it/s]\n",
      " Training:   0%|          | 0/2 [00:00<?, ?it/s]"
     ]
    },
    {
     "name": "stdout",
     "output_type": "stream",
     "text": [
      "\u001b[94m [ finished --time: 7.6s ]\u001b[0m\n",
      "\u001b[94m [ about to start training ]\u001b[0m\n"
     ]
    },
    {
     "name": "stderr",
     "output_type": "stream",
     "text": [
      " Training: 100%|██████████| 2/2 [00:07<00:00,  3.19s/it]\n"
     ]
    },
    {
     "name": "stdout",
     "output_type": "stream",
     "text": [
      "\u001b[94m [ pruning tries... ]\u001b[0m\n",
      "\u001b[94m [ finished --time: 7.7s ]\u001b[0m\n",
      "\u001b[94m [ about to start updating values... ]\u001b[0m\n",
      "\u001b[94m [ caching lv values ]\u001b[0m\n",
      "\u001b[94m    [ lv values for 0 (neg) ]\u001b[0m\n",
      "\u001b[94m    [ lv values for 1 (pos) ]\u001b[0m\n",
      "\u001b[94m [ caching sg values ]\u001b[0m\n",
      "\u001b[94m    [ sg values for 0 (neg) ]\u001b[0m\n",
      "\u001b[94m    [ sg values for 1 (pos) ]\u001b[0m\n",
      "\u001b[94m[ caching gv values ]\u001b[0m\n",
      "\u001b[94m    [ gv values for 0 (neg) ]\u001b[0m\n",
      "\u001b[94m    [ gv values for 1 (pos) ]\u001b[0m\n",
      "\u001b[94m [ updating max gv values ]\u001b[0m\n",
      "\u001b[94m    [ max gv values for 0 (neg) ]\u001b[0m\n",
      "\u001b[94m    [ max gv values for 1 (pos) ]\u001b[0m\n",
      "\u001b[94m [ max gv values have been updated ]\u001b[0m\n",
      "\u001b[94m [ caching confidence values (cvs) ]\u001b[0m\n",
      "\u001b[94m    [ cvs for 0 (neg) ]\u001b[0m\n",
      "\u001b[94m    [ cvs for 1 (pos) ]\u001b[0m\n"
     ]
    },
    {
     "name": "stderr",
     "output_type": "stream",
     "text": [
      " Classification:   2%|▏         | 8/402 [00:00<00:05, 77.45it/s]"
     ]
    },
    {
     "name": "stdout",
     "output_type": "stream",
     "text": [
      "\u001b[94m [ finished --time: 3.4s ]\u001b[0m\n",
      "\u001b[94m [ default category was automatically set to 'pos' (the most probable one) ]\u001b[0m\n",
      "\u001b[94m [ about to start classifying test documents ]\u001b[0m\n"
     ]
    },
    {
     "name": "stderr",
     "output_type": "stream",
     "text": [
      " Classification: 100%|██████████| 402/402 [00:07<00:00, 57.27it/s]\n",
      " Training:   0%|          | 0/2 [00:00<?, ?it/s]"
     ]
    },
    {
     "name": "stdout",
     "output_type": "stream",
     "text": [
      "\u001b[94m [ finished --time: 7.0s ]\u001b[0m\n",
      "\u001b[94m [ about to start training ]\u001b[0m\n"
     ]
    },
    {
     "name": "stderr",
     "output_type": "stream",
     "text": [
      " Training: 100%|██████████| 2/2 [00:06<00:00,  3.03s/it]\n"
     ]
    },
    {
     "name": "stdout",
     "output_type": "stream",
     "text": [
      "\u001b[94m [ pruning tries... ]\u001b[0m\n",
      "\u001b[94m [ finished --time: 7.3s ]\u001b[0m\n",
      "\u001b[94m [ about to start updating values... ]\u001b[0m\n",
      "\u001b[94m [ caching lv values ]\u001b[0m\n",
      "\u001b[94m    [ lv values for 0 (neg) ]\u001b[0m\n",
      "\u001b[94m    [ lv values for 1 (pos) ]\u001b[0m\n",
      "\u001b[94m [ caching sg values ]\u001b[0m\n",
      "\u001b[94m    [ sg values for 0 (neg) ]\u001b[0m\n",
      "\u001b[94m    [ sg values for 1 (pos) ]\u001b[0m\n",
      "\u001b[94m[ caching gv values ]\u001b[0m\n",
      "\u001b[94m    [ gv values for 0 (neg) ]\u001b[0m\n",
      "\u001b[94m    [ gv values for 1 (pos) ]\u001b[0m\n",
      "\u001b[94m [ updating max gv values ]\u001b[0m\n",
      "\u001b[94m    [ max gv values for 0 (neg) ]\u001b[0m\n",
      "\u001b[94m    [ max gv values for 1 (pos) ]\u001b[0m\n",
      "\u001b[94m [ max gv values have been updated ]\u001b[0m\n",
      "\u001b[94m [ caching confidence values (cvs) ]\u001b[0m\n",
      "\u001b[94m    [ cvs for 0 (neg) ]\u001b[0m\n",
      "\u001b[94m    [ cvs for 1 (pos) ]\u001b[0m\n"
     ]
    },
    {
     "name": "stderr",
     "output_type": "stream",
     "text": [
      " Classification:   2%|▏         | 8/402 [00:00<00:05, 75.31it/s]"
     ]
    },
    {
     "name": "stdout",
     "output_type": "stream",
     "text": [
      "\u001b[94m [ finished --time: 3.2s ]\u001b[0m\n",
      "\u001b[94m [ default category was automatically set to 'pos' (the most probable one) ]\u001b[0m\n",
      "\u001b[94m [ about to start classifying test documents ]\u001b[0m\n"
     ]
    },
    {
     "name": "stderr",
     "output_type": "stream",
     "text": [
      " Classification: 100%|██████████| 402/402 [00:07<00:00, 56.37it/s]\n",
      " Training:   0%|          | 0/2 [00:00<?, ?it/s]"
     ]
    },
    {
     "name": "stdout",
     "output_type": "stream",
     "text": [
      "\u001b[94m [ finished --time: 7.1s ]\u001b[0m\n",
      "\u001b[94m [ about to start training ]\u001b[0m\n"
     ]
    },
    {
     "name": "stderr",
     "output_type": "stream",
     "text": [
      " Training: 100%|██████████| 2/2 [00:07<00:00,  3.50s/it]\n"
     ]
    },
    {
     "name": "stdout",
     "output_type": "stream",
     "text": [
      "\u001b[94m [ pruning tries... ]\u001b[0m\n",
      "\u001b[94m [ finished --time: 8.1s ]\u001b[0m\n",
      "\u001b[94m [ about to start updating values... ]\u001b[0m\n",
      "\u001b[94m [ caching lv values ]\u001b[0m\n",
      "\u001b[94m    [ lv values for 0 (neg) ]\u001b[0m\n",
      "\u001b[94m    [ lv values for 1 (pos) ]\u001b[0m\n",
      "\u001b[94m [ caching sg values ]\u001b[0m\n",
      "\u001b[94m    [ sg values for 0 (neg) ]\u001b[0m\n",
      "\u001b[94m    [ sg values for 1 (pos) ]\u001b[0m\n",
      "\u001b[94m[ caching gv values ]\u001b[0m\n",
      "\u001b[94m    [ gv values for 0 (neg) ]\u001b[0m\n",
      "\u001b[94m    [ gv values for 1 (pos) ]\u001b[0m\n",
      "\u001b[94m [ updating max gv values ]\u001b[0m\n",
      "\u001b[94m    [ max gv values for 0 (neg) ]\u001b[0m\n",
      "\u001b[94m    [ max gv values for 1 (pos) ]\u001b[0m\n",
      "\u001b[94m [ max gv values have been updated ]\u001b[0m\n",
      "\u001b[94m [ caching confidence values (cvs) ]\u001b[0m\n",
      "\u001b[94m    [ cvs for 0 (neg) ]\u001b[0m\n",
      "\u001b[94m    [ cvs for 1 (pos) ]\u001b[0m\n"
     ]
    },
    {
     "name": "stderr",
     "output_type": "stream",
     "text": [
      " Classification:   2%|▏         | 9/402 [00:00<00:04, 83.29it/s]"
     ]
    },
    {
     "name": "stdout",
     "output_type": "stream",
     "text": [
      "\u001b[94m [ finished --time: 3.1s ]\u001b[0m\n",
      "\u001b[94m [ default category was automatically set to 'pos' (the most probable one) ]\u001b[0m\n",
      "\u001b[94m [ about to start classifying test documents ]\u001b[0m\n"
     ]
    },
    {
     "name": "stderr",
     "output_type": "stream",
     "text": [
      " Classification: 100%|██████████| 402/402 [00:07<00:00, 58.27it/s]\n",
      " Training:   0%|          | 0/2 [00:00<?, ?it/s]"
     ]
    },
    {
     "name": "stdout",
     "output_type": "stream",
     "text": [
      "\u001b[94m [ finished --time: 7.1s ]\u001b[0m\n",
      "\u001b[94m [ about to start training ]\u001b[0m\n"
     ]
    },
    {
     "name": "stderr",
     "output_type": "stream",
     "text": [
      " Training: 100%|██████████| 2/2 [00:06<00:00,  3.01s/it]\n"
     ]
    },
    {
     "name": "stdout",
     "output_type": "stream",
     "text": [
      "\u001b[94m [ pruning tries... ]\u001b[0m\n",
      "\u001b[94m [ finished --time: 7.3s ]\u001b[0m\n",
      "\u001b[94m [ about to start updating values... ]\u001b[0m\n",
      "\u001b[94m [ caching lv values ]\u001b[0m\n",
      "\u001b[94m    [ lv values for 0 (neg) ]\u001b[0m\n",
      "\u001b[94m    [ lv values for 1 (pos) ]\u001b[0m\n",
      "\u001b[94m [ caching sg values ]\u001b[0m\n",
      "\u001b[94m    [ sg values for 0 (neg) ]\u001b[0m\n",
      "\u001b[94m    [ sg values for 1 (pos) ]\u001b[0m\n",
      "\u001b[94m[ caching gv values ]\u001b[0m\n",
      "\u001b[94m    [ gv values for 0 (neg) ]\u001b[0m\n",
      "\u001b[94m    [ gv values for 1 (pos) ]\u001b[0m\n",
      "\u001b[94m [ updating max gv values ]\u001b[0m\n",
      "\u001b[94m    [ max gv values for 0 (neg) ]\u001b[0m\n",
      "\u001b[94m    [ max gv values for 1 (pos) ]\u001b[0m\n",
      "\u001b[94m [ max gv values have been updated ]\u001b[0m\n",
      "\u001b[94m [ caching confidence values (cvs) ]\u001b[0m\n",
      "\u001b[94m    [ cvs for 0 (neg) ]\u001b[0m\n",
      "\u001b[94m    [ cvs for 1 (pos) ]\u001b[0m\n"
     ]
    },
    {
     "name": "stderr",
     "output_type": "stream",
     "text": [
      " Classification:   2%|▏         | 9/402 [00:00<00:04, 81.93it/s]"
     ]
    },
    {
     "name": "stdout",
     "output_type": "stream",
     "text": [
      "\u001b[94m [ finished --time: 3.2s ]\u001b[0m\n",
      "\u001b[94m [ default category was automatically set to 'pos' (the most probable one) ]\u001b[0m\n",
      "\u001b[94m [ about to start classifying test documents ]\u001b[0m\n"
     ]
    },
    {
     "name": "stderr",
     "output_type": "stream",
     "text": [
      " Classification: 100%|██████████| 402/402 [00:07<00:00, 55.71it/s]\n",
      " Training:   0%|          | 0/2 [00:00<?, ?it/s]"
     ]
    },
    {
     "name": "stdout",
     "output_type": "stream",
     "text": [
      "\u001b[94m [ finished --time: 7.2s ]\u001b[0m\n",
      "\u001b[94m [ about to start training ]\u001b[0m\n"
     ]
    },
    {
     "name": "stderr",
     "output_type": "stream",
     "text": [
      " Training: 100%|██████████| 2/2 [00:06<00:00,  3.09s/it]\n"
     ]
    },
    {
     "name": "stdout",
     "output_type": "stream",
     "text": [
      "\u001b[94m [ pruning tries... ]\u001b[0m\n",
      "\u001b[94m [ finished --time: 7.4s ]\u001b[0m\n",
      "\u001b[94m [ about to start updating values... ]\u001b[0m\n",
      "\u001b[94m [ caching lv values ]\u001b[0m\n",
      "\u001b[94m    [ lv values for 0 (neg) ]\u001b[0m\n",
      "\u001b[94m    [ lv values for 1 (pos) ]\u001b[0m\n",
      "\u001b[94m [ caching sg values ]\u001b[0m\n",
      "\u001b[94m    [ sg values for 0 (neg) ]\u001b[0m\n",
      "\u001b[94m    [ sg values for 1 (pos) ]\u001b[0m\n",
      "\u001b[94m[ caching gv values ]\u001b[0m\n",
      "\u001b[94m    [ gv values for 0 (neg) ]\u001b[0m\n",
      "\u001b[94m    [ gv values for 1 (pos) ]\u001b[0m\n",
      "\u001b[94m [ updating max gv values ]\u001b[0m\n",
      "\u001b[94m    [ max gv values for 0 (neg) ]\u001b[0m\n",
      "\u001b[94m    [ max gv values for 1 (pos) ]\u001b[0m\n",
      "\u001b[94m [ max gv values have been updated ]\u001b[0m\n",
      "\u001b[94m [ caching confidence values (cvs) ]\u001b[0m\n",
      "\u001b[94m    [ cvs for 0 (neg) ]\u001b[0m\n",
      "\u001b[94m    [ cvs for 1 (pos) ]\u001b[0m\n"
     ]
    },
    {
     "name": "stderr",
     "output_type": "stream",
     "text": [
      " Classification:   2%|▏         | 8/402 [00:00<00:04, 79.25it/s]"
     ]
    },
    {
     "name": "stdout",
     "output_type": "stream",
     "text": [
      "\u001b[94m [ finished --time: 3.2s ]\u001b[0m\n",
      "\u001b[94m [ default category was automatically set to 'pos' (the most probable one) ]\u001b[0m\n",
      "\u001b[94m [ about to start classifying test documents ]\u001b[0m\n"
     ]
    },
    {
     "name": "stderr",
     "output_type": "stream",
     "text": [
      " Classification: 100%|██████████| 402/402 [00:06<00:00, 57.63it/s]\n",
      " Training:   0%|          | 0/2 [00:00<?, ?it/s]"
     ]
    },
    {
     "name": "stdout",
     "output_type": "stream",
     "text": [
      "\u001b[94m [ finished --time: 7.0s ]\u001b[0m\n",
      "\u001b[94m [ about to start training ]\u001b[0m\n"
     ]
    },
    {
     "name": "stderr",
     "output_type": "stream",
     "text": [
      " Training: 100%|██████████| 2/2 [00:06<00:00,  3.19s/it]\n"
     ]
    },
    {
     "name": "stdout",
     "output_type": "stream",
     "text": [
      "\u001b[94m [ pruning tries... ]\u001b[0m\n",
      "\u001b[94m [ finished --time: 7.5s ]\u001b[0m\n",
      "\u001b[94m [ about to start updating values... ]\u001b[0m\n",
      "\u001b[94m [ caching lv values ]\u001b[0m\n",
      "\u001b[94m    [ lv values for 0 (neg) ]\u001b[0m\n",
      "\u001b[94m    [ lv values for 1 (pos) ]\u001b[0m\n",
      "\u001b[94m [ caching sg values ]\u001b[0m\n",
      "\u001b[94m    [ sg values for 0 (neg) ]\u001b[0m\n",
      "\u001b[94m    [ sg values for 1 (pos) ]\u001b[0m\n",
      "\u001b[94m[ caching gv values ]\u001b[0m\n",
      "\u001b[94m    [ gv values for 0 (neg) ]\u001b[0m\n",
      "\u001b[94m    [ gv values for 1 (pos) ]\u001b[0m\n",
      "\u001b[94m [ updating max gv values ]\u001b[0m\n",
      "\u001b[94m    [ max gv values for 0 (neg) ]\u001b[0m\n",
      "\u001b[94m    [ max gv values for 1 (pos) ]\u001b[0m\n",
      "\u001b[94m [ max gv values have been updated ]\u001b[0m\n",
      "\u001b[94m [ caching confidence values (cvs) ]\u001b[0m\n",
      "\u001b[94m    [ cvs for 0 (neg) ]\u001b[0m\n",
      "\u001b[94m    [ cvs for 1 (pos) ]\u001b[0m\n"
     ]
    },
    {
     "name": "stderr",
     "output_type": "stream",
     "text": [
      " Classification:   2%|▏         | 8/402 [00:00<00:04, 79.72it/s]"
     ]
    },
    {
     "name": "stdout",
     "output_type": "stream",
     "text": [
      "\u001b[94m [ finished --time: 3.2s ]\u001b[0m\n",
      "\u001b[94m [ default category was automatically set to 'pos' (the most probable one) ]\u001b[0m\n",
      "\u001b[94m [ about to start classifying test documents ]\u001b[0m\n"
     ]
    },
    {
     "name": "stderr",
     "output_type": "stream",
     "text": [
      " Classification: 100%|██████████| 402/402 [00:06<00:00, 57.44it/s]\n",
      " Training:   0%|          | 0/2 [00:00<?, ?it/s]"
     ]
    },
    {
     "name": "stdout",
     "output_type": "stream",
     "text": [
      "\u001b[94m [ finished --time: 7.0s ]\u001b[0m\n",
      "\u001b[94m [ about to start training ]\u001b[0m\n"
     ]
    },
    {
     "name": "stderr",
     "output_type": "stream",
     "text": [
      " Training: 100%|██████████| 2/2 [00:07<00:00,  3.48s/it]\n"
     ]
    },
    {
     "name": "stdout",
     "output_type": "stream",
     "text": [
      "\u001b[94m [ pruning tries... ]\u001b[0m\n",
      "\u001b[94m [ finished --time: 8.0s ]\u001b[0m\n",
      "\u001b[94m [ about to start updating values... ]\u001b[0m\n",
      "\u001b[94m [ caching lv values ]\u001b[0m\n",
      "\u001b[94m    [ lv values for 0 (neg) ]\u001b[0m\n",
      "\u001b[94m    [ lv values for 1 (pos) ]\u001b[0m\n",
      "\u001b[94m [ caching sg values ]\u001b[0m\n",
      "\u001b[94m    [ sg values for 0 (neg) ]\u001b[0m\n",
      "\u001b[94m    [ sg values for 1 (pos) ]\u001b[0m\n",
      "\u001b[94m[ caching gv values ]\u001b[0m\n",
      "\u001b[94m    [ gv values for 0 (neg) ]\u001b[0m\n",
      "\u001b[94m    [ gv values for 1 (pos) ]\u001b[0m\n",
      "\u001b[94m [ updating max gv values ]\u001b[0m\n",
      "\u001b[94m    [ max gv values for 0 (neg) ]\u001b[0m\n",
      "\u001b[94m    [ max gv values for 1 (pos) ]\u001b[0m\n",
      "\u001b[94m [ max gv values have been updated ]\u001b[0m\n",
      "\u001b[94m [ caching confidence values (cvs) ]\u001b[0m\n",
      "\u001b[94m    [ cvs for 0 (neg) ]\u001b[0m\n",
      "\u001b[94m    [ cvs for 1 (pos) ]\u001b[0m\n"
     ]
    },
    {
     "name": "stderr",
     "output_type": "stream",
     "text": [
      " Classification:   2%|▏         | 8/402 [00:00<00:05, 77.72it/s]"
     ]
    },
    {
     "name": "stdout",
     "output_type": "stream",
     "text": [
      "\u001b[94m [ finished --time: 3.1s ]\u001b[0m\n",
      "\u001b[94m [ default category was automatically set to 'pos' (the most probable one) ]\u001b[0m\n",
      "\u001b[94m [ about to start classifying test documents ]\u001b[0m\n"
     ]
    },
    {
     "name": "stderr",
     "output_type": "stream",
     "text": [
      " Classification: 100%|██████████| 402/402 [00:07<00:00, 56.76it/s]\n",
      " Training:   0%|          | 0/2 [00:00<?, ?it/s]"
     ]
    },
    {
     "name": "stdout",
     "output_type": "stream",
     "text": [
      "\u001b[94m [ finished --time: 7.1s ]\u001b[0m\n",
      "\u001b[94m [ about to start training ]\u001b[0m\n"
     ]
    },
    {
     "name": "stderr",
     "output_type": "stream",
     "text": [
      " Training: 100%|██████████| 2/2 [00:07<00:00,  3.13s/it]\n"
     ]
    },
    {
     "name": "stdout",
     "output_type": "stream",
     "text": [
      "\u001b[94m [ pruning tries... ]\u001b[0m\n",
      "\u001b[94m [ finished --time: 7.8s ]\u001b[0m\n",
      "\u001b[94m [ about to start updating values... ]\u001b[0m\n",
      "\u001b[94m [ caching lv values ]\u001b[0m\n",
      "\u001b[94m    [ lv values for 0 (neg) ]\u001b[0m\n",
      "\u001b[94m    [ lv values for 1 (pos) ]\u001b[0m\n",
      "\u001b[94m [ caching sg values ]\u001b[0m\n",
      "\u001b[94m    [ sg values for 0 (neg) ]\u001b[0m\n",
      "\u001b[94m    [ sg values for 1 (pos) ]\u001b[0m\n",
      "\u001b[94m[ caching gv values ]\u001b[0m\n",
      "\u001b[94m    [ gv values for 0 (neg) ]\u001b[0m\n",
      "\u001b[94m    [ gv values for 1 (pos) ]\u001b[0m\n",
      "\u001b[94m [ updating max gv values ]\u001b[0m\n",
      "\u001b[94m    [ max gv values for 0 (neg) ]\u001b[0m\n",
      "\u001b[94m    [ max gv values for 1 (pos) ]\u001b[0m\n",
      "\u001b[94m [ max gv values have been updated ]\u001b[0m\n",
      "\u001b[94m [ caching confidence values (cvs) ]\u001b[0m\n",
      "\u001b[94m    [ cvs for 0 (neg) ]\u001b[0m\n",
      "\u001b[94m    [ cvs for 1 (pos) ]\u001b[0m\n"
     ]
    },
    {
     "name": "stderr",
     "output_type": "stream",
     "text": [
      " Classification:   2%|▏         | 7/402 [00:00<00:06, 61.76it/s]"
     ]
    },
    {
     "name": "stdout",
     "output_type": "stream",
     "text": [
      "\u001b[94m [ finished --time: 3.7s ]\u001b[0m\n",
      "\u001b[94m [ default category was automatically set to 'pos' (the most probable one) ]\u001b[0m\n",
      "\u001b[94m [ about to start classifying test documents ]\u001b[0m\n"
     ]
    },
    {
     "name": "stderr",
     "output_type": "stream",
     "text": [
      " Classification: 100%|██████████| 402/402 [00:08<00:00, 46.48it/s]\n",
      " Training:   0%|          | 0/2 [00:00<?, ?it/s]"
     ]
    },
    {
     "name": "stdout",
     "output_type": "stream",
     "text": [
      "\u001b[94m [ finished --time: 8.7s ]\u001b[0m\n",
      "\u001b[94m [ about to start training ]\u001b[0m\n"
     ]
    },
    {
     "name": "stderr",
     "output_type": "stream",
     "text": [
      " Training: 100%|██████████| 2/2 [00:08<00:00,  3.68s/it]\n"
     ]
    },
    {
     "name": "stdout",
     "output_type": "stream",
     "text": [
      "\u001b[94m [ pruning tries... ]\u001b[0m\n",
      "\u001b[94m [ finished --time: 8.7s ]\u001b[0m\n",
      "\u001b[94m [ about to start updating values... ]\u001b[0m\n",
      "\u001b[94m [ caching lv values ]\u001b[0m\n",
      "\u001b[94m    [ lv values for 0 (neg) ]\u001b[0m\n",
      "\u001b[94m    [ lv values for 1 (pos) ]\u001b[0m\n",
      "\u001b[94m [ caching sg values ]\u001b[0m\n",
      "\u001b[94m    [ sg values for 0 (neg) ]\u001b[0m\n",
      "\u001b[94m    [ sg values for 1 (pos) ]\u001b[0m\n",
      "\u001b[94m[ caching gv values ]\u001b[0m\n",
      "\u001b[94m    [ gv values for 0 (neg) ]\u001b[0m\n",
      "\u001b[94m    [ gv values for 1 (pos) ]\u001b[0m\n",
      "\u001b[94m [ updating max gv values ]\u001b[0m\n",
      "\u001b[94m    [ max gv values for 0 (neg) ]\u001b[0m\n",
      "\u001b[94m    [ max gv values for 1 (pos) ]\u001b[0m\n",
      "\u001b[94m [ max gv values have been updated ]\u001b[0m\n",
      "\u001b[94m [ caching confidence values (cvs) ]\u001b[0m\n",
      "\u001b[94m    [ cvs for 0 (neg) ]\u001b[0m\n",
      "\u001b[94m    [ cvs for 1 (pos) ]\u001b[0m\n"
     ]
    },
    {
     "name": "stderr",
     "output_type": "stream",
     "text": [
      " Classification:   2%|▏         | 9/402 [00:00<00:04, 79.74it/s]"
     ]
    },
    {
     "name": "stdout",
     "output_type": "stream",
     "text": [
      "\u001b[94m [ finished --time: 3.8s ]\u001b[0m\n",
      "\u001b[94m [ default category was automatically set to 'pos' (the most probable one) ]\u001b[0m\n",
      "\u001b[94m [ about to start classifying test documents ]\u001b[0m\n"
     ]
    },
    {
     "name": "stderr",
     "output_type": "stream",
     "text": [
      " Classification: 100%|██████████| 402/402 [00:07<00:00, 52.51it/s]\n",
      " Training:   0%|          | 0/2 [00:00<?, ?it/s]"
     ]
    },
    {
     "name": "stdout",
     "output_type": "stream",
     "text": [
      "\u001b[94m [ finished --time: 7.7s ]\u001b[0m\n",
      "\u001b[94m [ about to start training ]\u001b[0m\n"
     ]
    },
    {
     "name": "stderr",
     "output_type": "stream",
     "text": [
      " Training: 100%|██████████| 2/2 [00:07<00:00,  3.61s/it]\n"
     ]
    },
    {
     "name": "stdout",
     "output_type": "stream",
     "text": [
      "\u001b[94m [ pruning tries... ]\u001b[0m\n",
      "\u001b[94m [ finished --time: 8.4s ]\u001b[0m\n",
      "\u001b[94m [ about to start updating values... ]\u001b[0m\n",
      "\u001b[94m [ caching lv values ]\u001b[0m\n",
      "\u001b[94m    [ lv values for 0 (neg) ]\u001b[0m\n",
      "\u001b[94m    [ lv values for 1 (pos) ]\u001b[0m\n",
      "\u001b[94m [ caching sg values ]\u001b[0m\n",
      "\u001b[94m    [ sg values for 0 (neg) ]\u001b[0m\n",
      "\u001b[94m    [ sg values for 1 (pos) ]\u001b[0m\n",
      "\u001b[94m[ caching gv values ]\u001b[0m\n",
      "\u001b[94m    [ gv values for 0 (neg) ]\u001b[0m\n",
      "\u001b[94m    [ gv values for 1 (pos) ]\u001b[0m\n",
      "\u001b[94m [ updating max gv values ]\u001b[0m\n",
      "\u001b[94m    [ max gv values for 0 (neg) ]\u001b[0m\n",
      "\u001b[94m    [ max gv values for 1 (pos) ]\u001b[0m\n",
      "\u001b[94m [ max gv values have been updated ]\u001b[0m\n",
      "\u001b[94m [ caching confidence values (cvs) ]\u001b[0m\n",
      "\u001b[94m    [ cvs for 0 (neg) ]\u001b[0m\n",
      "\u001b[94m    [ cvs for 1 (pos) ]\u001b[0m\n"
     ]
    },
    {
     "name": "stderr",
     "output_type": "stream",
     "text": [
      " Classification:   2%|▏         | 9/402 [00:00<00:04, 80.92it/s]"
     ]
    },
    {
     "name": "stdout",
     "output_type": "stream",
     "text": [
      "\u001b[94m [ finished --time: 3.2s ]\u001b[0m\n",
      "\u001b[94m [ default category was automatically set to 'pos' (the most probable one) ]\u001b[0m\n",
      "\u001b[94m [ about to start classifying test documents ]\u001b[0m\n"
     ]
    },
    {
     "name": "stderr",
     "output_type": "stream",
     "text": [
      " Classification: 100%|██████████| 402/402 [00:07<00:00, 50.94it/s]\n",
      " Training:   0%|          | 0/2 [00:00<?, ?it/s]"
     ]
    },
    {
     "name": "stdout",
     "output_type": "stream",
     "text": [
      "\u001b[94m [ finished --time: 7.9s ]\u001b[0m\n",
      "\u001b[94m [ about to start training ]\u001b[0m\n"
     ]
    },
    {
     "name": "stderr",
     "output_type": "stream",
     "text": [
      " Training: 100%|██████████| 2/2 [00:07<00:00,  3.20s/it]\n"
     ]
    },
    {
     "name": "stdout",
     "output_type": "stream",
     "text": [
      "\u001b[94m [ pruning tries... ]\u001b[0m\n",
      "\u001b[94m [ finished --time: 7.7s ]\u001b[0m\n",
      "\u001b[94m [ about to start updating values... ]\u001b[0m\n",
      "\u001b[94m [ caching lv values ]\u001b[0m\n",
      "\u001b[94m    [ lv values for 0 (neg) ]\u001b[0m\n",
      "\u001b[94m    [ lv values for 1 (pos) ]\u001b[0m\n",
      "\u001b[94m [ caching sg values ]\u001b[0m\n",
      "\u001b[94m    [ sg values for 0 (neg) ]\u001b[0m\n",
      "\u001b[94m    [ sg values for 1 (pos) ]\u001b[0m\n",
      "\u001b[94m[ caching gv values ]\u001b[0m\n",
      "\u001b[94m    [ gv values for 0 (neg) ]\u001b[0m\n",
      "\u001b[94m    [ gv values for 1 (pos) ]\u001b[0m\n",
      "\u001b[94m [ updating max gv values ]\u001b[0m\n",
      "\u001b[94m    [ max gv values for 0 (neg) ]\u001b[0m\n",
      "\u001b[94m    [ max gv values for 1 (pos) ]\u001b[0m\n",
      "\u001b[94m [ max gv values have been updated ]\u001b[0m\n",
      "\u001b[94m [ caching confidence values (cvs) ]\u001b[0m\n",
      "\u001b[94m    [ cvs for 0 (neg) ]\u001b[0m\n",
      "\u001b[94m    [ cvs for 1 (pos) ]\u001b[0m\n"
     ]
    },
    {
     "name": "stderr",
     "output_type": "stream",
     "text": [
      " Classification:   2%|▏         | 9/402 [00:00<00:04, 80.35it/s]"
     ]
    },
    {
     "name": "stdout",
     "output_type": "stream",
     "text": [
      "\u001b[94m [ finished --time: 3.2s ]\u001b[0m\n",
      "\u001b[94m [ default category was automatically set to 'pos' (the most probable one) ]\u001b[0m\n",
      "\u001b[94m [ about to start classifying test documents ]\u001b[0m\n"
     ]
    },
    {
     "name": "stderr",
     "output_type": "stream",
     "text": [
      " Classification: 100%|██████████| 402/402 [00:07<00:00, 54.57it/s]\n",
      " Training:   0%|          | 0/2 [00:00<?, ?it/s]"
     ]
    },
    {
     "name": "stdout",
     "output_type": "stream",
     "text": [
      "\u001b[94m [ finished --time: 7.4s ]\u001b[0m\n",
      "\u001b[94m [ about to start training ]\u001b[0m\n"
     ]
    },
    {
     "name": "stderr",
     "output_type": "stream",
     "text": [
      " Training: 100%|██████████| 2/2 [00:07<00:00,  3.50s/it]\n"
     ]
    },
    {
     "name": "stdout",
     "output_type": "stream",
     "text": [
      "\u001b[94m [ pruning tries... ]\u001b[0m\n",
      "\u001b[94m [ finished --time: 8.6s ]\u001b[0m\n",
      "\u001b[94m [ about to start updating values... ]\u001b[0m\n",
      "\u001b[94m [ caching lv values ]\u001b[0m\n",
      "\u001b[94m    [ lv values for 0 (neg) ]\u001b[0m\n",
      "\u001b[94m    [ lv values for 1 (pos) ]\u001b[0m\n",
      "\u001b[94m [ caching sg values ]\u001b[0m\n",
      "\u001b[94m    [ sg values for 0 (neg) ]\u001b[0m\n",
      "\u001b[94m    [ sg values for 1 (pos) ]\u001b[0m\n",
      "\u001b[94m[ caching gv values ]\u001b[0m\n",
      "\u001b[94m    [ gv values for 0 (neg) ]\u001b[0m\n",
      "\u001b[94m    [ gv values for 1 (pos) ]\u001b[0m\n",
      "\u001b[94m [ updating max gv values ]\u001b[0m\n",
      "\u001b[94m    [ max gv values for 0 (neg) ]\u001b[0m\n",
      "\u001b[94m    [ max gv values for 1 (pos) ]\u001b[0m\n",
      "\u001b[94m [ max gv values have been updated ]\u001b[0m\n",
      "\u001b[94m [ caching confidence values (cvs) ]\u001b[0m\n",
      "\u001b[94m    [ cvs for 0 (neg) ]\u001b[0m\n",
      "\u001b[94m    [ cvs for 1 (pos) ]\u001b[0m\n"
     ]
    },
    {
     "name": "stderr",
     "output_type": "stream",
     "text": [
      " Classification:   2%|▏         | 7/402 [00:00<00:06, 64.69it/s]"
     ]
    },
    {
     "name": "stdout",
     "output_type": "stream",
     "text": [
      "\u001b[94m [ finished --time: 3.3s ]\u001b[0m\n",
      "\u001b[94m [ default category was automatically set to 'pos' (the most probable one) ]\u001b[0m\n",
      "\u001b[94m [ about to start classifying test documents ]\u001b[0m\n"
     ]
    },
    {
     "name": "stderr",
     "output_type": "stream",
     "text": [
      " Classification: 100%|██████████| 402/402 [00:07<00:00, 51.45it/s]\n",
      " Training:   0%|          | 0/2 [00:00<?, ?it/s]"
     ]
    },
    {
     "name": "stdout",
     "output_type": "stream",
     "text": [
      "\u001b[94m [ finished --time: 7.8s ]\u001b[0m\n",
      "\u001b[94m [ about to start training ]\u001b[0m\n"
     ]
    },
    {
     "name": "stderr",
     "output_type": "stream",
     "text": [
      " Training: 100%|██████████| 2/2 [00:07<00:00,  3.02s/it]\n"
     ]
    },
    {
     "name": "stdout",
     "output_type": "stream",
     "text": [
      "\u001b[94m [ pruning tries... ]\u001b[0m\n",
      "\u001b[94m [ finished --time: 7.7s ]\u001b[0m\n",
      "\u001b[94m [ about to start updating values... ]\u001b[0m\n",
      "\u001b[94m [ caching lv values ]\u001b[0m\n",
      "\u001b[94m    [ lv values for 0 (neg) ]\u001b[0m\n",
      "\u001b[94m    [ lv values for 1 (pos) ]\u001b[0m\n",
      "\u001b[94m [ caching sg values ]\u001b[0m\n",
      "\u001b[94m    [ sg values for 0 (neg) ]\u001b[0m\n",
      "\u001b[94m    [ sg values for 1 (pos) ]\u001b[0m\n",
      "\u001b[94m[ caching gv values ]\u001b[0m\n",
      "\u001b[94m    [ gv values for 0 (neg) ]\u001b[0m\n",
      "\u001b[94m    [ gv values for 1 (pos) ]\u001b[0m\n",
      "\u001b[94m [ updating max gv values ]\u001b[0m\n",
      "\u001b[94m    [ max gv values for 0 (neg) ]\u001b[0m\n",
      "\u001b[94m    [ max gv values for 1 (pos) ]\u001b[0m\n",
      "\u001b[94m [ max gv values have been updated ]\u001b[0m\n",
      "\u001b[94m [ caching confidence values (cvs) ]\u001b[0m\n",
      "\u001b[94m    [ cvs for 0 (neg) ]\u001b[0m\n",
      "\u001b[94m    [ cvs for 1 (pos) ]\u001b[0m\n"
     ]
    },
    {
     "name": "stderr",
     "output_type": "stream",
     "text": [
      " Classification:   2%|▏         | 8/402 [00:00<00:05, 78.50it/s]"
     ]
    },
    {
     "name": "stdout",
     "output_type": "stream",
     "text": [
      "\u001b[94m [ finished --time: 3.5s ]\u001b[0m\n",
      "\u001b[94m [ default category was automatically set to 'pos' (the most probable one) ]\u001b[0m\n",
      "\u001b[94m [ about to start classifying test documents ]\u001b[0m\n"
     ]
    },
    {
     "name": "stderr",
     "output_type": "stream",
     "text": [
      " Classification: 100%|██████████| 402/402 [00:07<00:00, 55.36it/s]\n",
      " Training:   0%|          | 0/2 [00:00<?, ?it/s]"
     ]
    },
    {
     "name": "stdout",
     "output_type": "stream",
     "text": [
      "\u001b[94m [ finished --time: 7.3s ]\u001b[0m\n",
      "\u001b[94m [ about to start training ]\u001b[0m\n"
     ]
    },
    {
     "name": "stderr",
     "output_type": "stream",
     "text": [
      " Training: 100%|██████████| 2/2 [00:07<00:00,  3.18s/it]\n"
     ]
    },
    {
     "name": "stdout",
     "output_type": "stream",
     "text": [
      "\u001b[94m [ pruning tries... ]\u001b[0m\n",
      "\u001b[94m [ finished --time: 7.7s ]\u001b[0m\n",
      "\u001b[94m [ about to start updating values... ]\u001b[0m\n",
      "\u001b[94m [ caching lv values ]\u001b[0m\n",
      "\u001b[94m    [ lv values for 0 (neg) ]\u001b[0m\n",
      "\u001b[94m    [ lv values for 1 (pos) ]\u001b[0m\n",
      "\u001b[94m [ caching sg values ]\u001b[0m\n",
      "\u001b[94m    [ sg values for 0 (neg) ]\u001b[0m\n",
      "\u001b[94m    [ sg values for 1 (pos) ]\u001b[0m\n",
      "\u001b[94m[ caching gv values ]\u001b[0m\n",
      "\u001b[94m    [ gv values for 0 (neg) ]\u001b[0m\n",
      "\u001b[94m    [ gv values for 1 (pos) ]\u001b[0m\n",
      "\u001b[94m [ updating max gv values ]\u001b[0m\n",
      "\u001b[94m    [ max gv values for 0 (neg) ]\u001b[0m\n",
      "\u001b[94m    [ max gv values for 1 (pos) ]\u001b[0m\n",
      "\u001b[94m [ max gv values have been updated ]\u001b[0m\n",
      "\u001b[94m [ caching confidence values (cvs) ]\u001b[0m\n",
      "\u001b[94m    [ cvs for 0 (neg) ]\u001b[0m\n",
      "\u001b[94m    [ cvs for 1 (pos) ]\u001b[0m\n"
     ]
    },
    {
     "name": "stderr",
     "output_type": "stream",
     "text": [
      " Classification:   2%|▏         | 9/402 [00:00<00:04, 80.09it/s]"
     ]
    },
    {
     "name": "stdout",
     "output_type": "stream",
     "text": [
      "\u001b[94m [ finished --time: 3.5s ]\u001b[0m\n",
      "\u001b[94m [ default category was automatically set to 'pos' (the most probable one) ]\u001b[0m\n",
      "\u001b[94m [ about to start classifying test documents ]\u001b[0m\n"
     ]
    },
    {
     "name": "stderr",
     "output_type": "stream",
     "text": [
      " Classification: 100%|██████████| 402/402 [00:07<00:00, 55.12it/s]\n",
      " Training:   0%|          | 0/2 [00:00<?, ?it/s]"
     ]
    },
    {
     "name": "stdout",
     "output_type": "stream",
     "text": [
      "\u001b[94m [ finished --time: 7.3s ]\u001b[0m\n",
      "\u001b[94m [ about to start training ]\u001b[0m\n"
     ]
    },
    {
     "name": "stderr",
     "output_type": "stream",
     "text": [
      " Training: 100%|██████████| 2/2 [00:06<00:00,  3.04s/it]\n"
     ]
    },
    {
     "name": "stdout",
     "output_type": "stream",
     "text": [
      "\u001b[94m [ pruning tries... ]\u001b[0m\n",
      "\u001b[94m [ finished --time: 7.3s ]\u001b[0m\n",
      "\u001b[94m [ about to start updating values... ]\u001b[0m\n",
      "\u001b[94m [ caching lv values ]\u001b[0m\n",
      "\u001b[94m    [ lv values for 0 (neg) ]\u001b[0m\n",
      "\u001b[94m    [ lv values for 1 (pos) ]\u001b[0m\n",
      "\u001b[94m [ caching sg values ]\u001b[0m\n",
      "\u001b[94m    [ sg values for 0 (neg) ]\u001b[0m\n",
      "\u001b[94m    [ sg values for 1 (pos) ]\u001b[0m\n",
      "\u001b[94m[ caching gv values ]\u001b[0m\n",
      "\u001b[94m    [ gv values for 0 (neg) ]\u001b[0m\n",
      "\u001b[94m    [ gv values for 1 (pos) ]\u001b[0m\n",
      "\u001b[94m [ updating max gv values ]\u001b[0m\n",
      "\u001b[94m    [ max gv values for 0 (neg) ]\u001b[0m\n",
      "\u001b[94m    [ max gv values for 1 (pos) ]\u001b[0m\n",
      "\u001b[94m [ max gv values have been updated ]\u001b[0m\n",
      "\u001b[94m [ caching confidence values (cvs) ]\u001b[0m\n",
      "\u001b[94m    [ cvs for 0 (neg) ]\u001b[0m\n",
      "\u001b[94m    [ cvs for 1 (pos) ]\u001b[0m\n"
     ]
    },
    {
     "name": "stderr",
     "output_type": "stream",
     "text": [
      " Classification:   2%|▏         | 9/402 [00:00<00:04, 79.99it/s]"
     ]
    },
    {
     "name": "stdout",
     "output_type": "stream",
     "text": [
      "\u001b[94m [ finished --time: 3.2s ]\u001b[0m\n",
      "\u001b[94m [ default category was automatically set to 'pos' (the most probable one) ]\u001b[0m\n",
      "\u001b[94m [ about to start classifying test documents ]\u001b[0m\n"
     ]
    },
    {
     "name": "stderr",
     "output_type": "stream",
     "text": [
      " Classification: 100%|██████████| 402/402 [00:06<00:00, 57.89it/s]\n",
      " Training:   0%|          | 0/2 [00:00<?, ?it/s]"
     ]
    },
    {
     "name": "stdout",
     "output_type": "stream",
     "text": [
      "\u001b[94m [ finished --time: 6.9s ]\u001b[0m\n",
      "\u001b[94m [ about to start training ]\u001b[0m\n"
     ]
    },
    {
     "name": "stderr",
     "output_type": "stream",
     "text": [
      " Training: 100%|██████████| 2/2 [00:07<00:00,  3.29s/it]\n"
     ]
    },
    {
     "name": "stdout",
     "output_type": "stream",
     "text": [
      "\u001b[94m [ pruning tries... ]\u001b[0m\n",
      "\u001b[94m [ finished --time: 7.7s ]\u001b[0m\n",
      "\u001b[94m [ about to start updating values... ]\u001b[0m\n",
      "\u001b[94m [ caching lv values ]\u001b[0m\n",
      "\u001b[94m    [ lv values for 0 (neg) ]\u001b[0m\n",
      "\u001b[94m    [ lv values for 1 (pos) ]\u001b[0m\n",
      "\u001b[94m [ caching sg values ]\u001b[0m\n",
      "\u001b[94m    [ sg values for 0 (neg) ]\u001b[0m\n",
      "\u001b[94m    [ sg values for 1 (pos) ]\u001b[0m\n",
      "\u001b[94m[ caching gv values ]\u001b[0m\n",
      "\u001b[94m    [ gv values for 0 (neg) ]\u001b[0m\n",
      "\u001b[94m    [ gv values for 1 (pos) ]\u001b[0m\n",
      "\u001b[94m [ updating max gv values ]\u001b[0m\n",
      "\u001b[94m    [ max gv values for 0 (neg) ]\u001b[0m\n",
      "\u001b[94m    [ max gv values for 1 (pos) ]\u001b[0m\n",
      "\u001b[94m [ max gv values have been updated ]\u001b[0m\n",
      "\u001b[94m [ caching confidence values (cvs) ]\u001b[0m\n",
      "\u001b[94m    [ cvs for 0 (neg) ]\u001b[0m\n",
      "\u001b[94m    [ cvs for 1 (pos) ]\u001b[0m\n"
     ]
    },
    {
     "name": "stderr",
     "output_type": "stream",
     "text": [
      " Classification:   2%|▏         | 9/402 [00:00<00:04, 82.49it/s]"
     ]
    },
    {
     "name": "stdout",
     "output_type": "stream",
     "text": [
      "\u001b[94m [ finished --time: 3.2s ]\u001b[0m\n",
      "\u001b[94m [ default category was automatically set to 'pos' (the most probable one) ]\u001b[0m\n",
      "\u001b[94m [ about to start classifying test documents ]\u001b[0m\n"
     ]
    },
    {
     "name": "stderr",
     "output_type": "stream",
     "text": [
      " Classification: 100%|██████████| 402/402 [00:06<00:00, 57.84it/s]\n",
      " Training:   0%|          | 0/2 [00:00<?, ?it/s]"
     ]
    },
    {
     "name": "stdout",
     "output_type": "stream",
     "text": [
      "\u001b[94m [ finished --time: 7.0s ]\u001b[0m\n",
      "\u001b[94m [ about to start training ]\u001b[0m\n"
     ]
    },
    {
     "name": "stderr",
     "output_type": "stream",
     "text": [
      " Training: 100%|██████████| 2/2 [00:07<00:00,  3.11s/it]\n"
     ]
    },
    {
     "name": "stdout",
     "output_type": "stream",
     "text": [
      "\u001b[94m [ pruning tries... ]\u001b[0m\n",
      "\u001b[94m [ finished --time: 7.7s ]\u001b[0m\n",
      "\u001b[94m [ about to start updating values... ]\u001b[0m\n",
      "\u001b[94m [ caching lv values ]\u001b[0m\n",
      "\u001b[94m    [ lv values for 0 (neg) ]\u001b[0m\n",
      "\u001b[94m    [ lv values for 1 (pos) ]\u001b[0m\n",
      "\u001b[94m [ caching sg values ]\u001b[0m\n",
      "\u001b[94m    [ sg values for 0 (neg) ]\u001b[0m\n",
      "\u001b[94m    [ sg values for 1 (pos) ]\u001b[0m\n",
      "\u001b[94m[ caching gv values ]\u001b[0m\n",
      "\u001b[94m    [ gv values for 0 (neg) ]\u001b[0m\n",
      "\u001b[94m    [ gv values for 1 (pos) ]\u001b[0m\n",
      "\u001b[94m [ updating max gv values ]\u001b[0m\n",
      "\u001b[94m    [ max gv values for 0 (neg) ]\u001b[0m\n",
      "\u001b[94m    [ max gv values for 1 (pos) ]\u001b[0m\n",
      "\u001b[94m [ max gv values have been updated ]\u001b[0m\n",
      "\u001b[94m [ caching confidence values (cvs) ]\u001b[0m\n",
      "\u001b[94m    [ cvs for 0 (neg) ]\u001b[0m\n",
      "\u001b[94m    [ cvs for 1 (pos) ]\u001b[0m\n"
     ]
    },
    {
     "name": "stderr",
     "output_type": "stream",
     "text": [
      " Classification:   2%|▏         | 9/402 [00:00<00:04, 78.85it/s]"
     ]
    },
    {
     "name": "stdout",
     "output_type": "stream",
     "text": [
      "\u001b[94m [ finished --time: 3.3s ]\u001b[0m\n",
      "\u001b[94m [ default category was automatically set to 'pos' (the most probable one) ]\u001b[0m\n",
      "\u001b[94m [ about to start classifying test documents ]\u001b[0m\n"
     ]
    },
    {
     "name": "stderr",
     "output_type": "stream",
     "text": [
      " Classification: 100%|██████████| 402/402 [00:07<00:00, 52.83it/s]\n",
      " Training:   0%|          | 0/2 [00:00<?, ?it/s]"
     ]
    },
    {
     "name": "stdout",
     "output_type": "stream",
     "text": [
      "\u001b[94m [ finished --time: 7.6s ]\u001b[0m\n",
      "\u001b[94m [ about to start training ]\u001b[0m\n"
     ]
    },
    {
     "name": "stderr",
     "output_type": "stream",
     "text": [
      " Training: 100%|██████████| 2/2 [00:06<00:00,  3.06s/it]\n"
     ]
    },
    {
     "name": "stdout",
     "output_type": "stream",
     "text": [
      "\u001b[94m [ pruning tries... ]\u001b[0m\n",
      "\u001b[94m [ finished --time: 7.5s ]\u001b[0m\n",
      "\u001b[94m [ about to start updating values... ]\u001b[0m\n",
      "\u001b[94m [ caching lv values ]\u001b[0m\n",
      "\u001b[94m    [ lv values for 0 (neg) ]\u001b[0m\n",
      "\u001b[94m    [ lv values for 1 (pos) ]\u001b[0m\n",
      "\u001b[94m [ caching sg values ]\u001b[0m\n",
      "\u001b[94m    [ sg values for 0 (neg) ]\u001b[0m\n",
      "\u001b[94m    [ sg values for 1 (pos) ]\u001b[0m\n",
      "\u001b[94m[ caching gv values ]\u001b[0m\n",
      "\u001b[94m    [ gv values for 0 (neg) ]\u001b[0m\n",
      "\u001b[94m    [ gv values for 1 (pos) ]\u001b[0m\n",
      "\u001b[94m [ updating max gv values ]\u001b[0m\n",
      "\u001b[94m    [ max gv values for 0 (neg) ]\u001b[0m\n",
      "\u001b[94m    [ max gv values for 1 (pos) ]\u001b[0m\n",
      "\u001b[94m [ max gv values have been updated ]\u001b[0m\n",
      "\u001b[94m [ caching confidence values (cvs) ]\u001b[0m\n",
      "\u001b[94m    [ cvs for 0 (neg) ]\u001b[0m\n",
      "\u001b[94m    [ cvs for 1 (pos) ]\u001b[0m\n"
     ]
    },
    {
     "name": "stderr",
     "output_type": "stream",
     "text": [
      " Classification:   2%|▏         | 8/402 [00:00<00:05, 76.88it/s]"
     ]
    },
    {
     "name": "stdout",
     "output_type": "stream",
     "text": [
      "\u001b[94m [ finished --time: 3.3s ]\u001b[0m\n",
      "\u001b[94m [ default category was automatically set to 'pos' (the most probable one) ]\u001b[0m\n",
      "\u001b[94m [ about to start classifying test documents ]\u001b[0m\n"
     ]
    },
    {
     "name": "stderr",
     "output_type": "stream",
     "text": [
      " Classification: 100%|██████████| 402/402 [00:07<00:00, 54.41it/s]\n",
      " Training:   0%|          | 0/2 [00:00<?, ?it/s]"
     ]
    },
    {
     "name": "stdout",
     "output_type": "stream",
     "text": [
      "\u001b[94m [ finished --time: 7.4s ]\u001b[0m\n",
      "\u001b[94m [ about to start training ]\u001b[0m\n"
     ]
    },
    {
     "name": "stderr",
     "output_type": "stream",
     "text": [
      " Training: 100%|██████████| 2/2 [00:07<00:00,  3.38s/it]\n"
     ]
    },
    {
     "name": "stdout",
     "output_type": "stream",
     "text": [
      "\u001b[94m [ pruning tries... ]\u001b[0m\n",
      "\u001b[94m [ finished --time: 8.1s ]\u001b[0m\n",
      "\u001b[94m [ about to start updating values... ]\u001b[0m\n",
      "\u001b[94m [ caching lv values ]\u001b[0m\n",
      "\u001b[94m    [ lv values for 0 (neg) ]\u001b[0m\n",
      "\u001b[94m    [ lv values for 1 (pos) ]\u001b[0m\n",
      "\u001b[94m [ caching sg values ]\u001b[0m\n",
      "\u001b[94m    [ sg values for 0 (neg) ]\u001b[0m\n",
      "\u001b[94m    [ sg values for 1 (pos) ]\u001b[0m\n",
      "\u001b[94m[ caching gv values ]\u001b[0m\n",
      "\u001b[94m    [ gv values for 0 (neg) ]\u001b[0m\n",
      "\u001b[94m    [ gv values for 1 (pos) ]\u001b[0m\n",
      "\u001b[94m [ updating max gv values ]\u001b[0m\n",
      "\u001b[94m    [ max gv values for 0 (neg) ]\u001b[0m\n",
      "\u001b[94m    [ max gv values for 1 (pos) ]\u001b[0m\n",
      "\u001b[94m [ max gv values have been updated ]\u001b[0m\n",
      "\u001b[94m [ caching confidence values (cvs) ]\u001b[0m\n",
      "\u001b[94m    [ cvs for 0 (neg) ]\u001b[0m\n",
      "\u001b[94m    [ cvs for 1 (pos) ]\u001b[0m\n"
     ]
    },
    {
     "name": "stderr",
     "output_type": "stream",
     "text": [
      " Classification:   2%|▏         | 9/402 [00:00<00:04, 81.78it/s]"
     ]
    },
    {
     "name": "stdout",
     "output_type": "stream",
     "text": [
      "\u001b[94m [ finished --time: 3.2s ]\u001b[0m\n",
      "\u001b[94m [ default category was automatically set to 'pos' (the most probable one) ]\u001b[0m\n",
      "\u001b[94m [ about to start classifying test documents ]\u001b[0m\n"
     ]
    },
    {
     "name": "stderr",
     "output_type": "stream",
     "text": [
      " Classification: 100%|██████████| 402/402 [00:08<00:00, 39.31it/s]\n",
      " Training:   0%|          | 0/2 [00:00<?, ?it/s]"
     ]
    },
    {
     "name": "stdout",
     "output_type": "stream",
     "text": [
      "\u001b[94m [ finished --time: 8.1s ]\u001b[0m\n",
      "\u001b[94m [ about to start training ]\u001b[0m\n"
     ]
    },
    {
     "name": "stderr",
     "output_type": "stream",
     "text": [
      " Training: 100%|██████████| 2/2 [00:08<00:00,  3.88s/it]\n"
     ]
    },
    {
     "name": "stdout",
     "output_type": "stream",
     "text": [
      "\u001b[94m [ pruning tries... ]\u001b[0m\n",
      "\u001b[94m [ finished --time: 9.0s ]\u001b[0m\n",
      "\u001b[94m [ about to start updating values... ]\u001b[0m\n",
      "\u001b[94m [ caching lv values ]\u001b[0m\n",
      "\u001b[94m    [ lv values for 0 (neg) ]\u001b[0m\n",
      "\u001b[94m    [ lv values for 1 (pos) ]\u001b[0m\n",
      "\u001b[94m [ caching sg values ]\u001b[0m\n",
      "\u001b[94m    [ sg values for 0 (neg) ]\u001b[0m\n",
      "\u001b[94m    [ sg values for 1 (pos) ]\u001b[0m\n",
      "\u001b[94m[ caching gv values ]\u001b[0m\n",
      "\u001b[94m    [ gv values for 0 (neg) ]\u001b[0m\n",
      "\u001b[94m    [ gv values for 1 (pos) ]\u001b[0m\n",
      "\u001b[94m [ updating max gv values ]\u001b[0m\n",
      "\u001b[94m    [ max gv values for 0 (neg) ]\u001b[0m\n",
      "\u001b[94m    [ max gv values for 1 (pos) ]\u001b[0m\n",
      "\u001b[94m [ max gv values have been updated ]\u001b[0m\n",
      "\u001b[94m [ caching confidence values (cvs) ]\u001b[0m\n",
      "\u001b[94m    [ cvs for 0 (neg) ]\u001b[0m\n",
      "\u001b[94m    [ cvs for 1 (pos) ]\u001b[0m\n"
     ]
    },
    {
     "name": "stderr",
     "output_type": "stream",
     "text": [
      " Classification:   2%|▏         | 7/402 [00:00<00:05, 66.24it/s]"
     ]
    },
    {
     "name": "stdout",
     "output_type": "stream",
     "text": [
      "\u001b[94m [ finished --time: 3.5s ]\u001b[0m\n",
      "\u001b[94m [ default category was automatically set to 'pos' (the most probable one) ]\u001b[0m\n",
      "\u001b[94m [ about to start classifying test documents ]\u001b[0m\n"
     ]
    },
    {
     "name": "stderr",
     "output_type": "stream",
     "text": [
      " Classification: 100%|██████████| 402/402 [00:07<00:00, 52.37it/s]\n",
      " Training:   0%|          | 0/2 [00:00<?, ?it/s]"
     ]
    },
    {
     "name": "stdout",
     "output_type": "stream",
     "text": [
      "\u001b[94m [ finished --time: 7.7s ]\u001b[0m\n",
      "\u001b[94m [ about to start training ]\u001b[0m\n"
     ]
    },
    {
     "name": "stderr",
     "output_type": "stream",
     "text": [
      " Training: 100%|██████████| 2/2 [00:07<00:00,  3.29s/it]\n"
     ]
    },
    {
     "name": "stdout",
     "output_type": "stream",
     "text": [
      "\u001b[94m [ pruning tries... ]\u001b[0m\n",
      "\u001b[94m [ finished --time: 8.3s ]\u001b[0m\n",
      "\u001b[94m [ about to start updating values... ]\u001b[0m\n",
      "\u001b[94m [ caching lv values ]\u001b[0m\n",
      "\u001b[94m    [ lv values for 0 (neg) ]\u001b[0m\n",
      "\u001b[94m    [ lv values for 1 (pos) ]\u001b[0m\n",
      "\u001b[94m [ caching sg values ]\u001b[0m\n",
      "\u001b[94m    [ sg values for 0 (neg) ]\u001b[0m\n",
      "\u001b[94m    [ sg values for 1 (pos) ]\u001b[0m\n",
      "\u001b[94m[ caching gv values ]\u001b[0m\n",
      "\u001b[94m    [ gv values for 0 (neg) ]\u001b[0m\n",
      "\u001b[94m    [ gv values for 1 (pos) ]\u001b[0m\n",
      "\u001b[94m [ updating max gv values ]\u001b[0m\n",
      "\u001b[94m    [ max gv values for 0 (neg) ]\u001b[0m\n",
      "\u001b[94m    [ max gv values for 1 (pos) ]\u001b[0m\n",
      "\u001b[94m [ max gv values have been updated ]\u001b[0m\n",
      "\u001b[94m [ caching confidence values (cvs) ]\u001b[0m\n",
      "\u001b[94m    [ cvs for 0 (neg) ]\u001b[0m\n",
      "\u001b[94m    [ cvs for 1 (pos) ]\u001b[0m\n"
     ]
    },
    {
     "name": "stderr",
     "output_type": "stream",
     "text": [
      " Classification:   2%|▏         | 9/402 [00:00<00:04, 80.10it/s]"
     ]
    },
    {
     "name": "stdout",
     "output_type": "stream",
     "text": [
      "\u001b[94m [ finished --time: 3.4s ]\u001b[0m\n",
      "\u001b[94m [ default category was automatically set to 'pos' (the most probable one) ]\u001b[0m\n",
      "\u001b[94m [ about to start classifying test documents ]\u001b[0m\n"
     ]
    },
    {
     "name": "stderr",
     "output_type": "stream",
     "text": [
      " Classification: 100%|██████████| 402/402 [00:07<00:00, 56.82it/s]\n",
      " Training:   0%|          | 0/2 [00:00<?, ?it/s]"
     ]
    },
    {
     "name": "stdout",
     "output_type": "stream",
     "text": [
      "\u001b[94m [ finished --time: 7.1s ]\u001b[0m\n",
      "\u001b[94m [ about to start training ]\u001b[0m\n"
     ]
    },
    {
     "name": "stderr",
     "output_type": "stream",
     "text": [
      " Training: 100%|██████████| 2/2 [00:07<00:00,  3.28s/it]\n"
     ]
    },
    {
     "name": "stdout",
     "output_type": "stream",
     "text": [
      "\u001b[94m [ pruning tries... ]\u001b[0m\n",
      "\u001b[94m [ finished --time: 7.7s ]\u001b[0m\n",
      "\u001b[94m [ about to start updating values... ]\u001b[0m\n",
      "\u001b[94m [ caching lv values ]\u001b[0m\n",
      "\u001b[94m    [ lv values for 0 (neg) ]\u001b[0m\n",
      "\u001b[94m    [ lv values for 1 (pos) ]\u001b[0m\n",
      "\u001b[94m [ caching sg values ]\u001b[0m\n",
      "\u001b[94m    [ sg values for 0 (neg) ]\u001b[0m\n",
      "\u001b[94m    [ sg values for 1 (pos) ]\u001b[0m\n",
      "\u001b[94m[ caching gv values ]\u001b[0m\n",
      "\u001b[94m    [ gv values for 0 (neg) ]\u001b[0m\n",
      "\u001b[94m    [ gv values for 1 (pos) ]\u001b[0m\n",
      "\u001b[94m [ updating max gv values ]\u001b[0m\n",
      "\u001b[94m    [ max gv values for 0 (neg) ]\u001b[0m\n",
      "\u001b[94m    [ max gv values for 1 (pos) ]\u001b[0m\n",
      "\u001b[94m [ max gv values have been updated ]\u001b[0m\n",
      "\u001b[94m [ caching confidence values (cvs) ]\u001b[0m\n",
      "\u001b[94m    [ cvs for 0 (neg) ]\u001b[0m\n",
      "\u001b[94m    [ cvs for 1 (pos) ]\u001b[0m\n"
     ]
    },
    {
     "name": "stderr",
     "output_type": "stream",
     "text": [
      " Classification:   1%|          | 5/402 [00:00<00:08, 46.71it/s]"
     ]
    },
    {
     "name": "stdout",
     "output_type": "stream",
     "text": [
      "\u001b[94m [ finished --time: 3.4s ]\u001b[0m\n",
      "\u001b[94m [ default category was automatically set to 'pos' (the most probable one) ]\u001b[0m\n",
      "\u001b[94m [ about to start classifying test documents ]\u001b[0m\n"
     ]
    },
    {
     "name": "stderr",
     "output_type": "stream",
     "text": [
      " Classification: 100%|██████████| 402/402 [00:15<00:00, 25.66it/s]\n",
      " Training:   0%|          | 0/2 [00:00<?, ?it/s]"
     ]
    },
    {
     "name": "stdout",
     "output_type": "stream",
     "text": [
      "\u001b[94m [ finished --time: 15.7s ]\u001b[0m\n",
      "\u001b[94m [ about to start training ]\u001b[0m\n"
     ]
    },
    {
     "name": "stderr",
     "output_type": "stream",
     "text": [
      " Training: 100%|██████████| 2/2 [00:09<00:00,  4.39s/it]\n"
     ]
    },
    {
     "name": "stdout",
     "output_type": "stream",
     "text": [
      "\u001b[94m [ pruning tries... ]\u001b[0m\n",
      "\u001b[94m [ finished --time: 9.9s ]\u001b[0m\n",
      "\u001b[94m [ about to start updating values... ]\u001b[0m\n",
      "\u001b[94m [ caching lv values ]\u001b[0m\n",
      "\u001b[94m    [ lv values for 0 (neg) ]\u001b[0m\n",
      "\u001b[94m    [ lv values for 1 (pos) ]\u001b[0m\n",
      "\u001b[94m [ caching sg values ]\u001b[0m\n",
      "\u001b[94m    [ sg values for 0 (neg) ]\u001b[0m\n",
      "\u001b[94m    [ sg values for 1 (pos) ]\u001b[0m\n",
      "\u001b[94m[ caching gv values ]\u001b[0m\n",
      "\u001b[94m    [ gv values for 0 (neg) ]\u001b[0m\n",
      "\u001b[94m    [ gv values for 1 (pos) ]\u001b[0m\n",
      "\u001b[94m [ updating max gv values ]\u001b[0m\n",
      "\u001b[94m    [ max gv values for 0 (neg) ]\u001b[0m\n",
      "\u001b[94m    [ max gv values for 1 (pos) ]\u001b[0m\n",
      "\u001b[94m [ max gv values have been updated ]\u001b[0m\n",
      "\u001b[94m [ caching confidence values (cvs) ]\u001b[0m\n",
      "\u001b[94m    [ cvs for 0 (neg) ]\u001b[0m\n",
      "\u001b[94m    [ cvs for 1 (pos) ]\u001b[0m\n"
     ]
    },
    {
     "name": "stderr",
     "output_type": "stream",
     "text": [
      " Classification:   2%|▏         | 7/402 [00:00<00:05, 68.44it/s]"
     ]
    },
    {
     "name": "stdout",
     "output_type": "stream",
     "text": [
      "\u001b[94m [ finished --time: 4.7s ]\u001b[0m\n",
      "\u001b[94m [ default category was automatically set to 'pos' (the most probable one) ]\u001b[0m\n",
      "\u001b[94m [ about to start classifying test documents ]\u001b[0m\n"
     ]
    },
    {
     "name": "stderr",
     "output_type": "stream",
     "text": [
      " Classification: 100%|██████████| 402/402 [00:10<00:00, 39.95it/s]\n",
      " Training:   0%|          | 0/2 [00:00<?, ?it/s]"
     ]
    },
    {
     "name": "stdout",
     "output_type": "stream",
     "text": [
      "\u001b[94m [ finished --time: 10.1s ]\u001b[0m\n",
      "\u001b[94m [ about to start training ]\u001b[0m\n"
     ]
    },
    {
     "name": "stderr",
     "output_type": "stream",
     "text": [
      " Training: 100%|██████████| 2/2 [00:07<00:00,  3.59s/it]\n"
     ]
    },
    {
     "name": "stdout",
     "output_type": "stream",
     "text": [
      "\u001b[94m [ pruning tries... ]\u001b[0m\n",
      "\u001b[94m [ finished --time: 8.8s ]\u001b[0m\n",
      "\u001b[94m [ about to start updating values... ]\u001b[0m\n",
      "\u001b[94m [ caching lv values ]\u001b[0m\n",
      "\u001b[94m    [ lv values for 0 (neg) ]\u001b[0m\n",
      "\u001b[94m    [ lv values for 1 (pos) ]\u001b[0m\n",
      "\u001b[94m [ caching sg values ]\u001b[0m\n",
      "\u001b[94m    [ sg values for 0 (neg) ]\u001b[0m\n",
      "\u001b[94m    [ sg values for 1 (pos) ]\u001b[0m\n",
      "\u001b[94m[ caching gv values ]\u001b[0m\n",
      "\u001b[94m    [ gv values for 0 (neg) ]\u001b[0m\n",
      "\u001b[94m    [ gv values for 1 (pos) ]\u001b[0m\n",
      "\u001b[94m [ updating max gv values ]\u001b[0m\n",
      "\u001b[94m    [ max gv values for 0 (neg) ]\u001b[0m\n",
      "\u001b[94m    [ max gv values for 1 (pos) ]\u001b[0m\n",
      "\u001b[94m [ max gv values have been updated ]\u001b[0m\n",
      "\u001b[94m [ caching confidence values (cvs) ]\u001b[0m\n",
      "\u001b[94m    [ cvs for 0 (neg) ]\u001b[0m\n",
      "\u001b[94m    [ cvs for 1 (pos) ]\u001b[0m\n"
     ]
    },
    {
     "name": "stderr",
     "output_type": "stream",
     "text": [
      " Classification:   1%|          | 5/402 [00:00<00:09, 44.02it/s]"
     ]
    },
    {
     "name": "stdout",
     "output_type": "stream",
     "text": [
      "\u001b[94m [ finished --time: 8.0s ]\u001b[0m\n",
      "\u001b[94m [ default category was automatically set to 'pos' (the most probable one) ]\u001b[0m\n",
      "\u001b[94m [ about to start classifying test documents ]\u001b[0m\n"
     ]
    },
    {
     "name": "stderr",
     "output_type": "stream",
     "text": [
      " Classification: 100%|██████████| 402/402 [00:08<00:00, 45.97it/s]\n",
      " Training:   0%|          | 0/2 [00:00<?, ?it/s]"
     ]
    },
    {
     "name": "stdout",
     "output_type": "stream",
     "text": [
      "\u001b[94m [ finished --time: 8.7s ]\u001b[0m\n",
      "\u001b[94m [ about to start training ]\u001b[0m\n"
     ]
    },
    {
     "name": "stderr",
     "output_type": "stream",
     "text": [
      " Training: 100%|██████████| 2/2 [00:07<00:00,  3.34s/it]\n"
     ]
    },
    {
     "name": "stdout",
     "output_type": "stream",
     "text": [
      "\u001b[94m [ pruning tries... ]\u001b[0m\n",
      "\u001b[94m [ finished --time: 7.9s ]\u001b[0m\n",
      "\u001b[94m [ about to start updating values... ]\u001b[0m\n",
      "\u001b[94m [ caching lv values ]\u001b[0m\n",
      "\u001b[94m    [ lv values for 0 (neg) ]\u001b[0m\n",
      "\u001b[94m    [ lv values for 1 (pos) ]\u001b[0m\n",
      "\u001b[94m [ caching sg values ]\u001b[0m\n",
      "\u001b[94m    [ sg values for 0 (neg) ]\u001b[0m\n",
      "\u001b[94m    [ sg values for 1 (pos) ]\u001b[0m\n",
      "\u001b[94m[ caching gv values ]\u001b[0m\n",
      "\u001b[94m    [ gv values for 0 (neg) ]\u001b[0m\n",
      "\u001b[94m    [ gv values for 1 (pos) ]\u001b[0m\n",
      "\u001b[94m [ updating max gv values ]\u001b[0m\n",
      "\u001b[94m    [ max gv values for 0 (neg) ]\u001b[0m\n",
      "\u001b[94m    [ max gv values for 1 (pos) ]\u001b[0m\n",
      "\u001b[94m [ max gv values have been updated ]\u001b[0m\n",
      "\u001b[94m [ caching confidence values (cvs) ]\u001b[0m\n",
      "\u001b[94m    [ cvs for 0 (neg) ]\u001b[0m\n",
      "\u001b[94m    [ cvs for 1 (pos) ]\u001b[0m\n"
     ]
    },
    {
     "name": "stderr",
     "output_type": "stream",
     "text": [
      " Classification:   2%|▏         | 8/402 [00:00<00:05, 68.48it/s]"
     ]
    },
    {
     "name": "stdout",
     "output_type": "stream",
     "text": [
      "\u001b[94m [ finished --time: 3.5s ]\u001b[0m\n",
      "\u001b[94m [ default category was automatically set to 'pos' (the most probable one) ]\u001b[0m\n",
      "\u001b[94m [ about to start classifying test documents ]\u001b[0m\n"
     ]
    },
    {
     "name": "stderr",
     "output_type": "stream",
     "text": [
      " Classification: 100%|██████████| 402/402 [00:07<00:00, 55.13it/s]\n",
      " Training:   0%|          | 0/2 [00:00<?, ?it/s]"
     ]
    },
    {
     "name": "stdout",
     "output_type": "stream",
     "text": [
      "\u001b[94m [ finished --time: 7.3s ]\u001b[0m\n",
      "\u001b[94m [ about to start training ]\u001b[0m\n"
     ]
    },
    {
     "name": "stderr",
     "output_type": "stream",
     "text": [
      " Training: 100%|██████████| 2/2 [00:07<00:00,  3.40s/it]\n"
     ]
    },
    {
     "name": "stdout",
     "output_type": "stream",
     "text": [
      "\u001b[94m [ pruning tries... ]\u001b[0m\n",
      "\u001b[94m [ finished --time: 8.0s ]\u001b[0m\n",
      "\u001b[94m [ about to start updating values... ]\u001b[0m\n",
      "\u001b[94m [ caching lv values ]\u001b[0m\n",
      "\u001b[94m    [ lv values for 0 (neg) ]\u001b[0m\n",
      "\u001b[94m    [ lv values for 1 (pos) ]\u001b[0m\n",
      "\u001b[94m [ caching sg values ]\u001b[0m\n",
      "\u001b[94m    [ sg values for 0 (neg) ]\u001b[0m\n",
      "\u001b[94m    [ sg values for 1 (pos) ]\u001b[0m\n",
      "\u001b[94m[ caching gv values ]\u001b[0m\n",
      "\u001b[94m    [ gv values for 0 (neg) ]\u001b[0m\n",
      "\u001b[94m    [ gv values for 1 (pos) ]\u001b[0m\n",
      "\u001b[94m [ updating max gv values ]\u001b[0m\n",
      "\u001b[94m    [ max gv values for 0 (neg) ]\u001b[0m\n",
      "\u001b[94m    [ max gv values for 1 (pos) ]\u001b[0m\n",
      "\u001b[94m [ max gv values have been updated ]\u001b[0m\n",
      "\u001b[94m [ caching confidence values (cvs) ]\u001b[0m\n",
      "\u001b[94m    [ cvs for 0 (neg) ]\u001b[0m\n",
      "\u001b[94m    [ cvs for 1 (pos) ]\u001b[0m\n"
     ]
    },
    {
     "name": "stderr",
     "output_type": "stream",
     "text": [
      " Classification:   2%|▏         | 9/402 [00:00<00:04, 83.05it/s]"
     ]
    },
    {
     "name": "stdout",
     "output_type": "stream",
     "text": [
      "\u001b[94m [ finished --time: 3.6s ]\u001b[0m\n",
      "\u001b[94m [ default category was automatically set to 'pos' (the most probable one) ]\u001b[0m\n",
      "\u001b[94m [ about to start classifying test documents ]\u001b[0m\n"
     ]
    },
    {
     "name": "stderr",
     "output_type": "stream",
     "text": [
      " Classification: 100%|██████████| 402/402 [00:07<00:00, 53.15it/s]\n",
      " Training:   0%|          | 0/2 [00:00<?, ?it/s]"
     ]
    },
    {
     "name": "stdout",
     "output_type": "stream",
     "text": [
      "\u001b[94m [ finished --time: 7.6s ]\u001b[0m\n",
      "\u001b[94m [ about to start training ]\u001b[0m\n"
     ]
    },
    {
     "name": "stderr",
     "output_type": "stream",
     "text": [
      " Training: 100%|██████████| 2/2 [00:08<00:00,  3.60s/it]\n"
     ]
    },
    {
     "name": "stdout",
     "output_type": "stream",
     "text": [
      "\u001b[94m [ pruning tries... ]\u001b[0m\n",
      "\u001b[94m [ finished --time: 8.8s ]\u001b[0m\n",
      "\u001b[94m [ about to start updating values... ]\u001b[0m\n",
      "\u001b[94m [ caching lv values ]\u001b[0m\n",
      "\u001b[94m    [ lv values for 0 (neg) ]\u001b[0m\n",
      "\u001b[94m    [ lv values for 1 (pos) ]\u001b[0m\n",
      "\u001b[94m [ caching sg values ]\u001b[0m\n",
      "\u001b[94m    [ sg values for 0 (neg) ]\u001b[0m\n",
      "\u001b[94m    [ sg values for 1 (pos) ]\u001b[0m\n",
      "\u001b[94m[ caching gv values ]\u001b[0m\n",
      "\u001b[94m    [ gv values for 0 (neg) ]\u001b[0m\n",
      "\u001b[94m    [ gv values for 1 (pos) ]\u001b[0m\n",
      "\u001b[94m [ updating max gv values ]\u001b[0m\n",
      "\u001b[94m    [ max gv values for 0 (neg) ]\u001b[0m\n",
      "\u001b[94m    [ max gv values for 1 (pos) ]\u001b[0m\n",
      "\u001b[94m [ max gv values have been updated ]\u001b[0m\n",
      "\u001b[94m [ caching confidence values (cvs) ]\u001b[0m\n",
      "\u001b[94m    [ cvs for 0 (neg) ]\u001b[0m\n",
      "\u001b[94m    [ cvs for 1 (pos) ]\u001b[0m\n"
     ]
    },
    {
     "name": "stderr",
     "output_type": "stream",
     "text": [
      " Classification:   2%|▏         | 8/402 [00:00<00:05, 74.55it/s]"
     ]
    },
    {
     "name": "stdout",
     "output_type": "stream",
     "text": [
      "\u001b[94m [ finished --time: 3.4s ]\u001b[0m\n",
      "\u001b[94m [ default category was automatically set to 'pos' (the most probable one) ]\u001b[0m\n",
      "\u001b[94m [ about to start classifying test documents ]\u001b[0m\n"
     ]
    },
    {
     "name": "stderr",
     "output_type": "stream",
     "text": [
      " Classification: 100%|██████████| 402/402 [00:07<00:00, 50.90it/s]\n",
      " Training:   0%|          | 0/2 [00:00<?, ?it/s]"
     ]
    },
    {
     "name": "stdout",
     "output_type": "stream",
     "text": [
      "\u001b[94m [ finished --time: 7.9s ]\u001b[0m\n",
      "\u001b[94m [ about to start training ]\u001b[0m\n"
     ]
    },
    {
     "name": "stderr",
     "output_type": "stream",
     "text": [
      " Training: 100%|██████████| 2/2 [00:07<00:00,  3.20s/it]\n"
     ]
    },
    {
     "name": "stdout",
     "output_type": "stream",
     "text": [
      "\u001b[94m [ pruning tries... ]\u001b[0m\n",
      "\u001b[94m [ finished --time: 8.2s ]\u001b[0m\n",
      "\u001b[94m [ about to start updating values... ]\u001b[0m\n",
      "\u001b[94m [ caching lv values ]\u001b[0m\n",
      "\u001b[94m    [ lv values for 0 (neg) ]\u001b[0m\n",
      "\u001b[94m    [ lv values for 1 (pos) ]\u001b[0m\n",
      "\u001b[94m [ caching sg values ]\u001b[0m\n",
      "\u001b[94m    [ sg values for 0 (neg) ]\u001b[0m\n",
      "\u001b[94m    [ sg values for 1 (pos) ]\u001b[0m\n",
      "\u001b[94m[ caching gv values ]\u001b[0m\n",
      "\u001b[94m    [ gv values for 0 (neg) ]\u001b[0m\n",
      "\u001b[94m    [ gv values for 1 (pos) ]\u001b[0m\n",
      "\u001b[94m [ updating max gv values ]\u001b[0m\n",
      "\u001b[94m    [ max gv values for 0 (neg) ]\u001b[0m\n",
      "\u001b[94m    [ max gv values for 1 (pos) ]\u001b[0m\n",
      "\u001b[94m [ max gv values have been updated ]\u001b[0m\n",
      "\u001b[94m [ caching confidence values (cvs) ]\u001b[0m\n",
      "\u001b[94m    [ cvs for 0 (neg) ]\u001b[0m\n",
      "\u001b[94m    [ cvs for 1 (pos) ]\u001b[0m\n"
     ]
    },
    {
     "name": "stderr",
     "output_type": "stream",
     "text": [
      " Classification:   2%|▏         | 8/402 [00:00<00:05, 75.19it/s]"
     ]
    },
    {
     "name": "stdout",
     "output_type": "stream",
     "text": [
      "\u001b[94m [ finished --time: 3.4s ]\u001b[0m\n",
      "\u001b[94m [ default category was automatically set to 'pos' (the most probable one) ]\u001b[0m\n",
      "\u001b[94m [ about to start classifying test documents ]\u001b[0m\n"
     ]
    },
    {
     "name": "stderr",
     "output_type": "stream",
     "text": [
      " Classification: 100%|██████████| 402/402 [00:07<00:00, 51.19it/s]\n",
      " Training:   0%|          | 0/2 [00:00<?, ?it/s]"
     ]
    },
    {
     "name": "stdout",
     "output_type": "stream",
     "text": [
      "\u001b[94m [ finished --time: 7.9s ]\u001b[0m\n",
      "\u001b[94m [ about to start training ]\u001b[0m\n"
     ]
    },
    {
     "name": "stderr",
     "output_type": "stream",
     "text": [
      " Training: 100%|██████████| 2/2 [00:07<00:00,  3.50s/it]\n"
     ]
    },
    {
     "name": "stdout",
     "output_type": "stream",
     "text": [
      "\u001b[94m [ pruning tries... ]\u001b[0m\n",
      "\u001b[94m [ finished --time: 8.3s ]\u001b[0m\n",
      "\u001b[94m [ about to start updating values... ]\u001b[0m\n",
      "\u001b[94m [ caching lv values ]\u001b[0m\n",
      "\u001b[94m    [ lv values for 0 (neg) ]\u001b[0m\n",
      "\u001b[94m    [ lv values for 1 (pos) ]\u001b[0m\n",
      "\u001b[94m [ caching sg values ]\u001b[0m\n",
      "\u001b[94m    [ sg values for 0 (neg) ]\u001b[0m\n",
      "\u001b[94m    [ sg values for 1 (pos) ]\u001b[0m\n",
      "\u001b[94m[ caching gv values ]\u001b[0m\n",
      "\u001b[94m    [ gv values for 0 (neg) ]\u001b[0m\n",
      "\u001b[94m    [ gv values for 1 (pos) ]\u001b[0m\n",
      "\u001b[94m [ updating max gv values ]\u001b[0m\n",
      "\u001b[94m    [ max gv values for 0 (neg) ]\u001b[0m\n",
      "\u001b[94m    [ max gv values for 1 (pos) ]\u001b[0m\n",
      "\u001b[94m [ max gv values have been updated ]\u001b[0m\n",
      "\u001b[94m [ caching confidence values (cvs) ]\u001b[0m\n",
      "\u001b[94m    [ cvs for 0 (neg) ]\u001b[0m\n",
      "\u001b[94m    [ cvs for 1 (pos) ]\u001b[0m\n"
     ]
    },
    {
     "name": "stderr",
     "output_type": "stream",
     "text": [
      " Classification:   2%|▏         | 8/402 [00:00<00:05, 78.04it/s]"
     ]
    },
    {
     "name": "stdout",
     "output_type": "stream",
     "text": [
      "\u001b[94m [ finished --time: 3.9s ]\u001b[0m\n",
      "\u001b[94m [ default category was automatically set to 'pos' (the most probable one) ]\u001b[0m\n",
      "\u001b[94m [ about to start classifying test documents ]\u001b[0m\n"
     ]
    },
    {
     "name": "stderr",
     "output_type": "stream",
     "text": [
      " Classification: 100%|██████████| 402/402 [00:07<00:00, 56.28it/s]\n",
      " Training:   0%|          | 0/2 [00:00<?, ?it/s]"
     ]
    },
    {
     "name": "stdout",
     "output_type": "stream",
     "text": [
      "\u001b[94m [ finished --time: 7.1s ]\u001b[0m\n",
      "\u001b[94m [ about to start training ]\u001b[0m\n"
     ]
    },
    {
     "name": "stderr",
     "output_type": "stream",
     "text": [
      " Training: 100%|██████████| 2/2 [00:07<00:00,  3.28s/it]\n"
     ]
    },
    {
     "name": "stdout",
     "output_type": "stream",
     "text": [
      "\u001b[94m [ pruning tries... ]\u001b[0m\n",
      "\u001b[94m [ finished --time: 8.1s ]\u001b[0m\n",
      "\u001b[94m [ about to start updating values... ]\u001b[0m\n",
      "\u001b[94m [ caching lv values ]\u001b[0m\n",
      "\u001b[94m    [ lv values for 0 (neg) ]\u001b[0m\n",
      "\u001b[94m    [ lv values for 1 (pos) ]\u001b[0m\n",
      "\u001b[94m [ caching sg values ]\u001b[0m\n",
      "\u001b[94m    [ sg values for 0 (neg) ]\u001b[0m\n",
      "\u001b[94m    [ sg values for 1 (pos) ]\u001b[0m\n",
      "\u001b[94m[ caching gv values ]\u001b[0m\n",
      "\u001b[94m    [ gv values for 0 (neg) ]\u001b[0m\n",
      "\u001b[94m    [ gv values for 1 (pos) ]\u001b[0m\n",
      "\u001b[94m [ updating max gv values ]\u001b[0m\n",
      "\u001b[94m    [ max gv values for 0 (neg) ]\u001b[0m\n",
      "\u001b[94m    [ max gv values for 1 (pos) ]\u001b[0m\n",
      "\u001b[94m [ max gv values have been updated ]\u001b[0m\n",
      "\u001b[94m [ caching confidence values (cvs) ]\u001b[0m\n",
      "\u001b[94m    [ cvs for 0 (neg) ]\u001b[0m\n",
      "\u001b[94m    [ cvs for 1 (pos) ]\u001b[0m\n"
     ]
    },
    {
     "name": "stderr",
     "output_type": "stream",
     "text": [
      " Classification:   2%|▏         | 9/402 [00:00<00:04, 83.82it/s]"
     ]
    },
    {
     "name": "stdout",
     "output_type": "stream",
     "text": [
      "\u001b[94m [ finished --time: 3.1s ]\u001b[0m\n",
      "\u001b[94m [ default category was automatically set to 'pos' (the most probable one) ]\u001b[0m\n",
      "\u001b[94m [ about to start classifying test documents ]\u001b[0m\n"
     ]
    },
    {
     "name": "stderr",
     "output_type": "stream",
     "text": [
      " Classification: 100%|██████████| 402/402 [00:06<00:00, 57.88it/s]\n",
      " Training:   0%|          | 0/2 [00:00<?, ?it/s]"
     ]
    },
    {
     "name": "stdout",
     "output_type": "stream",
     "text": [
      "\u001b[94m [ finished --time: 6.9s ]\u001b[0m\n",
      "\u001b[94m [ about to start training ]\u001b[0m\n"
     ]
    },
    {
     "name": "stderr",
     "output_type": "stream",
     "text": [
      " Training: 100%|██████████| 2/2 [00:06<00:00,  3.15s/it]\n"
     ]
    },
    {
     "name": "stdout",
     "output_type": "stream",
     "text": [
      "\u001b[94m [ pruning tries... ]\u001b[0m\n",
      "\u001b[94m [ finished --time: 7.5s ]\u001b[0m\n",
      "\u001b[94m [ about to start updating values... ]\u001b[0m\n",
      "\u001b[94m [ caching lv values ]\u001b[0m\n",
      "\u001b[94m    [ lv values for 0 (neg) ]\u001b[0m\n",
      "\u001b[94m    [ lv values for 1 (pos) ]\u001b[0m\n",
      "\u001b[94m [ caching sg values ]\u001b[0m\n",
      "\u001b[94m    [ sg values for 0 (neg) ]\u001b[0m\n",
      "\u001b[94m    [ sg values for 1 (pos) ]\u001b[0m\n",
      "\u001b[94m[ caching gv values ]\u001b[0m\n",
      "\u001b[94m    [ gv values for 0 (neg) ]\u001b[0m\n",
      "\u001b[94m    [ gv values for 1 (pos) ]\u001b[0m\n",
      "\u001b[94m [ updating max gv values ]\u001b[0m\n",
      "\u001b[94m    [ max gv values for 0 (neg) ]\u001b[0m\n",
      "\u001b[94m    [ max gv values for 1 (pos) ]\u001b[0m\n",
      "\u001b[94m [ max gv values have been updated ]\u001b[0m\n",
      "\u001b[94m [ caching confidence values (cvs) ]\u001b[0m\n",
      "\u001b[94m    [ cvs for 0 (neg) ]\u001b[0m\n",
      "\u001b[94m    [ cvs for 1 (pos) ]\u001b[0m\n"
     ]
    },
    {
     "name": "stderr",
     "output_type": "stream",
     "text": [
      " Classification:   2%|▏         | 8/402 [00:00<00:05, 77.19it/s]"
     ]
    },
    {
     "name": "stdout",
     "output_type": "stream",
     "text": [
      "\u001b[94m [ finished --time: 3.3s ]\u001b[0m\n",
      "\u001b[94m [ default category was automatically set to 'pos' (the most probable one) ]\u001b[0m\n",
      "\u001b[94m [ about to start classifying test documents ]\u001b[0m\n"
     ]
    },
    {
     "name": "stderr",
     "output_type": "stream",
     "text": [
      " Classification: 100%|██████████| 402/402 [00:07<00:00, 50.99it/s]\n",
      " Training:   0%|          | 0/2 [00:00<?, ?it/s]"
     ]
    },
    {
     "name": "stdout",
     "output_type": "stream",
     "text": [
      "\u001b[94m [ finished --time: 7.9s ]\u001b[0m\n",
      "\u001b[94m [ about to start training ]\u001b[0m\n"
     ]
    },
    {
     "name": "stderr",
     "output_type": "stream",
     "text": [
      " Training: 100%|██████████| 2/2 [00:07<00:00,  3.29s/it]\n"
     ]
    },
    {
     "name": "stdout",
     "output_type": "stream",
     "text": [
      "\u001b[94m [ pruning tries... ]\u001b[0m\n",
      "\u001b[94m [ finished --time: 7.8s ]\u001b[0m\n",
      "\u001b[94m [ about to start updating values... ]\u001b[0m\n",
      "\u001b[94m [ caching lv values ]\u001b[0m\n",
      "\u001b[94m    [ lv values for 0 (neg) ]\u001b[0m\n",
      "\u001b[94m    [ lv values for 1 (pos) ]\u001b[0m\n",
      "\u001b[94m [ caching sg values ]\u001b[0m\n",
      "\u001b[94m    [ sg values for 0 (neg) ]\u001b[0m\n",
      "\u001b[94m    [ sg values for 1 (pos) ]\u001b[0m\n",
      "\u001b[94m[ caching gv values ]\u001b[0m\n",
      "\u001b[94m    [ gv values for 0 (neg) ]\u001b[0m\n",
      "\u001b[94m    [ gv values for 1 (pos) ]\u001b[0m\n",
      "\u001b[94m [ updating max gv values ]\u001b[0m\n",
      "\u001b[94m    [ max gv values for 0 (neg) ]\u001b[0m\n",
      "\u001b[94m    [ max gv values for 1 (pos) ]\u001b[0m\n",
      "\u001b[94m [ max gv values have been updated ]\u001b[0m\n",
      "\u001b[94m [ caching confidence values (cvs) ]\u001b[0m\n",
      "\u001b[94m    [ cvs for 0 (neg) ]\u001b[0m\n",
      "\u001b[94m    [ cvs for 1 (pos) ]\u001b[0m\n"
     ]
    },
    {
     "name": "stderr",
     "output_type": "stream",
     "text": [
      " Classification:   2%|▏         | 7/402 [00:00<00:05, 65.99it/s]"
     ]
    },
    {
     "name": "stdout",
     "output_type": "stream",
     "text": [
      "\u001b[94m [ finished --time: 3.6s ]\u001b[0m\n",
      "\u001b[94m [ default category was automatically set to 'pos' (the most probable one) ]\u001b[0m\n",
      "\u001b[94m [ about to start classifying test documents ]\u001b[0m\n"
     ]
    },
    {
     "name": "stderr",
     "output_type": "stream",
     "text": [
      " Classification: 100%|██████████| 402/402 [00:07<00:00, 53.70it/s]\n",
      " Training:   0%|          | 0/2 [00:00<?, ?it/s]"
     ]
    },
    {
     "name": "stdout",
     "output_type": "stream",
     "text": [
      "\u001b[94m [ finished --time: 7.5s ]\u001b[0m\n",
      "\u001b[94m [ about to start training ]\u001b[0m\n"
     ]
    },
    {
     "name": "stderr",
     "output_type": "stream",
     "text": [
      " Training: 100%|██████████| 2/2 [00:07<00:00,  3.32s/it]\n"
     ]
    },
    {
     "name": "stdout",
     "output_type": "stream",
     "text": [
      "\u001b[94m [ pruning tries... ]\u001b[0m\n",
      "\u001b[94m [ finished --time: 7.9s ]\u001b[0m\n",
      "\u001b[94m [ about to start updating values... ]\u001b[0m\n",
      "\u001b[94m [ caching lv values ]\u001b[0m\n",
      "\u001b[94m    [ lv values for 0 (neg) ]\u001b[0m\n",
      "\u001b[94m    [ lv values for 1 (pos) ]\u001b[0m\n",
      "\u001b[94m [ caching sg values ]\u001b[0m\n",
      "\u001b[94m    [ sg values for 0 (neg) ]\u001b[0m\n",
      "\u001b[94m    [ sg values for 1 (pos) ]\u001b[0m\n",
      "\u001b[94m[ caching gv values ]\u001b[0m\n",
      "\u001b[94m    [ gv values for 0 (neg) ]\u001b[0m\n",
      "\u001b[94m    [ gv values for 1 (pos) ]\u001b[0m\n",
      "\u001b[94m [ updating max gv values ]\u001b[0m\n",
      "\u001b[94m    [ max gv values for 0 (neg) ]\u001b[0m\n",
      "\u001b[94m    [ max gv values for 1 (pos) ]\u001b[0m\n",
      "\u001b[94m [ max gv values have been updated ]\u001b[0m\n",
      "\u001b[94m [ caching confidence values (cvs) ]\u001b[0m\n",
      "\u001b[94m    [ cvs for 0 (neg) ]\u001b[0m\n",
      "\u001b[94m    [ cvs for 1 (pos) ]\u001b[0m\n"
     ]
    },
    {
     "name": "stderr",
     "output_type": "stream",
     "text": [
      " Classification:   2%|▏         | 8/402 [00:00<00:05, 77.67it/s]"
     ]
    },
    {
     "name": "stdout",
     "output_type": "stream",
     "text": [
      "\u001b[94m [ finished --time: 3.4s ]\u001b[0m\n",
      "\u001b[94m [ default category was automatically set to 'pos' (the most probable one) ]\u001b[0m\n",
      "\u001b[94m [ about to start classifying test documents ]\u001b[0m\n"
     ]
    },
    {
     "name": "stderr",
     "output_type": "stream",
     "text": [
      " Classification: 100%|██████████| 402/402 [00:07<00:00, 55.73it/s]\n",
      " Training:   0%|          | 0/2 [00:00<?, ?it/s]"
     ]
    },
    {
     "name": "stdout",
     "output_type": "stream",
     "text": [
      "\u001b[94m [ finished --time: 7.2s ]\u001b[0m\n",
      "\u001b[94m [ about to start training ]\u001b[0m\n"
     ]
    },
    {
     "name": "stderr",
     "output_type": "stream",
     "text": [
      " Training: 100%|██████████| 2/2 [00:07<00:00,  3.41s/it]\n"
     ]
    },
    {
     "name": "stdout",
     "output_type": "stream",
     "text": [
      "\u001b[94m [ pruning tries... ]\u001b[0m\n",
      "\u001b[94m [ finished --time: 7.9s ]\u001b[0m\n",
      "\u001b[94m [ about to start updating values... ]\u001b[0m\n",
      "\u001b[94m [ caching lv values ]\u001b[0m\n",
      "\u001b[94m    [ lv values for 0 (neg) ]\u001b[0m\n",
      "\u001b[94m    [ lv values for 1 (pos) ]\u001b[0m\n",
      "\u001b[94m [ caching sg values ]\u001b[0m\n",
      "\u001b[94m    [ sg values for 0 (neg) ]\u001b[0m\n",
      "\u001b[94m    [ sg values for 1 (pos) ]\u001b[0m\n",
      "\u001b[94m[ caching gv values ]\u001b[0m\n",
      "\u001b[94m    [ gv values for 0 (neg) ]\u001b[0m\n",
      "\u001b[94m    [ gv values for 1 (pos) ]\u001b[0m\n",
      "\u001b[94m [ updating max gv values ]\u001b[0m\n",
      "\u001b[94m    [ max gv values for 0 (neg) ]\u001b[0m\n",
      "\u001b[94m    [ max gv values for 1 (pos) ]\u001b[0m\n",
      "\u001b[94m [ max gv values have been updated ]\u001b[0m\n",
      "\u001b[94m [ caching confidence values (cvs) ]\u001b[0m\n",
      "\u001b[94m    [ cvs for 0 (neg) ]\u001b[0m\n",
      "\u001b[94m    [ cvs for 1 (pos) ]\u001b[0m\n"
     ]
    },
    {
     "name": "stderr",
     "output_type": "stream",
     "text": [
      " Classification:   2%|▏         | 7/402 [00:00<00:05, 67.75it/s]"
     ]
    },
    {
     "name": "stdout",
     "output_type": "stream",
     "text": [
      "\u001b[94m [ finished --time: 3.2s ]\u001b[0m\n",
      "\u001b[94m [ default category was automatically set to 'pos' (the most probable one) ]\u001b[0m\n",
      "\u001b[94m [ about to start classifying test documents ]\u001b[0m\n"
     ]
    },
    {
     "name": "stderr",
     "output_type": "stream",
     "text": [
      " Classification: 100%|██████████| 402/402 [00:07<00:00, 56.78it/s]\n",
      " Training:   0%|          | 0/2 [00:00<?, ?it/s]"
     ]
    },
    {
     "name": "stdout",
     "output_type": "stream",
     "text": [
      "\u001b[94m [ finished --time: 7.1s ]\u001b[0m\n",
      "\u001b[94m [ about to start training ]\u001b[0m\n"
     ]
    },
    {
     "name": "stderr",
     "output_type": "stream",
     "text": [
      " Training: 100%|██████████| 2/2 [00:07<00:00,  3.16s/it]\n"
     ]
    },
    {
     "name": "stdout",
     "output_type": "stream",
     "text": [
      "\u001b[94m [ pruning tries... ]\u001b[0m\n",
      "\u001b[94m [ finished --time: 7.6s ]\u001b[0m\n",
      "\u001b[94m [ about to start updating values... ]\u001b[0m\n",
      "\u001b[94m [ caching lv values ]\u001b[0m\n",
      "\u001b[94m    [ lv values for 0 (neg) ]\u001b[0m\n",
      "\u001b[94m    [ lv values for 1 (pos) ]\u001b[0m\n",
      "\u001b[94m [ caching sg values ]\u001b[0m\n",
      "\u001b[94m    [ sg values for 0 (neg) ]\u001b[0m\n",
      "\u001b[94m    [ sg values for 1 (pos) ]\u001b[0m\n",
      "\u001b[94m[ caching gv values ]\u001b[0m\n",
      "\u001b[94m    [ gv values for 0 (neg) ]\u001b[0m\n",
      "\u001b[94m    [ gv values for 1 (pos) ]\u001b[0m\n",
      "\u001b[94m [ updating max gv values ]\u001b[0m\n",
      "\u001b[94m    [ max gv values for 0 (neg) ]\u001b[0m\n",
      "\u001b[94m    [ max gv values for 1 (pos) ]\u001b[0m\n",
      "\u001b[94m [ max gv values have been updated ]\u001b[0m\n",
      "\u001b[94m [ caching confidence values (cvs) ]\u001b[0m\n",
      "\u001b[94m    [ cvs for 0 (neg) ]\u001b[0m\n",
      "\u001b[94m    [ cvs for 1 (pos) ]\u001b[0m\n"
     ]
    },
    {
     "name": "stderr",
     "output_type": "stream",
     "text": [
      " Classification:   2%|▏         | 8/402 [00:00<00:05, 69.38it/s]"
     ]
    },
    {
     "name": "stdout",
     "output_type": "stream",
     "text": [
      "\u001b[94m [ finished --time: 3.2s ]\u001b[0m\n",
      "\u001b[94m [ default category was automatically set to 'pos' (the most probable one) ]\u001b[0m\n",
      "\u001b[94m [ about to start classifying test documents ]\u001b[0m\n"
     ]
    },
    {
     "name": "stderr",
     "output_type": "stream",
     "text": [
      " Classification: 100%|██████████| 402/402 [00:07<00:00, 50.70it/s]\n",
      " Training:   0%|          | 0/2 [00:00<?, ?it/s]"
     ]
    },
    {
     "name": "stdout",
     "output_type": "stream",
     "text": [
      "\u001b[94m [ finished --time: 7.9s ]\u001b[0m\n",
      "\u001b[94m [ about to start training ]\u001b[0m\n"
     ]
    },
    {
     "name": "stderr",
     "output_type": "stream",
     "text": [
      " Training: 100%|██████████| 2/2 [00:08<00:00,  3.79s/it]\n"
     ]
    },
    {
     "name": "stdout",
     "output_type": "stream",
     "text": [
      "\u001b[94m [ pruning tries... ]\u001b[0m\n",
      "\u001b[94m [ finished --time: 8.6s ]\u001b[0m\n",
      "\u001b[94m [ about to start updating values... ]\u001b[0m\n",
      "\u001b[94m [ caching lv values ]\u001b[0m\n",
      "\u001b[94m    [ lv values for 0 (neg) ]\u001b[0m\n",
      "\u001b[94m    [ lv values for 1 (pos) ]\u001b[0m\n",
      "\u001b[94m [ caching sg values ]\u001b[0m\n",
      "\u001b[94m    [ sg values for 0 (neg) ]\u001b[0m\n",
      "\u001b[94m    [ sg values for 1 (pos) ]\u001b[0m\n",
      "\u001b[94m[ caching gv values ]\u001b[0m\n",
      "\u001b[94m    [ gv values for 0 (neg) ]\u001b[0m\n",
      "\u001b[94m    [ gv values for 1 (pos) ]\u001b[0m\n",
      "\u001b[94m [ updating max gv values ]\u001b[0m\n",
      "\u001b[94m    [ max gv values for 0 (neg) ]\u001b[0m\n",
      "\u001b[94m    [ max gv values for 1 (pos) ]\u001b[0m\n",
      "\u001b[94m [ max gv values have been updated ]\u001b[0m\n",
      "\u001b[94m [ caching confidence values (cvs) ]\u001b[0m\n",
      "\u001b[94m    [ cvs for 0 (neg) ]\u001b[0m\n",
      "\u001b[94m    [ cvs for 1 (pos) ]\u001b[0m\n"
     ]
    },
    {
     "name": "stderr",
     "output_type": "stream",
     "text": [
      " Classification:   2%|▏         | 8/402 [00:00<00:05, 67.75it/s]"
     ]
    },
    {
     "name": "stdout",
     "output_type": "stream",
     "text": [
      "\u001b[94m [ finished --time: 3.3s ]\u001b[0m\n",
      "\u001b[94m [ default category was automatically set to 'pos' (the most probable one) ]\u001b[0m\n",
      "\u001b[94m [ about to start classifying test documents ]\u001b[0m\n"
     ]
    },
    {
     "name": "stderr",
     "output_type": "stream",
     "text": [
      " Classification: 100%|██████████| 402/402 [00:07<00:00, 54.68it/s]\n",
      " Training:   0%|          | 0/2 [00:00<?, ?it/s]"
     ]
    },
    {
     "name": "stdout",
     "output_type": "stream",
     "text": [
      "\u001b[94m [ finished --time: 7.4s ]\u001b[0m\n",
      "\u001b[94m [ about to start training ]\u001b[0m\n"
     ]
    },
    {
     "name": "stderr",
     "output_type": "stream",
     "text": [
      " Training: 100%|██████████| 2/2 [00:07<00:00,  3.33s/it]\n"
     ]
    },
    {
     "name": "stdout",
     "output_type": "stream",
     "text": [
      "\u001b[94m [ pruning tries... ]\u001b[0m\n",
      "\u001b[94m [ finished --time: 7.8s ]\u001b[0m\n",
      "\u001b[94m [ about to start updating values... ]\u001b[0m\n",
      "\u001b[94m [ caching lv values ]\u001b[0m\n",
      "\u001b[94m    [ lv values for 0 (neg) ]\u001b[0m\n",
      "\u001b[94m    [ lv values for 1 (pos) ]\u001b[0m\n",
      "\u001b[94m [ caching sg values ]\u001b[0m\n",
      "\u001b[94m    [ sg values for 0 (neg) ]\u001b[0m\n",
      "\u001b[94m    [ sg values for 1 (pos) ]\u001b[0m\n",
      "\u001b[94m[ caching gv values ]\u001b[0m\n",
      "\u001b[94m    [ gv values for 0 (neg) ]\u001b[0m\n",
      "\u001b[94m    [ gv values for 1 (pos) ]\u001b[0m\n",
      "\u001b[94m [ updating max gv values ]\u001b[0m\n",
      "\u001b[94m    [ max gv values for 0 (neg) ]\u001b[0m\n",
      "\u001b[94m    [ max gv values for 1 (pos) ]\u001b[0m\n",
      "\u001b[94m [ max gv values have been updated ]\u001b[0m\n",
      "\u001b[94m [ caching confidence values (cvs) ]\u001b[0m\n",
      "\u001b[94m    [ cvs for 0 (neg) ]\u001b[0m\n",
      "\u001b[94m    [ cvs for 1 (pos) ]\u001b[0m\n"
     ]
    },
    {
     "name": "stderr",
     "output_type": "stream",
     "text": [
      " Classification:   2%|▏         | 9/402 [00:00<00:04, 81.61it/s]"
     ]
    },
    {
     "name": "stdout",
     "output_type": "stream",
     "text": [
      "\u001b[94m [ finished --time: 3.2s ]\u001b[0m\n",
      "\u001b[94m [ default category was automatically set to 'pos' (the most probable one) ]\u001b[0m\n",
      "\u001b[94m [ about to start classifying test documents ]\u001b[0m\n"
     ]
    },
    {
     "name": "stderr",
     "output_type": "stream",
     "text": [
      " Classification: 100%|██████████| 402/402 [00:07<00:00, 53.86it/s]\n",
      " Training:   0%|          | 0/2 [00:00<?, ?it/s]"
     ]
    },
    {
     "name": "stdout",
     "output_type": "stream",
     "text": [
      "\u001b[94m [ finished --time: 7.5s ]\u001b[0m\n",
      "\u001b[94m [ about to start training ]\u001b[0m\n"
     ]
    },
    {
     "name": "stderr",
     "output_type": "stream",
     "text": [
      " Training: 100%|██████████| 2/2 [00:07<00:00,  3.44s/it]\n"
     ]
    },
    {
     "name": "stdout",
     "output_type": "stream",
     "text": [
      "\u001b[94m [ pruning tries... ]\u001b[0m\n",
      "\u001b[94m [ finished --time: 8.2s ]\u001b[0m\n",
      "\u001b[94m [ about to start updating values... ]\u001b[0m\n",
      "\u001b[94m [ caching lv values ]\u001b[0m\n",
      "\u001b[94m    [ lv values for 0 (neg) ]\u001b[0m\n",
      "\u001b[94m    [ lv values for 1 (pos) ]\u001b[0m\n",
      "\u001b[94m [ caching sg values ]\u001b[0m\n",
      "\u001b[94m    [ sg values for 0 (neg) ]\u001b[0m\n",
      "\u001b[94m    [ sg values for 1 (pos) ]\u001b[0m\n",
      "\u001b[94m[ caching gv values ]\u001b[0m\n",
      "\u001b[94m    [ gv values for 0 (neg) ]\u001b[0m\n",
      "\u001b[94m    [ gv values for 1 (pos) ]\u001b[0m\n",
      "\u001b[94m [ updating max gv values ]\u001b[0m\n",
      "\u001b[94m    [ max gv values for 0 (neg) ]\u001b[0m\n",
      "\u001b[94m    [ max gv values for 1 (pos) ]\u001b[0m\n",
      "\u001b[94m [ max gv values have been updated ]\u001b[0m\n",
      "\u001b[94m [ caching confidence values (cvs) ]\u001b[0m\n",
      "\u001b[94m    [ cvs for 0 (neg) ]\u001b[0m\n",
      "\u001b[94m    [ cvs for 1 (pos) ]\u001b[0m\n"
     ]
    },
    {
     "name": "stderr",
     "output_type": "stream",
     "text": [
      " Classification:   2%|▏         | 8/402 [00:00<00:05, 77.18it/s]"
     ]
    },
    {
     "name": "stdout",
     "output_type": "stream",
     "text": [
      "\u001b[94m [ finished --time: 3.3s ]\u001b[0m\n",
      "\u001b[94m [ default category was automatically set to 'pos' (the most probable one) ]\u001b[0m\n",
      "\u001b[94m [ about to start classifying test documents ]\u001b[0m\n"
     ]
    },
    {
     "name": "stderr",
     "output_type": "stream",
     "text": [
      " Classification: 100%|██████████| 402/402 [00:07<00:00, 53.47it/s]\n",
      " Training:   0%|          | 0/2 [00:00<?, ?it/s]"
     ]
    },
    {
     "name": "stdout",
     "output_type": "stream",
     "text": [
      "\u001b[94m [ finished --time: 7.5s ]\u001b[0m\n",
      "\u001b[94m [ about to start training ]\u001b[0m\n"
     ]
    },
    {
     "name": "stderr",
     "output_type": "stream",
     "text": [
      " Training: 100%|██████████| 2/2 [00:06<00:00,  3.14s/it]\n"
     ]
    },
    {
     "name": "stdout",
     "output_type": "stream",
     "text": [
      "\u001b[94m [ pruning tries... ]\u001b[0m\n",
      "\u001b[94m [ finished --time: 7.7s ]\u001b[0m\n",
      "\u001b[94m [ about to start updating values... ]\u001b[0m\n",
      "\u001b[94m [ caching lv values ]\u001b[0m\n",
      "\u001b[94m    [ lv values for 0 (neg) ]\u001b[0m\n",
      "\u001b[94m    [ lv values for 1 (pos) ]\u001b[0m\n",
      "\u001b[94m [ caching sg values ]\u001b[0m\n",
      "\u001b[94m    [ sg values for 0 (neg) ]\u001b[0m\n",
      "\u001b[94m    [ sg values for 1 (pos) ]\u001b[0m\n",
      "\u001b[94m[ caching gv values ]\u001b[0m\n",
      "\u001b[94m    [ gv values for 0 (neg) ]\u001b[0m\n",
      "\u001b[94m    [ gv values for 1 (pos) ]\u001b[0m\n",
      "\u001b[94m [ updating max gv values ]\u001b[0m\n",
      "\u001b[94m    [ max gv values for 0 (neg) ]\u001b[0m\n",
      "\u001b[94m    [ max gv values for 1 (pos) ]\u001b[0m\n",
      "\u001b[94m [ max gv values have been updated ]\u001b[0m\n",
      "\u001b[94m [ caching confidence values (cvs) ]\u001b[0m\n",
      "\u001b[94m    [ cvs for 0 (neg) ]\u001b[0m\n",
      "\u001b[94m    [ cvs for 1 (pos) ]\u001b[0m\n"
     ]
    },
    {
     "name": "stderr",
     "output_type": "stream",
     "text": [
      " Classification:   2%|▏         | 9/402 [00:00<00:04, 80.66it/s]"
     ]
    },
    {
     "name": "stdout",
     "output_type": "stream",
     "text": [
      "\u001b[94m [ finished --time: 3.2s ]\u001b[0m\n",
      "\u001b[94m [ default category was automatically set to 'pos' (the most probable one) ]\u001b[0m\n",
      "\u001b[94m [ about to start classifying test documents ]\u001b[0m\n"
     ]
    },
    {
     "name": "stderr",
     "output_type": "stream",
     "text": [
      " Classification: 100%|██████████| 402/402 [00:07<00:00, 54.42it/s]\n",
      " Training:   0%|          | 0/2 [00:00<?, ?it/s]"
     ]
    },
    {
     "name": "stdout",
     "output_type": "stream",
     "text": [
      "\u001b[94m [ finished --time: 7.4s ]\u001b[0m\n",
      "\u001b[94m [ about to start training ]\u001b[0m\n"
     ]
    },
    {
     "name": "stderr",
     "output_type": "stream",
     "text": [
      " Training: 100%|██████████| 2/2 [00:06<00:00,  3.16s/it]\n"
     ]
    },
    {
     "name": "stdout",
     "output_type": "stream",
     "text": [
      "\u001b[94m [ pruning tries... ]\u001b[0m\n",
      "\u001b[94m [ finished --time: 7.6s ]\u001b[0m\n",
      "\u001b[94m [ about to start updating values... ]\u001b[0m\n",
      "\u001b[94m [ caching lv values ]\u001b[0m\n",
      "\u001b[94m    [ lv values for 0 (neg) ]\u001b[0m\n",
      "\u001b[94m    [ lv values for 1 (pos) ]\u001b[0m\n",
      "\u001b[94m [ caching sg values ]\u001b[0m\n",
      "\u001b[94m    [ sg values for 0 (neg) ]\u001b[0m\n",
      "\u001b[94m    [ sg values for 1 (pos) ]\u001b[0m\n",
      "\u001b[94m[ caching gv values ]\u001b[0m\n",
      "\u001b[94m    [ gv values for 0 (neg) ]\u001b[0m\n",
      "\u001b[94m    [ gv values for 1 (pos) ]\u001b[0m\n",
      "\u001b[94m [ updating max gv values ]\u001b[0m\n",
      "\u001b[94m    [ max gv values for 0 (neg) ]\u001b[0m\n",
      "\u001b[94m    [ max gv values for 1 (pos) ]\u001b[0m\n",
      "\u001b[94m [ max gv values have been updated ]\u001b[0m\n",
      "\u001b[94m [ caching confidence values (cvs) ]\u001b[0m\n",
      "\u001b[94m    [ cvs for 0 (neg) ]\u001b[0m\n",
      "\u001b[94m    [ cvs for 1 (pos) ]\u001b[0m\n"
     ]
    },
    {
     "name": "stderr",
     "output_type": "stream",
     "text": [
      " Classification:   2%|▏         | 9/402 [00:00<00:04, 82.06it/s]"
     ]
    },
    {
     "name": "stdout",
     "output_type": "stream",
     "text": [
      "\u001b[94m [ finished --time: 3.3s ]\u001b[0m\n",
      "\u001b[94m [ default category was automatically set to 'pos' (the most probable one) ]\u001b[0m\n",
      "\u001b[94m [ about to start classifying test documents ]\u001b[0m\n"
     ]
    },
    {
     "name": "stderr",
     "output_type": "stream",
     "text": [
      " Classification: 100%|██████████| 402/402 [00:07<00:00, 54.61it/s]\n",
      " Training:   0%|          | 0/2 [00:00<?, ?it/s]"
     ]
    },
    {
     "name": "stdout",
     "output_type": "stream",
     "text": [
      "\u001b[94m [ finished --time: 7.4s ]\u001b[0m\n",
      "\u001b[94m [ about to start training ]\u001b[0m\n"
     ]
    },
    {
     "name": "stderr",
     "output_type": "stream",
     "text": [
      " Training: 100%|██████████| 2/2 [00:07<00:00,  3.54s/it]\n"
     ]
    },
    {
     "name": "stdout",
     "output_type": "stream",
     "text": [
      "\u001b[94m [ pruning tries... ]\u001b[0m\n",
      "\u001b[94m [ finished --time: 8.4s ]\u001b[0m\n",
      "\u001b[94m [ about to start updating values... ]\u001b[0m\n",
      "\u001b[94m [ caching lv values ]\u001b[0m\n",
      "\u001b[94m    [ lv values for 0 (neg) ]\u001b[0m\n",
      "\u001b[94m    [ lv values for 1 (pos) ]\u001b[0m\n",
      "\u001b[94m [ caching sg values ]\u001b[0m\n",
      "\u001b[94m    [ sg values for 0 (neg) ]\u001b[0m\n",
      "\u001b[94m    [ sg values for 1 (pos) ]\u001b[0m\n",
      "\u001b[94m[ caching gv values ]\u001b[0m\n",
      "\u001b[94m    [ gv values for 0 (neg) ]\u001b[0m\n",
      "\u001b[94m    [ gv values for 1 (pos) ]\u001b[0m\n",
      "\u001b[94m [ updating max gv values ]\u001b[0m\n",
      "\u001b[94m    [ max gv values for 0 (neg) ]\u001b[0m\n",
      "\u001b[94m    [ max gv values for 1 (pos) ]\u001b[0m\n",
      "\u001b[94m [ max gv values have been updated ]\u001b[0m\n",
      "\u001b[94m [ caching confidence values (cvs) ]\u001b[0m\n",
      "\u001b[94m    [ cvs for 0 (neg) ]\u001b[0m\n",
      "\u001b[94m    [ cvs for 1 (pos) ]\u001b[0m\n"
     ]
    },
    {
     "name": "stderr",
     "output_type": "stream",
     "text": [
      " Classification:   2%|▏         | 8/402 [00:00<00:05, 71.81it/s]"
     ]
    },
    {
     "name": "stdout",
     "output_type": "stream",
     "text": [
      "\u001b[94m [ finished --time: 3.2s ]\u001b[0m\n",
      "\u001b[94m [ default category was automatically set to 'pos' (the most probable one) ]\u001b[0m\n",
      "\u001b[94m [ about to start classifying test documents ]\u001b[0m\n"
     ]
    },
    {
     "name": "stderr",
     "output_type": "stream",
     "text": [
      " Classification: 100%|██████████| 402/402 [00:07<00:00, 57.28it/s]\n",
      " Training:   0%|          | 0/2 [00:00<?, ?it/s]"
     ]
    },
    {
     "name": "stdout",
     "output_type": "stream",
     "text": [
      "\u001b[94m [ finished --time: 7.0s ]\u001b[0m\n",
      "\u001b[94m [ about to start training ]\u001b[0m\n"
     ]
    },
    {
     "name": "stderr",
     "output_type": "stream",
     "text": [
      " Training: 100%|██████████| 2/2 [00:06<00:00,  2.92s/it]\n"
     ]
    },
    {
     "name": "stdout",
     "output_type": "stream",
     "text": [
      "\u001b[94m [ pruning tries... ]\u001b[0m\n",
      "\u001b[94m [ finished --time: 7.5s ]\u001b[0m\n",
      "\u001b[94m [ about to start updating values... ]\u001b[0m\n",
      "\u001b[94m [ caching lv values ]\u001b[0m\n",
      "\u001b[94m    [ lv values for 0 (neg) ]\u001b[0m\n",
      "\u001b[94m    [ lv values for 1 (pos) ]\u001b[0m\n",
      "\u001b[94m [ caching sg values ]\u001b[0m\n",
      "\u001b[94m    [ sg values for 0 (neg) ]\u001b[0m\n",
      "\u001b[94m    [ sg values for 1 (pos) ]\u001b[0m\n",
      "\u001b[94m[ caching gv values ]\u001b[0m\n",
      "\u001b[94m    [ gv values for 0 (neg) ]\u001b[0m\n",
      "\u001b[94m    [ gv values for 1 (pos) ]\u001b[0m\n",
      "\u001b[94m [ updating max gv values ]\u001b[0m\n",
      "\u001b[94m    [ max gv values for 0 (neg) ]\u001b[0m\n",
      "\u001b[94m    [ max gv values for 1 (pos) ]\u001b[0m\n",
      "\u001b[94m [ max gv values have been updated ]\u001b[0m\n",
      "\u001b[94m [ caching confidence values (cvs) ]\u001b[0m\n",
      "\u001b[94m    [ cvs for 0 (neg) ]\u001b[0m\n",
      "\u001b[94m    [ cvs for 1 (pos) ]\u001b[0m\n"
     ]
    },
    {
     "name": "stderr",
     "output_type": "stream",
     "text": [
      " Classification:   2%|▏         | 9/402 [00:00<00:04, 84.36it/s]"
     ]
    },
    {
     "name": "stdout",
     "output_type": "stream",
     "text": [
      "\u001b[94m [ finished --time: 3.2s ]\u001b[0m\n",
      "\u001b[94m [ default category was automatically set to 'pos' (the most probable one) ]\u001b[0m\n",
      "\u001b[94m [ about to start classifying test documents ]\u001b[0m\n"
     ]
    },
    {
     "name": "stderr",
     "output_type": "stream",
     "text": [
      " Classification: 100%|██████████| 402/402 [00:06<00:00, 57.69it/s]\n",
      " Training:   0%|          | 0/2 [00:00<?, ?it/s]"
     ]
    },
    {
     "name": "stdout",
     "output_type": "stream",
     "text": [
      "\u001b[94m [ finished --time: 7.0s ]\u001b[0m\n",
      "\u001b[94m [ about to start training ]\u001b[0m\n"
     ]
    },
    {
     "name": "stderr",
     "output_type": "stream",
     "text": [
      " Training: 100%|██████████| 2/2 [00:06<00:00,  3.06s/it]\n"
     ]
    },
    {
     "name": "stdout",
     "output_type": "stream",
     "text": [
      "\u001b[94m [ pruning tries... ]\u001b[0m\n",
      "\u001b[94m [ finished --time: 7.4s ]\u001b[0m\n",
      "\u001b[94m [ about to start updating values... ]\u001b[0m\n",
      "\u001b[94m [ caching lv values ]\u001b[0m\n",
      "\u001b[94m    [ lv values for 0 (neg) ]\u001b[0m\n",
      "\u001b[94m    [ lv values for 1 (pos) ]\u001b[0m\n",
      "\u001b[94m [ caching sg values ]\u001b[0m\n",
      "\u001b[94m    [ sg values for 0 (neg) ]\u001b[0m\n",
      "\u001b[94m    [ sg values for 1 (pos) ]\u001b[0m\n",
      "\u001b[94m[ caching gv values ]\u001b[0m\n",
      "\u001b[94m    [ gv values for 0 (neg) ]\u001b[0m\n",
      "\u001b[94m    [ gv values for 1 (pos) ]\u001b[0m\n",
      "\u001b[94m [ updating max gv values ]\u001b[0m\n",
      "\u001b[94m    [ max gv values for 0 (neg) ]\u001b[0m\n",
      "\u001b[94m    [ max gv values for 1 (pos) ]\u001b[0m\n",
      "\u001b[94m [ max gv values have been updated ]\u001b[0m\n",
      "\u001b[94m [ caching confidence values (cvs) ]\u001b[0m\n",
      "\u001b[94m    [ cvs for 0 (neg) ]\u001b[0m\n",
      "\u001b[94m    [ cvs for 1 (pos) ]\u001b[0m\n"
     ]
    },
    {
     "name": "stderr",
     "output_type": "stream",
     "text": [
      " Classification:   2%|▏         | 9/402 [00:00<00:04, 83.32it/s]"
     ]
    },
    {
     "name": "stdout",
     "output_type": "stream",
     "text": [
      "\u001b[94m [ finished --time: 3.2s ]\u001b[0m\n",
      "\u001b[94m [ default category was automatically set to 'pos' (the most probable one) ]\u001b[0m\n",
      "\u001b[94m [ about to start classifying test documents ]\u001b[0m\n"
     ]
    },
    {
     "name": "stderr",
     "output_type": "stream",
     "text": [
      " Classification: 100%|██████████| 402/402 [00:07<00:00, 57.06it/s]\n",
      " Training:   0%|          | 0/2 [00:00<?, ?it/s]"
     ]
    },
    {
     "name": "stdout",
     "output_type": "stream",
     "text": [
      "\u001b[94m [ finished --time: 7.0s ]\u001b[0m\n",
      "\u001b[94m [ about to start training ]\u001b[0m\n"
     ]
    },
    {
     "name": "stderr",
     "output_type": "stream",
     "text": [
      " Training: 100%|██████████| 2/2 [00:06<00:00,  3.04s/it]\n"
     ]
    },
    {
     "name": "stdout",
     "output_type": "stream",
     "text": [
      "\u001b[94m [ pruning tries... ]\u001b[0m\n",
      "\u001b[94m [ finished --time: 7.4s ]\u001b[0m\n",
      "\u001b[94m [ about to start updating values... ]\u001b[0m\n",
      "\u001b[94m [ caching lv values ]\u001b[0m\n",
      "\u001b[94m    [ lv values for 0 (neg) ]\u001b[0m\n",
      "\u001b[94m    [ lv values for 1 (pos) ]\u001b[0m\n",
      "\u001b[94m [ caching sg values ]\u001b[0m\n",
      "\u001b[94m    [ sg values for 0 (neg) ]\u001b[0m\n",
      "\u001b[94m    [ sg values for 1 (pos) ]\u001b[0m\n",
      "\u001b[94m[ caching gv values ]\u001b[0m\n",
      "\u001b[94m    [ gv values for 0 (neg) ]\u001b[0m\n",
      "\u001b[94m    [ gv values for 1 (pos) ]\u001b[0m\n",
      "\u001b[94m [ updating max gv values ]\u001b[0m\n",
      "\u001b[94m    [ max gv values for 0 (neg) ]\u001b[0m\n",
      "\u001b[94m    [ max gv values for 1 (pos) ]\u001b[0m\n",
      "\u001b[94m [ max gv values have been updated ]\u001b[0m\n",
      "\u001b[94m [ caching confidence values (cvs) ]\u001b[0m\n",
      "\u001b[94m    [ cvs for 0 (neg) ]\u001b[0m\n",
      "\u001b[94m    [ cvs for 1 (pos) ]\u001b[0m\n"
     ]
    },
    {
     "name": "stderr",
     "output_type": "stream",
     "text": [
      " Classification:   2%|▏         | 9/402 [00:00<00:04, 81.35it/s]"
     ]
    },
    {
     "name": "stdout",
     "output_type": "stream",
     "text": [
      "\u001b[94m [ finished --time: 3.2s ]\u001b[0m\n",
      "\u001b[94m [ default category was automatically set to 'pos' (the most probable one) ]\u001b[0m\n",
      "\u001b[94m [ about to start classifying test documents ]\u001b[0m\n"
     ]
    },
    {
     "name": "stderr",
     "output_type": "stream",
     "text": [
      " Classification: 100%|██████████| 402/402 [00:07<00:00, 57.18it/s]\n",
      " Training:   0%|          | 0/2 [00:00<?, ?it/s]"
     ]
    },
    {
     "name": "stdout",
     "output_type": "stream",
     "text": [
      "\u001b[94m [ finished --time: 7.0s ]\u001b[0m\n",
      "\u001b[94m [ about to start training ]\u001b[0m\n"
     ]
    },
    {
     "name": "stderr",
     "output_type": "stream",
     "text": [
      " Training: 100%|██████████| 2/2 [00:06<00:00,  3.00s/it]\n"
     ]
    },
    {
     "name": "stdout",
     "output_type": "stream",
     "text": [
      "\u001b[94m [ pruning tries... ]\u001b[0m\n",
      "\u001b[94m [ finished --time: 7.3s ]\u001b[0m\n",
      "\u001b[94m [ about to start updating values... ]\u001b[0m\n",
      "\u001b[94m [ caching lv values ]\u001b[0m\n",
      "\u001b[94m    [ lv values for 0 (neg) ]\u001b[0m\n",
      "\u001b[94m    [ lv values for 1 (pos) ]\u001b[0m\n",
      "\u001b[94m [ caching sg values ]\u001b[0m\n",
      "\u001b[94m    [ sg values for 0 (neg) ]\u001b[0m\n",
      "\u001b[94m    [ sg values for 1 (pos) ]\u001b[0m\n",
      "\u001b[94m[ caching gv values ]\u001b[0m\n",
      "\u001b[94m    [ gv values for 0 (neg) ]\u001b[0m\n",
      "\u001b[94m    [ gv values for 1 (pos) ]\u001b[0m\n",
      "\u001b[94m [ updating max gv values ]\u001b[0m\n",
      "\u001b[94m    [ max gv values for 0 (neg) ]\u001b[0m\n",
      "\u001b[94m    [ max gv values for 1 (pos) ]\u001b[0m\n",
      "\u001b[94m [ max gv values have been updated ]\u001b[0m\n",
      "\u001b[94m [ caching confidence values (cvs) ]\u001b[0m\n",
      "\u001b[94m    [ cvs for 0 (neg) ]\u001b[0m\n",
      "\u001b[94m    [ cvs for 1 (pos) ]\u001b[0m\n"
     ]
    },
    {
     "name": "stderr",
     "output_type": "stream",
     "text": [
      " Classification:   2%|▏         | 9/402 [00:00<00:04, 85.28it/s]"
     ]
    },
    {
     "name": "stdout",
     "output_type": "stream",
     "text": [
      "\u001b[94m [ finished --time: 3.2s ]\u001b[0m\n",
      "\u001b[94m [ default category was automatically set to 'pos' (the most probable one) ]\u001b[0m\n",
      "\u001b[94m [ about to start classifying test documents ]\u001b[0m\n"
     ]
    },
    {
     "name": "stderr",
     "output_type": "stream",
     "text": [
      " Classification: 100%|██████████| 402/402 [00:07<00:00, 56.88it/s]\n",
      " Training:   0%|          | 0/2 [00:00<?, ?it/s]"
     ]
    },
    {
     "name": "stdout",
     "output_type": "stream",
     "text": [
      "\u001b[94m [ finished --time: 7.1s ]\u001b[0m\n",
      "\u001b[94m [ about to start training ]\u001b[0m\n"
     ]
    },
    {
     "name": "stderr",
     "output_type": "stream",
     "text": [
      " Training: 100%|██████████| 2/2 [00:06<00:00,  3.23s/it]\n"
     ]
    },
    {
     "name": "stdout",
     "output_type": "stream",
     "text": [
      "\u001b[94m [ pruning tries... ]\u001b[0m\n",
      "\u001b[94m [ finished --time: 7.6s ]\u001b[0m\n",
      "\u001b[94m [ about to start updating values... ]\u001b[0m\n",
      "\u001b[94m [ caching lv values ]\u001b[0m\n",
      "\u001b[94m    [ lv values for 0 (neg) ]\u001b[0m\n",
      "\u001b[94m    [ lv values for 1 (pos) ]\u001b[0m\n",
      "\u001b[94m [ caching sg values ]\u001b[0m\n",
      "\u001b[94m    [ sg values for 0 (neg) ]\u001b[0m\n",
      "\u001b[94m    [ sg values for 1 (pos) ]\u001b[0m\n",
      "\u001b[94m[ caching gv values ]\u001b[0m\n",
      "\u001b[94m    [ gv values for 0 (neg) ]\u001b[0m\n",
      "\u001b[94m    [ gv values for 1 (pos) ]\u001b[0m\n",
      "\u001b[94m [ updating max gv values ]\u001b[0m\n",
      "\u001b[94m    [ max gv values for 0 (neg) ]\u001b[0m\n",
      "\u001b[94m    [ max gv values for 1 (pos) ]\u001b[0m\n",
      "\u001b[94m [ max gv values have been updated ]\u001b[0m\n",
      "\u001b[94m [ caching confidence values (cvs) ]\u001b[0m\n",
      "\u001b[94m    [ cvs for 0 (neg) ]\u001b[0m\n",
      "\u001b[94m    [ cvs for 1 (pos) ]\u001b[0m\n"
     ]
    },
    {
     "name": "stderr",
     "output_type": "stream",
     "text": [
      " Classification:   2%|▏         | 9/402 [00:00<00:04, 83.82it/s]"
     ]
    },
    {
     "name": "stdout",
     "output_type": "stream",
     "text": [
      "\u001b[94m [ finished --time: 3.2s ]\u001b[0m\n",
      "\u001b[94m [ default category was automatically set to 'pos' (the most probable one) ]\u001b[0m\n",
      "\u001b[94m [ about to start classifying test documents ]\u001b[0m\n"
     ]
    },
    {
     "name": "stderr",
     "output_type": "stream",
     "text": [
      " Classification: 100%|██████████| 402/402 [00:06<00:00, 57.67it/s]\n",
      " Training:   0%|          | 0/2 [00:00<?, ?it/s]"
     ]
    },
    {
     "name": "stdout",
     "output_type": "stream",
     "text": [
      "\u001b[94m [ finished --time: 7.0s ]\u001b[0m\n",
      "\u001b[94m [ about to start training ]\u001b[0m\n"
     ]
    },
    {
     "name": "stderr",
     "output_type": "stream",
     "text": [
      " Training: 100%|██████████| 2/2 [00:07<00:00,  3.26s/it]\n"
     ]
    },
    {
     "name": "stdout",
     "output_type": "stream",
     "text": [
      "\u001b[94m [ pruning tries... ]\u001b[0m\n",
      "\u001b[94m [ finished --time: 7.6s ]\u001b[0m\n",
      "\u001b[94m [ about to start updating values... ]\u001b[0m\n",
      "\u001b[94m [ caching lv values ]\u001b[0m\n",
      "\u001b[94m    [ lv values for 0 (neg) ]\u001b[0m\n",
      "\u001b[94m    [ lv values for 1 (pos) ]\u001b[0m\n",
      "\u001b[94m [ caching sg values ]\u001b[0m\n",
      "\u001b[94m    [ sg values for 0 (neg) ]\u001b[0m\n",
      "\u001b[94m    [ sg values for 1 (pos) ]\u001b[0m\n",
      "\u001b[94m[ caching gv values ]\u001b[0m\n",
      "\u001b[94m    [ gv values for 0 (neg) ]\u001b[0m\n",
      "\u001b[94m    [ gv values for 1 (pos) ]\u001b[0m\n",
      "\u001b[94m [ updating max gv values ]\u001b[0m\n",
      "\u001b[94m    [ max gv values for 0 (neg) ]\u001b[0m\n",
      "\u001b[94m    [ max gv values for 1 (pos) ]\u001b[0m\n",
      "\u001b[94m [ max gv values have been updated ]\u001b[0m\n",
      "\u001b[94m [ caching confidence values (cvs) ]\u001b[0m\n",
      "\u001b[94m    [ cvs for 0 (neg) ]\u001b[0m\n",
      "\u001b[94m    [ cvs for 1 (pos) ]\u001b[0m\n"
     ]
    },
    {
     "name": "stderr",
     "output_type": "stream",
     "text": [
      " Classification:   2%|▏         | 9/402 [00:00<00:04, 80.99it/s]"
     ]
    },
    {
     "name": "stdout",
     "output_type": "stream",
     "text": [
      "\u001b[94m [ finished --time: 3.2s ]\u001b[0m\n",
      "\u001b[94m [ default category was automatically set to 'pos' (the most probable one) ]\u001b[0m\n",
      "\u001b[94m [ about to start classifying test documents ]\u001b[0m\n"
     ]
    },
    {
     "name": "stderr",
     "output_type": "stream",
     "text": [
      " Classification: 100%|██████████| 402/402 [00:07<00:00, 55.08it/s]\n",
      " Training:   0%|          | 0/2 [00:00<?, ?it/s]"
     ]
    },
    {
     "name": "stdout",
     "output_type": "stream",
     "text": [
      "\u001b[94m [ finished --time: 7.3s ]\u001b[0m\n",
      "\u001b[94m [ about to start training ]\u001b[0m\n"
     ]
    },
    {
     "name": "stderr",
     "output_type": "stream",
     "text": [
      " Training: 100%|██████████| 2/2 [00:07<00:00,  3.27s/it]\n"
     ]
    },
    {
     "name": "stdout",
     "output_type": "stream",
     "text": [
      "\u001b[94m [ pruning tries... ]\u001b[0m\n",
      "\u001b[94m [ finished --time: 7.7s ]\u001b[0m\n",
      "\u001b[94m [ about to start updating values... ]\u001b[0m\n",
      "\u001b[94m [ caching lv values ]\u001b[0m\n",
      "\u001b[94m    [ lv values for 0 (neg) ]\u001b[0m\n",
      "\u001b[94m    [ lv values for 1 (pos) ]\u001b[0m\n",
      "\u001b[94m [ caching sg values ]\u001b[0m\n",
      "\u001b[94m    [ sg values for 0 (neg) ]\u001b[0m\n",
      "\u001b[94m    [ sg values for 1 (pos) ]\u001b[0m\n",
      "\u001b[94m[ caching gv values ]\u001b[0m\n",
      "\u001b[94m    [ gv values for 0 (neg) ]\u001b[0m\n",
      "\u001b[94m    [ gv values for 1 (pos) ]\u001b[0m\n",
      "\u001b[94m [ updating max gv values ]\u001b[0m\n",
      "\u001b[94m    [ max gv values for 0 (neg) ]\u001b[0m\n",
      "\u001b[94m    [ max gv values for 1 (pos) ]\u001b[0m\n",
      "\u001b[94m [ max gv values have been updated ]\u001b[0m\n",
      "\u001b[94m [ caching confidence values (cvs) ]\u001b[0m\n",
      "\u001b[94m    [ cvs for 0 (neg) ]\u001b[0m\n",
      "\u001b[94m    [ cvs for 1 (pos) ]\u001b[0m\n"
     ]
    },
    {
     "name": "stderr",
     "output_type": "stream",
     "text": [
      " Classification:   2%|▏         | 9/402 [00:00<00:04, 82.14it/s]"
     ]
    },
    {
     "name": "stdout",
     "output_type": "stream",
     "text": [
      "\u001b[94m [ finished --time: 3.2s ]\u001b[0m\n",
      "\u001b[94m [ default category was automatically set to 'pos' (the most probable one) ]\u001b[0m\n",
      "\u001b[94m [ about to start classifying test documents ]\u001b[0m\n"
     ]
    },
    {
     "name": "stderr",
     "output_type": "stream",
     "text": [
      " Classification: 100%|██████████| 402/402 [00:06<00:00, 57.95it/s]\n",
      " Training:   0%|          | 0/2 [00:00<?, ?it/s]"
     ]
    },
    {
     "name": "stdout",
     "output_type": "stream",
     "text": [
      "\u001b[94m [ finished --time: 6.9s ]\u001b[0m\n",
      "\u001b[94m [ about to start training ]\u001b[0m\n"
     ]
    },
    {
     "name": "stderr",
     "output_type": "stream",
     "text": [
      " Training: 100%|██████████| 2/2 [00:06<00:00,  3.02s/it]\n"
     ]
    },
    {
     "name": "stdout",
     "output_type": "stream",
     "text": [
      "\u001b[94m [ pruning tries... ]\u001b[0m\n",
      "\u001b[94m [ finished --time: 7.3s ]\u001b[0m\n",
      "\u001b[94m [ about to start updating values... ]\u001b[0m\n",
      "\u001b[94m [ caching lv values ]\u001b[0m\n",
      "\u001b[94m    [ lv values for 0 (neg) ]\u001b[0m\n",
      "\u001b[94m    [ lv values for 1 (pos) ]\u001b[0m\n",
      "\u001b[94m [ caching sg values ]\u001b[0m\n",
      "\u001b[94m    [ sg values for 0 (neg) ]\u001b[0m\n",
      "\u001b[94m    [ sg values for 1 (pos) ]\u001b[0m\n",
      "\u001b[94m[ caching gv values ]\u001b[0m\n",
      "\u001b[94m    [ gv values for 0 (neg) ]\u001b[0m\n",
      "\u001b[94m    [ gv values for 1 (pos) ]\u001b[0m\n",
      "\u001b[94m [ updating max gv values ]\u001b[0m\n",
      "\u001b[94m    [ max gv values for 0 (neg) ]\u001b[0m\n",
      "\u001b[94m    [ max gv values for 1 (pos) ]\u001b[0m\n",
      "\u001b[94m [ max gv values have been updated ]\u001b[0m\n",
      "\u001b[94m [ caching confidence values (cvs) ]\u001b[0m\n",
      "\u001b[94m    [ cvs for 0 (neg) ]\u001b[0m\n",
      "\u001b[94m    [ cvs for 1 (pos) ]\u001b[0m\n"
     ]
    },
    {
     "name": "stderr",
     "output_type": "stream",
     "text": [
      " Classification:   2%|▏         | 8/402 [00:00<00:05, 71.00it/s]"
     ]
    },
    {
     "name": "stdout",
     "output_type": "stream",
     "text": [
      "\u001b[94m [ finished --time: 3.2s ]\u001b[0m\n",
      "\u001b[94m [ default category was automatically set to 'pos' (the most probable one) ]\u001b[0m\n",
      "\u001b[94m [ about to start classifying test documents ]\u001b[0m\n"
     ]
    },
    {
     "name": "stderr",
     "output_type": "stream",
     "text": [
      " Classification: 100%|██████████| 402/402 [00:06<00:00, 60.88it/s]\n",
      " Training:   0%|          | 0/2 [00:00<?, ?it/s]"
     ]
    },
    {
     "name": "stdout",
     "output_type": "stream",
     "text": [
      "\u001b[94m [ finished --time: 7.0s ]\u001b[0m\n",
      "\u001b[94m [ about to start training ]\u001b[0m\n"
     ]
    },
    {
     "name": "stderr",
     "output_type": "stream",
     "text": [
      " Training: 100%|██████████| 2/2 [00:07<00:00,  3.54s/it]\n"
     ]
    },
    {
     "name": "stdout",
     "output_type": "stream",
     "text": [
      "\u001b[94m [ pruning tries... ]\u001b[0m\n",
      "\u001b[94m [ finished --time: 8.1s ]\u001b[0m\n",
      "\u001b[94m [ about to start updating values... ]\u001b[0m\n",
      "\u001b[94m [ caching lv values ]\u001b[0m\n",
      "\u001b[94m    [ lv values for 0 (neg) ]\u001b[0m\n",
      "\u001b[94m    [ lv values for 1 (pos) ]\u001b[0m\n",
      "\u001b[94m [ caching sg values ]\u001b[0m\n",
      "\u001b[94m    [ sg values for 0 (neg) ]\u001b[0m\n",
      "\u001b[94m    [ sg values for 1 (pos) ]\u001b[0m\n",
      "\u001b[94m[ caching gv values ]\u001b[0m\n",
      "\u001b[94m    [ gv values for 0 (neg) ]\u001b[0m\n",
      "\u001b[94m    [ gv values for 1 (pos) ]\u001b[0m\n",
      "\u001b[94m [ updating max gv values ]\u001b[0m\n",
      "\u001b[94m    [ max gv values for 0 (neg) ]\u001b[0m\n",
      "\u001b[94m    [ max gv values for 1 (pos) ]\u001b[0m\n",
      "\u001b[94m [ max gv values have been updated ]\u001b[0m\n",
      "\u001b[94m [ caching confidence values (cvs) ]\u001b[0m\n",
      "\u001b[94m    [ cvs for 0 (neg) ]\u001b[0m\n",
      "\u001b[94m    [ cvs for 1 (pos) ]\u001b[0m\n"
     ]
    },
    {
     "name": "stderr",
     "output_type": "stream",
     "text": [
      " Classification:   2%|▏         | 9/402 [00:00<00:04, 82.48it/s]"
     ]
    },
    {
     "name": "stdout",
     "output_type": "stream",
     "text": [
      "\u001b[94m [ finished --time: 3.1s ]\u001b[0m\n",
      "\u001b[94m [ default category was automatically set to 'pos' (the most probable one) ]\u001b[0m\n",
      "\u001b[94m [ about to start classifying test documents ]\u001b[0m\n"
     ]
    },
    {
     "name": "stderr",
     "output_type": "stream",
     "text": [
      " Classification: 100%|██████████| 402/402 [00:06<00:00, 57.90it/s]\n",
      " Training:   0%|          | 0/2 [00:00<?, ?it/s]"
     ]
    },
    {
     "name": "stdout",
     "output_type": "stream",
     "text": [
      "\u001b[94m [ finished --time: 6.9s ]\u001b[0m\n",
      "\u001b[94m [ about to start training ]\u001b[0m\n"
     ]
    },
    {
     "name": "stderr",
     "output_type": "stream",
     "text": [
      " Training: 100%|██████████| 2/2 [00:06<00:00,  3.04s/it]\n"
     ]
    },
    {
     "name": "stdout",
     "output_type": "stream",
     "text": [
      "\u001b[94m [ pruning tries... ]\u001b[0m\n",
      "\u001b[94m [ finished --time: 7.3s ]\u001b[0m\n",
      "\u001b[94m [ about to start updating values... ]\u001b[0m\n",
      "\u001b[94m [ caching lv values ]\u001b[0m\n",
      "\u001b[94m    [ lv values for 0 (neg) ]\u001b[0m\n",
      "\u001b[94m    [ lv values for 1 (pos) ]\u001b[0m\n",
      "\u001b[94m [ caching sg values ]\u001b[0m\n",
      "\u001b[94m    [ sg values for 0 (neg) ]\u001b[0m\n",
      "\u001b[94m    [ sg values for 1 (pos) ]\u001b[0m\n",
      "\u001b[94m[ caching gv values ]\u001b[0m\n",
      "\u001b[94m    [ gv values for 0 (neg) ]\u001b[0m\n",
      "\u001b[94m    [ gv values for 1 (pos) ]\u001b[0m\n",
      "\u001b[94m [ updating max gv values ]\u001b[0m\n",
      "\u001b[94m    [ max gv values for 0 (neg) ]\u001b[0m\n",
      "\u001b[94m    [ max gv values for 1 (pos) ]\u001b[0m\n",
      "\u001b[94m [ max gv values have been updated ]\u001b[0m\n",
      "\u001b[94m [ caching confidence values (cvs) ]\u001b[0m\n",
      "\u001b[94m    [ cvs for 0 (neg) ]\u001b[0m\n",
      "\u001b[94m    [ cvs for 1 (pos) ]\u001b[0m\n"
     ]
    },
    {
     "name": "stderr",
     "output_type": "stream",
     "text": [
      " Classification:   2%|▏         | 9/402 [00:00<00:04, 82.64it/s]"
     ]
    },
    {
     "name": "stdout",
     "output_type": "stream",
     "text": [
      "\u001b[94m [ finished --time: 3.2s ]\u001b[0m\n",
      "\u001b[94m [ default category was automatically set to 'pos' (the most probable one) ]\u001b[0m\n",
      "\u001b[94m [ about to start classifying test documents ]\u001b[0m\n"
     ]
    },
    {
     "name": "stderr",
     "output_type": "stream",
     "text": [
      " Classification: 100%|██████████| 402/402 [00:06<00:00, 57.84it/s]\n",
      " Training:   0%|          | 0/2 [00:00<?, ?it/s]"
     ]
    },
    {
     "name": "stdout",
     "output_type": "stream",
     "text": [
      "\u001b[94m [ finished --time: 7.0s ]\u001b[0m\n",
      "\u001b[94m [ about to start training ]\u001b[0m\n"
     ]
    },
    {
     "name": "stderr",
     "output_type": "stream",
     "text": [
      " Training: 100%|██████████| 2/2 [00:06<00:00,  3.02s/it]\n"
     ]
    },
    {
     "name": "stdout",
     "output_type": "stream",
     "text": [
      "\u001b[94m [ pruning tries... ]\u001b[0m\n",
      "\u001b[94m [ finished --time: 7.4s ]\u001b[0m\n",
      "\u001b[94m [ about to start updating values... ]\u001b[0m\n",
      "\u001b[94m [ caching lv values ]\u001b[0m\n",
      "\u001b[94m    [ lv values for 0 (neg) ]\u001b[0m\n",
      "\u001b[94m    [ lv values for 1 (pos) ]\u001b[0m\n",
      "\u001b[94m [ caching sg values ]\u001b[0m\n",
      "\u001b[94m    [ sg values for 0 (neg) ]\u001b[0m\n",
      "\u001b[94m    [ sg values for 1 (pos) ]\u001b[0m\n",
      "\u001b[94m[ caching gv values ]\u001b[0m\n",
      "\u001b[94m    [ gv values for 0 (neg) ]\u001b[0m\n",
      "\u001b[94m    [ gv values for 1 (pos) ]\u001b[0m\n",
      "\u001b[94m [ updating max gv values ]\u001b[0m\n",
      "\u001b[94m    [ max gv values for 0 (neg) ]\u001b[0m\n",
      "\u001b[94m    [ max gv values for 1 (pos) ]\u001b[0m\n",
      "\u001b[94m [ max gv values have been updated ]\u001b[0m\n",
      "\u001b[94m [ caching confidence values (cvs) ]\u001b[0m\n",
      "\u001b[94m    [ cvs for 0 (neg) ]\u001b[0m\n",
      "\u001b[94m    [ cvs for 1 (pos) ]\u001b[0m\n"
     ]
    },
    {
     "name": "stderr",
     "output_type": "stream",
     "text": [
      " Classification:   2%|▏         | 8/402 [00:00<00:05, 78.54it/s]"
     ]
    },
    {
     "name": "stdout",
     "output_type": "stream",
     "text": [
      "\u001b[94m [ finished --time: 3.3s ]\u001b[0m\n",
      "\u001b[94m [ default category was automatically set to 'pos' (the most probable one) ]\u001b[0m\n",
      "\u001b[94m [ about to start classifying test documents ]\u001b[0m\n"
     ]
    },
    {
     "name": "stderr",
     "output_type": "stream",
     "text": [
      " Classification: 100%|██████████| 402/402 [00:07<00:00, 56.82it/s]\n",
      " Training:   0%|          | 0/2 [00:00<?, ?it/s]"
     ]
    },
    {
     "name": "stdout",
     "output_type": "stream",
     "text": [
      "\u001b[94m [ finished --time: 7.1s ]\u001b[0m\n",
      "\u001b[94m [ about to start training ]\u001b[0m\n"
     ]
    },
    {
     "name": "stderr",
     "output_type": "stream",
     "text": [
      " Training: 100%|██████████| 2/2 [00:06<00:00,  3.18s/it]\n"
     ]
    },
    {
     "name": "stdout",
     "output_type": "stream",
     "text": [
      "\u001b[94m [ pruning tries... ]\u001b[0m\n",
      "\u001b[94m [ finished --time: 7.5s ]\u001b[0m\n",
      "\u001b[94m [ about to start updating values... ]\u001b[0m\n",
      "\u001b[94m [ caching lv values ]\u001b[0m\n",
      "\u001b[94m    [ lv values for 0 (neg) ]\u001b[0m\n",
      "\u001b[94m    [ lv values for 1 (pos) ]\u001b[0m\n",
      "\u001b[94m [ caching sg values ]\u001b[0m\n",
      "\u001b[94m    [ sg values for 0 (neg) ]\u001b[0m\n",
      "\u001b[94m    [ sg values for 1 (pos) ]\u001b[0m\n",
      "\u001b[94m[ caching gv values ]\u001b[0m\n",
      "\u001b[94m    [ gv values for 0 (neg) ]\u001b[0m\n",
      "\u001b[94m    [ gv values for 1 (pos) ]\u001b[0m\n",
      "\u001b[94m [ updating max gv values ]\u001b[0m\n",
      "\u001b[94m    [ max gv values for 0 (neg) ]\u001b[0m\n",
      "\u001b[94m    [ max gv values for 1 (pos) ]\u001b[0m\n",
      "\u001b[94m [ max gv values have been updated ]\u001b[0m\n",
      "\u001b[94m [ caching confidence values (cvs) ]\u001b[0m\n",
      "\u001b[94m    [ cvs for 0 (neg) ]\u001b[0m\n",
      "\u001b[94m    [ cvs for 1 (pos) ]\u001b[0m\n"
     ]
    },
    {
     "name": "stderr",
     "output_type": "stream",
     "text": [
      " Classification:   2%|▏         | 9/402 [00:00<00:04, 81.57it/s]"
     ]
    },
    {
     "name": "stdout",
     "output_type": "stream",
     "text": [
      "\u001b[94m [ finished --time: 3.1s ]\u001b[0m\n",
      "\u001b[94m [ default category was automatically set to 'pos' (the most probable one) ]\u001b[0m\n",
      "\u001b[94m [ about to start classifying test documents ]\u001b[0m\n"
     ]
    },
    {
     "name": "stderr",
     "output_type": "stream",
     "text": [
      " Classification: 100%|██████████| 402/402 [00:06<00:00, 57.48it/s]\n",
      " Training:   0%|          | 0/2 [00:00<?, ?it/s]"
     ]
    },
    {
     "name": "stdout",
     "output_type": "stream",
     "text": [
      "\u001b[94m [ finished --time: 7.0s ]\u001b[0m\n",
      "\u001b[94m [ about to start training ]\u001b[0m\n"
     ]
    },
    {
     "name": "stderr",
     "output_type": "stream",
     "text": [
      " Training: 100%|██████████| 2/2 [00:07<00:00,  3.45s/it]\n"
     ]
    },
    {
     "name": "stdout",
     "output_type": "stream",
     "text": [
      "\u001b[94m [ pruning tries... ]\u001b[0m\n",
      "\u001b[94m [ finished --time: 7.9s ]\u001b[0m\n",
      "\u001b[94m [ about to start updating values... ]\u001b[0m\n",
      "\u001b[94m [ caching lv values ]\u001b[0m\n",
      "\u001b[94m    [ lv values for 0 (neg) ]\u001b[0m\n",
      "\u001b[94m    [ lv values for 1 (pos) ]\u001b[0m\n",
      "\u001b[94m [ caching sg values ]\u001b[0m\n",
      "\u001b[94m    [ sg values for 0 (neg) ]\u001b[0m\n",
      "\u001b[94m    [ sg values for 1 (pos) ]\u001b[0m\n",
      "\u001b[94m[ caching gv values ]\u001b[0m\n",
      "\u001b[94m    [ gv values for 0 (neg) ]\u001b[0m\n",
      "\u001b[94m    [ gv values for 1 (pos) ]\u001b[0m\n",
      "\u001b[94m [ updating max gv values ]\u001b[0m\n",
      "\u001b[94m    [ max gv values for 0 (neg) ]\u001b[0m\n",
      "\u001b[94m    [ max gv values for 1 (pos) ]\u001b[0m\n",
      "\u001b[94m [ max gv values have been updated ]\u001b[0m\n",
      "\u001b[94m [ caching confidence values (cvs) ]\u001b[0m\n",
      "\u001b[94m    [ cvs for 0 (neg) ]\u001b[0m\n",
      "\u001b[94m    [ cvs for 1 (pos) ]\u001b[0m\n"
     ]
    },
    {
     "name": "stderr",
     "output_type": "stream",
     "text": [
      " Classification:   2%|▏         | 9/402 [00:00<00:04, 80.65it/s]"
     ]
    },
    {
     "name": "stdout",
     "output_type": "stream",
     "text": [
      "\u001b[94m [ finished --time: 3.2s ]\u001b[0m\n",
      "\u001b[94m [ default category was automatically set to 'pos' (the most probable one) ]\u001b[0m\n",
      "\u001b[94m [ about to start classifying test documents ]\u001b[0m\n"
     ]
    },
    {
     "name": "stderr",
     "output_type": "stream",
     "text": [
      " Classification: 100%|██████████| 402/402 [00:07<00:00, 57.30it/s]\n",
      " Training:   0%|          | 0/2 [00:00<?, ?it/s]"
     ]
    },
    {
     "name": "stdout",
     "output_type": "stream",
     "text": [
      "\u001b[94m [ finished --time: 7.0s ]\u001b[0m\n",
      "\u001b[94m [ about to start training ]\u001b[0m\n"
     ]
    },
    {
     "name": "stderr",
     "output_type": "stream",
     "text": [
      " Training: 100%|██████████| 2/2 [00:06<00:00,  2.97s/it]\n"
     ]
    },
    {
     "name": "stdout",
     "output_type": "stream",
     "text": [
      "\u001b[94m [ pruning tries... ]\u001b[0m\n",
      "\u001b[94m [ finished --time: 7.2s ]\u001b[0m\n",
      "\u001b[94m [ about to start updating values... ]\u001b[0m\n",
      "\u001b[94m [ caching lv values ]\u001b[0m\n",
      "\u001b[94m    [ lv values for 0 (neg) ]\u001b[0m\n",
      "\u001b[94m    [ lv values for 1 (pos) ]\u001b[0m\n",
      "\u001b[94m [ caching sg values ]\u001b[0m\n",
      "\u001b[94m    [ sg values for 0 (neg) ]\u001b[0m\n",
      "\u001b[94m    [ sg values for 1 (pos) ]\u001b[0m\n",
      "\u001b[94m[ caching gv values ]\u001b[0m\n",
      "\u001b[94m    [ gv values for 0 (neg) ]\u001b[0m\n",
      "\u001b[94m    [ gv values for 1 (pos) ]\u001b[0m\n",
      "\u001b[94m [ updating max gv values ]\u001b[0m\n",
      "\u001b[94m    [ max gv values for 0 (neg) ]\u001b[0m\n",
      "\u001b[94m    [ max gv values for 1 (pos) ]\u001b[0m\n",
      "\u001b[94m [ max gv values have been updated ]\u001b[0m\n",
      "\u001b[94m [ caching confidence values (cvs) ]\u001b[0m\n",
      "\u001b[94m    [ cvs for 0 (neg) ]\u001b[0m\n",
      "\u001b[94m    [ cvs for 1 (pos) ]\u001b[0m\n"
     ]
    },
    {
     "name": "stderr",
     "output_type": "stream",
     "text": [
      " Classification:   2%|▏         | 9/402 [00:00<00:04, 84.01it/s]"
     ]
    },
    {
     "name": "stdout",
     "output_type": "stream",
     "text": [
      "\u001b[94m [ finished --time: 3.3s ]\u001b[0m\n",
      "\u001b[94m [ default category was automatically set to 'pos' (the most probable one) ]\u001b[0m\n",
      "\u001b[94m [ about to start classifying test documents ]\u001b[0m\n"
     ]
    },
    {
     "name": "stderr",
     "output_type": "stream",
     "text": [
      " Classification: 100%|██████████| 402/402 [00:06<00:00, 58.04it/s]\n",
      " Training:   0%|          | 0/2 [00:00<?, ?it/s]"
     ]
    },
    {
     "name": "stdout",
     "output_type": "stream",
     "text": [
      "\u001b[94m [ finished --time: 6.9s ]\u001b[0m\n",
      "\u001b[94m [ about to start training ]\u001b[0m\n"
     ]
    },
    {
     "name": "stderr",
     "output_type": "stream",
     "text": [
      " Training: 100%|██████████| 2/2 [00:07<00:00,  3.39s/it]\n"
     ]
    },
    {
     "name": "stdout",
     "output_type": "stream",
     "text": [
      "\u001b[94m [ pruning tries... ]\u001b[0m\n",
      "\u001b[94m [ finished --time: 8.1s ]\u001b[0m\n",
      "\u001b[94m [ about to start updating values... ]\u001b[0m\n",
      "\u001b[94m [ caching lv values ]\u001b[0m\n",
      "\u001b[94m    [ lv values for 0 (neg) ]\u001b[0m\n",
      "\u001b[94m    [ lv values for 1 (pos) ]\u001b[0m\n",
      "\u001b[94m [ caching sg values ]\u001b[0m\n",
      "\u001b[94m    [ sg values for 0 (neg) ]\u001b[0m\n",
      "\u001b[94m    [ sg values for 1 (pos) ]\u001b[0m\n",
      "\u001b[94m[ caching gv values ]\u001b[0m\n",
      "\u001b[94m    [ gv values for 0 (neg) ]\u001b[0m\n",
      "\u001b[94m    [ gv values for 1 (pos) ]\u001b[0m\n",
      "\u001b[94m [ updating max gv values ]\u001b[0m\n",
      "\u001b[94m    [ max gv values for 0 (neg) ]\u001b[0m\n",
      "\u001b[94m    [ max gv values for 1 (pos) ]\u001b[0m\n",
      "\u001b[94m [ max gv values have been updated ]\u001b[0m\n",
      "\u001b[94m [ caching confidence values (cvs) ]\u001b[0m\n",
      "\u001b[94m    [ cvs for 0 (neg) ]\u001b[0m\n",
      "\u001b[94m    [ cvs for 1 (pos) ]\u001b[0m\n"
     ]
    },
    {
     "name": "stderr",
     "output_type": "stream",
     "text": [
      " Classification:   1%|▏         | 6/402 [00:00<00:07, 56.41it/s]"
     ]
    },
    {
     "name": "stdout",
     "output_type": "stream",
     "text": [
      "\u001b[94m [ finished --time: 3.2s ]\u001b[0m\n",
      "\u001b[94m [ default category was automatically set to 'pos' (the most probable one) ]\u001b[0m\n",
      "\u001b[94m [ about to start classifying test documents ]\u001b[0m\n"
     ]
    },
    {
     "name": "stderr",
     "output_type": "stream",
     "text": [
      " Classification: 100%|██████████| 402/402 [00:07<00:00, 56.84it/s]\n",
      " Training:   0%|          | 0/2 [00:00<?, ?it/s]"
     ]
    },
    {
     "name": "stdout",
     "output_type": "stream",
     "text": [
      "\u001b[94m [ finished --time: 7.1s ]\u001b[0m\n",
      "\u001b[94m [ about to start training ]\u001b[0m\n"
     ]
    },
    {
     "name": "stderr",
     "output_type": "stream",
     "text": [
      " Training: 100%|██████████| 2/2 [00:06<00:00,  2.89s/it]\n"
     ]
    },
    {
     "name": "stdout",
     "output_type": "stream",
     "text": [
      "\u001b[94m [ pruning tries... ]\u001b[0m\n",
      "\u001b[94m [ finished --time: 7.4s ]\u001b[0m\n",
      "\u001b[94m [ about to start updating values... ]\u001b[0m\n",
      "\u001b[94m [ caching lv values ]\u001b[0m\n",
      "\u001b[94m    [ lv values for 0 (neg) ]\u001b[0m\n",
      "\u001b[94m    [ lv values for 1 (pos) ]\u001b[0m\n",
      "\u001b[94m [ caching sg values ]\u001b[0m\n",
      "\u001b[94m    [ sg values for 0 (neg) ]\u001b[0m\n",
      "\u001b[94m    [ sg values for 1 (pos) ]\u001b[0m\n",
      "\u001b[94m[ caching gv values ]\u001b[0m\n",
      "\u001b[94m    [ gv values for 0 (neg) ]\u001b[0m\n",
      "\u001b[94m    [ gv values for 1 (pos) ]\u001b[0m\n",
      "\u001b[94m [ updating max gv values ]\u001b[0m\n",
      "\u001b[94m    [ max gv values for 0 (neg) ]\u001b[0m\n",
      "\u001b[94m    [ max gv values for 1 (pos) ]\u001b[0m\n",
      "\u001b[94m [ max gv values have been updated ]\u001b[0m\n",
      "\u001b[94m [ caching confidence values (cvs) ]\u001b[0m\n",
      "\u001b[94m    [ cvs for 0 (neg) ]\u001b[0m\n",
      "\u001b[94m    [ cvs for 1 (pos) ]\u001b[0m\n"
     ]
    },
    {
     "name": "stderr",
     "output_type": "stream",
     "text": [
      " Classification:   2%|▏         | 9/402 [00:00<00:04, 83.59it/s]"
     ]
    },
    {
     "name": "stdout",
     "output_type": "stream",
     "text": [
      "\u001b[94m [ finished --time: 3.2s ]\u001b[0m\n",
      "\u001b[94m [ default category was automatically set to 'pos' (the most probable one) ]\u001b[0m\n",
      "\u001b[94m [ about to start classifying test documents ]\u001b[0m\n"
     ]
    },
    {
     "name": "stderr",
     "output_type": "stream",
     "text": [
      " Classification: 100%|██████████| 402/402 [00:07<00:00, 57.13it/s]\n",
      " Training:   0%|          | 0/2 [00:00<?, ?it/s]"
     ]
    },
    {
     "name": "stdout",
     "output_type": "stream",
     "text": [
      "\u001b[94m [ finished --time: 7.0s ]\u001b[0m\n",
      "\u001b[94m [ about to start training ]\u001b[0m\n"
     ]
    },
    {
     "name": "stderr",
     "output_type": "stream",
     "text": [
      " Training: 100%|██████████| 2/2 [00:06<00:00,  3.03s/it]\n"
     ]
    },
    {
     "name": "stdout",
     "output_type": "stream",
     "text": [
      "\u001b[94m [ pruning tries... ]\u001b[0m\n",
      "\u001b[94m [ finished --time: 7.3s ]\u001b[0m\n",
      "\u001b[94m [ about to start updating values... ]\u001b[0m\n",
      "\u001b[94m [ caching lv values ]\u001b[0m\n",
      "\u001b[94m    [ lv values for 0 (neg) ]\u001b[0m\n",
      "\u001b[94m    [ lv values for 1 (pos) ]\u001b[0m\n",
      "\u001b[94m [ caching sg values ]\u001b[0m\n",
      "\u001b[94m    [ sg values for 0 (neg) ]\u001b[0m\n",
      "\u001b[94m    [ sg values for 1 (pos) ]\u001b[0m\n",
      "\u001b[94m[ caching gv values ]\u001b[0m\n",
      "\u001b[94m    [ gv values for 0 (neg) ]\u001b[0m\n",
      "\u001b[94m    [ gv values for 1 (pos) ]\u001b[0m\n",
      "\u001b[94m [ updating max gv values ]\u001b[0m\n",
      "\u001b[94m    [ max gv values for 0 (neg) ]\u001b[0m\n",
      "\u001b[94m    [ max gv values for 1 (pos) ]\u001b[0m\n",
      "\u001b[94m [ max gv values have been updated ]\u001b[0m\n",
      "\u001b[94m [ caching confidence values (cvs) ]\u001b[0m\n",
      "\u001b[94m    [ cvs for 0 (neg) ]\u001b[0m\n",
      "\u001b[94m    [ cvs for 1 (pos) ]\u001b[0m\n"
     ]
    },
    {
     "name": "stderr",
     "output_type": "stream",
     "text": [
      " Classification:   2%|▏         | 9/402 [00:00<00:04, 81.04it/s]"
     ]
    },
    {
     "name": "stdout",
     "output_type": "stream",
     "text": [
      "\u001b[94m [ finished --time: 3.2s ]\u001b[0m\n",
      "\u001b[94m [ default category was automatically set to 'pos' (the most probable one) ]\u001b[0m\n",
      "\u001b[94m [ about to start classifying test documents ]\u001b[0m\n"
     ]
    },
    {
     "name": "stderr",
     "output_type": "stream",
     "text": [
      " Classification: 100%|██████████| 402/402 [00:06<00:00, 57.62it/s]\n",
      " Training:   0%|          | 0/2 [00:00<?, ?it/s]"
     ]
    },
    {
     "name": "stdout",
     "output_type": "stream",
     "text": [
      "\u001b[94m [ finished --time: 7.0s ]\u001b[0m\n",
      "\u001b[94m [ about to start training ]\u001b[0m\n"
     ]
    },
    {
     "name": "stderr",
     "output_type": "stream",
     "text": [
      " Training: 100%|██████████| 2/2 [00:06<00:00,  2.98s/it]\n"
     ]
    },
    {
     "name": "stdout",
     "output_type": "stream",
     "text": [
      "\u001b[94m [ pruning tries... ]\u001b[0m\n",
      "\u001b[94m [ finished --time: 7.2s ]\u001b[0m\n",
      "\u001b[94m [ about to start updating values... ]\u001b[0m\n",
      "\u001b[94m [ caching lv values ]\u001b[0m\n",
      "\u001b[94m    [ lv values for 0 (neg) ]\u001b[0m\n",
      "\u001b[94m    [ lv values for 1 (pos) ]\u001b[0m\n",
      "\u001b[94m [ caching sg values ]\u001b[0m\n",
      "\u001b[94m    [ sg values for 0 (neg) ]\u001b[0m\n",
      "\u001b[94m    [ sg values for 1 (pos) ]\u001b[0m\n",
      "\u001b[94m[ caching gv values ]\u001b[0m\n",
      "\u001b[94m    [ gv values for 0 (neg) ]\u001b[0m\n",
      "\u001b[94m    [ gv values for 1 (pos) ]\u001b[0m\n",
      "\u001b[94m [ updating max gv values ]\u001b[0m\n",
      "\u001b[94m    [ max gv values for 0 (neg) ]\u001b[0m\n",
      "\u001b[94m    [ max gv values for 1 (pos) ]\u001b[0m\n",
      "\u001b[94m [ max gv values have been updated ]\u001b[0m\n",
      "\u001b[94m [ caching confidence values (cvs) ]\u001b[0m\n",
      "\u001b[94m    [ cvs for 0 (neg) ]\u001b[0m\n",
      "\u001b[94m    [ cvs for 1 (pos) ]\u001b[0m\n"
     ]
    },
    {
     "name": "stderr",
     "output_type": "stream",
     "text": [
      " Classification:   2%|▏         | 9/402 [00:00<00:04, 83.53it/s]"
     ]
    },
    {
     "name": "stdout",
     "output_type": "stream",
     "text": [
      "\u001b[94m [ finished --time: 3.3s ]\u001b[0m\n",
      "\u001b[94m [ default category was automatically set to 'pos' (the most probable one) ]\u001b[0m\n",
      "\u001b[94m [ about to start classifying test documents ]\u001b[0m\n"
     ]
    },
    {
     "name": "stderr",
     "output_type": "stream",
     "text": [
      " Classification: 100%|██████████| 402/402 [00:06<00:00, 57.93it/s]\n",
      " Training:   0%|          | 0/2 [00:00<?, ?it/s]"
     ]
    },
    {
     "name": "stdout",
     "output_type": "stream",
     "text": [
      "\u001b[94m [ finished --time: 6.9s ]\u001b[0m\n",
      "\u001b[94m [ about to start training ]\u001b[0m\n"
     ]
    },
    {
     "name": "stderr",
     "output_type": "stream",
     "text": [
      " Training: 100%|██████████| 2/2 [00:07<00:00,  3.29s/it]\n"
     ]
    },
    {
     "name": "stdout",
     "output_type": "stream",
     "text": [
      "\u001b[94m [ pruning tries... ]\u001b[0m\n",
      "\u001b[94m [ finished --time: 7.7s ]\u001b[0m\n",
      "\u001b[94m [ about to start updating values... ]\u001b[0m\n",
      "\u001b[94m [ caching lv values ]\u001b[0m\n",
      "\u001b[94m    [ lv values for 0 (neg) ]\u001b[0m\n",
      "\u001b[94m    [ lv values for 1 (pos) ]\u001b[0m\n",
      "\u001b[94m [ caching sg values ]\u001b[0m\n",
      "\u001b[94m    [ sg values for 0 (neg) ]\u001b[0m\n",
      "\u001b[94m    [ sg values for 1 (pos) ]\u001b[0m\n",
      "\u001b[94m[ caching gv values ]\u001b[0m\n",
      "\u001b[94m    [ gv values for 0 (neg) ]\u001b[0m\n",
      "\u001b[94m    [ gv values for 1 (pos) ]\u001b[0m\n",
      "\u001b[94m [ updating max gv values ]\u001b[0m\n",
      "\u001b[94m    [ max gv values for 0 (neg) ]\u001b[0m\n",
      "\u001b[94m    [ max gv values for 1 (pos) ]\u001b[0m\n",
      "\u001b[94m [ max gv values have been updated ]\u001b[0m\n",
      "\u001b[94m [ caching confidence values (cvs) ]\u001b[0m\n",
      "\u001b[94m    [ cvs for 0 (neg) ]\u001b[0m\n",
      "\u001b[94m    [ cvs for 1 (pos) ]\u001b[0m\n"
     ]
    },
    {
     "name": "stderr",
     "output_type": "stream",
     "text": [
      " Classification:   2%|▏         | 9/402 [00:00<00:04, 82.62it/s]"
     ]
    },
    {
     "name": "stdout",
     "output_type": "stream",
     "text": [
      "\u001b[94m [ finished --time: 3.2s ]\u001b[0m\n",
      "\u001b[94m [ default category was automatically set to 'pos' (the most probable one) ]\u001b[0m\n",
      "\u001b[94m [ about to start classifying test documents ]\u001b[0m\n"
     ]
    },
    {
     "name": "stderr",
     "output_type": "stream",
     "text": [
      " Classification: 100%|██████████| 402/402 [00:06<00:00, 57.59it/s]\n",
      " Training:   0%|          | 0/2 [00:00<?, ?it/s]"
     ]
    },
    {
     "name": "stdout",
     "output_type": "stream",
     "text": [
      "\u001b[94m [ finished --time: 7.0s ]\u001b[0m\n",
      "\u001b[94m [ about to start training ]\u001b[0m\n"
     ]
    },
    {
     "name": "stderr",
     "output_type": "stream",
     "text": [
      " Training: 100%|██████████| 2/2 [00:06<00:00,  3.03s/it]\n"
     ]
    },
    {
     "name": "stdout",
     "output_type": "stream",
     "text": [
      "\u001b[94m [ pruning tries... ]\u001b[0m\n",
      "\u001b[94m [ finished --time: 7.3s ]\u001b[0m\n",
      "\u001b[94m [ about to start updating values... ]\u001b[0m\n",
      "\u001b[94m [ caching lv values ]\u001b[0m\n",
      "\u001b[94m    [ lv values for 0 (neg) ]\u001b[0m\n",
      "\u001b[94m    [ lv values for 1 (pos) ]\u001b[0m\n",
      "\u001b[94m [ caching sg values ]\u001b[0m\n",
      "\u001b[94m    [ sg values for 0 (neg) ]\u001b[0m\n",
      "\u001b[94m    [ sg values for 1 (pos) ]\u001b[0m\n",
      "\u001b[94m[ caching gv values ]\u001b[0m\n",
      "\u001b[94m    [ gv values for 0 (neg) ]\u001b[0m\n",
      "\u001b[94m    [ gv values for 1 (pos) ]\u001b[0m\n",
      "\u001b[94m [ updating max gv values ]\u001b[0m\n",
      "\u001b[94m    [ max gv values for 0 (neg) ]\u001b[0m\n",
      "\u001b[94m    [ max gv values for 1 (pos) ]\u001b[0m\n",
      "\u001b[94m [ max gv values have been updated ]\u001b[0m\n",
      "\u001b[94m [ caching confidence values (cvs) ]\u001b[0m\n",
      "\u001b[94m    [ cvs for 0 (neg) ]\u001b[0m\n",
      "\u001b[94m    [ cvs for 1 (pos) ]\u001b[0m\n"
     ]
    },
    {
     "name": "stderr",
     "output_type": "stream",
     "text": [
      " Classification:   2%|▏         | 8/402 [00:00<00:05, 77.39it/s]"
     ]
    },
    {
     "name": "stdout",
     "output_type": "stream",
     "text": [
      "\u001b[94m [ finished --time: 3.2s ]\u001b[0m\n",
      "\u001b[94m [ default category was automatically set to 'pos' (the most probable one) ]\u001b[0m\n",
      "\u001b[94m [ about to start classifying test documents ]\u001b[0m\n"
     ]
    },
    {
     "name": "stderr",
     "output_type": "stream",
     "text": [
      " Classification: 100%|██████████| 402/402 [00:07<00:00, 56.40it/s]\n",
      " Training:   0%|          | 0/2 [00:00<?, ?it/s]"
     ]
    },
    {
     "name": "stdout",
     "output_type": "stream",
     "text": [
      "\u001b[94m [ finished --time: 7.1s ]\u001b[0m\n",
      "\u001b[94m [ about to start training ]\u001b[0m\n"
     ]
    },
    {
     "name": "stderr",
     "output_type": "stream",
     "text": [
      " Training: 100%|██████████| 2/2 [00:06<00:00,  3.18s/it]\n"
     ]
    },
    {
     "name": "stdout",
     "output_type": "stream",
     "text": [
      "\u001b[94m [ pruning tries... ]\u001b[0m\n",
      "\u001b[94m [ finished --time: 7.5s ]\u001b[0m\n",
      "\u001b[94m [ about to start updating values... ]\u001b[0m\n",
      "\u001b[94m [ caching lv values ]\u001b[0m\n",
      "\u001b[94m    [ lv values for 0 (neg) ]\u001b[0m\n",
      "\u001b[94m    [ lv values for 1 (pos) ]\u001b[0m\n",
      "\u001b[94m [ caching sg values ]\u001b[0m\n",
      "\u001b[94m    [ sg values for 0 (neg) ]\u001b[0m\n",
      "\u001b[94m    [ sg values for 1 (pos) ]\u001b[0m\n",
      "\u001b[94m[ caching gv values ]\u001b[0m\n",
      "\u001b[94m    [ gv values for 0 (neg) ]\u001b[0m\n",
      "\u001b[94m    [ gv values for 1 (pos) ]\u001b[0m\n",
      "\u001b[94m [ updating max gv values ]\u001b[0m\n",
      "\u001b[94m    [ max gv values for 0 (neg) ]\u001b[0m\n",
      "\u001b[94m    [ max gv values for 1 (pos) ]\u001b[0m\n",
      "\u001b[94m [ max gv values have been updated ]\u001b[0m\n",
      "\u001b[94m [ caching confidence values (cvs) ]\u001b[0m\n",
      "\u001b[94m    [ cvs for 0 (neg) ]\u001b[0m\n",
      "\u001b[94m    [ cvs for 1 (pos) ]\u001b[0m\n"
     ]
    },
    {
     "name": "stderr",
     "output_type": "stream",
     "text": [
      " Classification:   2%|▏         | 9/402 [00:00<00:04, 82.77it/s]"
     ]
    },
    {
     "name": "stdout",
     "output_type": "stream",
     "text": [
      "\u001b[94m [ finished --time: 3.2s ]\u001b[0m\n",
      "\u001b[94m [ default category was automatically set to 'pos' (the most probable one) ]\u001b[0m\n",
      "\u001b[94m [ about to start classifying test documents ]\u001b[0m\n"
     ]
    },
    {
     "name": "stderr",
     "output_type": "stream",
     "text": [
      " Classification: 100%|██████████| 402/402 [00:07<00:00, 57.16it/s]\n",
      " Training:   0%|          | 0/2 [00:00<?, ?it/s]"
     ]
    },
    {
     "name": "stdout",
     "output_type": "stream",
     "text": [
      "\u001b[94m [ finished --time: 7.0s ]\u001b[0m\n",
      "\u001b[94m [ about to start training ]\u001b[0m\n"
     ]
    },
    {
     "name": "stderr",
     "output_type": "stream",
     "text": [
      " Training: 100%|██████████| 2/2 [00:07<00:00,  3.45s/it]\n"
     ]
    },
    {
     "name": "stdout",
     "output_type": "stream",
     "text": [
      "\u001b[94m [ pruning tries... ]\u001b[0m\n",
      "\u001b[94m [ finished --time: 7.9s ]\u001b[0m\n",
      "\u001b[94m [ about to start updating values... ]\u001b[0m\n",
      "\u001b[94m [ caching lv values ]\u001b[0m\n",
      "\u001b[94m    [ lv values for 0 (neg) ]\u001b[0m\n",
      "\u001b[94m    [ lv values for 1 (pos) ]\u001b[0m\n",
      "\u001b[94m [ caching sg values ]\u001b[0m\n",
      "\u001b[94m    [ sg values for 0 (neg) ]\u001b[0m\n",
      "\u001b[94m    [ sg values for 1 (pos) ]\u001b[0m\n",
      "\u001b[94m[ caching gv values ]\u001b[0m\n",
      "\u001b[94m    [ gv values for 0 (neg) ]\u001b[0m\n",
      "\u001b[94m    [ gv values for 1 (pos) ]\u001b[0m\n",
      "\u001b[94m [ updating max gv values ]\u001b[0m\n",
      "\u001b[94m    [ max gv values for 0 (neg) ]\u001b[0m\n",
      "\u001b[94m    [ max gv values for 1 (pos) ]\u001b[0m\n",
      "\u001b[94m [ max gv values have been updated ]\u001b[0m\n",
      "\u001b[94m [ caching confidence values (cvs) ]\u001b[0m\n",
      "\u001b[94m    [ cvs for 0 (neg) ]\u001b[0m\n",
      "\u001b[94m    [ cvs for 1 (pos) ]\u001b[0m\n"
     ]
    },
    {
     "name": "stderr",
     "output_type": "stream",
     "text": [
      " Classification:   2%|▏         | 9/402 [00:00<00:04, 82.11it/s]"
     ]
    },
    {
     "name": "stdout",
     "output_type": "stream",
     "text": [
      "\u001b[94m [ finished --time: 3.2s ]\u001b[0m\n",
      "\u001b[94m [ default category was automatically set to 'pos' (the most probable one) ]\u001b[0m\n",
      "\u001b[94m [ about to start classifying test documents ]\u001b[0m\n"
     ]
    },
    {
     "name": "stderr",
     "output_type": "stream",
     "text": [
      " Classification: 100%|██████████| 402/402 [00:07<00:00, 57.00it/s]\n",
      " Training:   0%|          | 0/2 [00:00<?, ?it/s]"
     ]
    },
    {
     "name": "stdout",
     "output_type": "stream",
     "text": [
      "\u001b[94m [ finished --time: 7.1s ]\u001b[0m\n",
      "\u001b[94m [ about to start training ]\u001b[0m\n"
     ]
    },
    {
     "name": "stderr",
     "output_type": "stream",
     "text": [
      " Training: 100%|██████████| 2/2 [00:06<00:00,  3.02s/it]\n"
     ]
    },
    {
     "name": "stdout",
     "output_type": "stream",
     "text": [
      "\u001b[94m [ pruning tries... ]\u001b[0m\n",
      "\u001b[94m [ finished --time: 7.3s ]\u001b[0m\n",
      "\u001b[94m [ about to start updating values... ]\u001b[0m\n",
      "\u001b[94m [ caching lv values ]\u001b[0m\n",
      "\u001b[94m    [ lv values for 0 (neg) ]\u001b[0m\n",
      "\u001b[94m    [ lv values for 1 (pos) ]\u001b[0m\n",
      "\u001b[94m [ caching sg values ]\u001b[0m\n",
      "\u001b[94m    [ sg values for 0 (neg) ]\u001b[0m\n",
      "\u001b[94m    [ sg values for 1 (pos) ]\u001b[0m\n",
      "\u001b[94m[ caching gv values ]\u001b[0m\n",
      "\u001b[94m    [ gv values for 0 (neg) ]\u001b[0m\n",
      "\u001b[94m    [ gv values for 1 (pos) ]\u001b[0m\n",
      "\u001b[94m [ updating max gv values ]\u001b[0m\n",
      "\u001b[94m    [ max gv values for 0 (neg) ]\u001b[0m\n",
      "\u001b[94m    [ max gv values for 1 (pos) ]\u001b[0m\n",
      "\u001b[94m [ max gv values have been updated ]\u001b[0m\n",
      "\u001b[94m [ caching confidence values (cvs) ]\u001b[0m\n",
      "\u001b[94m    [ cvs for 0 (neg) ]\u001b[0m\n",
      "\u001b[94m    [ cvs for 1 (pos) ]\u001b[0m\n"
     ]
    },
    {
     "name": "stderr",
     "output_type": "stream",
     "text": [
      " Classification:   2%|▏         | 9/402 [00:00<00:04, 81.96it/s]"
     ]
    },
    {
     "name": "stdout",
     "output_type": "stream",
     "text": [
      "\u001b[94m [ finished --time: 3.3s ]\u001b[0m\n",
      "\u001b[94m [ default category was automatically set to 'pos' (the most probable one) ]\u001b[0m\n",
      "\u001b[94m [ about to start classifying test documents ]\u001b[0m\n"
     ]
    },
    {
     "name": "stderr",
     "output_type": "stream",
     "text": [
      " Classification: 100%|██████████| 402/402 [00:06<00:00, 57.50it/s]\n",
      " Training:   0%|          | 0/2 [00:00<?, ?it/s]"
     ]
    },
    {
     "name": "stdout",
     "output_type": "stream",
     "text": [
      "\u001b[94m [ finished --time: 7.0s ]\u001b[0m\n",
      "\u001b[94m [ about to start training ]\u001b[0m\n"
     ]
    },
    {
     "name": "stderr",
     "output_type": "stream",
     "text": [
      " Training: 100%|██████████| 2/2 [00:06<00:00,  3.20s/it]\n"
     ]
    },
    {
     "name": "stdout",
     "output_type": "stream",
     "text": [
      "\u001b[94m [ pruning tries... ]\u001b[0m\n",
      "\u001b[94m [ finished --time: 7.5s ]\u001b[0m\n",
      "\u001b[94m [ about to start updating values... ]\u001b[0m\n",
      "\u001b[94m [ caching lv values ]\u001b[0m\n",
      "\u001b[94m    [ lv values for 0 (neg) ]\u001b[0m\n",
      "\u001b[94m    [ lv values for 1 (pos) ]\u001b[0m\n",
      "\u001b[94m [ caching sg values ]\u001b[0m\n",
      "\u001b[94m    [ sg values for 0 (neg) ]\u001b[0m\n",
      "\u001b[94m    [ sg values for 1 (pos) ]\u001b[0m\n",
      "\u001b[94m[ caching gv values ]\u001b[0m\n",
      "\u001b[94m    [ gv values for 0 (neg) ]\u001b[0m\n",
      "\u001b[94m    [ gv values for 1 (pos) ]\u001b[0m\n",
      "\u001b[94m [ updating max gv values ]\u001b[0m\n",
      "\u001b[94m    [ max gv values for 0 (neg) ]\u001b[0m\n",
      "\u001b[94m    [ max gv values for 1 (pos) ]\u001b[0m\n",
      "\u001b[94m [ max gv values have been updated ]\u001b[0m\n",
      "\u001b[94m [ caching confidence values (cvs) ]\u001b[0m\n",
      "\u001b[94m    [ cvs for 0 (neg) ]\u001b[0m\n",
      "\u001b[94m    [ cvs for 1 (pos) ]\u001b[0m\n"
     ]
    },
    {
     "name": "stderr",
     "output_type": "stream",
     "text": [
      " Classification:   2%|▏         | 8/402 [00:00<00:05, 76.94it/s]"
     ]
    },
    {
     "name": "stdout",
     "output_type": "stream",
     "text": [
      "\u001b[94m [ finished --time: 3.1s ]\u001b[0m\n",
      "\u001b[94m [ default category was automatically set to 'pos' (the most probable one) ]\u001b[0m\n",
      "\u001b[94m [ about to start classifying test documents ]\u001b[0m\n"
     ]
    },
    {
     "name": "stderr",
     "output_type": "stream",
     "text": [
      " Classification: 100%|██████████| 402/402 [00:07<00:00, 57.66it/s]\n",
      " Training:   0%|          | 0/2 [00:00<?, ?it/s]"
     ]
    },
    {
     "name": "stdout",
     "output_type": "stream",
     "text": [
      "\u001b[94m [ finished --time: 7.5s ]\u001b[0m\n",
      "\u001b[94m [ about to start training ]\u001b[0m\n"
     ]
    },
    {
     "name": "stderr",
     "output_type": "stream",
     "text": [
      " Training: 100%|██████████| 2/2 [00:07<00:00,  3.41s/it]\n"
     ]
    },
    {
     "name": "stdout",
     "output_type": "stream",
     "text": [
      "\u001b[94m [ pruning tries... ]\u001b[0m\n",
      "\u001b[94m [ finished --time: 7.9s ]\u001b[0m\n",
      "\u001b[94m [ about to start updating values... ]\u001b[0m\n",
      "\u001b[94m [ caching lv values ]\u001b[0m\n",
      "\u001b[94m    [ lv values for 0 (neg) ]\u001b[0m\n",
      "\u001b[94m    [ lv values for 1 (pos) ]\u001b[0m\n",
      "\u001b[94m [ caching sg values ]\u001b[0m\n",
      "\u001b[94m    [ sg values for 0 (neg) ]\u001b[0m\n",
      "\u001b[94m    [ sg values for 1 (pos) ]\u001b[0m\n",
      "\u001b[94m[ caching gv values ]\u001b[0m\n",
      "\u001b[94m    [ gv values for 0 (neg) ]\u001b[0m\n",
      "\u001b[94m    [ gv values for 1 (pos) ]\u001b[0m\n",
      "\u001b[94m [ updating max gv values ]\u001b[0m\n",
      "\u001b[94m    [ max gv values for 0 (neg) ]\u001b[0m\n",
      "\u001b[94m    [ max gv values for 1 (pos) ]\u001b[0m\n",
      "\u001b[94m [ max gv values have been updated ]\u001b[0m\n",
      "\u001b[94m [ caching confidence values (cvs) ]\u001b[0m\n",
      "\u001b[94m    [ cvs for 0 (neg) ]\u001b[0m\n",
      "\u001b[94m    [ cvs for 1 (pos) ]\u001b[0m\n"
     ]
    },
    {
     "name": "stderr",
     "output_type": "stream",
     "text": [
      " Classification:   2%|▏         | 9/402 [00:00<00:04, 82.97it/s]"
     ]
    },
    {
     "name": "stdout",
     "output_type": "stream",
     "text": [
      "\u001b[94m [ finished --time: 3.1s ]\u001b[0m\n",
      "\u001b[94m [ default category was automatically set to 'pos' (the most probable one) ]\u001b[0m\n",
      "\u001b[94m [ about to start classifying test documents ]\u001b[0m\n"
     ]
    },
    {
     "name": "stderr",
     "output_type": "stream",
     "text": [
      " Classification: 100%|██████████| 402/402 [00:07<00:00, 56.65it/s]\n",
      " Training:   0%|          | 0/2 [00:00<?, ?it/s]"
     ]
    },
    {
     "name": "stdout",
     "output_type": "stream",
     "text": [
      "\u001b[94m [ finished --time: 7.1s ]\u001b[0m\n",
      "\u001b[94m [ about to start training ]\u001b[0m\n"
     ]
    },
    {
     "name": "stderr",
     "output_type": "stream",
     "text": [
      " Training: 100%|██████████| 2/2 [00:07<00:00,  3.28s/it]\n"
     ]
    },
    {
     "name": "stdout",
     "output_type": "stream",
     "text": [
      "\u001b[94m [ pruning tries... ]\u001b[0m\n",
      "\u001b[94m [ finished --time: 7.7s ]\u001b[0m\n",
      "\u001b[94m [ about to start updating values... ]\u001b[0m\n",
      "\u001b[94m [ caching lv values ]\u001b[0m\n",
      "\u001b[94m    [ lv values for 0 (neg) ]\u001b[0m\n",
      "\u001b[94m    [ lv values for 1 (pos) ]\u001b[0m\n",
      "\u001b[94m [ caching sg values ]\u001b[0m\n",
      "\u001b[94m    [ sg values for 0 (neg) ]\u001b[0m\n",
      "\u001b[94m    [ sg values for 1 (pos) ]\u001b[0m\n",
      "\u001b[94m[ caching gv values ]\u001b[0m\n",
      "\u001b[94m    [ gv values for 0 (neg) ]\u001b[0m\n",
      "\u001b[94m    [ gv values for 1 (pos) ]\u001b[0m\n",
      "\u001b[94m [ updating max gv values ]\u001b[0m\n",
      "\u001b[94m    [ max gv values for 0 (neg) ]\u001b[0m\n",
      "\u001b[94m    [ max gv values for 1 (pos) ]\u001b[0m\n",
      "\u001b[94m [ max gv values have been updated ]\u001b[0m\n",
      "\u001b[94m [ caching confidence values (cvs) ]\u001b[0m\n",
      "\u001b[94m    [ cvs for 0 (neg) ]\u001b[0m\n",
      "\u001b[94m    [ cvs for 1 (pos) ]\u001b[0m\n"
     ]
    },
    {
     "name": "stderr",
     "output_type": "stream",
     "text": [
      " Classification:   2%|▏         | 9/402 [00:00<00:04, 84.28it/s]"
     ]
    },
    {
     "name": "stdout",
     "output_type": "stream",
     "text": [
      "\u001b[94m [ finished --time: 3.2s ]\u001b[0m\n",
      "\u001b[94m [ default category was automatically set to 'pos' (the most probable one) ]\u001b[0m\n",
      "\u001b[94m [ about to start classifying test documents ]\u001b[0m\n"
     ]
    },
    {
     "name": "stderr",
     "output_type": "stream",
     "text": [
      " Classification: 100%|██████████| 402/402 [00:07<00:00, 56.37it/s]\n",
      " Training:   0%|          | 0/2 [00:00<?, ?it/s]"
     ]
    },
    {
     "name": "stdout",
     "output_type": "stream",
     "text": [
      "\u001b[94m [ finished --time: 7.1s ]\u001b[0m\n",
      "\u001b[94m [ about to start training ]\u001b[0m\n"
     ]
    },
    {
     "name": "stderr",
     "output_type": "stream",
     "text": [
      " Training: 100%|██████████| 2/2 [00:06<00:00,  3.03s/it]\n"
     ]
    },
    {
     "name": "stdout",
     "output_type": "stream",
     "text": [
      "\u001b[94m [ pruning tries... ]\u001b[0m\n",
      "\u001b[94m [ finished --time: 7.4s ]\u001b[0m\n",
      "\u001b[94m [ about to start updating values... ]\u001b[0m\n",
      "\u001b[94m [ caching lv values ]\u001b[0m\n",
      "\u001b[94m    [ lv values for 0 (neg) ]\u001b[0m\n",
      "\u001b[94m    [ lv values for 1 (pos) ]\u001b[0m\n",
      "\u001b[94m [ caching sg values ]\u001b[0m\n",
      "\u001b[94m    [ sg values for 0 (neg) ]\u001b[0m\n",
      "\u001b[94m    [ sg values for 1 (pos) ]\u001b[0m\n",
      "\u001b[94m[ caching gv values ]\u001b[0m\n",
      "\u001b[94m    [ gv values for 0 (neg) ]\u001b[0m\n",
      "\u001b[94m    [ gv values for 1 (pos) ]\u001b[0m\n",
      "\u001b[94m [ updating max gv values ]\u001b[0m\n",
      "\u001b[94m    [ max gv values for 0 (neg) ]\u001b[0m\n",
      "\u001b[94m    [ max gv values for 1 (pos) ]\u001b[0m\n",
      "\u001b[94m [ max gv values have been updated ]\u001b[0m\n",
      "\u001b[94m [ caching confidence values (cvs) ]\u001b[0m\n",
      "\u001b[94m    [ cvs for 0 (neg) ]\u001b[0m\n",
      "\u001b[94m    [ cvs for 1 (pos) ]\u001b[0m\n"
     ]
    },
    {
     "name": "stderr",
     "output_type": "stream",
     "text": [
      " Classification:   2%|▏         | 9/402 [00:00<00:04, 80.09it/s]"
     ]
    },
    {
     "name": "stdout",
     "output_type": "stream",
     "text": [
      "\u001b[94m [ finished --time: 3.2s ]\u001b[0m\n",
      "\u001b[94m [ default category was automatically set to 'pos' (the most probable one) ]\u001b[0m\n",
      "\u001b[94m [ about to start classifying test documents ]\u001b[0m\n"
     ]
    },
    {
     "name": "stderr",
     "output_type": "stream",
     "text": [
      " Classification: 100%|██████████| 402/402 [00:07<00:00, 56.83it/s]\n",
      " Training:   0%|          | 0/2 [00:00<?, ?it/s]"
     ]
    },
    {
     "name": "stdout",
     "output_type": "stream",
     "text": [
      "\u001b[94m [ finished --time: 7.1s ]\u001b[0m\n",
      "\u001b[94m [ about to start training ]\u001b[0m\n"
     ]
    },
    {
     "name": "stderr",
     "output_type": "stream",
     "text": [
      " Training: 100%|██████████| 2/2 [00:06<00:00,  2.97s/it]\n"
     ]
    },
    {
     "name": "stdout",
     "output_type": "stream",
     "text": [
      "\u001b[94m [ pruning tries... ]\u001b[0m\n",
      "\u001b[94m [ finished --time: 7.2s ]\u001b[0m\n",
      "\u001b[94m [ about to start updating values... ]\u001b[0m\n",
      "\u001b[94m [ caching lv values ]\u001b[0m\n",
      "\u001b[94m    [ lv values for 0 (neg) ]\u001b[0m\n",
      "\u001b[94m    [ lv values for 1 (pos) ]\u001b[0m\n",
      "\u001b[94m [ caching sg values ]\u001b[0m\n",
      "\u001b[94m    [ sg values for 0 (neg) ]\u001b[0m\n",
      "\u001b[94m    [ sg values for 1 (pos) ]\u001b[0m\n",
      "\u001b[94m[ caching gv values ]\u001b[0m\n",
      "\u001b[94m    [ gv values for 0 (neg) ]\u001b[0m\n",
      "\u001b[94m    [ gv values for 1 (pos) ]\u001b[0m\n",
      "\u001b[94m [ updating max gv values ]\u001b[0m\n",
      "\u001b[94m    [ max gv values for 0 (neg) ]\u001b[0m\n",
      "\u001b[94m    [ max gv values for 1 (pos) ]\u001b[0m\n",
      "\u001b[94m [ max gv values have been updated ]\u001b[0m\n",
      "\u001b[94m [ caching confidence values (cvs) ]\u001b[0m\n",
      "\u001b[94m    [ cvs for 0 (neg) ]\u001b[0m\n",
      "\u001b[94m    [ cvs for 1 (pos) ]\u001b[0m\n"
     ]
    },
    {
     "name": "stderr",
     "output_type": "stream",
     "text": [
      " Classification:   2%|▏         | 9/402 [00:00<00:04, 81.31it/s]"
     ]
    },
    {
     "name": "stdout",
     "output_type": "stream",
     "text": [
      "\u001b[94m [ finished --time: 3.3s ]\u001b[0m\n",
      "\u001b[94m [ default category was automatically set to 'pos' (the most probable one) ]\u001b[0m\n",
      "\u001b[94m [ about to start classifying test documents ]\u001b[0m\n"
     ]
    },
    {
     "name": "stderr",
     "output_type": "stream",
     "text": [
      " Classification: 100%|██████████| 402/402 [00:07<00:00, 57.23it/s]\n",
      " Training:   0%|          | 0/2 [00:00<?, ?it/s]"
     ]
    },
    {
     "name": "stdout",
     "output_type": "stream",
     "text": [
      "\u001b[94m [ finished --time: 7.0s ]\u001b[0m\n",
      "\u001b[94m [ about to start training ]\u001b[0m\n"
     ]
    },
    {
     "name": "stderr",
     "output_type": "stream",
     "text": [
      " Training: 100%|██████████| 2/2 [00:07<00:00,  3.41s/it]\n"
     ]
    },
    {
     "name": "stdout",
     "output_type": "stream",
     "text": [
      "\u001b[94m [ pruning tries... ]\u001b[0m\n",
      "\u001b[94m [ finished --time: 8.1s ]\u001b[0m\n",
      "\u001b[94m [ about to start updating values... ]\u001b[0m\n",
      "\u001b[94m [ caching lv values ]\u001b[0m\n",
      "\u001b[94m    [ lv values for 0 (neg) ]\u001b[0m\n",
      "\u001b[94m    [ lv values for 1 (pos) ]\u001b[0m\n",
      "\u001b[94m [ caching sg values ]\u001b[0m\n",
      "\u001b[94m    [ sg values for 0 (neg) ]\u001b[0m\n",
      "\u001b[94m    [ sg values for 1 (pos) ]\u001b[0m\n",
      "\u001b[94m[ caching gv values ]\u001b[0m\n",
      "\u001b[94m    [ gv values for 0 (neg) ]\u001b[0m\n",
      "\u001b[94m    [ gv values for 1 (pos) ]\u001b[0m\n",
      "\u001b[94m [ updating max gv values ]\u001b[0m\n",
      "\u001b[94m    [ max gv values for 0 (neg) ]\u001b[0m\n",
      "\u001b[94m    [ max gv values for 1 (pos) ]\u001b[0m\n",
      "\u001b[94m [ max gv values have been updated ]\u001b[0m\n",
      "\u001b[94m [ caching confidence values (cvs) ]\u001b[0m\n",
      "\u001b[94m    [ cvs for 0 (neg) ]\u001b[0m\n",
      "\u001b[94m    [ cvs for 1 (pos) ]\u001b[0m\n"
     ]
    },
    {
     "name": "stderr",
     "output_type": "stream",
     "text": [
      " Classification:   2%|▏         | 8/402 [00:00<00:05, 67.66it/s]"
     ]
    },
    {
     "name": "stdout",
     "output_type": "stream",
     "text": [
      "\u001b[94m [ finished --time: 3.1s ]\u001b[0m\n",
      "\u001b[94m [ default category was automatically set to 'pos' (the most probable one) ]\u001b[0m\n",
      "\u001b[94m [ about to start classifying test documents ]\u001b[0m\n"
     ]
    },
    {
     "name": "stderr",
     "output_type": "stream",
     "text": [
      " Classification: 100%|██████████| 402/402 [00:07<00:00, 57.39it/s]\n",
      " Training:   0%|          | 0/2 [00:00<?, ?it/s]"
     ]
    },
    {
     "name": "stdout",
     "output_type": "stream",
     "text": [
      "\u001b[94m [ finished --time: 7.0s ]\u001b[0m\n",
      "\u001b[94m [ about to start training ]\u001b[0m\n"
     ]
    },
    {
     "name": "stderr",
     "output_type": "stream",
     "text": [
      " Training: 100%|██████████| 2/2 [00:06<00:00,  2.91s/it]\n"
     ]
    },
    {
     "name": "stdout",
     "output_type": "stream",
     "text": [
      "\u001b[94m [ pruning tries... ]\u001b[0m\n",
      "\u001b[94m [ finished --time: 7.5s ]\u001b[0m\n",
      "\u001b[94m [ about to start updating values... ]\u001b[0m\n",
      "\u001b[94m [ caching lv values ]\u001b[0m\n",
      "\u001b[94m    [ lv values for 0 (neg) ]\u001b[0m\n",
      "\u001b[94m    [ lv values for 1 (pos) ]\u001b[0m\n",
      "\u001b[94m [ caching sg values ]\u001b[0m\n",
      "\u001b[94m    [ sg values for 0 (neg) ]\u001b[0m\n",
      "\u001b[94m    [ sg values for 1 (pos) ]\u001b[0m\n",
      "\u001b[94m[ caching gv values ]\u001b[0m\n",
      "\u001b[94m    [ gv values for 0 (neg) ]\u001b[0m\n",
      "\u001b[94m    [ gv values for 1 (pos) ]\u001b[0m\n",
      "\u001b[94m [ updating max gv values ]\u001b[0m\n",
      "\u001b[94m    [ max gv values for 0 (neg) ]\u001b[0m\n",
      "\u001b[94m    [ max gv values for 1 (pos) ]\u001b[0m\n",
      "\u001b[94m [ max gv values have been updated ]\u001b[0m\n",
      "\u001b[94m [ caching confidence values (cvs) ]\u001b[0m\n",
      "\u001b[94m    [ cvs for 0 (neg) ]\u001b[0m\n",
      "\u001b[94m    [ cvs for 1 (pos) ]\u001b[0m\n"
     ]
    },
    {
     "name": "stderr",
     "output_type": "stream",
     "text": [
      " Classification:   2%|▏         | 9/402 [00:00<00:04, 80.56it/s]"
     ]
    },
    {
     "name": "stdout",
     "output_type": "stream",
     "text": [
      "\u001b[94m [ finished --time: 3.1s ]\u001b[0m\n",
      "\u001b[94m [ default category was automatically set to 'pos' (the most probable one) ]\u001b[0m\n",
      "\u001b[94m [ about to start classifying test documents ]\u001b[0m\n"
     ]
    },
    {
     "name": "stderr",
     "output_type": "stream",
     "text": [
      " Classification: 100%|██████████| 402/402 [00:07<00:00, 56.79it/s]\n",
      " Training:   0%|          | 0/2 [00:00<?, ?it/s]"
     ]
    },
    {
     "name": "stdout",
     "output_type": "stream",
     "text": [
      "\u001b[94m [ finished --time: 7.1s ]\u001b[0m\n",
      "\u001b[94m [ about to start training ]\u001b[0m\n"
     ]
    },
    {
     "name": "stderr",
     "output_type": "stream",
     "text": [
      " Training: 100%|██████████| 2/2 [00:06<00:00,  3.04s/it]\n"
     ]
    },
    {
     "name": "stdout",
     "output_type": "stream",
     "text": [
      "\u001b[94m [ pruning tries... ]\u001b[0m\n",
      "\u001b[94m [ finished --time: 7.4s ]\u001b[0m\n",
      "\u001b[94m [ about to start updating values... ]\u001b[0m\n",
      "\u001b[94m [ caching lv values ]\u001b[0m\n",
      "\u001b[94m    [ lv values for 0 (neg) ]\u001b[0m\n",
      "\u001b[94m    [ lv values for 1 (pos) ]\u001b[0m\n",
      "\u001b[94m [ caching sg values ]\u001b[0m\n",
      "\u001b[94m    [ sg values for 0 (neg) ]\u001b[0m\n",
      "\u001b[94m    [ sg values for 1 (pos) ]\u001b[0m\n",
      "\u001b[94m[ caching gv values ]\u001b[0m\n",
      "\u001b[94m    [ gv values for 0 (neg) ]\u001b[0m\n",
      "\u001b[94m    [ gv values for 1 (pos) ]\u001b[0m\n",
      "\u001b[94m [ updating max gv values ]\u001b[0m\n",
      "\u001b[94m    [ max gv values for 0 (neg) ]\u001b[0m\n",
      "\u001b[94m    [ max gv values for 1 (pos) ]\u001b[0m\n",
      "\u001b[94m [ max gv values have been updated ]\u001b[0m\n",
      "\u001b[94m [ caching confidence values (cvs) ]\u001b[0m\n",
      "\u001b[94m    [ cvs for 0 (neg) ]\u001b[0m\n",
      "\u001b[94m    [ cvs for 1 (pos) ]\u001b[0m\n"
     ]
    },
    {
     "name": "stderr",
     "output_type": "stream",
     "text": [
      " Classification:   2%|▏         | 8/402 [00:00<00:05, 78.07it/s]"
     ]
    },
    {
     "name": "stdout",
     "output_type": "stream",
     "text": [
      "\u001b[94m [ finished --time: 3.2s ]\u001b[0m\n",
      "\u001b[94m [ default category was automatically set to 'pos' (the most probable one) ]\u001b[0m\n",
      "\u001b[94m [ about to start classifying test documents ]\u001b[0m\n"
     ]
    },
    {
     "name": "stderr",
     "output_type": "stream",
     "text": [
      " Classification: 100%|██████████| 402/402 [00:07<00:00, 56.52it/s]\n",
      " Training:   0%|          | 0/2 [00:00<?, ?it/s]"
     ]
    },
    {
     "name": "stdout",
     "output_type": "stream",
     "text": [
      "\u001b[94m [ finished --time: 7.1s ]\u001b[0m\n",
      "\u001b[94m [ about to start training ]\u001b[0m\n"
     ]
    },
    {
     "name": "stderr",
     "output_type": "stream",
     "text": [
      " Training: 100%|██████████| 2/2 [00:06<00:00,  3.03s/it]\n"
     ]
    },
    {
     "name": "stdout",
     "output_type": "stream",
     "text": [
      "\u001b[94m [ pruning tries... ]\u001b[0m\n",
      "\u001b[94m [ finished --time: 7.3s ]\u001b[0m\n",
      "\u001b[94m [ about to start updating values... ]\u001b[0m\n",
      "\u001b[94m [ caching lv values ]\u001b[0m\n",
      "\u001b[94m    [ lv values for 0 (neg) ]\u001b[0m\n",
      "\u001b[94m    [ lv values for 1 (pos) ]\u001b[0m\n",
      "\u001b[94m [ caching sg values ]\u001b[0m\n",
      "\u001b[94m    [ sg values for 0 (neg) ]\u001b[0m\n",
      "\u001b[94m    [ sg values for 1 (pos) ]\u001b[0m\n",
      "\u001b[94m[ caching gv values ]\u001b[0m\n",
      "\u001b[94m    [ gv values for 0 (neg) ]\u001b[0m\n",
      "\u001b[94m    [ gv values for 1 (pos) ]\u001b[0m\n",
      "\u001b[94m [ updating max gv values ]\u001b[0m\n",
      "\u001b[94m    [ max gv values for 0 (neg) ]\u001b[0m\n",
      "\u001b[94m    [ max gv values for 1 (pos) ]\u001b[0m\n",
      "\u001b[94m [ max gv values have been updated ]\u001b[0m\n",
      "\u001b[94m [ caching confidence values (cvs) ]\u001b[0m\n",
      "\u001b[94m    [ cvs for 0 (neg) ]\u001b[0m\n",
      "\u001b[94m    [ cvs for 1 (pos) ]\u001b[0m\n"
     ]
    },
    {
     "name": "stderr",
     "output_type": "stream",
     "text": [
      " Classification:   2%|▏         | 9/402 [00:00<00:04, 82.79it/s]"
     ]
    },
    {
     "name": "stdout",
     "output_type": "stream",
     "text": [
      "\u001b[94m [ finished --time: 3.2s ]\u001b[0m\n",
      "\u001b[94m [ default category was automatically set to 'pos' (the most probable one) ]\u001b[0m\n",
      "\u001b[94m [ about to start classifying test documents ]\u001b[0m\n"
     ]
    },
    {
     "name": "stderr",
     "output_type": "stream",
     "text": [
      " Classification: 100%|██████████| 402/402 [00:07<00:00, 56.84it/s]\n",
      " Training:   0%|          | 0/2 [00:00<?, ?it/s]"
     ]
    },
    {
     "name": "stdout",
     "output_type": "stream",
     "text": [
      "\u001b[94m [ finished --time: 7.1s ]\u001b[0m\n",
      "\u001b[94m [ about to start training ]\u001b[0m\n"
     ]
    },
    {
     "name": "stderr",
     "output_type": "stream",
     "text": [
      " Training: 100%|██████████| 2/2 [00:06<00:00,  3.00s/it]\n"
     ]
    },
    {
     "name": "stdout",
     "output_type": "stream",
     "text": [
      "\u001b[94m [ pruning tries... ]\u001b[0m\n",
      "\u001b[94m [ finished --time: 7.2s ]\u001b[0m\n",
      "\u001b[94m [ about to start updating values... ]\u001b[0m\n",
      "\u001b[94m [ caching lv values ]\u001b[0m\n",
      "\u001b[94m    [ lv values for 0 (neg) ]\u001b[0m\n",
      "\u001b[94m    [ lv values for 1 (pos) ]\u001b[0m\n",
      "\u001b[94m [ caching sg values ]\u001b[0m\n",
      "\u001b[94m    [ sg values for 0 (neg) ]\u001b[0m\n",
      "\u001b[94m    [ sg values for 1 (pos) ]\u001b[0m\n",
      "\u001b[94m[ caching gv values ]\u001b[0m\n",
      "\u001b[94m    [ gv values for 0 (neg) ]\u001b[0m\n",
      "\u001b[94m    [ gv values for 1 (pos) ]\u001b[0m\n",
      "\u001b[94m [ updating max gv values ]\u001b[0m\n",
      "\u001b[94m    [ max gv values for 0 (neg) ]\u001b[0m\n",
      "\u001b[94m    [ max gv values for 1 (pos) ]\u001b[0m\n",
      "\u001b[94m [ max gv values have been updated ]\u001b[0m\n",
      "\u001b[94m [ caching confidence values (cvs) ]\u001b[0m\n",
      "\u001b[94m    [ cvs for 0 (neg) ]\u001b[0m\n",
      "\u001b[94m    [ cvs for 1 (pos) ]\u001b[0m\n"
     ]
    },
    {
     "name": "stderr",
     "output_type": "stream",
     "text": [
      " Classification:   2%|▏         | 8/402 [00:00<00:05, 75.91it/s]"
     ]
    },
    {
     "name": "stdout",
     "output_type": "stream",
     "text": [
      "\u001b[94m [ finished --time: 3.2s ]\u001b[0m\n",
      "\u001b[94m [ default category was automatically set to 'pos' (the most probable one) ]\u001b[0m\n",
      "\u001b[94m [ about to start classifying test documents ]\u001b[0m\n"
     ]
    },
    {
     "name": "stderr",
     "output_type": "stream",
     "text": [
      " Classification: 100%|██████████| 402/402 [00:06<00:00, 57.52it/s]\n",
      " Training:   0%|          | 0/2 [00:00<?, ?it/s]"
     ]
    },
    {
     "name": "stdout",
     "output_type": "stream",
     "text": [
      "\u001b[94m [ finished --time: 7.0s ]\u001b[0m\n",
      "\u001b[94m [ about to start training ]\u001b[0m\n"
     ]
    },
    {
     "name": "stderr",
     "output_type": "stream",
     "text": [
      " Training: 100%|██████████| 2/2 [00:06<00:00,  3.19s/it]\n"
     ]
    },
    {
     "name": "stdout",
     "output_type": "stream",
     "text": [
      "\u001b[94m [ pruning tries... ]\u001b[0m\n",
      "\u001b[94m [ finished --time: 7.5s ]\u001b[0m\n",
      "\u001b[94m [ about to start updating values... ]\u001b[0m\n",
      "\u001b[94m [ caching lv values ]\u001b[0m\n",
      "\u001b[94m    [ lv values for 0 (neg) ]\u001b[0m\n",
      "\u001b[94m    [ lv values for 1 (pos) ]\u001b[0m\n",
      "\u001b[94m [ caching sg values ]\u001b[0m\n",
      "\u001b[94m    [ sg values for 0 (neg) ]\u001b[0m\n",
      "\u001b[94m    [ sg values for 1 (pos) ]\u001b[0m\n",
      "\u001b[94m[ caching gv values ]\u001b[0m\n",
      "\u001b[94m    [ gv values for 0 (neg) ]\u001b[0m\n",
      "\u001b[94m    [ gv values for 1 (pos) ]\u001b[0m\n",
      "\u001b[94m [ updating max gv values ]\u001b[0m\n",
      "\u001b[94m    [ max gv values for 0 (neg) ]\u001b[0m\n",
      "\u001b[94m    [ max gv values for 1 (pos) ]\u001b[0m\n",
      "\u001b[94m [ max gv values have been updated ]\u001b[0m\n",
      "\u001b[94m [ caching confidence values (cvs) ]\u001b[0m\n",
      "\u001b[94m    [ cvs for 0 (neg) ]\u001b[0m\n",
      "\u001b[94m    [ cvs for 1 (pos) ]\u001b[0m\n"
     ]
    },
    {
     "name": "stderr",
     "output_type": "stream",
     "text": [
      " Classification:   2%|▏         | 7/402 [00:00<00:06, 60.78it/s]"
     ]
    },
    {
     "name": "stdout",
     "output_type": "stream",
     "text": [
      "\u001b[94m [ finished --time: 3.3s ]\u001b[0m\n",
      "\u001b[94m [ default category was automatically set to 'pos' (the most probable one) ]\u001b[0m\n",
      "\u001b[94m [ about to start classifying test documents ]\u001b[0m\n"
     ]
    },
    {
     "name": "stderr",
     "output_type": "stream",
     "text": [
      " Classification: 100%|██████████| 402/402 [00:07<00:00, 54.11it/s]\n",
      " Training:   0%|          | 0/2 [00:00<?, ?it/s]"
     ]
    },
    {
     "name": "stdout",
     "output_type": "stream",
     "text": [
      "\u001b[94m [ finished --time: 7.4s ]\u001b[0m\n",
      "\u001b[94m [ about to start training ]\u001b[0m\n"
     ]
    },
    {
     "name": "stderr",
     "output_type": "stream",
     "text": [
      " Training: 100%|██████████| 2/2 [00:07<00:00,  3.47s/it]\n"
     ]
    },
    {
     "name": "stdout",
     "output_type": "stream",
     "text": [
      "\u001b[94m [ pruning tries... ]\u001b[0m\n",
      "\u001b[94m [ finished --time: 8.0s ]\u001b[0m\n",
      "\u001b[94m [ about to start updating values... ]\u001b[0m\n",
      "\u001b[94m [ caching lv values ]\u001b[0m\n",
      "\u001b[94m    [ lv values for 0 (neg) ]\u001b[0m\n",
      "\u001b[94m    [ lv values for 1 (pos) ]\u001b[0m\n",
      "\u001b[94m [ caching sg values ]\u001b[0m\n",
      "\u001b[94m    [ sg values for 0 (neg) ]\u001b[0m\n",
      "\u001b[94m    [ sg values for 1 (pos) ]\u001b[0m\n",
      "\u001b[94m[ caching gv values ]\u001b[0m\n",
      "\u001b[94m    [ gv values for 0 (neg) ]\u001b[0m\n",
      "\u001b[94m    [ gv values for 1 (pos) ]\u001b[0m\n",
      "\u001b[94m [ updating max gv values ]\u001b[0m\n",
      "\u001b[94m    [ max gv values for 0 (neg) ]\u001b[0m\n",
      "\u001b[94m    [ max gv values for 1 (pos) ]\u001b[0m\n",
      "\u001b[94m [ max gv values have been updated ]\u001b[0m\n",
      "\u001b[94m [ caching confidence values (cvs) ]\u001b[0m\n",
      "\u001b[94m    [ cvs for 0 (neg) ]\u001b[0m\n",
      "\u001b[94m    [ cvs for 1 (pos) ]\u001b[0m\n"
     ]
    },
    {
     "name": "stderr",
     "output_type": "stream",
     "text": [
      " Classification:   2%|▏         | 9/402 [00:00<00:04, 79.84it/s]"
     ]
    },
    {
     "name": "stdout",
     "output_type": "stream",
     "text": [
      "\u001b[94m [ finished --time: 3.2s ]\u001b[0m\n",
      "\u001b[94m [ default category was automatically set to 'pos' (the most probable one) ]\u001b[0m\n",
      "\u001b[94m [ about to start classifying test documents ]\u001b[0m\n"
     ]
    },
    {
     "name": "stderr",
     "output_type": "stream",
     "text": [
      " Classification: 100%|██████████| 402/402 [00:07<00:00, 57.00it/s]\n",
      " Training:   0%|          | 0/2 [00:00<?, ?it/s]"
     ]
    },
    {
     "name": "stdout",
     "output_type": "stream",
     "text": [
      "\u001b[94m [ finished --time: 7.1s ]\u001b[0m\n",
      "\u001b[94m [ about to start training ]\u001b[0m\n"
     ]
    },
    {
     "name": "stderr",
     "output_type": "stream",
     "text": [
      " Training: 100%|██████████| 2/2 [00:06<00:00,  3.00s/it]\n"
     ]
    },
    {
     "name": "stdout",
     "output_type": "stream",
     "text": [
      "\u001b[94m [ pruning tries... ]\u001b[0m\n",
      "\u001b[94m [ finished --time: 7.2s ]\u001b[0m\n",
      "\u001b[94m [ about to start updating values... ]\u001b[0m\n",
      "\u001b[94m [ caching lv values ]\u001b[0m\n",
      "\u001b[94m    [ lv values for 0 (neg) ]\u001b[0m\n",
      "\u001b[94m    [ lv values for 1 (pos) ]\u001b[0m\n",
      "\u001b[94m [ caching sg values ]\u001b[0m\n",
      "\u001b[94m    [ sg values for 0 (neg) ]\u001b[0m\n",
      "\u001b[94m    [ sg values for 1 (pos) ]\u001b[0m\n",
      "\u001b[94m[ caching gv values ]\u001b[0m\n",
      "\u001b[94m    [ gv values for 0 (neg) ]\u001b[0m\n",
      "\u001b[94m    [ gv values for 1 (pos) ]\u001b[0m\n",
      "\u001b[94m [ updating max gv values ]\u001b[0m\n",
      "\u001b[94m    [ max gv values for 0 (neg) ]\u001b[0m\n",
      "\u001b[94m    [ max gv values for 1 (pos) ]\u001b[0m\n",
      "\u001b[94m [ max gv values have been updated ]\u001b[0m\n",
      "\u001b[94m [ caching confidence values (cvs) ]\u001b[0m\n",
      "\u001b[94m    [ cvs for 0 (neg) ]\u001b[0m\n",
      "\u001b[94m    [ cvs for 1 (pos) ]\u001b[0m\n"
     ]
    },
    {
     "name": "stderr",
     "output_type": "stream",
     "text": [
      " Classification:   2%|▏         | 9/402 [00:00<00:04, 80.33it/s]"
     ]
    },
    {
     "name": "stdout",
     "output_type": "stream",
     "text": [
      "\u001b[94m [ finished --time: 3.2s ]\u001b[0m\n",
      "\u001b[94m [ default category was automatically set to 'pos' (the most probable one) ]\u001b[0m\n",
      "\u001b[94m [ about to start classifying test documents ]\u001b[0m\n"
     ]
    },
    {
     "name": "stderr",
     "output_type": "stream",
     "text": [
      " Classification: 100%|██████████| 402/402 [00:07<00:00, 56.39it/s]\n",
      " Training:   0%|          | 0/2 [00:00<?, ?it/s]"
     ]
    },
    {
     "name": "stdout",
     "output_type": "stream",
     "text": [
      "\u001b[94m [ finished --time: 7.1s ]\u001b[0m\n",
      "\u001b[94m [ about to start training ]\u001b[0m\n"
     ]
    },
    {
     "name": "stderr",
     "output_type": "stream",
     "text": [
      " Training: 100%|██████████| 2/2 [00:06<00:00,  3.16s/it]\n"
     ]
    },
    {
     "name": "stdout",
     "output_type": "stream",
     "text": [
      "\u001b[94m [ pruning tries... ]\u001b[0m\n",
      "\u001b[94m [ finished --time: 7.4s ]\u001b[0m\n",
      "\u001b[94m [ about to start updating values... ]\u001b[0m\n",
      "\u001b[94m [ caching lv values ]\u001b[0m\n",
      "\u001b[94m    [ lv values for 0 (neg) ]\u001b[0m\n",
      "\u001b[94m    [ lv values for 1 (pos) ]\u001b[0m\n",
      "\u001b[94m [ caching sg values ]\u001b[0m\n",
      "\u001b[94m    [ sg values for 0 (neg) ]\u001b[0m\n",
      "\u001b[94m    [ sg values for 1 (pos) ]\u001b[0m\n",
      "\u001b[94m[ caching gv values ]\u001b[0m\n",
      "\u001b[94m    [ gv values for 0 (neg) ]\u001b[0m\n",
      "\u001b[94m    [ gv values for 1 (pos) ]\u001b[0m\n",
      "\u001b[94m [ updating max gv values ]\u001b[0m\n",
      "\u001b[94m    [ max gv values for 0 (neg) ]\u001b[0m\n",
      "\u001b[94m    [ max gv values for 1 (pos) ]\u001b[0m\n",
      "\u001b[94m [ max gv values have been updated ]\u001b[0m\n",
      "\u001b[94m [ caching confidence values (cvs) ]\u001b[0m\n",
      "\u001b[94m    [ cvs for 0 (neg) ]\u001b[0m\n",
      "\u001b[94m    [ cvs for 1 (pos) ]\u001b[0m\n"
     ]
    },
    {
     "name": "stderr",
     "output_type": "stream",
     "text": [
      " Classification:   2%|▏         | 8/402 [00:00<00:05, 72.18it/s]"
     ]
    },
    {
     "name": "stdout",
     "output_type": "stream",
     "text": [
      "\u001b[94m [ finished --time: 3.2s ]\u001b[0m\n",
      "\u001b[94m [ default category was automatically set to 'pos' (the most probable one) ]\u001b[0m\n",
      "\u001b[94m [ about to start classifying test documents ]\u001b[0m\n"
     ]
    },
    {
     "name": "stderr",
     "output_type": "stream",
     "text": [
      " Classification: 100%|██████████| 402/402 [00:07<00:00, 60.13it/s]\n",
      " Training:   0%|          | 0/2 [00:00<?, ?it/s]"
     ]
    },
    {
     "name": "stdout",
     "output_type": "stream",
     "text": [
      "\u001b[94m [ finished --time: 7.1s ]\u001b[0m\n",
      "\u001b[94m [ about to start training ]\u001b[0m\n"
     ]
    },
    {
     "name": "stderr",
     "output_type": "stream",
     "text": [
      " Training: 100%|██████████| 2/2 [00:07<00:00,  3.47s/it]\n"
     ]
    },
    {
     "name": "stdout",
     "output_type": "stream",
     "text": [
      "\u001b[94m [ pruning tries... ]\u001b[0m\n",
      "\u001b[94m [ finished --time: 7.9s ]\u001b[0m\n",
      "\u001b[94m [ about to start updating values... ]\u001b[0m\n",
      "\u001b[94m [ caching lv values ]\u001b[0m\n",
      "\u001b[94m    [ lv values for 0 (neg) ]\u001b[0m\n",
      "\u001b[94m    [ lv values for 1 (pos) ]\u001b[0m\n",
      "\u001b[94m [ caching sg values ]\u001b[0m\n",
      "\u001b[94m    [ sg values for 0 (neg) ]\u001b[0m\n",
      "\u001b[94m    [ sg values for 1 (pos) ]\u001b[0m\n",
      "\u001b[94m[ caching gv values ]\u001b[0m\n",
      "\u001b[94m    [ gv values for 0 (neg) ]\u001b[0m\n",
      "\u001b[94m    [ gv values for 1 (pos) ]\u001b[0m\n",
      "\u001b[94m [ updating max gv values ]\u001b[0m\n",
      "\u001b[94m    [ max gv values for 0 (neg) ]\u001b[0m\n",
      "\u001b[94m    [ max gv values for 1 (pos) ]\u001b[0m\n",
      "\u001b[94m [ max gv values have been updated ]\u001b[0m\n",
      "\u001b[94m [ caching confidence values (cvs) ]\u001b[0m\n",
      "\u001b[94m    [ cvs for 0 (neg) ]\u001b[0m\n",
      "\u001b[94m    [ cvs for 1 (pos) ]\u001b[0m\n"
     ]
    },
    {
     "name": "stderr",
     "output_type": "stream",
     "text": [
      " Classification:   2%|▏         | 8/402 [00:00<00:05, 76.59it/s]"
     ]
    },
    {
     "name": "stdout",
     "output_type": "stream",
     "text": [
      "\u001b[94m [ finished --time: 3.3s ]\u001b[0m\n",
      "\u001b[94m [ default category was automatically set to 'pos' (the most probable one) ]\u001b[0m\n",
      "\u001b[94m [ about to start classifying test documents ]\u001b[0m\n"
     ]
    },
    {
     "name": "stderr",
     "output_type": "stream",
     "text": [
      " Classification: 100%|██████████| 402/402 [00:07<00:00, 56.94it/s]\n",
      " Training:   0%|          | 0/2 [00:00<?, ?it/s]"
     ]
    },
    {
     "name": "stdout",
     "output_type": "stream",
     "text": [
      "\u001b[94m [ finished --time: 7.1s ]\u001b[0m\n",
      "\u001b[94m [ about to start training ]\u001b[0m\n"
     ]
    },
    {
     "name": "stderr",
     "output_type": "stream",
     "text": [
      " Training: 100%|██████████| 2/2 [00:06<00:00,  2.99s/it]\n"
     ]
    },
    {
     "name": "stdout",
     "output_type": "stream",
     "text": [
      "\u001b[94m [ pruning tries... ]\u001b[0m\n",
      "\u001b[94m [ finished --time: 7.2s ]\u001b[0m\n",
      "\u001b[94m [ about to start updating values... ]\u001b[0m\n",
      "\u001b[94m [ caching lv values ]\u001b[0m\n",
      "\u001b[94m    [ lv values for 0 (neg) ]\u001b[0m\n",
      "\u001b[94m    [ lv values for 1 (pos) ]\u001b[0m\n",
      "\u001b[94m [ caching sg values ]\u001b[0m\n",
      "\u001b[94m    [ sg values for 0 (neg) ]\u001b[0m\n",
      "\u001b[94m    [ sg values for 1 (pos) ]\u001b[0m\n",
      "\u001b[94m[ caching gv values ]\u001b[0m\n",
      "\u001b[94m    [ gv values for 0 (neg) ]\u001b[0m\n",
      "\u001b[94m    [ gv values for 1 (pos) ]\u001b[0m\n",
      "\u001b[94m [ updating max gv values ]\u001b[0m\n",
      "\u001b[94m    [ max gv values for 0 (neg) ]\u001b[0m\n",
      "\u001b[94m    [ max gv values for 1 (pos) ]\u001b[0m\n",
      "\u001b[94m [ max gv values have been updated ]\u001b[0m\n",
      "\u001b[94m [ caching confidence values (cvs) ]\u001b[0m\n",
      "\u001b[94m    [ cvs for 0 (neg) ]\u001b[0m\n",
      "\u001b[94m    [ cvs for 1 (pos) ]\u001b[0m\n"
     ]
    },
    {
     "name": "stderr",
     "output_type": "stream",
     "text": [
      " Classification:   2%|▏         | 8/402 [00:00<00:04, 79.02it/s]"
     ]
    },
    {
     "name": "stdout",
     "output_type": "stream",
     "text": [
      "\u001b[94m [ finished --time: 3.2s ]\u001b[0m\n",
      "\u001b[94m [ default category was automatically set to 'pos' (the most probable one) ]\u001b[0m\n",
      "\u001b[94m [ about to start classifying test documents ]\u001b[0m\n"
     ]
    },
    {
     "name": "stderr",
     "output_type": "stream",
     "text": [
      " Classification: 100%|██████████| 402/402 [00:07<00:00, 56.47it/s]\n",
      " Training:   0%|          | 0/2 [00:00<?, ?it/s]"
     ]
    },
    {
     "name": "stdout",
     "output_type": "stream",
     "text": [
      "\u001b[94m [ finished --time: 7.1s ]\u001b[0m\n",
      "\u001b[94m [ about to start training ]\u001b[0m\n"
     ]
    },
    {
     "name": "stderr",
     "output_type": "stream",
     "text": [
      " Training: 100%|██████████| 2/2 [00:07<00:00,  3.37s/it]\n"
     ]
    },
    {
     "name": "stdout",
     "output_type": "stream",
     "text": [
      "\u001b[94m [ pruning tries... ]\u001b[0m\n",
      "\u001b[94m [ finished --time: 8.1s ]\u001b[0m\n",
      "\u001b[94m [ about to start updating values... ]\u001b[0m\n",
      "\u001b[94m [ caching lv values ]\u001b[0m\n",
      "\u001b[94m    [ lv values for 0 (neg) ]\u001b[0m\n",
      "\u001b[94m    [ lv values for 1 (pos) ]\u001b[0m\n",
      "\u001b[94m [ caching sg values ]\u001b[0m\n",
      "\u001b[94m    [ sg values for 0 (neg) ]\u001b[0m\n",
      "\u001b[94m    [ sg values for 1 (pos) ]\u001b[0m\n",
      "\u001b[94m[ caching gv values ]\u001b[0m\n",
      "\u001b[94m    [ gv values for 0 (neg) ]\u001b[0m\n",
      "\u001b[94m    [ gv values for 1 (pos) ]\u001b[0m\n",
      "\u001b[94m [ updating max gv values ]\u001b[0m\n",
      "\u001b[94m    [ max gv values for 0 (neg) ]\u001b[0m\n",
      "\u001b[94m    [ max gv values for 1 (pos) ]\u001b[0m\n",
      "\u001b[94m [ max gv values have been updated ]\u001b[0m\n",
      "\u001b[94m [ caching confidence values (cvs) ]\u001b[0m\n",
      "\u001b[94m    [ cvs for 0 (neg) ]\u001b[0m\n",
      "\u001b[94m    [ cvs for 1 (pos) ]\u001b[0m\n"
     ]
    },
    {
     "name": "stderr",
     "output_type": "stream",
     "text": [
      " Classification:   2%|▏         | 9/402 [00:00<00:04, 81.17it/s]"
     ]
    },
    {
     "name": "stdout",
     "output_type": "stream",
     "text": [
      "\u001b[94m [ finished --time: 3.2s ]\u001b[0m\n",
      "\u001b[94m [ default category was automatically set to 'pos' (the most probable one) ]\u001b[0m\n",
      "\u001b[94m [ about to start classifying test documents ]\u001b[0m\n"
     ]
    },
    {
     "name": "stderr",
     "output_type": "stream",
     "text": [
      " Classification: 100%|██████████| 402/402 [00:07<00:00, 56.80it/s]\n",
      " Training:   0%|          | 0/2 [00:00<?, ?it/s]"
     ]
    },
    {
     "name": "stdout",
     "output_type": "stream",
     "text": [
      "\u001b[94m [ finished --time: 7.1s ]\u001b[0m\n",
      "\u001b[94m [ about to start training ]\u001b[0m\n"
     ]
    },
    {
     "name": "stderr",
     "output_type": "stream",
     "text": [
      " Training: 100%|██████████| 2/2 [00:06<00:00,  2.94s/it]\n"
     ]
    },
    {
     "name": "stdout",
     "output_type": "stream",
     "text": [
      "\u001b[94m [ pruning tries... ]\u001b[0m\n",
      "\u001b[94m [ finished --time: 7.5s ]\u001b[0m\n",
      "\u001b[94m [ about to start updating values... ]\u001b[0m\n",
      "\u001b[94m [ caching lv values ]\u001b[0m\n",
      "\u001b[94m    [ lv values for 0 (neg) ]\u001b[0m\n",
      "\u001b[94m    [ lv values for 1 (pos) ]\u001b[0m\n",
      "\u001b[94m [ caching sg values ]\u001b[0m\n",
      "\u001b[94m    [ sg values for 0 (neg) ]\u001b[0m\n",
      "\u001b[94m    [ sg values for 1 (pos) ]\u001b[0m\n",
      "\u001b[94m[ caching gv values ]\u001b[0m\n",
      "\u001b[94m    [ gv values for 0 (neg) ]\u001b[0m\n",
      "\u001b[94m    [ gv values for 1 (pos) ]\u001b[0m\n",
      "\u001b[94m [ updating max gv values ]\u001b[0m\n",
      "\u001b[94m    [ max gv values for 0 (neg) ]\u001b[0m\n",
      "\u001b[94m    [ max gv values for 1 (pos) ]\u001b[0m\n",
      "\u001b[94m [ max gv values have been updated ]\u001b[0m\n",
      "\u001b[94m [ caching confidence values (cvs) ]\u001b[0m\n",
      "\u001b[94m    [ cvs for 0 (neg) ]\u001b[0m\n",
      "\u001b[94m    [ cvs for 1 (pos) ]\u001b[0m\n"
     ]
    },
    {
     "name": "stderr",
     "output_type": "stream",
     "text": [
      " Classification:   2%|▏         | 8/402 [00:00<00:04, 79.07it/s]"
     ]
    },
    {
     "name": "stdout",
     "output_type": "stream",
     "text": [
      "\u001b[94m [ finished --time: 3.2s ]\u001b[0m\n",
      "\u001b[94m [ default category was automatically set to 'pos' (the most probable one) ]\u001b[0m\n",
      "\u001b[94m [ about to start classifying test documents ]\u001b[0m\n"
     ]
    },
    {
     "name": "stderr",
     "output_type": "stream",
     "text": [
      " Classification: 100%|██████████| 402/402 [00:07<00:00, 56.84it/s]\n",
      " Training:   0%|          | 0/2 [00:00<?, ?it/s]"
     ]
    },
    {
     "name": "stdout",
     "output_type": "stream",
     "text": [
      "\u001b[94m [ finished --time: 7.1s ]\u001b[0m\n",
      "\u001b[94m [ about to start training ]\u001b[0m\n"
     ]
    },
    {
     "name": "stderr",
     "output_type": "stream",
     "text": [
      " Training: 100%|██████████| 2/2 [00:06<00:00,  3.05s/it]\n"
     ]
    },
    {
     "name": "stdout",
     "output_type": "stream",
     "text": [
      "\u001b[94m [ pruning tries... ]\u001b[0m\n",
      "\u001b[94m [ finished --time: 7.4s ]\u001b[0m\n",
      "\u001b[94m [ about to start updating values... ]\u001b[0m\n",
      "\u001b[94m [ caching lv values ]\u001b[0m\n",
      "\u001b[94m    [ lv values for 0 (neg) ]\u001b[0m\n",
      "\u001b[94m    [ lv values for 1 (pos) ]\u001b[0m\n",
      "\u001b[94m [ caching sg values ]\u001b[0m\n",
      "\u001b[94m    [ sg values for 0 (neg) ]\u001b[0m\n",
      "\u001b[94m    [ sg values for 1 (pos) ]\u001b[0m\n",
      "\u001b[94m[ caching gv values ]\u001b[0m\n",
      "\u001b[94m    [ gv values for 0 (neg) ]\u001b[0m\n",
      "\u001b[94m    [ gv values for 1 (pos) ]\u001b[0m\n",
      "\u001b[94m [ updating max gv values ]\u001b[0m\n",
      "\u001b[94m    [ max gv values for 0 (neg) ]\u001b[0m\n",
      "\u001b[94m    [ max gv values for 1 (pos) ]\u001b[0m\n",
      "\u001b[94m [ max gv values have been updated ]\u001b[0m\n",
      "\u001b[94m [ caching confidence values (cvs) ]\u001b[0m\n",
      "\u001b[94m    [ cvs for 0 (neg) ]\u001b[0m\n",
      "\u001b[94m    [ cvs for 1 (pos) ]\u001b[0m\n"
     ]
    },
    {
     "name": "stderr",
     "output_type": "stream",
     "text": [
      " Classification:   2%|▏         | 9/402 [00:00<00:04, 80.03it/s]"
     ]
    },
    {
     "name": "stdout",
     "output_type": "stream",
     "text": [
      "\u001b[94m [ finished --time: 3.3s ]\u001b[0m\n",
      "\u001b[94m [ default category was automatically set to 'pos' (the most probable one) ]\u001b[0m\n",
      "\u001b[94m [ about to start classifying test documents ]\u001b[0m\n"
     ]
    },
    {
     "name": "stderr",
     "output_type": "stream",
     "text": [
      " Classification: 100%|██████████| 402/402 [00:07<00:00, 56.80it/s]\n",
      " Training:   0%|          | 0/2 [00:00<?, ?it/s]"
     ]
    },
    {
     "name": "stdout",
     "output_type": "stream",
     "text": [
      "\u001b[94m [ finished --time: 7.1s ]\u001b[0m\n",
      "\u001b[94m [ about to start training ]\u001b[0m\n"
     ]
    },
    {
     "name": "stderr",
     "output_type": "stream",
     "text": [
      " Training: 100%|██████████| 2/2 [00:06<00:00,  3.07s/it]\n"
     ]
    },
    {
     "name": "stdout",
     "output_type": "stream",
     "text": [
      "\u001b[94m [ pruning tries... ]\u001b[0m\n",
      "\u001b[94m [ finished --time: 7.4s ]\u001b[0m\n",
      "\u001b[94m [ about to start updating values... ]\u001b[0m\n",
      "\u001b[94m [ caching lv values ]\u001b[0m\n",
      "\u001b[94m    [ lv values for 0 (neg) ]\u001b[0m\n",
      "\u001b[94m    [ lv values for 1 (pos) ]\u001b[0m\n",
      "\u001b[94m [ caching sg values ]\u001b[0m\n",
      "\u001b[94m    [ sg values for 0 (neg) ]\u001b[0m\n",
      "\u001b[94m    [ sg values for 1 (pos) ]\u001b[0m\n",
      "\u001b[94m[ caching gv values ]\u001b[0m\n",
      "\u001b[94m    [ gv values for 0 (neg) ]\u001b[0m\n",
      "\u001b[94m    [ gv values for 1 (pos) ]\u001b[0m\n",
      "\u001b[94m [ updating max gv values ]\u001b[0m\n",
      "\u001b[94m    [ max gv values for 0 (neg) ]\u001b[0m\n",
      "\u001b[94m    [ max gv values for 1 (pos) ]\u001b[0m\n",
      "\u001b[94m [ max gv values have been updated ]\u001b[0m\n",
      "\u001b[94m [ caching confidence values (cvs) ]\u001b[0m\n",
      "\u001b[94m    [ cvs for 0 (neg) ]\u001b[0m\n",
      "\u001b[94m    [ cvs for 1 (pos) ]\u001b[0m\n"
     ]
    },
    {
     "name": "stderr",
     "output_type": "stream",
     "text": [
      " Classification:   2%|▏         | 8/402 [00:00<00:05, 73.74it/s]"
     ]
    },
    {
     "name": "stdout",
     "output_type": "stream",
     "text": [
      "\u001b[94m [ finished --time: 3.3s ]\u001b[0m\n",
      "\u001b[94m [ default category was automatically set to 'pos' (the most probable one) ]\u001b[0m\n",
      "\u001b[94m [ about to start classifying test documents ]\u001b[0m\n"
     ]
    },
    {
     "name": "stderr",
     "output_type": "stream",
     "text": [
      " Classification: 100%|██████████| 402/402 [00:07<00:00, 56.90it/s]\n",
      " Training:   0%|          | 0/2 [00:00<?, ?it/s]"
     ]
    },
    {
     "name": "stdout",
     "output_type": "stream",
     "text": [
      "\u001b[94m [ finished --time: 7.1s ]\u001b[0m\n",
      "\u001b[94m [ about to start training ]\u001b[0m\n"
     ]
    },
    {
     "name": "stderr",
     "output_type": "stream",
     "text": [
      " Training: 100%|██████████| 2/2 [00:06<00:00,  3.02s/it]\n"
     ]
    },
    {
     "name": "stdout",
     "output_type": "stream",
     "text": [
      "\u001b[94m [ pruning tries... ]\u001b[0m\n",
      "\u001b[94m [ finished --time: 7.3s ]\u001b[0m\n",
      "\u001b[94m [ about to start updating values... ]\u001b[0m\n",
      "\u001b[94m [ caching lv values ]\u001b[0m\n",
      "\u001b[94m    [ lv values for 0 (neg) ]\u001b[0m\n",
      "\u001b[94m    [ lv values for 1 (pos) ]\u001b[0m\n",
      "\u001b[94m [ caching sg values ]\u001b[0m\n",
      "\u001b[94m    [ sg values for 0 (neg) ]\u001b[0m\n",
      "\u001b[94m    [ sg values for 1 (pos) ]\u001b[0m\n",
      "\u001b[94m[ caching gv values ]\u001b[0m\n",
      "\u001b[94m    [ gv values for 0 (neg) ]\u001b[0m\n",
      "\u001b[94m    [ gv values for 1 (pos) ]\u001b[0m\n",
      "\u001b[94m [ updating max gv values ]\u001b[0m\n",
      "\u001b[94m    [ max gv values for 0 (neg) ]\u001b[0m\n",
      "\u001b[94m    [ max gv values for 1 (pos) ]\u001b[0m\n",
      "\u001b[94m [ max gv values have been updated ]\u001b[0m\n",
      "\u001b[94m [ caching confidence values (cvs) ]\u001b[0m\n",
      "\u001b[94m    [ cvs for 0 (neg) ]\u001b[0m\n",
      "\u001b[94m    [ cvs for 1 (pos) ]\u001b[0m\n"
     ]
    },
    {
     "name": "stderr",
     "output_type": "stream",
     "text": [
      " Classification:   2%|▏         | 9/402 [00:00<00:04, 81.51it/s]"
     ]
    },
    {
     "name": "stdout",
     "output_type": "stream",
     "text": [
      "\u001b[94m [ finished --time: 3.2s ]\u001b[0m\n",
      "\u001b[94m [ default category was automatically set to 'pos' (the most probable one) ]\u001b[0m\n",
      "\u001b[94m [ about to start classifying test documents ]\u001b[0m\n"
     ]
    },
    {
     "name": "stderr",
     "output_type": "stream",
     "text": [
      " Classification: 100%|██████████| 402/402 [00:07<00:00, 56.77it/s]\n",
      " Training:   0%|          | 0/2 [00:00<?, ?it/s]"
     ]
    },
    {
     "name": "stdout",
     "output_type": "stream",
     "text": [
      "\u001b[94m [ finished --time: 7.1s ]\u001b[0m\n",
      "\u001b[94m [ about to start training ]\u001b[0m\n"
     ]
    },
    {
     "name": "stderr",
     "output_type": "stream",
     "text": [
      " Training: 100%|██████████| 2/2 [00:07<00:00,  3.27s/it]\n"
     ]
    },
    {
     "name": "stdout",
     "output_type": "stream",
     "text": [
      "\u001b[94m [ pruning tries... ]\u001b[0m\n",
      "\u001b[94m [ finished --time: 7.7s ]\u001b[0m\n",
      "\u001b[94m [ about to start updating values... ]\u001b[0m\n",
      "\u001b[94m [ caching lv values ]\u001b[0m\n",
      "\u001b[94m    [ lv values for 0 (neg) ]\u001b[0m\n",
      "\u001b[94m    [ lv values for 1 (pos) ]\u001b[0m\n",
      "\u001b[94m [ caching sg values ]\u001b[0m\n",
      "\u001b[94m    [ sg values for 0 (neg) ]\u001b[0m\n",
      "\u001b[94m    [ sg values for 1 (pos) ]\u001b[0m\n",
      "\u001b[94m[ caching gv values ]\u001b[0m\n",
      "\u001b[94m    [ gv values for 0 (neg) ]\u001b[0m\n",
      "\u001b[94m    [ gv values for 1 (pos) ]\u001b[0m\n",
      "\u001b[94m [ updating max gv values ]\u001b[0m\n",
      "\u001b[94m    [ max gv values for 0 (neg) ]\u001b[0m\n",
      "\u001b[94m    [ max gv values for 1 (pos) ]\u001b[0m\n",
      "\u001b[94m [ max gv values have been updated ]\u001b[0m\n",
      "\u001b[94m [ caching confidence values (cvs) ]\u001b[0m\n",
      "\u001b[94m    [ cvs for 0 (neg) ]\u001b[0m\n",
      "\u001b[94m    [ cvs for 1 (pos) ]\u001b[0m\n"
     ]
    },
    {
     "name": "stderr",
     "output_type": "stream",
     "text": [
      " Classification:   2%|▏         | 9/402 [00:00<00:04, 84.66it/s]"
     ]
    },
    {
     "name": "stdout",
     "output_type": "stream",
     "text": [
      "\u001b[94m [ finished --time: 3.2s ]\u001b[0m\n",
      "\u001b[94m [ default category was automatically set to 'pos' (the most probable one) ]\u001b[0m\n",
      "\u001b[94m [ about to start classifying test documents ]\u001b[0m\n"
     ]
    },
    {
     "name": "stderr",
     "output_type": "stream",
     "text": [
      " Classification: 100%|██████████| 402/402 [00:09<00:00, 43.49it/s]\n",
      " Training:   0%|          | 0/2 [00:00<?, ?it/s]"
     ]
    },
    {
     "name": "stdout",
     "output_type": "stream",
     "text": [
      "\u001b[94m [ finished --time: 9.2s ]\u001b[0m\n",
      "\u001b[94m [ about to start training ]\u001b[0m\n"
     ]
    },
    {
     "name": "stderr",
     "output_type": "stream",
     "text": [
      " Training: 100%|██████████| 2/2 [00:07<00:00,  3.32s/it]\n"
     ]
    },
    {
     "name": "stdout",
     "output_type": "stream",
     "text": [
      "\u001b[94m [ pruning tries... ]\u001b[0m\n",
      "\u001b[94m [ finished --time: 7.7s ]\u001b[0m\n",
      "\u001b[94m [ about to start updating values... ]\u001b[0m\n",
      "\u001b[94m [ caching lv values ]\u001b[0m\n",
      "\u001b[94m    [ lv values for 0 (neg) ]\u001b[0m\n",
      "\u001b[94m    [ lv values for 1 (pos) ]\u001b[0m\n",
      "\u001b[94m [ caching sg values ]\u001b[0m\n",
      "\u001b[94m    [ sg values for 0 (neg) ]\u001b[0m\n",
      "\u001b[94m    [ sg values for 1 (pos) ]\u001b[0m\n",
      "\u001b[94m[ caching gv values ]\u001b[0m\n",
      "\u001b[94m    [ gv values for 0 (neg) ]\u001b[0m\n",
      "\u001b[94m    [ gv values for 1 (pos) ]\u001b[0m\n",
      "\u001b[94m [ updating max gv values ]\u001b[0m\n",
      "\u001b[94m    [ max gv values for 0 (neg) ]\u001b[0m\n",
      "\u001b[94m    [ max gv values for 1 (pos) ]\u001b[0m\n",
      "\u001b[94m [ max gv values have been updated ]\u001b[0m\n",
      "\u001b[94m [ caching confidence values (cvs) ]\u001b[0m\n",
      "\u001b[94m    [ cvs for 0 (neg) ]\u001b[0m\n",
      "\u001b[94m    [ cvs for 1 (pos) ]\u001b[0m\n"
     ]
    },
    {
     "name": "stderr",
     "output_type": "stream",
     "text": [
      " Classification:   2%|▏         | 8/402 [00:00<00:05, 71.00it/s]"
     ]
    },
    {
     "name": "stdout",
     "output_type": "stream",
     "text": [
      "\u001b[94m [ finished --time: 3.2s ]\u001b[0m\n",
      "\u001b[94m [ default category was automatically set to 'pos' (the most probable one) ]\u001b[0m\n",
      "\u001b[94m [ about to start classifying test documents ]\u001b[0m\n"
     ]
    },
    {
     "name": "stderr",
     "output_type": "stream",
     "text": [
      " Classification: 100%|██████████| 402/402 [00:07<00:00, 56.12it/s]\n",
      " Training:   0%|          | 0/2 [00:00<?, ?it/s]"
     ]
    },
    {
     "name": "stdout",
     "output_type": "stream",
     "text": [
      "\u001b[94m [ finished --time: 7.2s ]\u001b[0m\n",
      "\u001b[94m [ about to start training ]\u001b[0m\n"
     ]
    },
    {
     "name": "stderr",
     "output_type": "stream",
     "text": [
      " Training: 100%|██████████| 2/2 [00:07<00:00,  3.30s/it]\n"
     ]
    },
    {
     "name": "stdout",
     "output_type": "stream",
     "text": [
      "\u001b[94m [ pruning tries... ]\u001b[0m\n",
      "\u001b[94m [ finished --time: 7.7s ]\u001b[0m\n",
      "\u001b[94m [ about to start updating values... ]\u001b[0m\n",
      "\u001b[94m [ caching lv values ]\u001b[0m\n",
      "\u001b[94m    [ lv values for 0 (neg) ]\u001b[0m\n",
      "\u001b[94m    [ lv values for 1 (pos) ]\u001b[0m\n",
      "\u001b[94m [ caching sg values ]\u001b[0m\n",
      "\u001b[94m    [ sg values for 0 (neg) ]\u001b[0m\n",
      "\u001b[94m    [ sg values for 1 (pos) ]\u001b[0m\n",
      "\u001b[94m[ caching gv values ]\u001b[0m\n",
      "\u001b[94m    [ gv values for 0 (neg) ]\u001b[0m\n",
      "\u001b[94m    [ gv values for 1 (pos) ]\u001b[0m\n",
      "\u001b[94m [ updating max gv values ]\u001b[0m\n",
      "\u001b[94m    [ max gv values for 0 (neg) ]\u001b[0m\n",
      "\u001b[94m    [ max gv values for 1 (pos) ]\u001b[0m\n",
      "\u001b[94m [ max gv values have been updated ]\u001b[0m\n",
      "\u001b[94m [ caching confidence values (cvs) ]\u001b[0m\n",
      "\u001b[94m    [ cvs for 0 (neg) ]\u001b[0m\n",
      "\u001b[94m    [ cvs for 1 (pos) ]\u001b[0m\n"
     ]
    },
    {
     "name": "stderr",
     "output_type": "stream",
     "text": [
      " Classification:   2%|▏         | 9/402 [00:00<00:04, 82.04it/s]"
     ]
    },
    {
     "name": "stdout",
     "output_type": "stream",
     "text": [
      "\u001b[94m [ finished --time: 3.2s ]\u001b[0m\n",
      "\u001b[94m [ default category was automatically set to 'pos' (the most probable one) ]\u001b[0m\n",
      "\u001b[94m [ about to start classifying test documents ]\u001b[0m\n"
     ]
    },
    {
     "name": "stderr",
     "output_type": "stream",
     "text": [
      " Classification: 100%|██████████| 402/402 [00:07<00:00, 56.31it/s]\n",
      " Training:   0%|          | 0/2 [00:00<?, ?it/s]"
     ]
    },
    {
     "name": "stdout",
     "output_type": "stream",
     "text": [
      "\u001b[94m [ finished --time: 7.1s ]\u001b[0m\n",
      "\u001b[94m [ about to start training ]\u001b[0m\n"
     ]
    },
    {
     "name": "stderr",
     "output_type": "stream",
     "text": [
      " Training: 100%|██████████| 2/2 [00:06<00:00,  3.03s/it]\n"
     ]
    },
    {
     "name": "stdout",
     "output_type": "stream",
     "text": [
      "\u001b[94m [ pruning tries... ]\u001b[0m\n",
      "\u001b[94m [ finished --time: 7.3s ]\u001b[0m\n",
      "\u001b[94m [ about to start updating values... ]\u001b[0m\n",
      "\u001b[94m [ caching lv values ]\u001b[0m\n",
      "\u001b[94m    [ lv values for 0 (neg) ]\u001b[0m\n",
      "\u001b[94m    [ lv values for 1 (pos) ]\u001b[0m\n",
      "\u001b[94m [ caching sg values ]\u001b[0m\n",
      "\u001b[94m    [ sg values for 0 (neg) ]\u001b[0m\n",
      "\u001b[94m    [ sg values for 1 (pos) ]\u001b[0m\n",
      "\u001b[94m[ caching gv values ]\u001b[0m\n",
      "\u001b[94m    [ gv values for 0 (neg) ]\u001b[0m\n",
      "\u001b[94m    [ gv values for 1 (pos) ]\u001b[0m\n",
      "\u001b[94m [ updating max gv values ]\u001b[0m\n",
      "\u001b[94m    [ max gv values for 0 (neg) ]\u001b[0m\n",
      "\u001b[94m    [ max gv values for 1 (pos) ]\u001b[0m\n",
      "\u001b[94m [ max gv values have been updated ]\u001b[0m\n",
      "\u001b[94m [ caching confidence values (cvs) ]\u001b[0m\n",
      "\u001b[94m    [ cvs for 0 (neg) ]\u001b[0m\n",
      "\u001b[94m    [ cvs for 1 (pos) ]\u001b[0m\n"
     ]
    },
    {
     "name": "stderr",
     "output_type": "stream",
     "text": [
      " Classification:   2%|▏         | 8/402 [00:00<00:04, 79.92it/s]"
     ]
    },
    {
     "name": "stdout",
     "output_type": "stream",
     "text": [
      "\u001b[94m [ finished --time: 3.3s ]\u001b[0m\n",
      "\u001b[94m [ default category was automatically set to 'pos' (the most probable one) ]\u001b[0m\n",
      "\u001b[94m [ about to start classifying test documents ]\u001b[0m\n"
     ]
    },
    {
     "name": "stderr",
     "output_type": "stream",
     "text": [
      " Classification: 100%|██████████| 402/402 [00:07<00:00, 57.28it/s]\n",
      " Training:   0%|          | 0/2 [00:00<?, ?it/s]"
     ]
    },
    {
     "name": "stdout",
     "output_type": "stream",
     "text": [
      "\u001b[94m [ finished --time: 7.0s ]\u001b[0m\n",
      "\u001b[94m [ about to start training ]\u001b[0m\n"
     ]
    },
    {
     "name": "stderr",
     "output_type": "stream",
     "text": [
      " Training: 100%|██████████| 2/2 [00:06<00:00,  2.98s/it]\n"
     ]
    },
    {
     "name": "stdout",
     "output_type": "stream",
     "text": [
      "\u001b[94m [ pruning tries... ]\u001b[0m\n",
      "\u001b[94m [ finished --time: 7.2s ]\u001b[0m\n",
      "\u001b[94m [ about to start updating values... ]\u001b[0m\n",
      "\u001b[94m [ caching lv values ]\u001b[0m\n",
      "\u001b[94m    [ lv values for 0 (neg) ]\u001b[0m\n",
      "\u001b[94m    [ lv values for 1 (pos) ]\u001b[0m\n",
      "\u001b[94m [ caching sg values ]\u001b[0m\n",
      "\u001b[94m    [ sg values for 0 (neg) ]\u001b[0m\n",
      "\u001b[94m    [ sg values for 1 (pos) ]\u001b[0m\n",
      "\u001b[94m[ caching gv values ]\u001b[0m\n",
      "\u001b[94m    [ gv values for 0 (neg) ]\u001b[0m\n",
      "\u001b[94m    [ gv values for 1 (pos) ]\u001b[0m\n",
      "\u001b[94m [ updating max gv values ]\u001b[0m\n",
      "\u001b[94m    [ max gv values for 0 (neg) ]\u001b[0m\n",
      "\u001b[94m    [ max gv values for 1 (pos) ]\u001b[0m\n",
      "\u001b[94m [ max gv values have been updated ]\u001b[0m\n",
      "\u001b[94m [ caching confidence values (cvs) ]\u001b[0m\n",
      "\u001b[94m    [ cvs for 0 (neg) ]\u001b[0m\n",
      "\u001b[94m    [ cvs for 1 (pos) ]\u001b[0m\n"
     ]
    },
    {
     "name": "stderr",
     "output_type": "stream",
     "text": [
      " Classification:   2%|▏         | 9/402 [00:00<00:04, 81.79it/s]"
     ]
    },
    {
     "name": "stdout",
     "output_type": "stream",
     "text": [
      "\u001b[94m [ finished --time: 3.1s ]\u001b[0m\n",
      "\u001b[94m [ default category was automatically set to 'pos' (the most probable one) ]\u001b[0m\n",
      "\u001b[94m [ about to start classifying test documents ]\u001b[0m\n"
     ]
    },
    {
     "name": "stderr",
     "output_type": "stream",
     "text": [
      " Classification: 100%|██████████| 402/402 [00:07<00:00, 56.23it/s]\n",
      " Training:   0%|          | 0/2 [00:00<?, ?it/s]"
     ]
    },
    {
     "name": "stdout",
     "output_type": "stream",
     "text": [
      "\u001b[94m [ finished --time: 7.2s ]\u001b[0m\n",
      "\u001b[94m [ about to start training ]\u001b[0m\n"
     ]
    },
    {
     "name": "stderr",
     "output_type": "stream",
     "text": [
      " Training: 100%|██████████| 2/2 [00:07<00:00,  3.48s/it]\n"
     ]
    },
    {
     "name": "stdout",
     "output_type": "stream",
     "text": [
      "\u001b[94m [ pruning tries... ]\u001b[0m\n",
      "\u001b[94m [ finished --time: 8.0s ]\u001b[0m\n",
      "\u001b[94m [ about to start updating values... ]\u001b[0m\n",
      "\u001b[94m [ caching lv values ]\u001b[0m\n",
      "\u001b[94m    [ lv values for 0 (neg) ]\u001b[0m\n",
      "\u001b[94m    [ lv values for 1 (pos) ]\u001b[0m\n",
      "\u001b[94m [ caching sg values ]\u001b[0m\n",
      "\u001b[94m    [ sg values for 0 (neg) ]\u001b[0m\n",
      "\u001b[94m    [ sg values for 1 (pos) ]\u001b[0m\n",
      "\u001b[94m[ caching gv values ]\u001b[0m\n",
      "\u001b[94m    [ gv values for 0 (neg) ]\u001b[0m\n",
      "\u001b[94m    [ gv values for 1 (pos) ]\u001b[0m\n",
      "\u001b[94m [ updating max gv values ]\u001b[0m\n",
      "\u001b[94m    [ max gv values for 0 (neg) ]\u001b[0m\n",
      "\u001b[94m    [ max gv values for 1 (pos) ]\u001b[0m\n",
      "\u001b[94m [ max gv values have been updated ]\u001b[0m\n",
      "\u001b[94m [ caching confidence values (cvs) ]\u001b[0m\n",
      "\u001b[94m    [ cvs for 0 (neg) ]\u001b[0m\n",
      "\u001b[94m    [ cvs for 1 (pos) ]\u001b[0m\n"
     ]
    },
    {
     "name": "stderr",
     "output_type": "stream",
     "text": [
      " Classification:   2%|▏         | 9/402 [00:00<00:04, 81.51it/s]"
     ]
    },
    {
     "name": "stdout",
     "output_type": "stream",
     "text": [
      "\u001b[94m [ finished --time: 3.2s ]\u001b[0m\n",
      "\u001b[94m [ default category was automatically set to 'pos' (the most probable one) ]\u001b[0m\n",
      "\u001b[94m [ about to start classifying test documents ]\u001b[0m\n"
     ]
    },
    {
     "name": "stderr",
     "output_type": "stream",
     "text": [
      " Classification: 100%|██████████| 402/402 [00:07<00:00, 59.28it/s]\n",
      " Training:   0%|          | 0/2 [00:00<?, ?it/s]"
     ]
    },
    {
     "name": "stdout",
     "output_type": "stream",
     "text": [
      "\u001b[94m [ finished --time: 7.1s ]\u001b[0m\n",
      "\u001b[94m [ about to start training ]\u001b[0m\n"
     ]
    },
    {
     "name": "stderr",
     "output_type": "stream",
     "text": [
      " Training: 100%|██████████| 2/2 [00:06<00:00,  2.99s/it]\n"
     ]
    },
    {
     "name": "stdout",
     "output_type": "stream",
     "text": [
      "\u001b[94m [ pruning tries... ]\u001b[0m\n",
      "\u001b[94m [ finished --time: 7.2s ]\u001b[0m\n",
      "\u001b[94m [ about to start updating values... ]\u001b[0m\n",
      "\u001b[94m [ caching lv values ]\u001b[0m\n",
      "\u001b[94m    [ lv values for 0 (neg) ]\u001b[0m\n",
      "\u001b[94m    [ lv values for 1 (pos) ]\u001b[0m\n",
      "\u001b[94m [ caching sg values ]\u001b[0m\n",
      "\u001b[94m    [ sg values for 0 (neg) ]\u001b[0m\n",
      "\u001b[94m    [ sg values for 1 (pos) ]\u001b[0m\n",
      "\u001b[94m[ caching gv values ]\u001b[0m\n",
      "\u001b[94m    [ gv values for 0 (neg) ]\u001b[0m\n",
      "\u001b[94m    [ gv values for 1 (pos) ]\u001b[0m\n",
      "\u001b[94m [ updating max gv values ]\u001b[0m\n",
      "\u001b[94m    [ max gv values for 0 (neg) ]\u001b[0m\n",
      "\u001b[94m    [ max gv values for 1 (pos) ]\u001b[0m\n",
      "\u001b[94m [ max gv values have been updated ]\u001b[0m\n",
      "\u001b[94m [ caching confidence values (cvs) ]\u001b[0m\n",
      "\u001b[94m    [ cvs for 0 (neg) ]\u001b[0m\n",
      "\u001b[94m    [ cvs for 1 (pos) ]\u001b[0m\n"
     ]
    },
    {
     "name": "stderr",
     "output_type": "stream",
     "text": [
      " Classification:   2%|▏         | 8/402 [00:00<00:04, 79.55it/s]"
     ]
    },
    {
     "name": "stdout",
     "output_type": "stream",
     "text": [
      "\u001b[94m [ finished --time: 3.2s ]\u001b[0m\n",
      "\u001b[94m [ default category was automatically set to 'pos' (the most probable one) ]\u001b[0m\n",
      "\u001b[94m [ about to start classifying test documents ]\u001b[0m\n"
     ]
    },
    {
     "name": "stderr",
     "output_type": "stream",
     "text": [
      " Classification: 100%|██████████| 402/402 [00:07<00:00, 56.95it/s]\n",
      " Training:   0%|          | 0/2 [00:00<?, ?it/s]"
     ]
    },
    {
     "name": "stdout",
     "output_type": "stream",
     "text": [
      "\u001b[94m [ finished --time: 7.1s ]\u001b[0m\n",
      "\u001b[94m [ about to start training ]\u001b[0m\n"
     ]
    },
    {
     "name": "stderr",
     "output_type": "stream",
     "text": [
      " Training: 100%|██████████| 2/2 [00:07<00:00,  3.49s/it]\n"
     ]
    },
    {
     "name": "stdout",
     "output_type": "stream",
     "text": [
      "\u001b[94m [ pruning tries... ]\u001b[0m\n",
      "\u001b[94m [ finished --time: 8.0s ]\u001b[0m\n",
      "\u001b[94m [ about to start updating values... ]\u001b[0m\n",
      "\u001b[94m [ caching lv values ]\u001b[0m\n",
      "\u001b[94m    [ lv values for 0 (neg) ]\u001b[0m\n",
      "\u001b[94m    [ lv values for 1 (pos) ]\u001b[0m\n",
      "\u001b[94m [ caching sg values ]\u001b[0m\n",
      "\u001b[94m    [ sg values for 0 (neg) ]\u001b[0m\n",
      "\u001b[94m    [ sg values for 1 (pos) ]\u001b[0m\n",
      "\u001b[94m[ caching gv values ]\u001b[0m\n",
      "\u001b[94m    [ gv values for 0 (neg) ]\u001b[0m\n",
      "\u001b[94m    [ gv values for 1 (pos) ]\u001b[0m\n",
      "\u001b[94m [ updating max gv values ]\u001b[0m\n",
      "\u001b[94m    [ max gv values for 0 (neg) ]\u001b[0m\n",
      "\u001b[94m    [ max gv values for 1 (pos) ]\u001b[0m\n",
      "\u001b[94m [ max gv values have been updated ]\u001b[0m\n",
      "\u001b[94m [ caching confidence values (cvs) ]\u001b[0m\n",
      "\u001b[94m    [ cvs for 0 (neg) ]\u001b[0m\n",
      "\u001b[94m    [ cvs for 1 (pos) ]\u001b[0m\n"
     ]
    },
    {
     "name": "stderr",
     "output_type": "stream",
     "text": [
      " Classification:   2%|▏         | 9/402 [00:00<00:04, 80.71it/s]"
     ]
    },
    {
     "name": "stdout",
     "output_type": "stream",
     "text": [
      "\u001b[94m [ finished --time: 3.2s ]\u001b[0m\n",
      "\u001b[94m [ default category was automatically set to 'pos' (the most probable one) ]\u001b[0m\n",
      "\u001b[94m [ about to start classifying test documents ]\u001b[0m\n"
     ]
    },
    {
     "name": "stderr",
     "output_type": "stream",
     "text": [
      " Classification: 100%|██████████| 402/402 [00:07<00:00, 56.13it/s]\n",
      " Training:   0%|          | 0/2 [00:00<?, ?it/s]"
     ]
    },
    {
     "name": "stdout",
     "output_type": "stream",
     "text": [
      "\u001b[94m [ finished --time: 7.2s ]\u001b[0m\n",
      "\u001b[94m [ about to start training ]\u001b[0m\n"
     ]
    },
    {
     "name": "stderr",
     "output_type": "stream",
     "text": [
      " Training: 100%|██████████| 2/2 [00:06<00:00,  3.00s/it]\n"
     ]
    },
    {
     "name": "stdout",
     "output_type": "stream",
     "text": [
      "\u001b[94m [ pruning tries... ]\u001b[0m\n",
      "\u001b[94m [ finished --time: 7.3s ]\u001b[0m\n",
      "\u001b[94m [ about to start updating values... ]\u001b[0m\n",
      "\u001b[94m [ caching lv values ]\u001b[0m\n",
      "\u001b[94m    [ lv values for 0 (neg) ]\u001b[0m\n",
      "\u001b[94m    [ lv values for 1 (pos) ]\u001b[0m\n",
      "\u001b[94m [ caching sg values ]\u001b[0m\n",
      "\u001b[94m    [ sg values for 0 (neg) ]\u001b[0m\n",
      "\u001b[94m    [ sg values for 1 (pos) ]\u001b[0m\n",
      "\u001b[94m[ caching gv values ]\u001b[0m\n",
      "\u001b[94m    [ gv values for 0 (neg) ]\u001b[0m\n",
      "\u001b[94m    [ gv values for 1 (pos) ]\u001b[0m\n",
      "\u001b[94m [ updating max gv values ]\u001b[0m\n",
      "\u001b[94m    [ max gv values for 0 (neg) ]\u001b[0m\n",
      "\u001b[94m    [ max gv values for 1 (pos) ]\u001b[0m\n",
      "\u001b[94m [ max gv values have been updated ]\u001b[0m\n",
      "\u001b[94m [ caching confidence values (cvs) ]\u001b[0m\n",
      "\u001b[94m    [ cvs for 0 (neg) ]\u001b[0m\n",
      "\u001b[94m    [ cvs for 1 (pos) ]\u001b[0m\n"
     ]
    },
    {
     "name": "stderr",
     "output_type": "stream",
     "text": [
      " Classification:   2%|▏         | 9/402 [00:00<00:04, 80.55it/s]"
     ]
    },
    {
     "name": "stdout",
     "output_type": "stream",
     "text": [
      "\u001b[94m [ finished --time: 3.2s ]\u001b[0m\n",
      "\u001b[94m [ default category was automatically set to 'pos' (the most probable one) ]\u001b[0m\n",
      "\u001b[94m [ about to start classifying test documents ]\u001b[0m\n"
     ]
    },
    {
     "name": "stderr",
     "output_type": "stream",
     "text": [
      " Classification: 100%|██████████| 402/402 [00:07<00:00, 57.42it/s]\n",
      " Training:   0%|          | 0/2 [00:00<?, ?it/s]"
     ]
    },
    {
     "name": "stdout",
     "output_type": "stream",
     "text": [
      "\u001b[94m [ finished --time: 7.0s ]\u001b[0m\n",
      "\u001b[94m [ about to start training ]\u001b[0m\n"
     ]
    },
    {
     "name": "stderr",
     "output_type": "stream",
     "text": [
      " Training: 100%|██████████| 2/2 [00:06<00:00,  3.02s/it]\n"
     ]
    },
    {
     "name": "stdout",
     "output_type": "stream",
     "text": [
      "\u001b[94m [ pruning tries... ]\u001b[0m\n",
      "\u001b[94m [ finished --time: 7.3s ]\u001b[0m\n",
      "\u001b[94m [ about to start updating values... ]\u001b[0m\n",
      "\u001b[94m [ caching lv values ]\u001b[0m\n",
      "\u001b[94m    [ lv values for 0 (neg) ]\u001b[0m\n",
      "\u001b[94m    [ lv values for 1 (pos) ]\u001b[0m\n",
      "\u001b[94m [ caching sg values ]\u001b[0m\n",
      "\u001b[94m    [ sg values for 0 (neg) ]\u001b[0m\n",
      "\u001b[94m    [ sg values for 1 (pos) ]\u001b[0m\n",
      "\u001b[94m[ caching gv values ]\u001b[0m\n",
      "\u001b[94m    [ gv values for 0 (neg) ]\u001b[0m\n",
      "\u001b[94m    [ gv values for 1 (pos) ]\u001b[0m\n",
      "\u001b[94m [ updating max gv values ]\u001b[0m\n",
      "\u001b[94m    [ max gv values for 0 (neg) ]\u001b[0m\n",
      "\u001b[94m    [ max gv values for 1 (pos) ]\u001b[0m\n",
      "\u001b[94m [ max gv values have been updated ]\u001b[0m\n",
      "\u001b[94m [ caching confidence values (cvs) ]\u001b[0m\n",
      "\u001b[94m    [ cvs for 0 (neg) ]\u001b[0m\n",
      "\u001b[94m    [ cvs for 1 (pos) ]\u001b[0m\n"
     ]
    },
    {
     "name": "stderr",
     "output_type": "stream",
     "text": [
      " Classification:   2%|▏         | 8/402 [00:00<00:04, 79.93it/s]"
     ]
    },
    {
     "name": "stdout",
     "output_type": "stream",
     "text": [
      "\u001b[94m [ finished --time: 3.2s ]\u001b[0m\n",
      "\u001b[94m [ default category was automatically set to 'pos' (the most probable one) ]\u001b[0m\n",
      "\u001b[94m [ about to start classifying test documents ]\u001b[0m\n"
     ]
    },
    {
     "name": "stderr",
     "output_type": "stream",
     "text": [
      " Classification: 100%|██████████| 402/402 [00:07<00:00, 58.39it/s]\n",
      " Training:   0%|          | 0/2 [00:00<?, ?it/s]"
     ]
    },
    {
     "name": "stdout",
     "output_type": "stream",
     "text": [
      "\u001b[94m [ finished --time: 7.1s ]\u001b[0m\n",
      "\u001b[94m [ about to start training ]\u001b[0m\n"
     ]
    },
    {
     "name": "stderr",
     "output_type": "stream",
     "text": [
      " Training: 100%|██████████| 2/2 [00:06<00:00,  3.22s/it]\n"
     ]
    },
    {
     "name": "stdout",
     "output_type": "stream",
     "text": [
      "\u001b[94m [ pruning tries... ]\u001b[0m\n",
      "\u001b[94m [ finished --time: 7.6s ]\u001b[0m\n",
      "\u001b[94m [ about to start updating values... ]\u001b[0m\n",
      "\u001b[94m [ caching lv values ]\u001b[0m\n",
      "\u001b[94m    [ lv values for 0 (neg) ]\u001b[0m\n",
      "\u001b[94m    [ lv values for 1 (pos) ]\u001b[0m\n",
      "\u001b[94m [ caching sg values ]\u001b[0m\n",
      "\u001b[94m    [ sg values for 0 (neg) ]\u001b[0m\n",
      "\u001b[94m    [ sg values for 1 (pos) ]\u001b[0m\n",
      "\u001b[94m[ caching gv values ]\u001b[0m\n",
      "\u001b[94m    [ gv values for 0 (neg) ]\u001b[0m\n",
      "\u001b[94m    [ gv values for 1 (pos) ]\u001b[0m\n",
      "\u001b[94m [ updating max gv values ]\u001b[0m\n",
      "\u001b[94m    [ max gv values for 0 (neg) ]\u001b[0m\n",
      "\u001b[94m    [ max gv values for 1 (pos) ]\u001b[0m\n",
      "\u001b[94m [ max gv values have been updated ]\u001b[0m\n",
      "\u001b[94m [ caching confidence values (cvs) ]\u001b[0m\n",
      "\u001b[94m    [ cvs for 0 (neg) ]\u001b[0m\n",
      "\u001b[94m    [ cvs for 1 (pos) ]\u001b[0m\n"
     ]
    },
    {
     "name": "stderr",
     "output_type": "stream",
     "text": [
      " Classification:   2%|▏         | 8/402 [00:00<00:05, 77.16it/s]"
     ]
    },
    {
     "name": "stdout",
     "output_type": "stream",
     "text": [
      "\u001b[94m [ finished --time: 3.2s ]\u001b[0m\n",
      "\u001b[94m [ default category was automatically set to 'pos' (the most probable one) ]\u001b[0m\n",
      "\u001b[94m [ about to start classifying test documents ]\u001b[0m\n"
     ]
    },
    {
     "name": "stderr",
     "output_type": "stream",
     "text": [
      " Classification: 100%|██████████| 402/402 [00:07<00:00, 57.02it/s]\n",
      " Training:   0%|          | 0/2 [00:00<?, ?it/s]"
     ]
    },
    {
     "name": "stdout",
     "output_type": "stream",
     "text": [
      "\u001b[94m [ finished --time: 7.1s ]\u001b[0m\n",
      "\u001b[94m [ about to start training ]\u001b[0m\n"
     ]
    },
    {
     "name": "stderr",
     "output_type": "stream",
     "text": [
      " Training: 100%|██████████| 2/2 [00:07<00:00,  3.28s/it]\n"
     ]
    },
    {
     "name": "stdout",
     "output_type": "stream",
     "text": [
      "\u001b[94m [ pruning tries... ]\u001b[0m\n",
      "\u001b[94m [ finished --time: 7.7s ]\u001b[0m\n",
      "\u001b[94m [ about to start updating values... ]\u001b[0m\n",
      "\u001b[94m [ caching lv values ]\u001b[0m\n",
      "\u001b[94m    [ lv values for 0 (neg) ]\u001b[0m\n",
      "\u001b[94m    [ lv values for 1 (pos) ]\u001b[0m\n",
      "\u001b[94m [ caching sg values ]\u001b[0m\n",
      "\u001b[94m    [ sg values for 0 (neg) ]\u001b[0m\n",
      "\u001b[94m    [ sg values for 1 (pos) ]\u001b[0m\n",
      "\u001b[94m[ caching gv values ]\u001b[0m\n",
      "\u001b[94m    [ gv values for 0 (neg) ]\u001b[0m\n",
      "\u001b[94m    [ gv values for 1 (pos) ]\u001b[0m\n",
      "\u001b[94m [ updating max gv values ]\u001b[0m\n",
      "\u001b[94m    [ max gv values for 0 (neg) ]\u001b[0m\n",
      "\u001b[94m    [ max gv values for 1 (pos) ]\u001b[0m\n",
      "\u001b[94m [ max gv values have been updated ]\u001b[0m\n",
      "\u001b[94m [ caching confidence values (cvs) ]\u001b[0m\n",
      "\u001b[94m    [ cvs for 0 (neg) ]\u001b[0m\n",
      "\u001b[94m    [ cvs for 1 (pos) ]\u001b[0m\n"
     ]
    },
    {
     "name": "stderr",
     "output_type": "stream",
     "text": [
      " Classification:   2%|▏         | 9/402 [00:00<00:04, 81.47it/s]"
     ]
    },
    {
     "name": "stdout",
     "output_type": "stream",
     "text": [
      "\u001b[94m [ finished --time: 3.2s ]\u001b[0m\n",
      "\u001b[94m [ default category was automatically set to 'pos' (the most probable one) ]\u001b[0m\n",
      "\u001b[94m [ about to start classifying test documents ]\u001b[0m\n"
     ]
    },
    {
     "name": "stderr",
     "output_type": "stream",
     "text": [
      " Classification: 100%|██████████| 402/402 [00:07<00:00, 56.40it/s]\n",
      " Training:   0%|          | 0/2 [00:00<?, ?it/s]"
     ]
    },
    {
     "name": "stdout",
     "output_type": "stream",
     "text": [
      "\u001b[94m [ finished --time: 7.1s ]\u001b[0m\n",
      "\u001b[94m [ about to start training ]\u001b[0m\n"
     ]
    },
    {
     "name": "stderr",
     "output_type": "stream",
     "text": [
      " Training: 100%|██████████| 2/2 [00:06<00:00,  3.03s/it]\n"
     ]
    },
    {
     "name": "stdout",
     "output_type": "stream",
     "text": [
      "\u001b[94m [ pruning tries... ]\u001b[0m\n",
      "\u001b[94m [ finished --time: 7.3s ]\u001b[0m\n",
      "\u001b[94m [ about to start updating values... ]\u001b[0m\n",
      "\u001b[94m [ caching lv values ]\u001b[0m\n",
      "\u001b[94m    [ lv values for 0 (neg) ]\u001b[0m\n",
      "\u001b[94m    [ lv values for 1 (pos) ]\u001b[0m\n",
      "\u001b[94m [ caching sg values ]\u001b[0m\n",
      "\u001b[94m    [ sg values for 0 (neg) ]\u001b[0m\n",
      "\u001b[94m    [ sg values for 1 (pos) ]\u001b[0m\n",
      "\u001b[94m[ caching gv values ]\u001b[0m\n",
      "\u001b[94m    [ gv values for 0 (neg) ]\u001b[0m\n",
      "\u001b[94m    [ gv values for 1 (pos) ]\u001b[0m\n",
      "\u001b[94m [ updating max gv values ]\u001b[0m\n",
      "\u001b[94m    [ max gv values for 0 (neg) ]\u001b[0m\n",
      "\u001b[94m    [ max gv values for 1 (pos) ]\u001b[0m\n",
      "\u001b[94m [ max gv values have been updated ]\u001b[0m\n",
      "\u001b[94m [ caching confidence values (cvs) ]\u001b[0m\n",
      "\u001b[94m    [ cvs for 0 (neg) ]\u001b[0m\n",
      "\u001b[94m    [ cvs for 1 (pos) ]\u001b[0m\n"
     ]
    },
    {
     "name": "stderr",
     "output_type": "stream",
     "text": [
      " Classification:   2%|▏         | 9/402 [00:00<00:04, 81.67it/s]"
     ]
    },
    {
     "name": "stdout",
     "output_type": "stream",
     "text": [
      "\u001b[94m [ finished --time: 3.2s ]\u001b[0m\n",
      "\u001b[94m [ default category was automatically set to 'pos' (the most probable one) ]\u001b[0m\n",
      "\u001b[94m [ about to start classifying test documents ]\u001b[0m\n"
     ]
    },
    {
     "name": "stderr",
     "output_type": "stream",
     "text": [
      " Classification: 100%|██████████| 402/402 [00:06<00:00, 57.55it/s]\n",
      " Training:   0%|          | 0/2 [00:00<?, ?it/s]"
     ]
    },
    {
     "name": "stdout",
     "output_type": "stream",
     "text": [
      "\u001b[94m [ finished --time: 7.0s ]\u001b[0m\n",
      "\u001b[94m [ about to start training ]\u001b[0m\n"
     ]
    },
    {
     "name": "stderr",
     "output_type": "stream",
     "text": [
      " Training: 100%|██████████| 2/2 [00:06<00:00,  3.00s/it]\n"
     ]
    },
    {
     "name": "stdout",
     "output_type": "stream",
     "text": [
      "\u001b[94m [ pruning tries... ]\u001b[0m\n",
      "\u001b[94m [ finished --time: 7.2s ]\u001b[0m\n",
      "\u001b[94m [ about to start updating values... ]\u001b[0m\n",
      "\u001b[94m [ caching lv values ]\u001b[0m\n",
      "\u001b[94m    [ lv values for 0 (neg) ]\u001b[0m\n",
      "\u001b[94m    [ lv values for 1 (pos) ]\u001b[0m\n",
      "\u001b[94m [ caching sg values ]\u001b[0m\n",
      "\u001b[94m    [ sg values for 0 (neg) ]\u001b[0m\n",
      "\u001b[94m    [ sg values for 1 (pos) ]\u001b[0m\n",
      "\u001b[94m[ caching gv values ]\u001b[0m\n",
      "\u001b[94m    [ gv values for 0 (neg) ]\u001b[0m\n",
      "\u001b[94m    [ gv values for 1 (pos) ]\u001b[0m\n",
      "\u001b[94m [ updating max gv values ]\u001b[0m\n",
      "\u001b[94m    [ max gv values for 0 (neg) ]\u001b[0m\n",
      "\u001b[94m    [ max gv values for 1 (pos) ]\u001b[0m\n",
      "\u001b[94m [ max gv values have been updated ]\u001b[0m\n",
      "\u001b[94m [ caching confidence values (cvs) ]\u001b[0m\n",
      "\u001b[94m    [ cvs for 0 (neg) ]\u001b[0m\n",
      "\u001b[94m    [ cvs for 1 (pos) ]\u001b[0m\n"
     ]
    },
    {
     "name": "stderr",
     "output_type": "stream",
     "text": [
      " Classification:   2%|▏         | 9/402 [00:00<00:04, 81.24it/s]"
     ]
    },
    {
     "name": "stdout",
     "output_type": "stream",
     "text": [
      "\u001b[94m [ finished --time: 3.3s ]\u001b[0m\n",
      "\u001b[94m [ default category was automatically set to 'pos' (the most probable one) ]\u001b[0m\n",
      "\u001b[94m [ about to start classifying test documents ]\u001b[0m\n"
     ]
    },
    {
     "name": "stderr",
     "output_type": "stream",
     "text": [
      " Classification: 100%|██████████| 402/402 [00:07<00:00, 55.88it/s]\n",
      " Training:   0%|          | 0/2 [00:00<?, ?it/s]"
     ]
    },
    {
     "name": "stdout",
     "output_type": "stream",
     "text": [
      "\u001b[94m [ finished --time: 7.2s ]\u001b[0m\n",
      "\u001b[94m [ about to start training ]\u001b[0m\n"
     ]
    },
    {
     "name": "stderr",
     "output_type": "stream",
     "text": [
      " Training: 100%|██████████| 2/2 [00:06<00:00,  3.21s/it]\n"
     ]
    },
    {
     "name": "stdout",
     "output_type": "stream",
     "text": [
      "\u001b[94m [ pruning tries... ]\u001b[0m\n",
      "\u001b[94m [ finished --time: 7.6s ]\u001b[0m\n",
      "\u001b[94m [ about to start updating values... ]\u001b[0m\n",
      "\u001b[94m [ caching lv values ]\u001b[0m\n",
      "\u001b[94m    [ lv values for 0 (neg) ]\u001b[0m\n",
      "\u001b[94m    [ lv values for 1 (pos) ]\u001b[0m\n",
      "\u001b[94m [ caching sg values ]\u001b[0m\n",
      "\u001b[94m    [ sg values for 0 (neg) ]\u001b[0m\n",
      "\u001b[94m    [ sg values for 1 (pos) ]\u001b[0m\n",
      "\u001b[94m[ caching gv values ]\u001b[0m\n",
      "\u001b[94m    [ gv values for 0 (neg) ]\u001b[0m\n",
      "\u001b[94m    [ gv values for 1 (pos) ]\u001b[0m\n",
      "\u001b[94m [ updating max gv values ]\u001b[0m\n",
      "\u001b[94m    [ max gv values for 0 (neg) ]\u001b[0m\n",
      "\u001b[94m    [ max gv values for 1 (pos) ]\u001b[0m\n",
      "\u001b[94m [ max gv values have been updated ]\u001b[0m\n",
      "\u001b[94m [ caching confidence values (cvs) ]\u001b[0m\n",
      "\u001b[94m    [ cvs for 0 (neg) ]\u001b[0m\n",
      "\u001b[94m    [ cvs for 1 (pos) ]\u001b[0m\n"
     ]
    },
    {
     "name": "stderr",
     "output_type": "stream",
     "text": [
      " Classification:   2%|▏         | 8/402 [00:00<00:05, 77.86it/s]"
     ]
    },
    {
     "name": "stdout",
     "output_type": "stream",
     "text": [
      "\u001b[94m [ finished --time: 3.2s ]\u001b[0m\n",
      "\u001b[94m [ default category was automatically set to 'pos' (the most probable one) ]\u001b[0m\n",
      "\u001b[94m [ about to start classifying test documents ]\u001b[0m\n"
     ]
    },
    {
     "name": "stderr",
     "output_type": "stream",
     "text": [
      " Classification: 100%|██████████| 402/402 [00:07<00:00, 56.79it/s]\n",
      " Training:   0%|          | 0/2 [00:00<?, ?it/s]"
     ]
    },
    {
     "name": "stdout",
     "output_type": "stream",
     "text": [
      "\u001b[94m [ finished --time: 7.1s ]\u001b[0m\n",
      "\u001b[94m [ about to start training ]\u001b[0m\n"
     ]
    },
    {
     "name": "stderr",
     "output_type": "stream",
     "text": [
      " Training: 100%|██████████| 2/2 [00:07<00:00,  3.27s/it]\n"
     ]
    },
    {
     "name": "stdout",
     "output_type": "stream",
     "text": [
      "\u001b[94m [ pruning tries... ]\u001b[0m\n",
      "\u001b[94m [ finished --time: 7.7s ]\u001b[0m\n",
      "\u001b[94m [ about to start updating values... ]\u001b[0m\n",
      "\u001b[94m [ caching lv values ]\u001b[0m\n",
      "\u001b[94m    [ lv values for 0 (neg) ]\u001b[0m\n",
      "\u001b[94m    [ lv values for 1 (pos) ]\u001b[0m\n",
      "\u001b[94m [ caching sg values ]\u001b[0m\n",
      "\u001b[94m    [ sg values for 0 (neg) ]\u001b[0m\n",
      "\u001b[94m    [ sg values for 1 (pos) ]\u001b[0m\n",
      "\u001b[94m[ caching gv values ]\u001b[0m\n",
      "\u001b[94m    [ gv values for 0 (neg) ]\u001b[0m\n",
      "\u001b[94m    [ gv values for 1 (pos) ]\u001b[0m\n",
      "\u001b[94m [ updating max gv values ]\u001b[0m\n",
      "\u001b[94m    [ max gv values for 0 (neg) ]\u001b[0m\n",
      "\u001b[94m    [ max gv values for 1 (pos) ]\u001b[0m\n",
      "\u001b[94m [ max gv values have been updated ]\u001b[0m\n",
      "\u001b[94m [ caching confidence values (cvs) ]\u001b[0m\n",
      "\u001b[94m    [ cvs for 0 (neg) ]\u001b[0m\n",
      "\u001b[94m    [ cvs for 1 (pos) ]\u001b[0m\n"
     ]
    },
    {
     "name": "stderr",
     "output_type": "stream",
     "text": [
      " Classification:   2%|▏         | 9/402 [00:00<00:04, 80.28it/s]"
     ]
    },
    {
     "name": "stdout",
     "output_type": "stream",
     "text": [
      "\u001b[94m [ finished --time: 3.1s ]\u001b[0m\n",
      "\u001b[94m [ default category was automatically set to 'pos' (the most probable one) ]\u001b[0m\n",
      "\u001b[94m [ about to start classifying test documents ]\u001b[0m\n"
     ]
    },
    {
     "name": "stderr",
     "output_type": "stream",
     "text": [
      " Classification: 100%|██████████| 402/402 [00:07<00:00, 55.67it/s]\n",
      " Training:   0%|          | 0/2 [00:00<?, ?it/s]"
     ]
    },
    {
     "name": "stdout",
     "output_type": "stream",
     "text": [
      "\u001b[94m [ finished --time: 7.2s ]\u001b[0m\n",
      "\u001b[94m [ about to start training ]\u001b[0m\n"
     ]
    },
    {
     "name": "stderr",
     "output_type": "stream",
     "text": [
      " Training: 100%|██████████| 2/2 [00:06<00:00,  2.96s/it]\n"
     ]
    },
    {
     "name": "stdout",
     "output_type": "stream",
     "text": [
      "\u001b[94m [ pruning tries... ]\u001b[0m\n",
      "\u001b[94m [ finished --time: 7.2s ]\u001b[0m\n",
      "\u001b[94m [ about to start updating values... ]\u001b[0m\n",
      "\u001b[94m [ caching lv values ]\u001b[0m\n",
      "\u001b[94m    [ lv values for 0 (neg) ]\u001b[0m\n",
      "\u001b[94m    [ lv values for 1 (pos) ]\u001b[0m\n",
      "\u001b[94m [ caching sg values ]\u001b[0m\n",
      "\u001b[94m    [ sg values for 0 (neg) ]\u001b[0m\n",
      "\u001b[94m    [ sg values for 1 (pos) ]\u001b[0m\n",
      "\u001b[94m[ caching gv values ]\u001b[0m\n",
      "\u001b[94m    [ gv values for 0 (neg) ]\u001b[0m\n",
      "\u001b[94m    [ gv values for 1 (pos) ]\u001b[0m\n",
      "\u001b[94m [ updating max gv values ]\u001b[0m\n",
      "\u001b[94m    [ max gv values for 0 (neg) ]\u001b[0m\n",
      "\u001b[94m    [ max gv values for 1 (pos) ]\u001b[0m\n",
      "\u001b[94m [ max gv values have been updated ]\u001b[0m\n",
      "\u001b[94m [ caching confidence values (cvs) ]\u001b[0m\n",
      "\u001b[94m    [ cvs for 0 (neg) ]\u001b[0m\n",
      "\u001b[94m    [ cvs for 1 (pos) ]\u001b[0m\n"
     ]
    },
    {
     "name": "stderr",
     "output_type": "stream",
     "text": [
      " Classification:   2%|▏         | 8/402 [00:00<00:05, 76.94it/s]"
     ]
    },
    {
     "name": "stdout",
     "output_type": "stream",
     "text": [
      "\u001b[94m [ finished --time: 3.2s ]\u001b[0m\n",
      "\u001b[94m [ default category was automatically set to 'pos' (the most probable one) ]\u001b[0m\n",
      "\u001b[94m [ about to start classifying test documents ]\u001b[0m\n"
     ]
    },
    {
     "name": "stderr",
     "output_type": "stream",
     "text": [
      " Classification: 100%|██████████| 402/402 [00:07<00:00, 57.23it/s]\n",
      " Training:   0%|          | 0/2 [00:00<?, ?it/s]"
     ]
    },
    {
     "name": "stdout",
     "output_type": "stream",
     "text": [
      "\u001b[94m [ finished --time: 7.0s ]\u001b[0m\n",
      "\u001b[94m [ about to start training ]\u001b[0m\n"
     ]
    },
    {
     "name": "stderr",
     "output_type": "stream",
     "text": [
      " Training: 100%|██████████| 2/2 [00:07<00:00,  3.50s/it]\n"
     ]
    },
    {
     "name": "stdout",
     "output_type": "stream",
     "text": [
      "\u001b[94m [ pruning tries... ]\u001b[0m\n",
      "\u001b[94m [ finished --time: 8.0s ]\u001b[0m\n",
      "\u001b[94m [ about to start updating values... ]\u001b[0m\n",
      "\u001b[94m [ caching lv values ]\u001b[0m\n",
      "\u001b[94m    [ lv values for 0 (neg) ]\u001b[0m\n",
      "\u001b[94m    [ lv values for 1 (pos) ]\u001b[0m\n",
      "\u001b[94m [ caching sg values ]\u001b[0m\n",
      "\u001b[94m    [ sg values for 0 (neg) ]\u001b[0m\n",
      "\u001b[94m    [ sg values for 1 (pos) ]\u001b[0m\n",
      "\u001b[94m[ caching gv values ]\u001b[0m\n",
      "\u001b[94m    [ gv values for 0 (neg) ]\u001b[0m\n",
      "\u001b[94m    [ gv values for 1 (pos) ]\u001b[0m\n",
      "\u001b[94m [ updating max gv values ]\u001b[0m\n",
      "\u001b[94m    [ max gv values for 0 (neg) ]\u001b[0m\n",
      "\u001b[94m    [ max gv values for 1 (pos) ]\u001b[0m\n",
      "\u001b[94m [ max gv values have been updated ]\u001b[0m\n",
      "\u001b[94m [ caching confidence values (cvs) ]\u001b[0m\n",
      "\u001b[94m    [ cvs for 0 (neg) ]\u001b[0m\n",
      "\u001b[94m    [ cvs for 1 (pos) ]\u001b[0m\n"
     ]
    },
    {
     "name": "stderr",
     "output_type": "stream",
     "text": [
      " Classification:   2%|▏         | 9/402 [00:00<00:04, 79.45it/s]"
     ]
    },
    {
     "name": "stdout",
     "output_type": "stream",
     "text": [
      "\u001b[94m [ finished --time: 3.2s ]\u001b[0m\n",
      "\u001b[94m [ default category was automatically set to 'pos' (the most probable one) ]\u001b[0m\n",
      "\u001b[94m [ about to start classifying test documents ]\u001b[0m\n"
     ]
    },
    {
     "name": "stderr",
     "output_type": "stream",
     "text": [
      " Classification: 100%|██████████| 402/402 [00:07<00:00, 57.27it/s]\n",
      " Training:   0%|          | 0/2 [00:00<?, ?it/s]"
     ]
    },
    {
     "name": "stdout",
     "output_type": "stream",
     "text": [
      "\u001b[94m [ finished --time: 7.0s ]\u001b[0m\n",
      "\u001b[94m [ about to start training ]\u001b[0m\n"
     ]
    },
    {
     "name": "stderr",
     "output_type": "stream",
     "text": [
      " Training: 100%|██████████| 2/2 [00:06<00:00,  3.04s/it]\n"
     ]
    },
    {
     "name": "stdout",
     "output_type": "stream",
     "text": [
      "\u001b[94m [ pruning tries... ]\u001b[0m\n",
      "\u001b[94m [ finished --time: 7.4s ]\u001b[0m\n",
      "\u001b[94m [ about to start updating values... ]\u001b[0m\n",
      "\u001b[94m [ caching lv values ]\u001b[0m\n",
      "\u001b[94m    [ lv values for 0 (neg) ]\u001b[0m\n",
      "\u001b[94m    [ lv values for 1 (pos) ]\u001b[0m\n",
      "\u001b[94m [ caching sg values ]\u001b[0m\n",
      "\u001b[94m    [ sg values for 0 (neg) ]\u001b[0m\n",
      "\u001b[94m    [ sg values for 1 (pos) ]\u001b[0m\n",
      "\u001b[94m[ caching gv values ]\u001b[0m\n",
      "\u001b[94m    [ gv values for 0 (neg) ]\u001b[0m\n",
      "\u001b[94m    [ gv values for 1 (pos) ]\u001b[0m\n",
      "\u001b[94m [ updating max gv values ]\u001b[0m\n",
      "\u001b[94m    [ max gv values for 0 (neg) ]\u001b[0m\n",
      "\u001b[94m    [ max gv values for 1 (pos) ]\u001b[0m\n",
      "\u001b[94m [ max gv values have been updated ]\u001b[0m\n",
      "\u001b[94m [ caching confidence values (cvs) ]\u001b[0m\n",
      "\u001b[94m    [ cvs for 0 (neg) ]\u001b[0m\n",
      "\u001b[94m    [ cvs for 1 (pos) ]\u001b[0m\n"
     ]
    },
    {
     "name": "stderr",
     "output_type": "stream",
     "text": [
      " Classification:   2%|▏         | 9/402 [00:00<00:04, 80.16it/s]"
     ]
    },
    {
     "name": "stdout",
     "output_type": "stream",
     "text": [
      "\u001b[94m [ finished --time: 3.2s ]\u001b[0m\n",
      "\u001b[94m [ default category was automatically set to 'pos' (the most probable one) ]\u001b[0m\n",
      "\u001b[94m [ about to start classifying test documents ]\u001b[0m\n"
     ]
    },
    {
     "name": "stderr",
     "output_type": "stream",
     "text": [
      " Classification: 100%|██████████| 402/402 [00:07<00:00, 57.34it/s]\n",
      " Training:   0%|          | 0/2 [00:00<?, ?it/s]"
     ]
    },
    {
     "name": "stdout",
     "output_type": "stream",
     "text": [
      "\u001b[94m [ finished --time: 7.0s ]\u001b[0m\n",
      "\u001b[94m [ about to start training ]\u001b[0m\n"
     ]
    },
    {
     "name": "stderr",
     "output_type": "stream",
     "text": [
      " Training: 100%|██████████| 2/2 [00:06<00:00,  3.03s/it]\n"
     ]
    },
    {
     "name": "stdout",
     "output_type": "stream",
     "text": [
      "\u001b[94m [ pruning tries... ]\u001b[0m\n",
      "\u001b[94m [ finished --time: 7.3s ]\u001b[0m\n",
      "\u001b[94m [ about to start updating values... ]\u001b[0m\n",
      "\u001b[94m [ caching lv values ]\u001b[0m\n",
      "\u001b[94m    [ lv values for 0 (neg) ]\u001b[0m\n",
      "\u001b[94m    [ lv values for 1 (pos) ]\u001b[0m\n",
      "\u001b[94m [ caching sg values ]\u001b[0m\n",
      "\u001b[94m    [ sg values for 0 (neg) ]\u001b[0m\n",
      "\u001b[94m    [ sg values for 1 (pos) ]\u001b[0m\n",
      "\u001b[94m[ caching gv values ]\u001b[0m\n",
      "\u001b[94m    [ gv values for 0 (neg) ]\u001b[0m\n",
      "\u001b[94m    [ gv values for 1 (pos) ]\u001b[0m\n",
      "\u001b[94m [ updating max gv values ]\u001b[0m\n",
      "\u001b[94m    [ max gv values for 0 (neg) ]\u001b[0m\n",
      "\u001b[94m    [ max gv values for 1 (pos) ]\u001b[0m\n",
      "\u001b[94m [ max gv values have been updated ]\u001b[0m\n",
      "\u001b[94m [ caching confidence values (cvs) ]\u001b[0m\n",
      "\u001b[94m    [ cvs for 0 (neg) ]\u001b[0m\n",
      "\u001b[94m    [ cvs for 1 (pos) ]\u001b[0m\n"
     ]
    },
    {
     "name": "stderr",
     "output_type": "stream",
     "text": [
      " Classification:   2%|▏         | 8/402 [00:00<00:05, 75.27it/s]"
     ]
    },
    {
     "name": "stdout",
     "output_type": "stream",
     "text": [
      "\u001b[94m [ finished --time: 3.1s ]\u001b[0m\n",
      "\u001b[94m [ default category was automatically set to 'pos' (the most probable one) ]\u001b[0m\n",
      "\u001b[94m [ about to start classifying test documents ]\u001b[0m\n"
     ]
    },
    {
     "name": "stderr",
     "output_type": "stream",
     "text": [
      " Classification: 100%|██████████| 402/402 [00:07<00:00, 56.59it/s]\n",
      " Training:   0%|          | 0/2 [00:00<?, ?it/s]"
     ]
    },
    {
     "name": "stdout",
     "output_type": "stream",
     "text": [
      "\u001b[94m [ finished --time: 7.1s ]\u001b[0m\n",
      "\u001b[94m [ about to start training ]\u001b[0m\n"
     ]
    },
    {
     "name": "stderr",
     "output_type": "stream",
     "text": [
      " Training: 100%|██████████| 2/2 [00:06<00:00,  3.17s/it]\n"
     ]
    },
    {
     "name": "stdout",
     "output_type": "stream",
     "text": [
      "\u001b[94m [ pruning tries... ]\u001b[0m\n",
      "\u001b[94m [ finished --time: 7.5s ]\u001b[0m\n",
      "\u001b[94m [ about to start updating values... ]\u001b[0m\n",
      "\u001b[94m [ caching lv values ]\u001b[0m\n",
      "\u001b[94m    [ lv values for 0 (neg) ]\u001b[0m\n",
      "\u001b[94m    [ lv values for 1 (pos) ]\u001b[0m\n",
      "\u001b[94m [ caching sg values ]\u001b[0m\n",
      "\u001b[94m    [ sg values for 0 (neg) ]\u001b[0m\n",
      "\u001b[94m    [ sg values for 1 (pos) ]\u001b[0m\n",
      "\u001b[94m[ caching gv values ]\u001b[0m\n",
      "\u001b[94m    [ gv values for 0 (neg) ]\u001b[0m\n",
      "\u001b[94m    [ gv values for 1 (pos) ]\u001b[0m\n",
      "\u001b[94m [ updating max gv values ]\u001b[0m\n",
      "\u001b[94m    [ max gv values for 0 (neg) ]\u001b[0m\n",
      "\u001b[94m    [ max gv values for 1 (pos) ]\u001b[0m\n",
      "\u001b[94m [ max gv values have been updated ]\u001b[0m\n",
      "\u001b[94m [ caching confidence values (cvs) ]\u001b[0m\n",
      "\u001b[94m    [ cvs for 0 (neg) ]\u001b[0m\n",
      "\u001b[94m    [ cvs for 1 (pos) ]\u001b[0m\n"
     ]
    },
    {
     "name": "stderr",
     "output_type": "stream",
     "text": [
      " Classification:   2%|▏         | 9/402 [00:00<00:04, 82.21it/s]"
     ]
    },
    {
     "name": "stdout",
     "output_type": "stream",
     "text": [
      "\u001b[94m [ finished --time: 3.2s ]\u001b[0m\n",
      "\u001b[94m [ default category was automatically set to 'pos' (the most probable one) ]\u001b[0m\n",
      "\u001b[94m [ about to start classifying test documents ]\u001b[0m\n"
     ]
    },
    {
     "name": "stderr",
     "output_type": "stream",
     "text": [
      " Classification: 100%|██████████| 402/402 [00:07<00:00, 57.04it/s]\n",
      " Training:   0%|          | 0/2 [00:00<?, ?it/s]"
     ]
    },
    {
     "name": "stdout",
     "output_type": "stream",
     "text": [
      "\u001b[94m [ finished --time: 7.0s ]\u001b[0m\n",
      "\u001b[94m [ about to start training ]\u001b[0m\n"
     ]
    },
    {
     "name": "stderr",
     "output_type": "stream",
     "text": [
      " Training: 100%|██████████| 2/2 [00:07<00:00,  3.48s/it]\n"
     ]
    },
    {
     "name": "stdout",
     "output_type": "stream",
     "text": [
      "\u001b[94m [ pruning tries... ]\u001b[0m\n",
      "\u001b[94m [ finished --time: 8.0s ]\u001b[0m\n",
      "\u001b[94m [ about to start updating values... ]\u001b[0m\n",
      "\u001b[94m [ caching lv values ]\u001b[0m\n",
      "\u001b[94m    [ lv values for 0 (neg) ]\u001b[0m\n",
      "\u001b[94m    [ lv values for 1 (pos) ]\u001b[0m\n",
      "\u001b[94m [ caching sg values ]\u001b[0m\n",
      "\u001b[94m    [ sg values for 0 (neg) ]\u001b[0m\n",
      "\u001b[94m    [ sg values for 1 (pos) ]\u001b[0m\n",
      "\u001b[94m[ caching gv values ]\u001b[0m\n",
      "\u001b[94m    [ gv values for 0 (neg) ]\u001b[0m\n",
      "\u001b[94m    [ gv values for 1 (pos) ]\u001b[0m\n",
      "\u001b[94m [ updating max gv values ]\u001b[0m\n",
      "\u001b[94m    [ max gv values for 0 (neg) ]\u001b[0m\n",
      "\u001b[94m    [ max gv values for 1 (pos) ]\u001b[0m\n",
      "\u001b[94m [ max gv values have been updated ]\u001b[0m\n",
      "\u001b[94m [ caching confidence values (cvs) ]\u001b[0m\n",
      "\u001b[94m    [ cvs for 0 (neg) ]\u001b[0m\n",
      "\u001b[94m    [ cvs for 1 (pos) ]\u001b[0m\n"
     ]
    },
    {
     "name": "stderr",
     "output_type": "stream",
     "text": [
      " Classification:   2%|▏         | 8/402 [00:00<00:05, 76.65it/s]"
     ]
    },
    {
     "name": "stdout",
     "output_type": "stream",
     "text": [
      "\u001b[94m [ finished --time: 3.1s ]\u001b[0m\n",
      "\u001b[94m [ default category was automatically set to 'pos' (the most probable one) ]\u001b[0m\n",
      "\u001b[94m [ about to start classifying test documents ]\u001b[0m\n"
     ]
    },
    {
     "name": "stderr",
     "output_type": "stream",
     "text": [
      " Classification: 100%|██████████| 402/402 [00:07<00:00, 56.54it/s]\n",
      " Training:   0%|          | 0/2 [00:00<?, ?it/s]"
     ]
    },
    {
     "name": "stdout",
     "output_type": "stream",
     "text": [
      "\u001b[94m [ finished --time: 7.1s ]\u001b[0m\n",
      "\u001b[94m [ about to start training ]\u001b[0m\n"
     ]
    },
    {
     "name": "stderr",
     "output_type": "stream",
     "text": [
      " Training: 100%|██████████| 2/2 [00:06<00:00,  2.97s/it]\n"
     ]
    },
    {
     "name": "stdout",
     "output_type": "stream",
     "text": [
      "\u001b[94m [ pruning tries... ]\u001b[0m\n",
      "\u001b[94m [ finished --time: 7.2s ]\u001b[0m\n",
      "\u001b[94m [ about to start updating values... ]\u001b[0m\n",
      "\u001b[94m [ caching lv values ]\u001b[0m\n",
      "\u001b[94m    [ lv values for 0 (neg) ]\u001b[0m\n",
      "\u001b[94m    [ lv values for 1 (pos) ]\u001b[0m\n",
      "\u001b[94m [ caching sg values ]\u001b[0m\n",
      "\u001b[94m    [ sg values for 0 (neg) ]\u001b[0m\n",
      "\u001b[94m    [ sg values for 1 (pos) ]\u001b[0m\n",
      "\u001b[94m[ caching gv values ]\u001b[0m\n",
      "\u001b[94m    [ gv values for 0 (neg) ]\u001b[0m\n",
      "\u001b[94m    [ gv values for 1 (pos) ]\u001b[0m\n",
      "\u001b[94m [ updating max gv values ]\u001b[0m\n",
      "\u001b[94m    [ max gv values for 0 (neg) ]\u001b[0m\n",
      "\u001b[94m    [ max gv values for 1 (pos) ]\u001b[0m\n",
      "\u001b[94m [ max gv values have been updated ]\u001b[0m\n",
      "\u001b[94m [ caching confidence values (cvs) ]\u001b[0m\n",
      "\u001b[94m    [ cvs for 0 (neg) ]\u001b[0m\n",
      "\u001b[94m    [ cvs for 1 (pos) ]\u001b[0m\n"
     ]
    },
    {
     "name": "stderr",
     "output_type": "stream",
     "text": [
      " Classification:   2%|▏         | 9/402 [00:00<00:04, 80.23it/s]"
     ]
    },
    {
     "name": "stdout",
     "output_type": "stream",
     "text": [
      "\u001b[94m [ finished --time: 3.2s ]\u001b[0m\n",
      "\u001b[94m [ default category was automatically set to 'pos' (the most probable one) ]\u001b[0m\n",
      "\u001b[94m [ about to start classifying test documents ]\u001b[0m\n"
     ]
    },
    {
     "name": "stderr",
     "output_type": "stream",
     "text": [
      " Classification: 100%|██████████| 402/402 [00:07<00:00, 56.40it/s]\n",
      " Training:   0%|          | 0/2 [00:00<?, ?it/s]"
     ]
    },
    {
     "name": "stdout",
     "output_type": "stream",
     "text": [
      "\u001b[94m [ finished --time: 7.1s ]\u001b[0m\n",
      "\u001b[94m [ about to start training ]\u001b[0m\n"
     ]
    },
    {
     "name": "stderr",
     "output_type": "stream",
     "text": [
      " Training: 100%|██████████| 2/2 [00:06<00:00,  3.23s/it]\n"
     ]
    },
    {
     "name": "stdout",
     "output_type": "stream",
     "text": [
      "\u001b[94m [ pruning tries... ]\u001b[0m\n",
      "\u001b[94m [ finished --time: 7.5s ]\u001b[0m\n",
      "\u001b[94m [ about to start updating values... ]\u001b[0m\n",
      "\u001b[94m [ caching lv values ]\u001b[0m\n",
      "\u001b[94m    [ lv values for 0 (neg) ]\u001b[0m\n",
      "\u001b[94m    [ lv values for 1 (pos) ]\u001b[0m\n",
      "\u001b[94m [ caching sg values ]\u001b[0m\n",
      "\u001b[94m    [ sg values for 0 (neg) ]\u001b[0m\n",
      "\u001b[94m    [ sg values for 1 (pos) ]\u001b[0m\n",
      "\u001b[94m[ caching gv values ]\u001b[0m\n",
      "\u001b[94m    [ gv values for 0 (neg) ]\u001b[0m\n",
      "\u001b[94m    [ gv values for 1 (pos) ]\u001b[0m\n",
      "\u001b[94m [ updating max gv values ]\u001b[0m\n",
      "\u001b[94m    [ max gv values for 0 (neg) ]\u001b[0m\n",
      "\u001b[94m    [ max gv values for 1 (pos) ]\u001b[0m\n",
      "\u001b[94m [ max gv values have been updated ]\u001b[0m\n",
      "\u001b[94m [ caching confidence values (cvs) ]\u001b[0m\n",
      "\u001b[94m    [ cvs for 0 (neg) ]\u001b[0m\n",
      "\u001b[94m    [ cvs for 1 (pos) ]\u001b[0m\n"
     ]
    },
    {
     "name": "stderr",
     "output_type": "stream",
     "text": [
      " Classification:   2%|▏         | 8/402 [00:00<00:04, 79.18it/s]"
     ]
    },
    {
     "name": "stdout",
     "output_type": "stream",
     "text": [
      "\u001b[94m [ finished --time: 3.2s ]\u001b[0m\n",
      "\u001b[94m [ default category was automatically set to 'pos' (the most probable one) ]\u001b[0m\n",
      "\u001b[94m [ about to start classifying test documents ]\u001b[0m\n"
     ]
    },
    {
     "name": "stderr",
     "output_type": "stream",
     "text": [
      " Classification: 100%|██████████| 402/402 [00:07<00:00, 56.68it/s]\n",
      " Training:   0%|          | 0/2 [00:00<?, ?it/s]"
     ]
    },
    {
     "name": "stdout",
     "output_type": "stream",
     "text": [
      "\u001b[94m [ finished --time: 7.1s ]\u001b[0m\n",
      "\u001b[94m [ about to start training ]\u001b[0m\n"
     ]
    },
    {
     "name": "stderr",
     "output_type": "stream",
     "text": [
      " Training: 100%|██████████| 2/2 [00:07<00:00,  3.44s/it]\n"
     ]
    },
    {
     "name": "stdout",
     "output_type": "stream",
     "text": [
      "\u001b[94m [ pruning tries... ]\u001b[0m\n",
      "\u001b[94m [ finished --time: 7.9s ]\u001b[0m\n",
      "\u001b[94m [ about to start updating values... ]\u001b[0m\n",
      "\u001b[94m [ caching lv values ]\u001b[0m\n",
      "\u001b[94m    [ lv values for 0 (neg) ]\u001b[0m\n",
      "\u001b[94m    [ lv values for 1 (pos) ]\u001b[0m\n",
      "\u001b[94m [ caching sg values ]\u001b[0m\n",
      "\u001b[94m    [ sg values for 0 (neg) ]\u001b[0m\n",
      "\u001b[94m    [ sg values for 1 (pos) ]\u001b[0m\n",
      "\u001b[94m[ caching gv values ]\u001b[0m\n",
      "\u001b[94m    [ gv values for 0 (neg) ]\u001b[0m\n",
      "\u001b[94m    [ gv values for 1 (pos) ]\u001b[0m\n",
      "\u001b[94m [ updating max gv values ]\u001b[0m\n",
      "\u001b[94m    [ max gv values for 0 (neg) ]\u001b[0m\n",
      "\u001b[94m    [ max gv values for 1 (pos) ]\u001b[0m\n",
      "\u001b[94m [ max gv values have been updated ]\u001b[0m\n",
      "\u001b[94m [ caching confidence values (cvs) ]\u001b[0m\n",
      "\u001b[94m    [ cvs for 0 (neg) ]\u001b[0m\n",
      "\u001b[94m    [ cvs for 1 (pos) ]\u001b[0m\n"
     ]
    },
    {
     "name": "stderr",
     "output_type": "stream",
     "text": [
      " Classification:   2%|▏         | 8/402 [00:00<00:04, 79.94it/s]"
     ]
    },
    {
     "name": "stdout",
     "output_type": "stream",
     "text": [
      "\u001b[94m [ finished --time: 3.2s ]\u001b[0m\n",
      "\u001b[94m [ default category was automatically set to 'pos' (the most probable one) ]\u001b[0m\n",
      "\u001b[94m [ about to start classifying test documents ]\u001b[0m\n"
     ]
    },
    {
     "name": "stderr",
     "output_type": "stream",
     "text": [
      " Classification: 100%|██████████| 402/402 [00:07<00:00, 54.17it/s]\n",
      " Training:   0%|          | 0/2 [00:00<?, ?it/s]"
     ]
    },
    {
     "name": "stdout",
     "output_type": "stream",
     "text": [
      "\u001b[94m [ finished --time: 7.4s ]\u001b[0m\n",
      "\u001b[94m [ about to start training ]\u001b[0m\n"
     ]
    },
    {
     "name": "stderr",
     "output_type": "stream",
     "text": [
      " Training: 100%|██████████| 2/2 [00:06<00:00,  2.99s/it]\n"
     ]
    },
    {
     "name": "stdout",
     "output_type": "stream",
     "text": [
      "\u001b[94m [ pruning tries... ]\u001b[0m\n",
      "\u001b[94m [ finished --time: 7.2s ]\u001b[0m\n",
      "\u001b[94m [ about to start updating values... ]\u001b[0m\n",
      "\u001b[94m [ caching lv values ]\u001b[0m\n",
      "\u001b[94m    [ lv values for 0 (neg) ]\u001b[0m\n",
      "\u001b[94m    [ lv values for 1 (pos) ]\u001b[0m\n",
      "\u001b[94m [ caching sg values ]\u001b[0m\n",
      "\u001b[94m    [ sg values for 0 (neg) ]\u001b[0m\n",
      "\u001b[94m    [ sg values for 1 (pos) ]\u001b[0m\n",
      "\u001b[94m[ caching gv values ]\u001b[0m\n",
      "\u001b[94m    [ gv values for 0 (neg) ]\u001b[0m\n",
      "\u001b[94m    [ gv values for 1 (pos) ]\u001b[0m\n",
      "\u001b[94m [ updating max gv values ]\u001b[0m\n",
      "\u001b[94m    [ max gv values for 0 (neg) ]\u001b[0m\n",
      "\u001b[94m    [ max gv values for 1 (pos) ]\u001b[0m\n",
      "\u001b[94m [ max gv values have been updated ]\u001b[0m\n",
      "\u001b[94m [ caching confidence values (cvs) ]\u001b[0m\n",
      "\u001b[94m    [ cvs for 0 (neg) ]\u001b[0m\n",
      "\u001b[94m    [ cvs for 1 (pos) ]\u001b[0m\n"
     ]
    },
    {
     "name": "stderr",
     "output_type": "stream",
     "text": [
      " Classification:   2%|▏         | 8/402 [00:00<00:04, 79.16it/s]"
     ]
    },
    {
     "name": "stdout",
     "output_type": "stream",
     "text": [
      "\u001b[94m [ finished --time: 3.3s ]\u001b[0m\n",
      "\u001b[94m [ default category was automatically set to 'pos' (the most probable one) ]\u001b[0m\n",
      "\u001b[94m [ about to start classifying test documents ]\u001b[0m\n"
     ]
    },
    {
     "name": "stderr",
     "output_type": "stream",
     "text": [
      " Classification: 100%|██████████| 402/402 [00:07<00:00, 56.43it/s]\n",
      " Training:   0%|          | 0/2 [00:00<?, ?it/s]"
     ]
    },
    {
     "name": "stdout",
     "output_type": "stream",
     "text": [
      "\u001b[94m [ finished --time: 7.1s ]\u001b[0m\n",
      "\u001b[94m [ about to start training ]\u001b[0m\n"
     ]
    },
    {
     "name": "stderr",
     "output_type": "stream",
     "text": [
      " Training: 100%|██████████| 2/2 [00:07<00:00,  3.49s/it]\n"
     ]
    },
    {
     "name": "stdout",
     "output_type": "stream",
     "text": [
      "\u001b[94m [ pruning tries... ]\u001b[0m\n",
      "\u001b[94m [ finished --time: 8.0s ]\u001b[0m\n",
      "\u001b[94m [ about to start updating values... ]\u001b[0m\n",
      "\u001b[94m [ caching lv values ]\u001b[0m\n",
      "\u001b[94m    [ lv values for 0 (neg) ]\u001b[0m\n",
      "\u001b[94m    [ lv values for 1 (pos) ]\u001b[0m\n",
      "\u001b[94m [ caching sg values ]\u001b[0m\n",
      "\u001b[94m    [ sg values for 0 (neg) ]\u001b[0m\n",
      "\u001b[94m    [ sg values for 1 (pos) ]\u001b[0m\n",
      "\u001b[94m[ caching gv values ]\u001b[0m\n",
      "\u001b[94m    [ gv values for 0 (neg) ]\u001b[0m\n",
      "\u001b[94m    [ gv values for 1 (pos) ]\u001b[0m\n",
      "\u001b[94m [ updating max gv values ]\u001b[0m\n",
      "\u001b[94m    [ max gv values for 0 (neg) ]\u001b[0m\n",
      "\u001b[94m    [ max gv values for 1 (pos) ]\u001b[0m\n",
      "\u001b[94m [ max gv values have been updated ]\u001b[0m\n",
      "\u001b[94m [ caching confidence values (cvs) ]\u001b[0m\n",
      "\u001b[94m    [ cvs for 0 (neg) ]\u001b[0m\n",
      "\u001b[94m    [ cvs for 1 (pos) ]\u001b[0m\n"
     ]
    },
    {
     "name": "stderr",
     "output_type": "stream",
     "text": [
      " Classification:   2%|▏         | 8/402 [00:00<00:05, 72.78it/s]"
     ]
    },
    {
     "name": "stdout",
     "output_type": "stream",
     "text": [
      "\u001b[94m [ finished --time: 3.2s ]\u001b[0m\n",
      "\u001b[94m [ default category was automatically set to 'pos' (the most probable one) ]\u001b[0m\n",
      "\u001b[94m [ about to start classifying test documents ]\u001b[0m\n"
     ]
    },
    {
     "name": "stderr",
     "output_type": "stream",
     "text": [
      " Classification: 100%|██████████| 402/402 [00:07<00:00, 56.91it/s]\n",
      " Training:   0%|          | 0/2 [00:00<?, ?it/s]"
     ]
    },
    {
     "name": "stdout",
     "output_type": "stream",
     "text": [
      "\u001b[94m [ finished --time: 7.1s ]\u001b[0m\n",
      "\u001b[94m [ about to start training ]\u001b[0m\n"
     ]
    },
    {
     "name": "stderr",
     "output_type": "stream",
     "text": [
      " Training: 100%|██████████| 2/2 [00:06<00:00,  3.02s/it]\n"
     ]
    },
    {
     "name": "stdout",
     "output_type": "stream",
     "text": [
      "\u001b[94m [ pruning tries... ]\u001b[0m\n",
      "\u001b[94m [ finished --time: 7.3s ]\u001b[0m\n",
      "\u001b[94m [ about to start updating values... ]\u001b[0m\n",
      "\u001b[94m [ caching lv values ]\u001b[0m\n",
      "\u001b[94m    [ lv values for 0 (neg) ]\u001b[0m\n",
      "\u001b[94m    [ lv values for 1 (pos) ]\u001b[0m\n",
      "\u001b[94m [ caching sg values ]\u001b[0m\n",
      "\u001b[94m    [ sg values for 0 (neg) ]\u001b[0m\n",
      "\u001b[94m    [ sg values for 1 (pos) ]\u001b[0m\n",
      "\u001b[94m[ caching gv values ]\u001b[0m\n",
      "\u001b[94m    [ gv values for 0 (neg) ]\u001b[0m\n",
      "\u001b[94m    [ gv values for 1 (pos) ]\u001b[0m\n",
      "\u001b[94m [ updating max gv values ]\u001b[0m\n",
      "\u001b[94m    [ max gv values for 0 (neg) ]\u001b[0m\n",
      "\u001b[94m    [ max gv values for 1 (pos) ]\u001b[0m\n",
      "\u001b[94m [ max gv values have been updated ]\u001b[0m\n",
      "\u001b[94m [ caching confidence values (cvs) ]\u001b[0m\n",
      "\u001b[94m    [ cvs for 0 (neg) ]\u001b[0m\n",
      "\u001b[94m    [ cvs for 1 (pos) ]\u001b[0m\n"
     ]
    },
    {
     "name": "stderr",
     "output_type": "stream",
     "text": [
      " Classification:   2%|▏         | 9/402 [00:00<00:04, 81.88it/s]"
     ]
    },
    {
     "name": "stdout",
     "output_type": "stream",
     "text": [
      "\u001b[94m [ finished --time: 3.2s ]\u001b[0m\n",
      "\u001b[94m [ default category was automatically set to 'pos' (the most probable one) ]\u001b[0m\n",
      "\u001b[94m [ about to start classifying test documents ]\u001b[0m\n"
     ]
    },
    {
     "name": "stderr",
     "output_type": "stream",
     "text": [
      " Classification: 100%|██████████| 402/402 [00:07<00:00, 56.21it/s]\n",
      " Training:   0%|          | 0/2 [00:00<?, ?it/s]"
     ]
    },
    {
     "name": "stdout",
     "output_type": "stream",
     "text": [
      "\u001b[94m [ finished --time: 7.2s ]\u001b[0m\n",
      "\u001b[94m [ about to start training ]\u001b[0m\n"
     ]
    },
    {
     "name": "stderr",
     "output_type": "stream",
     "text": [
      " Training: 100%|██████████| 2/2 [00:06<00:00,  2.98s/it]\n"
     ]
    },
    {
     "name": "stdout",
     "output_type": "stream",
     "text": [
      "\u001b[94m [ pruning tries... ]\u001b[0m\n",
      "\u001b[94m [ finished --time: 7.2s ]\u001b[0m\n",
      "\u001b[94m [ about to start updating values... ]\u001b[0m\n",
      "\u001b[94m [ caching lv values ]\u001b[0m\n",
      "\u001b[94m    [ lv values for 0 (neg) ]\u001b[0m\n",
      "\u001b[94m    [ lv values for 1 (pos) ]\u001b[0m\n",
      "\u001b[94m [ caching sg values ]\u001b[0m\n",
      "\u001b[94m    [ sg values for 0 (neg) ]\u001b[0m\n",
      "\u001b[94m    [ sg values for 1 (pos) ]\u001b[0m\n",
      "\u001b[94m[ caching gv values ]\u001b[0m\n",
      "\u001b[94m    [ gv values for 0 (neg) ]\u001b[0m\n",
      "\u001b[94m    [ gv values for 1 (pos) ]\u001b[0m\n",
      "\u001b[94m [ updating max gv values ]\u001b[0m\n",
      "\u001b[94m    [ max gv values for 0 (neg) ]\u001b[0m\n",
      "\u001b[94m    [ max gv values for 1 (pos) ]\u001b[0m\n",
      "\u001b[94m [ max gv values have been updated ]\u001b[0m\n",
      "\u001b[94m [ caching confidence values (cvs) ]\u001b[0m\n",
      "\u001b[94m    [ cvs for 0 (neg) ]\u001b[0m\n",
      "\u001b[94m    [ cvs for 1 (pos) ]\u001b[0m\n"
     ]
    },
    {
     "name": "stderr",
     "output_type": "stream",
     "text": [
      " Classification:   2%|▏         | 8/402 [00:00<00:05, 71.89it/s]"
     ]
    },
    {
     "name": "stdout",
     "output_type": "stream",
     "text": [
      "\u001b[94m [ finished --time: 3.2s ]\u001b[0m\n",
      "\u001b[94m [ default category was automatically set to 'pos' (the most probable one) ]\u001b[0m\n",
      "\u001b[94m [ about to start classifying test documents ]\u001b[0m\n"
     ]
    },
    {
     "name": "stderr",
     "output_type": "stream",
     "text": [
      " Classification: 100%|██████████| 402/402 [00:07<00:00, 56.53it/s]\n",
      " Training:   0%|          | 0/2 [00:00<?, ?it/s]"
     ]
    },
    {
     "name": "stdout",
     "output_type": "stream",
     "text": [
      "\u001b[94m [ finished --time: 7.1s ]\u001b[0m\n",
      "\u001b[94m [ about to start training ]\u001b[0m\n"
     ]
    },
    {
     "name": "stderr",
     "output_type": "stream",
     "text": [
      " Training: 100%|██████████| 2/2 [00:06<00:00,  3.18s/it]\n"
     ]
    },
    {
     "name": "stdout",
     "output_type": "stream",
     "text": [
      "\u001b[94m [ pruning tries... ]\u001b[0m\n",
      "\u001b[94m [ finished --time: 7.5s ]\u001b[0m\n",
      "\u001b[94m [ about to start updating values... ]\u001b[0m\n",
      "\u001b[94m [ caching lv values ]\u001b[0m\n",
      "\u001b[94m    [ lv values for 0 (neg) ]\u001b[0m\n",
      "\u001b[94m    [ lv values for 1 (pos) ]\u001b[0m\n",
      "\u001b[94m [ caching sg values ]\u001b[0m\n",
      "\u001b[94m    [ sg values for 0 (neg) ]\u001b[0m\n",
      "\u001b[94m    [ sg values for 1 (pos) ]\u001b[0m\n",
      "\u001b[94m[ caching gv values ]\u001b[0m\n",
      "\u001b[94m    [ gv values for 0 (neg) ]\u001b[0m\n",
      "\u001b[94m    [ gv values for 1 (pos) ]\u001b[0m\n",
      "\u001b[94m [ updating max gv values ]\u001b[0m\n",
      "\u001b[94m    [ max gv values for 0 (neg) ]\u001b[0m\n",
      "\u001b[94m    [ max gv values for 1 (pos) ]\u001b[0m\n",
      "\u001b[94m [ max gv values have been updated ]\u001b[0m\n",
      "\u001b[94m [ caching confidence values (cvs) ]\u001b[0m\n",
      "\u001b[94m    [ cvs for 0 (neg) ]\u001b[0m\n",
      "\u001b[94m    [ cvs for 1 (pos) ]\u001b[0m\n"
     ]
    },
    {
     "name": "stderr",
     "output_type": "stream",
     "text": [
      " Classification:   2%|▏         | 9/402 [00:00<00:04, 80.94it/s]"
     ]
    },
    {
     "name": "stdout",
     "output_type": "stream",
     "text": [
      "\u001b[94m [ finished --time: 3.2s ]\u001b[0m\n",
      "\u001b[94m [ default category was automatically set to 'pos' (the most probable one) ]\u001b[0m\n",
      "\u001b[94m [ about to start classifying test documents ]\u001b[0m\n"
     ]
    },
    {
     "name": "stderr",
     "output_type": "stream",
     "text": [
      " Classification: 100%|██████████| 402/402 [00:07<00:00, 56.51it/s]\n",
      " Training:   0%|          | 0/2 [00:00<?, ?it/s]"
     ]
    },
    {
     "name": "stdout",
     "output_type": "stream",
     "text": [
      "\u001b[94m [ finished --time: 7.1s ]\u001b[0m\n",
      "\u001b[94m [ about to start training ]\u001b[0m\n"
     ]
    },
    {
     "name": "stderr",
     "output_type": "stream",
     "text": [
      " Training: 100%|██████████| 2/2 [00:07<00:00,  3.46s/it]\n"
     ]
    },
    {
     "name": "stdout",
     "output_type": "stream",
     "text": [
      "\u001b[94m [ pruning tries... ]\u001b[0m\n",
      "\u001b[94m [ finished --time: 7.9s ]\u001b[0m\n",
      "\u001b[94m [ about to start updating values... ]\u001b[0m\n",
      "\u001b[94m [ caching lv values ]\u001b[0m\n",
      "\u001b[94m    [ lv values for 0 (neg) ]\u001b[0m\n",
      "\u001b[94m    [ lv values for 1 (pos) ]\u001b[0m\n",
      "\u001b[94m [ caching sg values ]\u001b[0m\n",
      "\u001b[94m    [ sg values for 0 (neg) ]\u001b[0m\n",
      "\u001b[94m    [ sg values for 1 (pos) ]\u001b[0m\n",
      "\u001b[94m[ caching gv values ]\u001b[0m\n",
      "\u001b[94m    [ gv values for 0 (neg) ]\u001b[0m\n",
      "\u001b[94m    [ gv values for 1 (pos) ]\u001b[0m\n",
      "\u001b[94m [ updating max gv values ]\u001b[0m\n",
      "\u001b[94m    [ max gv values for 0 (neg) ]\u001b[0m\n",
      "\u001b[94m    [ max gv values for 1 (pos) ]\u001b[0m\n",
      "\u001b[94m [ max gv values have been updated ]\u001b[0m\n",
      "\u001b[94m [ caching confidence values (cvs) ]\u001b[0m\n",
      "\u001b[94m    [ cvs for 0 (neg) ]\u001b[0m\n",
      "\u001b[94m    [ cvs for 1 (pos) ]\u001b[0m\n"
     ]
    },
    {
     "name": "stderr",
     "output_type": "stream",
     "text": [
      " Classification:   2%|▏         | 8/402 [00:00<00:04, 79.56it/s]"
     ]
    },
    {
     "name": "stdout",
     "output_type": "stream",
     "text": [
      "\u001b[94m [ finished --time: 3.2s ]\u001b[0m\n",
      "\u001b[94m [ default category was automatically set to 'pos' (the most probable one) ]\u001b[0m\n",
      "\u001b[94m [ about to start classifying test documents ]\u001b[0m\n"
     ]
    },
    {
     "name": "stderr",
     "output_type": "stream",
     "text": [
      " Classification: 100%|██████████| 402/402 [00:07<00:00, 57.06it/s]\n",
      " Training:   0%|          | 0/2 [00:00<?, ?it/s]"
     ]
    },
    {
     "name": "stdout",
     "output_type": "stream",
     "text": [
      "\u001b[94m [ finished --time: 7.0s ]\u001b[0m\n",
      "\u001b[94m [ about to start training ]\u001b[0m\n"
     ]
    },
    {
     "name": "stderr",
     "output_type": "stream",
     "text": [
      " Training: 100%|██████████| 2/2 [00:06<00:00,  3.01s/it]\n"
     ]
    },
    {
     "name": "stdout",
     "output_type": "stream",
     "text": [
      "\u001b[94m [ pruning tries... ]\u001b[0m\n",
      "\u001b[94m [ finished --time: 7.2s ]\u001b[0m\n",
      "\u001b[94m [ about to start updating values... ]\u001b[0m\n",
      "\u001b[94m [ caching lv values ]\u001b[0m\n",
      "\u001b[94m    [ lv values for 0 (neg) ]\u001b[0m\n",
      "\u001b[94m    [ lv values for 1 (pos) ]\u001b[0m\n",
      "\u001b[94m [ caching sg values ]\u001b[0m\n",
      "\u001b[94m    [ sg values for 0 (neg) ]\u001b[0m\n",
      "\u001b[94m    [ sg values for 1 (pos) ]\u001b[0m\n",
      "\u001b[94m[ caching gv values ]\u001b[0m\n",
      "\u001b[94m    [ gv values for 0 (neg) ]\u001b[0m\n",
      "\u001b[94m    [ gv values for 1 (pos) ]\u001b[0m\n",
      "\u001b[94m [ updating max gv values ]\u001b[0m\n",
      "\u001b[94m    [ max gv values for 0 (neg) ]\u001b[0m\n",
      "\u001b[94m    [ max gv values for 1 (pos) ]\u001b[0m\n",
      "\u001b[94m [ max gv values have been updated ]\u001b[0m\n",
      "\u001b[94m [ caching confidence values (cvs) ]\u001b[0m\n",
      "\u001b[94m    [ cvs for 0 (neg) ]\u001b[0m\n",
      "\u001b[94m    [ cvs for 1 (pos) ]\u001b[0m\n"
     ]
    },
    {
     "name": "stderr",
     "output_type": "stream",
     "text": [
      " Classification:   2%|▏         | 9/402 [00:00<00:04, 82.70it/s]"
     ]
    },
    {
     "name": "stdout",
     "output_type": "stream",
     "text": [
      "\u001b[94m [ finished --time: 3.2s ]\u001b[0m\n",
      "\u001b[94m [ default category was automatically set to 'pos' (the most probable one) ]\u001b[0m\n",
      "\u001b[94m [ about to start classifying test documents ]\u001b[0m\n"
     ]
    },
    {
     "name": "stderr",
     "output_type": "stream",
     "text": [
      " Classification: 100%|██████████| 402/402 [00:07<00:00, 56.13it/s]\n",
      " Training:   0%|          | 0/2 [00:00<?, ?it/s]"
     ]
    },
    {
     "name": "stdout",
     "output_type": "stream",
     "text": [
      "\u001b[94m [ finished --time: 7.2s ]\u001b[0m\n",
      "\u001b[94m [ about to start training ]\u001b[0m\n"
     ]
    },
    {
     "name": "stderr",
     "output_type": "stream",
     "text": [
      " Training: 100%|██████████| 2/2 [00:06<00:00,  3.18s/it]\n"
     ]
    },
    {
     "name": "stdout",
     "output_type": "stream",
     "text": [
      "\u001b[94m [ pruning tries... ]\u001b[0m\n",
      "\u001b[94m [ finished --time: 7.5s ]\u001b[0m\n",
      "\u001b[94m [ about to start updating values... ]\u001b[0m\n",
      "\u001b[94m [ caching lv values ]\u001b[0m\n",
      "\u001b[94m    [ lv values for 0 (neg) ]\u001b[0m\n",
      "\u001b[94m    [ lv values for 1 (pos) ]\u001b[0m\n",
      "\u001b[94m [ caching sg values ]\u001b[0m\n",
      "\u001b[94m    [ sg values for 0 (neg) ]\u001b[0m\n",
      "\u001b[94m    [ sg values for 1 (pos) ]\u001b[0m\n",
      "\u001b[94m[ caching gv values ]\u001b[0m\n",
      "\u001b[94m    [ gv values for 0 (neg) ]\u001b[0m\n",
      "\u001b[94m    [ gv values for 1 (pos) ]\u001b[0m\n",
      "\u001b[94m [ updating max gv values ]\u001b[0m\n",
      "\u001b[94m    [ max gv values for 0 (neg) ]\u001b[0m\n",
      "\u001b[94m    [ max gv values for 1 (pos) ]\u001b[0m\n",
      "\u001b[94m [ max gv values have been updated ]\u001b[0m\n",
      "\u001b[94m [ caching confidence values (cvs) ]\u001b[0m\n",
      "\u001b[94m    [ cvs for 0 (neg) ]\u001b[0m\n",
      "\u001b[94m    [ cvs for 1 (pos) ]\u001b[0m\n"
     ]
    },
    {
     "name": "stderr",
     "output_type": "stream",
     "text": [
      " Classification:   2%|▏         | 8/402 [00:00<00:05, 73.18it/s]"
     ]
    },
    {
     "name": "stdout",
     "output_type": "stream",
     "text": [
      "\u001b[94m [ finished --time: 3.2s ]\u001b[0m\n",
      "\u001b[94m [ default category was automatically set to 'pos' (the most probable one) ]\u001b[0m\n",
      "\u001b[94m [ about to start classifying test documents ]\u001b[0m\n"
     ]
    },
    {
     "name": "stderr",
     "output_type": "stream",
     "text": [
      " Classification: 100%|██████████| 402/402 [00:07<00:00, 56.96it/s]\n",
      " Training:   0%|          | 0/2 [00:00<?, ?it/s]"
     ]
    },
    {
     "name": "stdout",
     "output_type": "stream",
     "text": [
      "\u001b[94m [ finished --time: 7.1s ]\u001b[0m\n",
      "\u001b[94m [ about to start training ]\u001b[0m\n"
     ]
    },
    {
     "name": "stderr",
     "output_type": "stream",
     "text": [
      " Training: 100%|██████████| 2/2 [00:07<00:00,  3.46s/it]\n"
     ]
    },
    {
     "name": "stdout",
     "output_type": "stream",
     "text": [
      "\u001b[94m [ pruning tries... ]\u001b[0m\n",
      "\u001b[94m [ finished --time: 8.0s ]\u001b[0m\n",
      "\u001b[94m [ about to start updating values... ]\u001b[0m\n",
      "\u001b[94m [ caching lv values ]\u001b[0m\n",
      "\u001b[94m    [ lv values for 0 (neg) ]\u001b[0m\n",
      "\u001b[94m    [ lv values for 1 (pos) ]\u001b[0m\n",
      "\u001b[94m [ caching sg values ]\u001b[0m\n",
      "\u001b[94m    [ sg values for 0 (neg) ]\u001b[0m\n",
      "\u001b[94m    [ sg values for 1 (pos) ]\u001b[0m\n",
      "\u001b[94m[ caching gv values ]\u001b[0m\n",
      "\u001b[94m    [ gv values for 0 (neg) ]\u001b[0m\n",
      "\u001b[94m    [ gv values for 1 (pos) ]\u001b[0m\n",
      "\u001b[94m [ updating max gv values ]\u001b[0m\n",
      "\u001b[94m    [ max gv values for 0 (neg) ]\u001b[0m\n",
      "\u001b[94m    [ max gv values for 1 (pos) ]\u001b[0m\n",
      "\u001b[94m [ max gv values have been updated ]\u001b[0m\n",
      "\u001b[94m [ caching confidence values (cvs) ]\u001b[0m\n",
      "\u001b[94m    [ cvs for 0 (neg) ]\u001b[0m\n",
      "\u001b[94m    [ cvs for 1 (pos) ]\u001b[0m\n"
     ]
    },
    {
     "name": "stderr",
     "output_type": "stream",
     "text": [
      " Classification:   2%|▏         | 8/402 [00:00<00:05, 74.43it/s]"
     ]
    },
    {
     "name": "stdout",
     "output_type": "stream",
     "text": [
      "\u001b[94m [ finished --time: 3.2s ]\u001b[0m\n",
      "\u001b[94m [ default category was automatically set to 'pos' (the most probable one) ]\u001b[0m\n",
      "\u001b[94m [ about to start classifying test documents ]\u001b[0m\n"
     ]
    },
    {
     "name": "stderr",
     "output_type": "stream",
     "text": [
      " Classification: 100%|██████████| 402/402 [00:07<00:00, 56.26it/s]\n",
      " Training:   0%|          | 0/2 [00:00<?, ?it/s]"
     ]
    },
    {
     "name": "stdout",
     "output_type": "stream",
     "text": [
      "\u001b[94m [ finished --time: 7.1s ]\u001b[0m\n",
      "\u001b[94m [ about to start training ]\u001b[0m\n"
     ]
    },
    {
     "name": "stderr",
     "output_type": "stream",
     "text": [
      " Training: 100%|██████████| 2/2 [00:06<00:00,  2.96s/it]\n"
     ]
    },
    {
     "name": "stdout",
     "output_type": "stream",
     "text": [
      "\u001b[94m [ pruning tries... ]\u001b[0m\n",
      "\u001b[94m [ finished --time: 7.2s ]\u001b[0m\n",
      "\u001b[94m [ about to start updating values... ]\u001b[0m\n",
      "\u001b[94m [ caching lv values ]\u001b[0m\n",
      "\u001b[94m    [ lv values for 0 (neg) ]\u001b[0m\n",
      "\u001b[94m    [ lv values for 1 (pos) ]\u001b[0m\n",
      "\u001b[94m [ caching sg values ]\u001b[0m\n",
      "\u001b[94m    [ sg values for 0 (neg) ]\u001b[0m\n",
      "\u001b[94m    [ sg values for 1 (pos) ]\u001b[0m\n",
      "\u001b[94m[ caching gv values ]\u001b[0m\n",
      "\u001b[94m    [ gv values for 0 (neg) ]\u001b[0m\n",
      "\u001b[94m    [ gv values for 1 (pos) ]\u001b[0m\n",
      "\u001b[94m [ updating max gv values ]\u001b[0m\n",
      "\u001b[94m    [ max gv values for 0 (neg) ]\u001b[0m\n",
      "\u001b[94m    [ max gv values for 1 (pos) ]\u001b[0m\n",
      "\u001b[94m [ max gv values have been updated ]\u001b[0m\n",
      "\u001b[94m [ caching confidence values (cvs) ]\u001b[0m\n",
      "\u001b[94m    [ cvs for 0 (neg) ]\u001b[0m\n",
      "\u001b[94m    [ cvs for 1 (pos) ]\u001b[0m\n"
     ]
    },
    {
     "name": "stderr",
     "output_type": "stream",
     "text": [
      " Classification:   2%|▏         | 8/402 [00:00<00:05, 75.95it/s]"
     ]
    },
    {
     "name": "stdout",
     "output_type": "stream",
     "text": [
      "\u001b[94m [ finished --time: 3.2s ]\u001b[0m\n",
      "\u001b[94m [ default category was automatically set to 'pos' (the most probable one) ]\u001b[0m\n",
      "\u001b[94m [ about to start classifying test documents ]\u001b[0m\n"
     ]
    },
    {
     "name": "stderr",
     "output_type": "stream",
     "text": [
      " Classification: 100%|██████████| 402/402 [00:07<00:00, 56.19it/s]\n",
      " Training:   0%|          | 0/2 [00:00<?, ?it/s]"
     ]
    },
    {
     "name": "stdout",
     "output_type": "stream",
     "text": [
      "\u001b[94m [ finished --time: 7.2s ]\u001b[0m\n",
      "\u001b[94m [ about to start training ]\u001b[0m\n"
     ]
    },
    {
     "name": "stderr",
     "output_type": "stream",
     "text": [
      " Training: 100%|██████████| 2/2 [00:07<00:00,  3.56s/it]\n"
     ]
    },
    {
     "name": "stdout",
     "output_type": "stream",
     "text": [
      "\u001b[94m [ pruning tries... ]\u001b[0m\n",
      "\u001b[94m [ finished --time: 8.2s ]\u001b[0m\n",
      "\u001b[94m [ about to start updating values... ]\u001b[0m\n",
      "\u001b[94m [ caching lv values ]\u001b[0m\n",
      "\u001b[94m    [ lv values for 0 (neg) ]\u001b[0m\n",
      "\u001b[94m    [ lv values for 1 (pos) ]\u001b[0m\n",
      "\u001b[94m [ caching sg values ]\u001b[0m\n",
      "\u001b[94m    [ sg values for 0 (neg) ]\u001b[0m\n",
      "\u001b[94m    [ sg values for 1 (pos) ]\u001b[0m\n",
      "\u001b[94m[ caching gv values ]\u001b[0m\n",
      "\u001b[94m    [ gv values for 0 (neg) ]\u001b[0m\n",
      "\u001b[94m    [ gv values for 1 (pos) ]\u001b[0m\n",
      "\u001b[94m [ updating max gv values ]\u001b[0m\n",
      "\u001b[94m    [ max gv values for 0 (neg) ]\u001b[0m\n",
      "\u001b[94m    [ max gv values for 1 (pos) ]\u001b[0m\n",
      "\u001b[94m [ max gv values have been updated ]\u001b[0m\n",
      "\u001b[94m [ caching confidence values (cvs) ]\u001b[0m\n",
      "\u001b[94m    [ cvs for 0 (neg) ]\u001b[0m\n",
      "\u001b[94m    [ cvs for 1 (pos) ]\u001b[0m\n"
     ]
    },
    {
     "name": "stderr",
     "output_type": "stream",
     "text": [
      " Classification:   2%|▏         | 8/402 [00:00<00:05, 72.72it/s]"
     ]
    },
    {
     "name": "stdout",
     "output_type": "stream",
     "text": [
      "\u001b[94m [ finished --time: 3.1s ]\u001b[0m\n",
      "\u001b[94m [ default category was automatically set to 'pos' (the most probable one) ]\u001b[0m\n",
      "\u001b[94m [ about to start classifying test documents ]\u001b[0m\n"
     ]
    },
    {
     "name": "stderr",
     "output_type": "stream",
     "text": [
      " Classification: 100%|██████████| 402/402 [00:07<00:00, 56.85it/s]\n",
      " Training:   0%|          | 0/2 [00:00<?, ?it/s]"
     ]
    },
    {
     "name": "stdout",
     "output_type": "stream",
     "text": [
      "\u001b[94m [ finished --time: 7.1s ]\u001b[0m\n",
      "\u001b[94m [ about to start training ]\u001b[0m\n"
     ]
    },
    {
     "name": "stderr",
     "output_type": "stream",
     "text": [
      " Training: 100%|██████████| 2/2 [00:06<00:00,  3.05s/it]\n"
     ]
    },
    {
     "name": "stdout",
     "output_type": "stream",
     "text": [
      "\u001b[94m [ pruning tries... ]\u001b[0m\n",
      "\u001b[94m [ finished --time: 7.4s ]\u001b[0m\n",
      "\u001b[94m [ about to start updating values... ]\u001b[0m\n",
      "\u001b[94m [ caching lv values ]\u001b[0m\n",
      "\u001b[94m    [ lv values for 0 (neg) ]\u001b[0m\n",
      "\u001b[94m    [ lv values for 1 (pos) ]\u001b[0m\n",
      "\u001b[94m [ caching sg values ]\u001b[0m\n",
      "\u001b[94m    [ sg values for 0 (neg) ]\u001b[0m\n",
      "\u001b[94m    [ sg values for 1 (pos) ]\u001b[0m\n",
      "\u001b[94m[ caching gv values ]\u001b[0m\n",
      "\u001b[94m    [ gv values for 0 (neg) ]\u001b[0m\n",
      "\u001b[94m    [ gv values for 1 (pos) ]\u001b[0m\n",
      "\u001b[94m [ updating max gv values ]\u001b[0m\n",
      "\u001b[94m    [ max gv values for 0 (neg) ]\u001b[0m\n",
      "\u001b[94m    [ max gv values for 1 (pos) ]\u001b[0m\n",
      "\u001b[94m [ max gv values have been updated ]\u001b[0m\n",
      "\u001b[94m [ caching confidence values (cvs) ]\u001b[0m\n",
      "\u001b[94m    [ cvs for 0 (neg) ]\u001b[0m\n",
      "\u001b[94m    [ cvs for 1 (pos) ]\u001b[0m\n"
     ]
    },
    {
     "name": "stderr",
     "output_type": "stream",
     "text": [
      " Classification:   2%|▏         | 9/402 [00:00<00:04, 81.64it/s]"
     ]
    },
    {
     "name": "stdout",
     "output_type": "stream",
     "text": [
      "\u001b[94m [ finished --time: 3.2s ]\u001b[0m\n",
      "\u001b[94m [ default category was automatically set to 'pos' (the most probable one) ]\u001b[0m\n",
      "\u001b[94m [ about to start classifying test documents ]\u001b[0m\n"
     ]
    },
    {
     "name": "stderr",
     "output_type": "stream",
     "text": [
      " Classification: 100%|██████████| 402/402 [00:07<00:00, 56.29it/s]\n",
      " Training:   0%|          | 0/2 [00:00<?, ?it/s]"
     ]
    },
    {
     "name": "stdout",
     "output_type": "stream",
     "text": [
      "\u001b[94m [ finished --time: 7.1s ]\u001b[0m\n",
      "\u001b[94m [ about to start training ]\u001b[0m\n"
     ]
    },
    {
     "name": "stderr",
     "output_type": "stream",
     "text": [
      " Training: 100%|██████████| 2/2 [00:06<00:00,  2.97s/it]\n"
     ]
    },
    {
     "name": "stdout",
     "output_type": "stream",
     "text": [
      "\u001b[94m [ pruning tries... ]\u001b[0m\n",
      "\u001b[94m [ finished --time: 7.2s ]\u001b[0m\n",
      "\u001b[94m [ about to start updating values... ]\u001b[0m\n",
      "\u001b[94m [ caching lv values ]\u001b[0m\n",
      "\u001b[94m    [ lv values for 0 (neg) ]\u001b[0m\n",
      "\u001b[94m    [ lv values for 1 (pos) ]\u001b[0m\n",
      "\u001b[94m [ caching sg values ]\u001b[0m\n",
      "\u001b[94m    [ sg values for 0 (neg) ]\u001b[0m\n",
      "\u001b[94m    [ sg values for 1 (pos) ]\u001b[0m\n",
      "\u001b[94m[ caching gv values ]\u001b[0m\n",
      "\u001b[94m    [ gv values for 0 (neg) ]\u001b[0m\n",
      "\u001b[94m    [ gv values for 1 (pos) ]\u001b[0m\n",
      "\u001b[94m [ updating max gv values ]\u001b[0m\n",
      "\u001b[94m    [ max gv values for 0 (neg) ]\u001b[0m\n",
      "\u001b[94m    [ max gv values for 1 (pos) ]\u001b[0m\n",
      "\u001b[94m [ max gv values have been updated ]\u001b[0m\n",
      "\u001b[94m [ caching confidence values (cvs) ]\u001b[0m\n",
      "\u001b[94m    [ cvs for 0 (neg) ]\u001b[0m\n",
      "\u001b[94m    [ cvs for 1 (pos) ]\u001b[0m\n"
     ]
    },
    {
     "name": "stderr",
     "output_type": "stream",
     "text": [
      " Classification:   2%|▏         | 9/402 [00:00<00:04, 79.30it/s]"
     ]
    },
    {
     "name": "stdout",
     "output_type": "stream",
     "text": [
      "\u001b[94m [ finished --time: 3.2s ]\u001b[0m\n",
      "\u001b[94m [ default category was automatically set to 'pos' (the most probable one) ]\u001b[0m\n",
      "\u001b[94m [ about to start classifying test documents ]\u001b[0m\n"
     ]
    },
    {
     "name": "stderr",
     "output_type": "stream",
     "text": [
      " Classification: 100%|██████████| 402/402 [00:07<00:00, 55.63it/s]\n",
      " Training:   0%|          | 0/2 [00:00<?, ?it/s]"
     ]
    },
    {
     "name": "stdout",
     "output_type": "stream",
     "text": [
      "\u001b[94m [ finished --time: 7.2s ]\u001b[0m\n",
      "\u001b[94m [ about to start training ]\u001b[0m\n"
     ]
    },
    {
     "name": "stderr",
     "output_type": "stream",
     "text": [
      " Training: 100%|██████████| 2/2 [00:06<00:00,  3.17s/it]\n"
     ]
    },
    {
     "name": "stdout",
     "output_type": "stream",
     "text": [
      "\u001b[94m [ pruning tries... ]\u001b[0m\n",
      "\u001b[94m [ finished --time: 7.4s ]\u001b[0m\n",
      "\u001b[94m [ about to start updating values... ]\u001b[0m\n",
      "\u001b[94m [ caching lv values ]\u001b[0m\n",
      "\u001b[94m    [ lv values for 0 (neg) ]\u001b[0m\n",
      "\u001b[94m    [ lv values for 1 (pos) ]\u001b[0m\n",
      "\u001b[94m [ caching sg values ]\u001b[0m\n",
      "\u001b[94m    [ sg values for 0 (neg) ]\u001b[0m\n",
      "\u001b[94m    [ sg values for 1 (pos) ]\u001b[0m\n",
      "\u001b[94m[ caching gv values ]\u001b[0m\n",
      "\u001b[94m    [ gv values for 0 (neg) ]\u001b[0m\n",
      "\u001b[94m    [ gv values for 1 (pos) ]\u001b[0m\n",
      "\u001b[94m [ updating max gv values ]\u001b[0m\n",
      "\u001b[94m    [ max gv values for 0 (neg) ]\u001b[0m\n",
      "\u001b[94m    [ max gv values for 1 (pos) ]\u001b[0m\n",
      "\u001b[94m [ max gv values have been updated ]\u001b[0m\n",
      "\u001b[94m [ caching confidence values (cvs) ]\u001b[0m\n",
      "\u001b[94m    [ cvs for 0 (neg) ]\u001b[0m\n",
      "\u001b[94m    [ cvs for 1 (pos) ]\u001b[0m\n"
     ]
    },
    {
     "name": "stderr",
     "output_type": "stream",
     "text": [
      " Classification:   2%|▏         | 8/402 [00:00<00:04, 79.59it/s]"
     ]
    },
    {
     "name": "stdout",
     "output_type": "stream",
     "text": [
      "\u001b[94m [ finished --time: 3.2s ]\u001b[0m\n",
      "\u001b[94m [ default category was automatically set to 'pos' (the most probable one) ]\u001b[0m\n",
      "\u001b[94m [ about to start classifying test documents ]\u001b[0m\n"
     ]
    },
    {
     "name": "stderr",
     "output_type": "stream",
     "text": [
      " Classification: 100%|██████████| 402/402 [00:07<00:00, 56.20it/s]\n",
      " Training:   0%|          | 0/2 [00:00<?, ?it/s]"
     ]
    },
    {
     "name": "stdout",
     "output_type": "stream",
     "text": [
      "\u001b[94m [ finished --time: 7.2s ]\u001b[0m\n",
      "\u001b[94m [ about to start training ]\u001b[0m\n"
     ]
    },
    {
     "name": "stderr",
     "output_type": "stream",
     "text": [
      " Training: 100%|██████████| 2/2 [00:07<00:00,  3.46s/it]\n"
     ]
    },
    {
     "name": "stdout",
     "output_type": "stream",
     "text": [
      "\u001b[94m [ pruning tries... ]\u001b[0m\n",
      "\u001b[94m [ finished --time: 8.0s ]\u001b[0m\n",
      "\u001b[94m [ about to start updating values... ]\u001b[0m\n",
      "\u001b[94m [ caching lv values ]\u001b[0m\n",
      "\u001b[94m    [ lv values for 0 (neg) ]\u001b[0m\n",
      "\u001b[94m    [ lv values for 1 (pos) ]\u001b[0m\n",
      "\u001b[94m [ caching sg values ]\u001b[0m\n",
      "\u001b[94m    [ sg values for 0 (neg) ]\u001b[0m\n",
      "\u001b[94m    [ sg values for 1 (pos) ]\u001b[0m\n",
      "\u001b[94m[ caching gv values ]\u001b[0m\n",
      "\u001b[94m    [ gv values for 0 (neg) ]\u001b[0m\n",
      "\u001b[94m    [ gv values for 1 (pos) ]\u001b[0m\n",
      "\u001b[94m [ updating max gv values ]\u001b[0m\n",
      "\u001b[94m    [ max gv values for 0 (neg) ]\u001b[0m\n",
      "\u001b[94m    [ max gv values for 1 (pos) ]\u001b[0m\n",
      "\u001b[94m [ max gv values have been updated ]\u001b[0m\n",
      "\u001b[94m [ caching confidence values (cvs) ]\u001b[0m\n",
      "\u001b[94m    [ cvs for 0 (neg) ]\u001b[0m\n",
      "\u001b[94m    [ cvs for 1 (pos) ]\u001b[0m\n"
     ]
    },
    {
     "name": "stderr",
     "output_type": "stream",
     "text": [
      " Classification:   2%|▏         | 9/402 [00:00<00:04, 82.42it/s]"
     ]
    },
    {
     "name": "stdout",
     "output_type": "stream",
     "text": [
      "\u001b[94m [ finished --time: 3.2s ]\u001b[0m\n",
      "\u001b[94m [ default category was automatically set to 'pos' (the most probable one) ]\u001b[0m\n",
      "\u001b[94m [ about to start classifying test documents ]\u001b[0m\n"
     ]
    },
    {
     "name": "stderr",
     "output_type": "stream",
     "text": [
      " Classification: 100%|██████████| 402/402 [00:07<00:00, 55.54it/s]\n",
      " Training:   0%|          | 0/2 [00:00<?, ?it/s]"
     ]
    },
    {
     "name": "stdout",
     "output_type": "stream",
     "text": [
      "\u001b[94m [ finished --time: 7.2s ]\u001b[0m\n",
      "\u001b[94m [ about to start training ]\u001b[0m\n"
     ]
    },
    {
     "name": "stderr",
     "output_type": "stream",
     "text": [
      " Training: 100%|██████████| 2/2 [00:06<00:00,  2.97s/it]\n"
     ]
    },
    {
     "name": "stdout",
     "output_type": "stream",
     "text": [
      "\u001b[94m [ pruning tries... ]\u001b[0m\n",
      "\u001b[94m [ finished --time: 7.2s ]\u001b[0m\n",
      "\u001b[94m [ about to start updating values... ]\u001b[0m\n",
      "\u001b[94m [ caching lv values ]\u001b[0m\n",
      "\u001b[94m    [ lv values for 0 (neg) ]\u001b[0m\n",
      "\u001b[94m    [ lv values for 1 (pos) ]\u001b[0m\n",
      "\u001b[94m [ caching sg values ]\u001b[0m\n",
      "\u001b[94m    [ sg values for 0 (neg) ]\u001b[0m\n",
      "\u001b[94m    [ sg values for 1 (pos) ]\u001b[0m\n",
      "\u001b[94m[ caching gv values ]\u001b[0m\n",
      "\u001b[94m    [ gv values for 0 (neg) ]\u001b[0m\n",
      "\u001b[94m    [ gv values for 1 (pos) ]\u001b[0m\n",
      "\u001b[94m [ updating max gv values ]\u001b[0m\n",
      "\u001b[94m    [ max gv values for 0 (neg) ]\u001b[0m\n",
      "\u001b[94m    [ max gv values for 1 (pos) ]\u001b[0m\n",
      "\u001b[94m [ max gv values have been updated ]\u001b[0m\n",
      "\u001b[94m [ caching confidence values (cvs) ]\u001b[0m\n",
      "\u001b[94m    [ cvs for 0 (neg) ]\u001b[0m\n",
      "\u001b[94m    [ cvs for 1 (pos) ]\u001b[0m\n"
     ]
    },
    {
     "name": "stderr",
     "output_type": "stream",
     "text": [
      " Classification:   2%|▏         | 8/402 [00:00<00:05, 72.04it/s]"
     ]
    },
    {
     "name": "stdout",
     "output_type": "stream",
     "text": [
      "\u001b[94m [ finished --time: 3.1s ]\u001b[0m\n",
      "\u001b[94m [ default category was automatically set to 'pos' (the most probable one) ]\u001b[0m\n",
      "\u001b[94m [ about to start classifying test documents ]\u001b[0m\n"
     ]
    },
    {
     "name": "stderr",
     "output_type": "stream",
     "text": [
      " Classification: 100%|██████████| 402/402 [00:07<00:00, 56.68it/s]\n",
      " Training:   0%|          | 0/2 [00:00<?, ?it/s]"
     ]
    },
    {
     "name": "stdout",
     "output_type": "stream",
     "text": [
      "\u001b[94m [ finished --time: 7.1s ]\u001b[0m\n",
      "\u001b[94m [ about to start training ]\u001b[0m\n"
     ]
    },
    {
     "name": "stderr",
     "output_type": "stream",
     "text": [
      " Training: 100%|██████████| 2/2 [00:07<00:00,  3.49s/it]\n"
     ]
    },
    {
     "name": "stdout",
     "output_type": "stream",
     "text": [
      "\u001b[94m [ pruning tries... ]\u001b[0m\n",
      "\u001b[94m [ finished --time: 8.0s ]\u001b[0m\n",
      "\u001b[94m [ about to start updating values... ]\u001b[0m\n",
      "\u001b[94m [ caching lv values ]\u001b[0m\n",
      "\u001b[94m    [ lv values for 0 (neg) ]\u001b[0m\n",
      "\u001b[94m    [ lv values for 1 (pos) ]\u001b[0m\n",
      "\u001b[94m [ caching sg values ]\u001b[0m\n",
      "\u001b[94m    [ sg values for 0 (neg) ]\u001b[0m\n",
      "\u001b[94m    [ sg values for 1 (pos) ]\u001b[0m\n",
      "\u001b[94m[ caching gv values ]\u001b[0m\n",
      "\u001b[94m    [ gv values for 0 (neg) ]\u001b[0m\n",
      "\u001b[94m    [ gv values for 1 (pos) ]\u001b[0m\n",
      "\u001b[94m [ updating max gv values ]\u001b[0m\n",
      "\u001b[94m    [ max gv values for 0 (neg) ]\u001b[0m\n",
      "\u001b[94m    [ max gv values for 1 (pos) ]\u001b[0m\n",
      "\u001b[94m [ max gv values have been updated ]\u001b[0m\n",
      "\u001b[94m [ caching confidence values (cvs) ]\u001b[0m\n",
      "\u001b[94m    [ cvs for 0 (neg) ]\u001b[0m\n",
      "\u001b[94m    [ cvs for 1 (pos) ]\u001b[0m\n"
     ]
    },
    {
     "name": "stderr",
     "output_type": "stream",
     "text": [
      " Classification:   2%|▏         | 8/402 [00:00<00:04, 79.62it/s]"
     ]
    },
    {
     "name": "stdout",
     "output_type": "stream",
     "text": [
      "\u001b[94m [ finished --time: 3.3s ]\u001b[0m\n",
      "\u001b[94m [ default category was automatically set to 'pos' (the most probable one) ]\u001b[0m\n",
      "\u001b[94m [ about to start classifying test documents ]\u001b[0m\n"
     ]
    },
    {
     "name": "stderr",
     "output_type": "stream",
     "text": [
      " Classification: 100%|██████████| 402/402 [00:07<00:00, 55.54it/s]\n",
      " Training:   0%|          | 0/2 [00:00<?, ?it/s]"
     ]
    },
    {
     "name": "stdout",
     "output_type": "stream",
     "text": [
      "\u001b[94m [ finished --time: 7.2s ]\u001b[0m\n",
      "\u001b[94m [ about to start training ]\u001b[0m\n"
     ]
    },
    {
     "name": "stderr",
     "output_type": "stream",
     "text": [
      " Training: 100%|██████████| 2/2 [00:06<00:00,  3.07s/it]\n"
     ]
    },
    {
     "name": "stdout",
     "output_type": "stream",
     "text": [
      "\u001b[94m [ pruning tries... ]\u001b[0m\n",
      "\u001b[94m [ finished --time: 7.4s ]\u001b[0m\n",
      "\u001b[94m [ about to start updating values... ]\u001b[0m\n",
      "\u001b[94m [ caching lv values ]\u001b[0m\n",
      "\u001b[94m    [ lv values for 0 (neg) ]\u001b[0m\n",
      "\u001b[94m    [ lv values for 1 (pos) ]\u001b[0m\n",
      "\u001b[94m [ caching sg values ]\u001b[0m\n",
      "\u001b[94m    [ sg values for 0 (neg) ]\u001b[0m\n",
      "\u001b[94m    [ sg values for 1 (pos) ]\u001b[0m\n",
      "\u001b[94m[ caching gv values ]\u001b[0m\n",
      "\u001b[94m    [ gv values for 0 (neg) ]\u001b[0m\n",
      "\u001b[94m    [ gv values for 1 (pos) ]\u001b[0m\n",
      "\u001b[94m [ updating max gv values ]\u001b[0m\n",
      "\u001b[94m    [ max gv values for 0 (neg) ]\u001b[0m\n",
      "\u001b[94m    [ max gv values for 1 (pos) ]\u001b[0m\n",
      "\u001b[94m [ max gv values have been updated ]\u001b[0m\n",
      "\u001b[94m [ caching confidence values (cvs) ]\u001b[0m\n",
      "\u001b[94m    [ cvs for 0 (neg) ]\u001b[0m\n",
      "\u001b[94m    [ cvs for 1 (pos) ]\u001b[0m\n"
     ]
    },
    {
     "name": "stderr",
     "output_type": "stream",
     "text": [
      " Classification:   2%|▏         | 8/402 [00:00<00:05, 73.73it/s]"
     ]
    },
    {
     "name": "stdout",
     "output_type": "stream",
     "text": [
      "\u001b[94m [ finished --time: 3.2s ]\u001b[0m\n",
      "\u001b[94m [ default category was automatically set to 'pos' (the most probable one) ]\u001b[0m\n",
      "\u001b[94m [ about to start classifying test documents ]\u001b[0m\n"
     ]
    },
    {
     "name": "stderr",
     "output_type": "stream",
     "text": [
      " Classification: 100%|██████████| 402/402 [00:07<00:00, 56.28it/s]\n",
      " Training:   0%|          | 0/2 [00:00<?, ?it/s]"
     ]
    },
    {
     "name": "stdout",
     "output_type": "stream",
     "text": [
      "\u001b[94m [ finished --time: 7.1s ]\u001b[0m\n",
      "\u001b[94m [ about to start training ]\u001b[0m\n"
     ]
    },
    {
     "name": "stderr",
     "output_type": "stream",
     "text": [
      " Training: 100%|██████████| 2/2 [00:06<00:00,  3.00s/it]\n"
     ]
    },
    {
     "name": "stdout",
     "output_type": "stream",
     "text": [
      "\u001b[94m [ pruning tries... ]\u001b[0m\n",
      "\u001b[94m [ finished --time: 7.2s ]\u001b[0m\n",
      "\u001b[94m [ about to start updating values... ]\u001b[0m\n",
      "\u001b[94m [ caching lv values ]\u001b[0m\n",
      "\u001b[94m    [ lv values for 0 (neg) ]\u001b[0m\n",
      "\u001b[94m    [ lv values for 1 (pos) ]\u001b[0m\n",
      "\u001b[94m [ caching sg values ]\u001b[0m\n",
      "\u001b[94m    [ sg values for 0 (neg) ]\u001b[0m\n",
      "\u001b[94m    [ sg values for 1 (pos) ]\u001b[0m\n",
      "\u001b[94m[ caching gv values ]\u001b[0m\n",
      "\u001b[94m    [ gv values for 0 (neg) ]\u001b[0m\n",
      "\u001b[94m    [ gv values for 1 (pos) ]\u001b[0m\n",
      "\u001b[94m [ updating max gv values ]\u001b[0m\n",
      "\u001b[94m    [ max gv values for 0 (neg) ]\u001b[0m\n",
      "\u001b[94m    [ max gv values for 1 (pos) ]\u001b[0m\n",
      "\u001b[94m [ max gv values have been updated ]\u001b[0m\n",
      "\u001b[94m [ caching confidence values (cvs) ]\u001b[0m\n",
      "\u001b[94m    [ cvs for 0 (neg) ]\u001b[0m\n",
      "\u001b[94m    [ cvs for 1 (pos) ]\u001b[0m\n"
     ]
    },
    {
     "name": "stderr",
     "output_type": "stream",
     "text": [
      " Classification:   2%|▏         | 9/402 [00:00<00:04, 80.36it/s]"
     ]
    },
    {
     "name": "stdout",
     "output_type": "stream",
     "text": [
      "\u001b[94m [ finished --time: 3.1s ]\u001b[0m\n",
      "\u001b[94m [ default category was automatically set to 'pos' (the most probable one) ]\u001b[0m\n",
      "\u001b[94m [ about to start classifying test documents ]\u001b[0m\n"
     ]
    },
    {
     "name": "stderr",
     "output_type": "stream",
     "text": [
      " Classification: 100%|██████████| 402/402 [00:07<00:00, 56.04it/s]\n",
      " Training:   0%|          | 0/2 [00:00<?, ?it/s]"
     ]
    },
    {
     "name": "stdout",
     "output_type": "stream",
     "text": [
      "\u001b[94m [ finished --time: 7.2s ]\u001b[0m\n",
      "\u001b[94m [ about to start training ]\u001b[0m\n"
     ]
    },
    {
     "name": "stderr",
     "output_type": "stream",
     "text": [
      " Training: 100%|██████████| 2/2 [00:06<00:00,  3.17s/it]\n"
     ]
    },
    {
     "name": "stdout",
     "output_type": "stream",
     "text": [
      "\u001b[94m [ pruning tries... ]\u001b[0m\n",
      "\u001b[94m [ finished --time: 7.5s ]\u001b[0m\n",
      "\u001b[94m [ about to start updating values... ]\u001b[0m\n",
      "\u001b[94m [ caching lv values ]\u001b[0m\n",
      "\u001b[94m    [ lv values for 0 (neg) ]\u001b[0m\n",
      "\u001b[94m    [ lv values for 1 (pos) ]\u001b[0m\n",
      "\u001b[94m [ caching sg values ]\u001b[0m\n",
      "\u001b[94m    [ sg values for 0 (neg) ]\u001b[0m\n",
      "\u001b[94m    [ sg values for 1 (pos) ]\u001b[0m\n",
      "\u001b[94m[ caching gv values ]\u001b[0m\n",
      "\u001b[94m    [ gv values for 0 (neg) ]\u001b[0m\n",
      "\u001b[94m    [ gv values for 1 (pos) ]\u001b[0m\n",
      "\u001b[94m [ updating max gv values ]\u001b[0m\n",
      "\u001b[94m    [ max gv values for 0 (neg) ]\u001b[0m\n",
      "\u001b[94m    [ max gv values for 1 (pos) ]\u001b[0m\n",
      "\u001b[94m [ max gv values have been updated ]\u001b[0m\n",
      "\u001b[94m [ caching confidence values (cvs) ]\u001b[0m\n",
      "\u001b[94m    [ cvs for 0 (neg) ]\u001b[0m\n",
      "\u001b[94m    [ cvs for 1 (pos) ]\u001b[0m\n"
     ]
    },
    {
     "name": "stderr",
     "output_type": "stream",
     "text": [
      " Classification:   2%|▏         | 8/402 [00:00<00:04, 79.68it/s]"
     ]
    },
    {
     "name": "stdout",
     "output_type": "stream",
     "text": [
      "\u001b[94m [ finished --time: 3.3s ]\u001b[0m\n",
      "\u001b[94m [ default category was automatically set to 'pos' (the most probable one) ]\u001b[0m\n",
      "\u001b[94m [ about to start classifying test documents ]\u001b[0m\n"
     ]
    },
    {
     "name": "stderr",
     "output_type": "stream",
     "text": [
      " Classification: 100%|██████████| 402/402 [00:07<00:00, 56.51it/s]\n",
      " Training:   0%|          | 0/2 [00:00<?, ?it/s]"
     ]
    },
    {
     "name": "stdout",
     "output_type": "stream",
     "text": [
      "\u001b[94m [ finished --time: 7.1s ]\u001b[0m\n",
      "\u001b[94m [ about to start training ]\u001b[0m\n"
     ]
    },
    {
     "name": "stderr",
     "output_type": "stream",
     "text": [
      " Training: 100%|██████████| 2/2 [00:07<00:00,  3.47s/it]\n"
     ]
    },
    {
     "name": "stdout",
     "output_type": "stream",
     "text": [
      "\u001b[94m [ pruning tries... ]\u001b[0m\n",
      "\u001b[94m [ finished --time: 8.0s ]\u001b[0m\n",
      "\u001b[94m [ about to start updating values... ]\u001b[0m\n",
      "\u001b[94m [ caching lv values ]\u001b[0m\n",
      "\u001b[94m    [ lv values for 0 (neg) ]\u001b[0m\n",
      "\u001b[94m    [ lv values for 1 (pos) ]\u001b[0m\n",
      "\u001b[94m [ caching sg values ]\u001b[0m\n",
      "\u001b[94m    [ sg values for 0 (neg) ]\u001b[0m\n",
      "\u001b[94m    [ sg values for 1 (pos) ]\u001b[0m\n",
      "\u001b[94m[ caching gv values ]\u001b[0m\n",
      "\u001b[94m    [ gv values for 0 (neg) ]\u001b[0m\n",
      "\u001b[94m    [ gv values for 1 (pos) ]\u001b[0m\n",
      "\u001b[94m [ updating max gv values ]\u001b[0m\n",
      "\u001b[94m    [ max gv values for 0 (neg) ]\u001b[0m\n",
      "\u001b[94m    [ max gv values for 1 (pos) ]\u001b[0m\n",
      "\u001b[94m [ max gv values have been updated ]\u001b[0m\n",
      "\u001b[94m [ caching confidence values (cvs) ]\u001b[0m\n",
      "\u001b[94m    [ cvs for 0 (neg) ]\u001b[0m\n",
      "\u001b[94m    [ cvs for 1 (pos) ]\u001b[0m\n"
     ]
    },
    {
     "name": "stderr",
     "output_type": "stream",
     "text": [
      " Classification:   2%|▏         | 8/402 [00:00<00:05, 72.67it/s]"
     ]
    },
    {
     "name": "stdout",
     "output_type": "stream",
     "text": [
      "\u001b[94m [ finished --time: 3.1s ]\u001b[0m\n",
      "\u001b[94m [ default category was automatically set to 'pos' (the most probable one) ]\u001b[0m\n",
      "\u001b[94m [ about to start classifying test documents ]\u001b[0m\n"
     ]
    },
    {
     "name": "stderr",
     "output_type": "stream",
     "text": [
      " Classification: 100%|██████████| 402/402 [00:07<00:00, 56.55it/s]\n",
      " Training:   0%|          | 0/2 [00:00<?, ?it/s]"
     ]
    },
    {
     "name": "stdout",
     "output_type": "stream",
     "text": [
      "\u001b[94m [ finished --time: 7.1s ]\u001b[0m\n",
      "\u001b[94m [ about to start training ]\u001b[0m\n"
     ]
    },
    {
     "name": "stderr",
     "output_type": "stream",
     "text": [
      " Training: 100%|██████████| 2/2 [00:06<00:00,  2.98s/it]\n"
     ]
    },
    {
     "name": "stdout",
     "output_type": "stream",
     "text": [
      "\u001b[94m [ pruning tries... ]\u001b[0m\n",
      "\u001b[94m [ finished --time: 7.2s ]\u001b[0m\n",
      "\u001b[94m [ about to start updating values... ]\u001b[0m\n",
      "\u001b[94m [ caching lv values ]\u001b[0m\n",
      "\u001b[94m    [ lv values for 0 (neg) ]\u001b[0m\n",
      "\u001b[94m    [ lv values for 1 (pos) ]\u001b[0m\n",
      "\u001b[94m [ caching sg values ]\u001b[0m\n",
      "\u001b[94m    [ sg values for 0 (neg) ]\u001b[0m\n",
      "\u001b[94m    [ sg values for 1 (pos) ]\u001b[0m\n",
      "\u001b[94m[ caching gv values ]\u001b[0m\n",
      "\u001b[94m    [ gv values for 0 (neg) ]\u001b[0m\n",
      "\u001b[94m    [ gv values for 1 (pos) ]\u001b[0m\n",
      "\u001b[94m [ updating max gv values ]\u001b[0m\n",
      "\u001b[94m    [ max gv values for 0 (neg) ]\u001b[0m\n",
      "\u001b[94m    [ max gv values for 1 (pos) ]\u001b[0m\n",
      "\u001b[94m [ max gv values have been updated ]\u001b[0m\n",
      "\u001b[94m [ caching confidence values (cvs) ]\u001b[0m\n",
      "\u001b[94m    [ cvs for 0 (neg) ]\u001b[0m\n",
      "\u001b[94m    [ cvs for 1 (pos) ]\u001b[0m\n"
     ]
    },
    {
     "name": "stderr",
     "output_type": "stream",
     "text": [
      " Classification:   2%|▏         | 9/402 [00:00<00:04, 79.93it/s]"
     ]
    },
    {
     "name": "stdout",
     "output_type": "stream",
     "text": [
      "\u001b[94m [ finished --time: 3.2s ]\u001b[0m\n",
      "\u001b[94m [ default category was automatically set to 'pos' (the most probable one) ]\u001b[0m\n",
      "\u001b[94m [ about to start classifying test documents ]\u001b[0m\n"
     ]
    },
    {
     "name": "stderr",
     "output_type": "stream",
     "text": [
      " Classification: 100%|██████████| 402/402 [00:07<00:00, 56.60it/s]\n",
      " Training:   0%|          | 0/2 [00:00<?, ?it/s]"
     ]
    },
    {
     "name": "stdout",
     "output_type": "stream",
     "text": [
      "\u001b[94m [ finished --time: 7.1s ]\u001b[0m\n",
      "\u001b[94m [ about to start training ]\u001b[0m\n"
     ]
    },
    {
     "name": "stderr",
     "output_type": "stream",
     "text": [
      " Training: 100%|██████████| 2/2 [00:06<00:00,  3.18s/it]\n"
     ]
    },
    {
     "name": "stdout",
     "output_type": "stream",
     "text": [
      "\u001b[94m [ pruning tries... ]\u001b[0m\n",
      "\u001b[94m [ finished --time: 7.5s ]\u001b[0m\n",
      "\u001b[94m [ about to start updating values... ]\u001b[0m\n",
      "\u001b[94m [ caching lv values ]\u001b[0m\n",
      "\u001b[94m    [ lv values for 0 (neg) ]\u001b[0m\n",
      "\u001b[94m    [ lv values for 1 (pos) ]\u001b[0m\n",
      "\u001b[94m [ caching sg values ]\u001b[0m\n",
      "\u001b[94m    [ sg values for 0 (neg) ]\u001b[0m\n",
      "\u001b[94m    [ sg values for 1 (pos) ]\u001b[0m\n",
      "\u001b[94m[ caching gv values ]\u001b[0m\n",
      "\u001b[94m    [ gv values for 0 (neg) ]\u001b[0m\n",
      "\u001b[94m    [ gv values for 1 (pos) ]\u001b[0m\n",
      "\u001b[94m [ updating max gv values ]\u001b[0m\n",
      "\u001b[94m    [ max gv values for 0 (neg) ]\u001b[0m\n",
      "\u001b[94m    [ max gv values for 1 (pos) ]\u001b[0m\n",
      "\u001b[94m [ max gv values have been updated ]\u001b[0m\n",
      "\u001b[94m [ caching confidence values (cvs) ]\u001b[0m\n",
      "\u001b[94m    [ cvs for 0 (neg) ]\u001b[0m\n",
      "\u001b[94m    [ cvs for 1 (pos) ]\u001b[0m\n"
     ]
    },
    {
     "name": "stderr",
     "output_type": "stream",
     "text": [
      " Classification:   2%|▏         | 9/402 [00:00<00:04, 80.55it/s]"
     ]
    },
    {
     "name": "stdout",
     "output_type": "stream",
     "text": [
      "\u001b[94m [ finished --time: 3.2s ]\u001b[0m\n",
      "\u001b[94m [ default category was automatically set to 'pos' (the most probable one) ]\u001b[0m\n",
      "\u001b[94m [ about to start classifying test documents ]\u001b[0m\n"
     ]
    },
    {
     "name": "stderr",
     "output_type": "stream",
     "text": [
      " Classification: 100%|██████████| 402/402 [00:07<00:00, 56.35it/s]\n",
      " Training:   0%|          | 0/2 [00:00<?, ?it/s]"
     ]
    },
    {
     "name": "stdout",
     "output_type": "stream",
     "text": [
      "\u001b[94m [ finished --time: 7.1s ]\u001b[0m\n",
      "\u001b[94m [ about to start training ]\u001b[0m\n"
     ]
    },
    {
     "name": "stderr",
     "output_type": "stream",
     "text": [
      " Training: 100%|██████████| 2/2 [00:07<00:00,  3.46s/it]\n"
     ]
    },
    {
     "name": "stdout",
     "output_type": "stream",
     "text": [
      "\u001b[94m [ pruning tries... ]\u001b[0m\n",
      "\u001b[94m [ finished --time: 8.0s ]\u001b[0m\n",
      "\u001b[94m [ about to start updating values... ]\u001b[0m\n",
      "\u001b[94m [ caching lv values ]\u001b[0m\n",
      "\u001b[94m    [ lv values for 0 (neg) ]\u001b[0m\n",
      "\u001b[94m    [ lv values for 1 (pos) ]\u001b[0m\n",
      "\u001b[94m [ caching sg values ]\u001b[0m\n",
      "\u001b[94m    [ sg values for 0 (neg) ]\u001b[0m\n",
      "\u001b[94m    [ sg values for 1 (pos) ]\u001b[0m\n",
      "\u001b[94m[ caching gv values ]\u001b[0m\n",
      "\u001b[94m    [ gv values for 0 (neg) ]\u001b[0m\n",
      "\u001b[94m    [ gv values for 1 (pos) ]\u001b[0m\n",
      "\u001b[94m [ updating max gv values ]\u001b[0m\n",
      "\u001b[94m    [ max gv values for 0 (neg) ]\u001b[0m\n",
      "\u001b[94m    [ max gv values for 1 (pos) ]\u001b[0m\n",
      "\u001b[94m [ max gv values have been updated ]\u001b[0m\n",
      "\u001b[94m [ caching confidence values (cvs) ]\u001b[0m\n",
      "\u001b[94m    [ cvs for 0 (neg) ]\u001b[0m\n",
      "\u001b[94m    [ cvs for 1 (pos) ]\u001b[0m\n"
     ]
    },
    {
     "name": "stderr",
     "output_type": "stream",
     "text": [
      " Classification:   2%|▏         | 9/402 [00:00<00:04, 83.85it/s]"
     ]
    },
    {
     "name": "stdout",
     "output_type": "stream",
     "text": [
      "\u001b[94m [ finished --time: 3.1s ]\u001b[0m\n",
      "\u001b[94m [ default category was automatically set to 'pos' (the most probable one) ]\u001b[0m\n",
      "\u001b[94m [ about to start classifying test documents ]\u001b[0m\n"
     ]
    },
    {
     "name": "stderr",
     "output_type": "stream",
     "text": [
      " Classification: 100%|██████████| 402/402 [00:07<00:00, 56.08it/s]\n",
      " Training:   0%|          | 0/2 [00:00<?, ?it/s]"
     ]
    },
    {
     "name": "stdout",
     "output_type": "stream",
     "text": [
      "\u001b[94m [ finished --time: 7.2s ]\u001b[0m\n",
      "\u001b[94m [ about to start training ]\u001b[0m\n"
     ]
    },
    {
     "name": "stderr",
     "output_type": "stream",
     "text": [
      " Training: 100%|██████████| 2/2 [00:06<00:00,  2.97s/it]\n"
     ]
    },
    {
     "name": "stdout",
     "output_type": "stream",
     "text": [
      "\u001b[94m [ pruning tries... ]\u001b[0m\n",
      "\u001b[94m [ finished --time: 7.2s ]\u001b[0m\n",
      "\u001b[94m [ about to start updating values... ]\u001b[0m\n",
      "\u001b[94m [ caching lv values ]\u001b[0m\n",
      "\u001b[94m    [ lv values for 0 (neg) ]\u001b[0m\n",
      "\u001b[94m    [ lv values for 1 (pos) ]\u001b[0m\n",
      "\u001b[94m [ caching sg values ]\u001b[0m\n",
      "\u001b[94m    [ sg values for 0 (neg) ]\u001b[0m\n",
      "\u001b[94m    [ sg values for 1 (pos) ]\u001b[0m\n",
      "\u001b[94m[ caching gv values ]\u001b[0m\n",
      "\u001b[94m    [ gv values for 0 (neg) ]\u001b[0m\n",
      "\u001b[94m    [ gv values for 1 (pos) ]\u001b[0m\n",
      "\u001b[94m [ updating max gv values ]\u001b[0m\n",
      "\u001b[94m    [ max gv values for 0 (neg) ]\u001b[0m\n",
      "\u001b[94m    [ max gv values for 1 (pos) ]\u001b[0m\n",
      "\u001b[94m [ max gv values have been updated ]\u001b[0m\n",
      "\u001b[94m [ caching confidence values (cvs) ]\u001b[0m\n",
      "\u001b[94m    [ cvs for 0 (neg) ]\u001b[0m\n",
      "\u001b[94m    [ cvs for 1 (pos) ]\u001b[0m\n"
     ]
    },
    {
     "name": "stderr",
     "output_type": "stream",
     "text": [
      " Classification:   2%|▏         | 8/402 [00:00<00:04, 79.18it/s]"
     ]
    },
    {
     "name": "stdout",
     "output_type": "stream",
     "text": [
      "\u001b[94m [ finished --time: 3.3s ]\u001b[0m\n",
      "\u001b[94m [ default category was automatically set to 'pos' (the most probable one) ]\u001b[0m\n",
      "\u001b[94m [ about to start classifying test documents ]\u001b[0m\n"
     ]
    },
    {
     "name": "stderr",
     "output_type": "stream",
     "text": [
      " Classification: 100%|██████████| 402/402 [00:07<00:00, 56.83it/s]\n",
      " Training:   0%|          | 0/2 [00:00<?, ?it/s]"
     ]
    },
    {
     "name": "stdout",
     "output_type": "stream",
     "text": [
      "\u001b[94m [ finished --time: 7.1s ]\u001b[0m\n",
      "\u001b[94m [ about to start training ]\u001b[0m\n"
     ]
    },
    {
     "name": "stderr",
     "output_type": "stream",
     "text": [
      " Training: 100%|██████████| 2/2 [00:07<00:00,  3.50s/it]\n"
     ]
    },
    {
     "name": "stdout",
     "output_type": "stream",
     "text": [
      "\u001b[94m [ pruning tries... ]\u001b[0m\n",
      "\u001b[94m [ finished --time: 8.1s ]\u001b[0m\n",
      "\u001b[94m [ about to start updating values... ]\u001b[0m\n",
      "\u001b[94m [ caching lv values ]\u001b[0m\n",
      "\u001b[94m    [ lv values for 0 (neg) ]\u001b[0m\n",
      "\u001b[94m    [ lv values for 1 (pos) ]\u001b[0m\n",
      "\u001b[94m [ caching sg values ]\u001b[0m\n",
      "\u001b[94m    [ sg values for 0 (neg) ]\u001b[0m\n",
      "\u001b[94m    [ sg values for 1 (pos) ]\u001b[0m\n",
      "\u001b[94m[ caching gv values ]\u001b[0m\n",
      "\u001b[94m    [ gv values for 0 (neg) ]\u001b[0m\n",
      "\u001b[94m    [ gv values for 1 (pos) ]\u001b[0m\n",
      "\u001b[94m [ updating max gv values ]\u001b[0m\n",
      "\u001b[94m    [ max gv values for 0 (neg) ]\u001b[0m\n",
      "\u001b[94m    [ max gv values for 1 (pos) ]\u001b[0m\n",
      "\u001b[94m [ max gv values have been updated ]\u001b[0m\n",
      "\u001b[94m [ caching confidence values (cvs) ]\u001b[0m\n",
      "\u001b[94m    [ cvs for 0 (neg) ]\u001b[0m\n",
      "\u001b[94m    [ cvs for 1 (pos) ]\u001b[0m\n"
     ]
    },
    {
     "name": "stderr",
     "output_type": "stream",
     "text": [
      " Classification:   2%|▏         | 9/402 [00:00<00:04, 82.28it/s]"
     ]
    },
    {
     "name": "stdout",
     "output_type": "stream",
     "text": [
      "\u001b[94m [ finished --time: 3.1s ]\u001b[0m\n",
      "\u001b[94m [ default category was automatically set to 'pos' (the most probable one) ]\u001b[0m\n",
      "\u001b[94m [ about to start classifying test documents ]\u001b[0m\n"
     ]
    },
    {
     "name": "stderr",
     "output_type": "stream",
     "text": [
      " Classification: 100%|██████████| 402/402 [00:07<00:00, 56.55it/s]\n",
      " Training:   0%|          | 0/2 [00:00<?, ?it/s]"
     ]
    },
    {
     "name": "stdout",
     "output_type": "stream",
     "text": [
      "\u001b[94m [ finished --time: 7.1s ]\u001b[0m\n",
      "\u001b[94m [ about to start training ]\u001b[0m\n"
     ]
    },
    {
     "name": "stderr",
     "output_type": "stream",
     "text": [
      " Training: 100%|██████████| 2/2 [00:06<00:00,  3.03s/it]\n"
     ]
    },
    {
     "name": "stdout",
     "output_type": "stream",
     "text": [
      "\u001b[94m [ pruning tries... ]\u001b[0m\n",
      "\u001b[94m [ finished --time: 7.5s ]\u001b[0m\n",
      "\u001b[94m [ about to start updating values... ]\u001b[0m\n",
      "\u001b[94m [ caching lv values ]\u001b[0m\n",
      "\u001b[94m    [ lv values for 0 (neg) ]\u001b[0m\n",
      "\u001b[94m    [ lv values for 1 (pos) ]\u001b[0m\n",
      "\u001b[94m [ caching sg values ]\u001b[0m\n",
      "\u001b[94m    [ sg values for 0 (neg) ]\u001b[0m\n",
      "\u001b[94m    [ sg values for 1 (pos) ]\u001b[0m\n",
      "\u001b[94m[ caching gv values ]\u001b[0m\n",
      "\u001b[94m    [ gv values for 0 (neg) ]\u001b[0m\n",
      "\u001b[94m    [ gv values for 1 (pos) ]\u001b[0m\n",
      "\u001b[94m [ updating max gv values ]\u001b[0m\n",
      "\u001b[94m    [ max gv values for 0 (neg) ]\u001b[0m\n",
      "\u001b[94m    [ max gv values for 1 (pos) ]\u001b[0m\n",
      "\u001b[94m [ max gv values have been updated ]\u001b[0m\n",
      "\u001b[94m [ caching confidence values (cvs) ]\u001b[0m\n",
      "\u001b[94m    [ cvs for 0 (neg) ]\u001b[0m\n",
      "\u001b[94m    [ cvs for 1 (pos) ]\u001b[0m\n"
     ]
    },
    {
     "name": "stderr",
     "output_type": "stream",
     "text": [
      " Classification:   2%|▏         | 9/402 [00:00<00:04, 80.22it/s]"
     ]
    },
    {
     "name": "stdout",
     "output_type": "stream",
     "text": [
      "\u001b[94m [ finished --time: 3.5s ]\u001b[0m\n",
      "\u001b[94m [ default category was automatically set to 'pos' (the most probable one) ]\u001b[0m\n",
      "\u001b[94m [ about to start classifying test documents ]\u001b[0m\n"
     ]
    },
    {
     "name": "stderr",
     "output_type": "stream",
     "text": [
      " Classification: 100%|██████████| 402/402 [00:07<00:00, 56.06it/s]\n",
      " Training:   0%|          | 0/2 [00:00<?, ?it/s]"
     ]
    },
    {
     "name": "stdout",
     "output_type": "stream",
     "text": [
      "\u001b[94m [ finished --time: 7.2s ]\u001b[0m\n",
      "\u001b[94m [ about to start training ]\u001b[0m\n"
     ]
    },
    {
     "name": "stderr",
     "output_type": "stream",
     "text": [
      " Training: 100%|██████████| 2/2 [00:06<00:00,  3.04s/it]\n"
     ]
    },
    {
     "name": "stdout",
     "output_type": "stream",
     "text": [
      "\u001b[94m [ pruning tries... ]\u001b[0m\n",
      "\u001b[94m [ finished --time: 7.4s ]\u001b[0m\n",
      "\u001b[94m [ about to start updating values... ]\u001b[0m\n",
      "\u001b[94m [ caching lv values ]\u001b[0m\n",
      "\u001b[94m    [ lv values for 0 (neg) ]\u001b[0m\n",
      "\u001b[94m    [ lv values for 1 (pos) ]\u001b[0m\n",
      "\u001b[94m [ caching sg values ]\u001b[0m\n",
      "\u001b[94m    [ sg values for 0 (neg) ]\u001b[0m\n",
      "\u001b[94m    [ sg values for 1 (pos) ]\u001b[0m\n",
      "\u001b[94m[ caching gv values ]\u001b[0m\n",
      "\u001b[94m    [ gv values for 0 (neg) ]\u001b[0m\n",
      "\u001b[94m    [ gv values for 1 (pos) ]\u001b[0m\n",
      "\u001b[94m [ updating max gv values ]\u001b[0m\n",
      "\u001b[94m    [ max gv values for 0 (neg) ]\u001b[0m\n",
      "\u001b[94m    [ max gv values for 1 (pos) ]\u001b[0m\n",
      "\u001b[94m [ max gv values have been updated ]\u001b[0m\n",
      "\u001b[94m [ caching confidence values (cvs) ]\u001b[0m\n",
      "\u001b[94m    [ cvs for 0 (neg) ]\u001b[0m\n",
      "\u001b[94m    [ cvs for 1 (pos) ]\u001b[0m\n"
     ]
    },
    {
     "name": "stderr",
     "output_type": "stream",
     "text": [
      " Classification:   2%|▏         | 9/402 [00:00<00:04, 79.53it/s]"
     ]
    },
    {
     "name": "stdout",
     "output_type": "stream",
     "text": [
      "\u001b[94m [ finished --time: 3.2s ]\u001b[0m\n",
      "\u001b[94m [ default category was automatically set to 'pos' (the most probable one) ]\u001b[0m\n",
      "\u001b[94m [ about to start classifying test documents ]\u001b[0m\n"
     ]
    },
    {
     "name": "stderr",
     "output_type": "stream",
     "text": [
      " Classification: 100%|██████████| 402/402 [00:07<00:00, 56.70it/s]\n",
      " Training:   0%|          | 0/2 [00:00<?, ?it/s]"
     ]
    },
    {
     "name": "stdout",
     "output_type": "stream",
     "text": [
      "\u001b[94m [ finished --time: 7.1s ]\u001b[0m\n",
      "\u001b[94m [ about to start training ]\u001b[0m\n"
     ]
    },
    {
     "name": "stderr",
     "output_type": "stream",
     "text": [
      " Training: 100%|██████████| 2/2 [00:06<00:00,  3.21s/it]\n"
     ]
    },
    {
     "name": "stdout",
     "output_type": "stream",
     "text": [
      "\u001b[94m [ pruning tries... ]\u001b[0m\n",
      "\u001b[94m [ finished --time: 7.6s ]\u001b[0m\n",
      "\u001b[94m [ about to start updating values... ]\u001b[0m\n",
      "\u001b[94m [ caching lv values ]\u001b[0m\n",
      "\u001b[94m    [ lv values for 0 (neg) ]\u001b[0m\n",
      "\u001b[94m    [ lv values for 1 (pos) ]\u001b[0m\n",
      "\u001b[94m [ caching sg values ]\u001b[0m\n",
      "\u001b[94m    [ sg values for 0 (neg) ]\u001b[0m\n",
      "\u001b[94m    [ sg values for 1 (pos) ]\u001b[0m\n",
      "\u001b[94m[ caching gv values ]\u001b[0m\n",
      "\u001b[94m    [ gv values for 0 (neg) ]\u001b[0m\n",
      "\u001b[94m    [ gv values for 1 (pos) ]\u001b[0m\n",
      "\u001b[94m [ updating max gv values ]\u001b[0m\n",
      "\u001b[94m    [ max gv values for 0 (neg) ]\u001b[0m\n",
      "\u001b[94m    [ max gv values for 1 (pos) ]\u001b[0m\n",
      "\u001b[94m [ max gv values have been updated ]\u001b[0m\n",
      "\u001b[94m [ caching confidence values (cvs) ]\u001b[0m\n",
      "\u001b[94m    [ cvs for 0 (neg) ]\u001b[0m\n",
      "\u001b[94m    [ cvs for 1 (pos) ]\u001b[0m\n"
     ]
    },
    {
     "name": "stderr",
     "output_type": "stream",
     "text": [
      " Classification:   2%|▏         | 9/402 [00:00<00:04, 83.09it/s]"
     ]
    },
    {
     "name": "stdout",
     "output_type": "stream",
     "text": [
      "\u001b[94m [ finished --time: 3.1s ]\u001b[0m\n",
      "\u001b[94m [ default category was automatically set to 'pos' (the most probable one) ]\u001b[0m\n",
      "\u001b[94m [ about to start classifying test documents ]\u001b[0m\n"
     ]
    },
    {
     "name": "stderr",
     "output_type": "stream",
     "text": [
      " Classification: 100%|██████████| 402/402 [00:07<00:00, 57.15it/s]\n",
      " Training:   0%|          | 0/2 [00:00<?, ?it/s]"
     ]
    },
    {
     "name": "stdout",
     "output_type": "stream",
     "text": [
      "\u001b[94m [ finished --time: 7.0s ]\u001b[0m\n",
      "\u001b[94m [ about to start training ]\u001b[0m\n"
     ]
    },
    {
     "name": "stderr",
     "output_type": "stream",
     "text": [
      " Training: 100%|██████████| 2/2 [00:06<00:00,  3.19s/it]\n"
     ]
    },
    {
     "name": "stdout",
     "output_type": "stream",
     "text": [
      "\u001b[94m [ pruning tries... ]\u001b[0m\n",
      "\u001b[94m [ finished --time: 7.5s ]\u001b[0m\n",
      "\u001b[94m [ about to start updating values... ]\u001b[0m\n",
      "\u001b[94m [ caching lv values ]\u001b[0m\n",
      "\u001b[94m    [ lv values for 0 (neg) ]\u001b[0m\n",
      "\u001b[94m    [ lv values for 1 (pos) ]\u001b[0m\n",
      "\u001b[94m [ caching sg values ]\u001b[0m\n",
      "\u001b[94m    [ sg values for 0 (neg) ]\u001b[0m\n",
      "\u001b[94m    [ sg values for 1 (pos) ]\u001b[0m\n",
      "\u001b[94m[ caching gv values ]\u001b[0m\n",
      "\u001b[94m    [ gv values for 0 (neg) ]\u001b[0m\n",
      "\u001b[94m    [ gv values for 1 (pos) ]\u001b[0m\n",
      "\u001b[94m [ updating max gv values ]\u001b[0m\n",
      "\u001b[94m    [ max gv values for 0 (neg) ]\u001b[0m\n",
      "\u001b[94m    [ max gv values for 1 (pos) ]\u001b[0m\n",
      "\u001b[94m [ max gv values have been updated ]\u001b[0m\n",
      "\u001b[94m [ caching confidence values (cvs) ]\u001b[0m\n",
      "\u001b[94m    [ cvs for 0 (neg) ]\u001b[0m\n",
      "\u001b[94m    [ cvs for 1 (pos) ]\u001b[0m\n"
     ]
    },
    {
     "name": "stderr",
     "output_type": "stream",
     "text": [
      " Classification:   2%|▏         | 8/402 [00:00<00:05, 78.06it/s]"
     ]
    },
    {
     "name": "stdout",
     "output_type": "stream",
     "text": [
      "\u001b[94m [ finished --time: 3.2s ]\u001b[0m\n",
      "\u001b[94m [ default category was automatically set to 'pos' (the most probable one) ]\u001b[0m\n",
      "\u001b[94m [ about to start classifying test documents ]\u001b[0m\n"
     ]
    },
    {
     "name": "stderr",
     "output_type": "stream",
     "text": [
      " Classification: 100%|██████████| 402/402 [00:07<00:00, 56.99it/s]\n",
      " Training:   0%|          | 0/2 [00:00<?, ?it/s]"
     ]
    },
    {
     "name": "stdout",
     "output_type": "stream",
     "text": [
      "\u001b[94m [ finished --time: 7.1s ]\u001b[0m\n",
      "\u001b[94m [ about to start training ]\u001b[0m\n"
     ]
    },
    {
     "name": "stderr",
     "output_type": "stream",
     "text": [
      " Training: 100%|██████████| 2/2 [00:06<00:00,  3.23s/it]\n"
     ]
    },
    {
     "name": "stdout",
     "output_type": "stream",
     "text": [
      "\u001b[94m [ pruning tries... ]\u001b[0m\n",
      "\u001b[94m [ finished --time: 7.6s ]\u001b[0m\n",
      "\u001b[94m [ about to start updating values... ]\u001b[0m\n",
      "\u001b[94m [ caching lv values ]\u001b[0m\n",
      "\u001b[94m    [ lv values for 0 (neg) ]\u001b[0m\n",
      "\u001b[94m    [ lv values for 1 (pos) ]\u001b[0m\n",
      "\u001b[94m [ caching sg values ]\u001b[0m\n",
      "\u001b[94m    [ sg values for 0 (neg) ]\u001b[0m\n",
      "\u001b[94m    [ sg values for 1 (pos) ]\u001b[0m\n",
      "\u001b[94m[ caching gv values ]\u001b[0m\n",
      "\u001b[94m    [ gv values for 0 (neg) ]\u001b[0m\n",
      "\u001b[94m    [ gv values for 1 (pos) ]\u001b[0m\n",
      "\u001b[94m [ updating max gv values ]\u001b[0m\n",
      "\u001b[94m    [ max gv values for 0 (neg) ]\u001b[0m\n",
      "\u001b[94m    [ max gv values for 1 (pos) ]\u001b[0m\n",
      "\u001b[94m [ max gv values have been updated ]\u001b[0m\n",
      "\u001b[94m [ caching confidence values (cvs) ]\u001b[0m\n",
      "\u001b[94m    [ cvs for 0 (neg) ]\u001b[0m\n",
      "\u001b[94m    [ cvs for 1 (pos) ]\u001b[0m\n"
     ]
    },
    {
     "name": "stderr",
     "output_type": "stream",
     "text": [
      " Classification:   2%|▏         | 9/402 [00:00<00:04, 83.98it/s]"
     ]
    },
    {
     "name": "stdout",
     "output_type": "stream",
     "text": [
      "\u001b[94m [ finished --time: 3.2s ]\u001b[0m\n",
      "\u001b[94m [ default category was automatically set to 'pos' (the most probable one) ]\u001b[0m\n",
      "\u001b[94m [ about to start classifying test documents ]\u001b[0m\n"
     ]
    },
    {
     "name": "stderr",
     "output_type": "stream",
     "text": [
      " Classification: 100%|██████████| 402/402 [00:06<00:00, 57.62it/s]\n",
      " Training:   0%|          | 0/2 [00:00<?, ?it/s]"
     ]
    },
    {
     "name": "stdout",
     "output_type": "stream",
     "text": [
      "\u001b[94m [ finished --time: 7.0s ]\u001b[0m\n",
      "\u001b[94m [ about to start training ]\u001b[0m\n"
     ]
    },
    {
     "name": "stderr",
     "output_type": "stream",
     "text": [
      " Training: 100%|██████████| 2/2 [00:07<00:00,  3.24s/it]\n"
     ]
    },
    {
     "name": "stdout",
     "output_type": "stream",
     "text": [
      "\u001b[94m [ pruning tries... ]\u001b[0m\n",
      "\u001b[94m [ finished --time: 7.6s ]\u001b[0m\n",
      "\u001b[94m [ about to start updating values... ]\u001b[0m\n",
      "\u001b[94m [ caching lv values ]\u001b[0m\n",
      "\u001b[94m    [ lv values for 0 (neg) ]\u001b[0m\n",
      "\u001b[94m    [ lv values for 1 (pos) ]\u001b[0m\n",
      "\u001b[94m [ caching sg values ]\u001b[0m\n",
      "\u001b[94m    [ sg values for 0 (neg) ]\u001b[0m\n",
      "\u001b[94m    [ sg values for 1 (pos) ]\u001b[0m\n",
      "\u001b[94m[ caching gv values ]\u001b[0m\n",
      "\u001b[94m    [ gv values for 0 (neg) ]\u001b[0m\n",
      "\u001b[94m    [ gv values for 1 (pos) ]\u001b[0m\n",
      "\u001b[94m [ updating max gv values ]\u001b[0m\n",
      "\u001b[94m    [ max gv values for 0 (neg) ]\u001b[0m\n",
      "\u001b[94m    [ max gv values for 1 (pos) ]\u001b[0m\n",
      "\u001b[94m [ max gv values have been updated ]\u001b[0m\n",
      "\u001b[94m [ caching confidence values (cvs) ]\u001b[0m\n",
      "\u001b[94m    [ cvs for 0 (neg) ]\u001b[0m\n",
      "\u001b[94m    [ cvs for 1 (pos) ]\u001b[0m\n"
     ]
    },
    {
     "name": "stderr",
     "output_type": "stream",
     "text": [
      " Classification:   2%|▏         | 8/402 [00:00<00:05, 77.44it/s]"
     ]
    },
    {
     "name": "stdout",
     "output_type": "stream",
     "text": [
      "\u001b[94m [ finished --time: 3.3s ]\u001b[0m\n",
      "\u001b[94m [ default category was automatically set to 'pos' (the most probable one) ]\u001b[0m\n",
      "\u001b[94m [ about to start classifying test documents ]\u001b[0m\n"
     ]
    },
    {
     "name": "stderr",
     "output_type": "stream",
     "text": [
      " Classification: 100%|██████████| 402/402 [00:07<00:00, 57.28it/s]\n",
      " Training:   0%|          | 0/2 [00:00<?, ?it/s]"
     ]
    },
    {
     "name": "stdout",
     "output_type": "stream",
     "text": [
      "\u001b[94m [ finished --time: 7.0s ]\u001b[0m\n",
      "\u001b[94m [ about to start training ]\u001b[0m\n"
     ]
    },
    {
     "name": "stderr",
     "output_type": "stream",
     "text": [
      " Training: 100%|██████████| 2/2 [00:06<00:00,  3.22s/it]\n"
     ]
    },
    {
     "name": "stdout",
     "output_type": "stream",
     "text": [
      "\u001b[94m [ pruning tries... ]\u001b[0m\n",
      "\u001b[94m [ finished --time: 7.5s ]\u001b[0m\n",
      "\u001b[94m [ about to start updating values... ]\u001b[0m\n",
      "\u001b[94m [ caching lv values ]\u001b[0m\n",
      "\u001b[94m    [ lv values for 0 (neg) ]\u001b[0m\n",
      "\u001b[94m    [ lv values for 1 (pos) ]\u001b[0m\n",
      "\u001b[94m [ caching sg values ]\u001b[0m\n",
      "\u001b[94m    [ sg values for 0 (neg) ]\u001b[0m\n",
      "\u001b[94m    [ sg values for 1 (pos) ]\u001b[0m\n",
      "\u001b[94m[ caching gv values ]\u001b[0m\n",
      "\u001b[94m    [ gv values for 0 (neg) ]\u001b[0m\n",
      "\u001b[94m    [ gv values for 1 (pos) ]\u001b[0m\n",
      "\u001b[94m [ updating max gv values ]\u001b[0m\n",
      "\u001b[94m    [ max gv values for 0 (neg) ]\u001b[0m\n",
      "\u001b[94m    [ max gv values for 1 (pos) ]\u001b[0m\n",
      "\u001b[94m [ max gv values have been updated ]\u001b[0m\n",
      "\u001b[94m [ caching confidence values (cvs) ]\u001b[0m\n",
      "\u001b[94m    [ cvs for 0 (neg) ]\u001b[0m\n",
      "\u001b[94m    [ cvs for 1 (pos) ]\u001b[0m\n"
     ]
    },
    {
     "name": "stderr",
     "output_type": "stream",
     "text": [
      " Classification:   2%|▏         | 8/402 [00:00<00:05, 70.25it/s]"
     ]
    },
    {
     "name": "stdout",
     "output_type": "stream",
     "text": [
      "\u001b[94m [ finished --time: 3.1s ]\u001b[0m\n",
      "\u001b[94m [ default category was automatically set to 'pos' (the most probable one) ]\u001b[0m\n",
      "\u001b[94m [ about to start classifying test documents ]\u001b[0m\n"
     ]
    },
    {
     "name": "stderr",
     "output_type": "stream",
     "text": [
      " Classification: 100%|██████████| 402/402 [00:06<00:00, 57.58it/s]\n",
      " Training:   0%|          | 0/2 [00:00<?, ?it/s]"
     ]
    },
    {
     "name": "stdout",
     "output_type": "stream",
     "text": [
      "\u001b[94m [ finished --time: 7.0s ]\u001b[0m\n",
      "\u001b[94m [ about to start training ]\u001b[0m\n"
     ]
    },
    {
     "name": "stderr",
     "output_type": "stream",
     "text": [
      " Training: 100%|██████████| 2/2 [00:07<00:00,  3.22s/it]\n"
     ]
    },
    {
     "name": "stdout",
     "output_type": "stream",
     "text": [
      "\u001b[94m [ pruning tries... ]\u001b[0m\n",
      "\u001b[94m [ finished --time: 7.6s ]\u001b[0m\n",
      "\u001b[94m [ about to start updating values... ]\u001b[0m\n",
      "\u001b[94m [ caching lv values ]\u001b[0m\n",
      "\u001b[94m    [ lv values for 0 (neg) ]\u001b[0m\n",
      "\u001b[94m    [ lv values for 1 (pos) ]\u001b[0m\n",
      "\u001b[94m [ caching sg values ]\u001b[0m\n",
      "\u001b[94m    [ sg values for 0 (neg) ]\u001b[0m\n",
      "\u001b[94m    [ sg values for 1 (pos) ]\u001b[0m\n",
      "\u001b[94m[ caching gv values ]\u001b[0m\n",
      "\u001b[94m    [ gv values for 0 (neg) ]\u001b[0m\n",
      "\u001b[94m    [ gv values for 1 (pos) ]\u001b[0m\n",
      "\u001b[94m [ updating max gv values ]\u001b[0m\n",
      "\u001b[94m    [ max gv values for 0 (neg) ]\u001b[0m\n",
      "\u001b[94m    [ max gv values for 1 (pos) ]\u001b[0m\n",
      "\u001b[94m [ max gv values have been updated ]\u001b[0m\n",
      "\u001b[94m [ caching confidence values (cvs) ]\u001b[0m\n",
      "\u001b[94m    [ cvs for 0 (neg) ]\u001b[0m\n",
      "\u001b[94m    [ cvs for 1 (pos) ]\u001b[0m\n"
     ]
    },
    {
     "name": "stderr",
     "output_type": "stream",
     "text": [
      " Classification:   2%|▏         | 9/402 [00:00<00:04, 80.81it/s]"
     ]
    },
    {
     "name": "stdout",
     "output_type": "stream",
     "text": [
      "\u001b[94m [ finished --time: 3.2s ]\u001b[0m\n",
      "\u001b[94m [ default category was automatically set to 'pos' (the most probable one) ]\u001b[0m\n",
      "\u001b[94m [ about to start classifying test documents ]\u001b[0m\n"
     ]
    },
    {
     "name": "stderr",
     "output_type": "stream",
     "text": [
      " Classification: 100%|██████████| 402/402 [00:07<00:00, 57.17it/s]\n",
      " Training:   0%|          | 0/2 [00:00<?, ?it/s]"
     ]
    },
    {
     "name": "stdout",
     "output_type": "stream",
     "text": [
      "\u001b[94m [ finished --time: 7.0s ]\u001b[0m\n",
      "\u001b[94m [ about to start training ]\u001b[0m\n"
     ]
    },
    {
     "name": "stderr",
     "output_type": "stream",
     "text": [
      " Training: 100%|██████████| 2/2 [00:07<00:00,  3.28s/it]\n"
     ]
    },
    {
     "name": "stdout",
     "output_type": "stream",
     "text": [
      "\u001b[94m [ pruning tries... ]\u001b[0m\n",
      "\u001b[94m [ finished --time: 7.7s ]\u001b[0m\n",
      "\u001b[94m [ about to start updating values... ]\u001b[0m\n",
      "\u001b[94m [ caching lv values ]\u001b[0m\n",
      "\u001b[94m    [ lv values for 0 (neg) ]\u001b[0m\n",
      "\u001b[94m    [ lv values for 1 (pos) ]\u001b[0m\n",
      "\u001b[94m [ caching sg values ]\u001b[0m\n",
      "\u001b[94m    [ sg values for 0 (neg) ]\u001b[0m\n",
      "\u001b[94m    [ sg values for 1 (pos) ]\u001b[0m\n",
      "\u001b[94m[ caching gv values ]\u001b[0m\n",
      "\u001b[94m    [ gv values for 0 (neg) ]\u001b[0m\n",
      "\u001b[94m    [ gv values for 1 (pos) ]\u001b[0m\n",
      "\u001b[94m [ updating max gv values ]\u001b[0m\n",
      "\u001b[94m    [ max gv values for 0 (neg) ]\u001b[0m\n",
      "\u001b[94m    [ max gv values for 1 (pos) ]\u001b[0m\n",
      "\u001b[94m [ max gv values have been updated ]\u001b[0m\n",
      "\u001b[94m [ caching confidence values (cvs) ]\u001b[0m\n",
      "\u001b[94m    [ cvs for 0 (neg) ]\u001b[0m\n",
      "\u001b[94m    [ cvs for 1 (pos) ]\u001b[0m\n"
     ]
    },
    {
     "name": "stderr",
     "output_type": "stream",
     "text": [
      " Classification:   2%|▏         | 9/402 [00:00<00:04, 83.45it/s]"
     ]
    },
    {
     "name": "stdout",
     "output_type": "stream",
     "text": [
      "\u001b[94m [ finished --time: 3.2s ]\u001b[0m\n",
      "\u001b[94m [ default category was automatically set to 'pos' (the most probable one) ]\u001b[0m\n",
      "\u001b[94m [ about to start classifying test documents ]\u001b[0m\n"
     ]
    },
    {
     "name": "stderr",
     "output_type": "stream",
     "text": [
      " Classification: 100%|██████████| 402/402 [00:06<00:00, 59.58it/s]\n",
      " Training:   0%|          | 0/2 [00:00<?, ?it/s]"
     ]
    },
    {
     "name": "stdout",
     "output_type": "stream",
     "text": [
      "\u001b[94m [ finished --time: 6.9s ]\u001b[0m\n",
      "\u001b[94m [ about to start training ]\u001b[0m\n"
     ]
    },
    {
     "name": "stderr",
     "output_type": "stream",
     "text": [
      " Training: 100%|██████████| 2/2 [00:06<00:00,  2.97s/it]\n"
     ]
    },
    {
     "name": "stdout",
     "output_type": "stream",
     "text": [
      "\u001b[94m [ pruning tries... ]\u001b[0m\n",
      "\u001b[94m [ finished --time: 7.2s ]\u001b[0m\n",
      "\u001b[94m [ about to start updating values... ]\u001b[0m\n",
      "\u001b[94m [ caching lv values ]\u001b[0m\n",
      "\u001b[94m    [ lv values for 0 (neg) ]\u001b[0m\n",
      "\u001b[94m    [ lv values for 1 (pos) ]\u001b[0m\n",
      "\u001b[94m [ caching sg values ]\u001b[0m\n",
      "\u001b[94m    [ sg values for 0 (neg) ]\u001b[0m\n",
      "\u001b[94m    [ sg values for 1 (pos) ]\u001b[0m\n",
      "\u001b[94m[ caching gv values ]\u001b[0m\n",
      "\u001b[94m    [ gv values for 0 (neg) ]\u001b[0m\n",
      "\u001b[94m    [ gv values for 1 (pos) ]\u001b[0m\n",
      "\u001b[94m [ updating max gv values ]\u001b[0m\n",
      "\u001b[94m    [ max gv values for 0 (neg) ]\u001b[0m\n",
      "\u001b[94m    [ max gv values for 1 (pos) ]\u001b[0m\n",
      "\u001b[94m [ max gv values have been updated ]\u001b[0m\n",
      "\u001b[94m [ caching confidence values (cvs) ]\u001b[0m\n",
      "\u001b[94m    [ cvs for 0 (neg) ]\u001b[0m\n",
      "\u001b[94m    [ cvs for 1 (pos) ]\u001b[0m\n"
     ]
    },
    {
     "name": "stderr",
     "output_type": "stream",
     "text": [
      " Classification:   2%|▏         | 8/402 [00:00<00:05, 78.78it/s]"
     ]
    },
    {
     "name": "stdout",
     "output_type": "stream",
     "text": [
      "\u001b[94m [ finished --time: 3.2s ]\u001b[0m\n",
      "\u001b[94m [ default category was automatically set to 'pos' (the most probable one) ]\u001b[0m\n",
      "\u001b[94m [ about to start classifying test documents ]\u001b[0m\n"
     ]
    },
    {
     "name": "stderr",
     "output_type": "stream",
     "text": [
      " Classification: 100%|██████████| 402/402 [00:07<00:00, 57.13it/s]\n",
      " Training:   0%|          | 0/2 [00:00<?, ?it/s]"
     ]
    },
    {
     "name": "stdout",
     "output_type": "stream",
     "text": [
      "\u001b[94m [ finished --time: 7.0s ]\u001b[0m\n",
      "\u001b[94m [ about to start training ]\u001b[0m\n"
     ]
    },
    {
     "name": "stderr",
     "output_type": "stream",
     "text": [
      " Training: 100%|██████████| 2/2 [00:06<00:00,  3.18s/it]\n"
     ]
    },
    {
     "name": "stdout",
     "output_type": "stream",
     "text": [
      "\u001b[94m [ pruning tries... ]\u001b[0m\n",
      "\u001b[94m [ finished --time: 7.5s ]\u001b[0m\n",
      "\u001b[94m [ about to start updating values... ]\u001b[0m\n",
      "\u001b[94m [ caching lv values ]\u001b[0m\n",
      "\u001b[94m    [ lv values for 0 (neg) ]\u001b[0m\n",
      "\u001b[94m    [ lv values for 1 (pos) ]\u001b[0m\n",
      "\u001b[94m [ caching sg values ]\u001b[0m\n",
      "\u001b[94m    [ sg values for 0 (neg) ]\u001b[0m\n",
      "\u001b[94m    [ sg values for 1 (pos) ]\u001b[0m\n",
      "\u001b[94m[ caching gv values ]\u001b[0m\n",
      "\u001b[94m    [ gv values for 0 (neg) ]\u001b[0m\n",
      "\u001b[94m    [ gv values for 1 (pos) ]\u001b[0m\n",
      "\u001b[94m [ updating max gv values ]\u001b[0m\n",
      "\u001b[94m    [ max gv values for 0 (neg) ]\u001b[0m\n",
      "\u001b[94m    [ max gv values for 1 (pos) ]\u001b[0m\n",
      "\u001b[94m [ max gv values have been updated ]\u001b[0m\n",
      "\u001b[94m [ caching confidence values (cvs) ]\u001b[0m\n",
      "\u001b[94m    [ cvs for 0 (neg) ]\u001b[0m\n",
      "\u001b[94m    [ cvs for 1 (pos) ]\u001b[0m\n"
     ]
    },
    {
     "name": "stderr",
     "output_type": "stream",
     "text": [
      " Classification:   2%|▏         | 9/402 [00:00<00:04, 80.78it/s]"
     ]
    },
    {
     "name": "stdout",
     "output_type": "stream",
     "text": [
      "\u001b[94m [ finished --time: 3.2s ]\u001b[0m\n",
      "\u001b[94m [ default category was automatically set to 'pos' (the most probable one) ]\u001b[0m\n",
      "\u001b[94m [ about to start classifying test documents ]\u001b[0m\n"
     ]
    },
    {
     "name": "stderr",
     "output_type": "stream",
     "text": [
      " Classification: 100%|██████████| 402/402 [00:07<00:00, 57.20it/s]\n",
      " Training:   0%|          | 0/2 [00:00<?, ?it/s]"
     ]
    },
    {
     "name": "stdout",
     "output_type": "stream",
     "text": [
      "\u001b[94m [ finished --time: 7.0s ]\u001b[0m\n",
      "\u001b[94m [ about to start training ]\u001b[0m\n"
     ]
    },
    {
     "name": "stderr",
     "output_type": "stream",
     "text": [
      " Training: 100%|██████████| 2/2 [00:07<00:00,  3.47s/it]\n"
     ]
    },
    {
     "name": "stdout",
     "output_type": "stream",
     "text": [
      "\u001b[94m [ pruning tries... ]\u001b[0m\n",
      "\u001b[94m [ finished --time: 8.0s ]\u001b[0m\n",
      "\u001b[94m [ about to start updating values... ]\u001b[0m\n",
      "\u001b[94m [ caching lv values ]\u001b[0m\n",
      "\u001b[94m    [ lv values for 0 (neg) ]\u001b[0m\n",
      "\u001b[94m    [ lv values for 1 (pos) ]\u001b[0m\n",
      "\u001b[94m [ caching sg values ]\u001b[0m\n",
      "\u001b[94m    [ sg values for 0 (neg) ]\u001b[0m\n",
      "\u001b[94m    [ sg values for 1 (pos) ]\u001b[0m\n",
      "\u001b[94m[ caching gv values ]\u001b[0m\n",
      "\u001b[94m    [ gv values for 0 (neg) ]\u001b[0m\n",
      "\u001b[94m    [ gv values for 1 (pos) ]\u001b[0m\n",
      "\u001b[94m [ updating max gv values ]\u001b[0m\n",
      "\u001b[94m    [ max gv values for 0 (neg) ]\u001b[0m\n",
      "\u001b[94m    [ max gv values for 1 (pos) ]\u001b[0m\n",
      "\u001b[94m [ max gv values have been updated ]\u001b[0m\n",
      "\u001b[94m [ caching confidence values (cvs) ]\u001b[0m\n",
      "\u001b[94m    [ cvs for 0 (neg) ]\u001b[0m\n",
      "\u001b[94m    [ cvs for 1 (pos) ]\u001b[0m\n"
     ]
    },
    {
     "name": "stderr",
     "output_type": "stream",
     "text": [
      " Classification:   2%|▏         | 8/402 [00:00<00:04, 79.93it/s]"
     ]
    },
    {
     "name": "stdout",
     "output_type": "stream",
     "text": [
      "\u001b[94m [ finished --time: 3.2s ]\u001b[0m\n",
      "\u001b[94m [ default category was automatically set to 'pos' (the most probable one) ]\u001b[0m\n",
      "\u001b[94m [ about to start classifying test documents ]\u001b[0m\n"
     ]
    },
    {
     "name": "stderr",
     "output_type": "stream",
     "text": [
      " Classification: 100%|██████████| 402/402 [00:07<00:00, 57.03it/s]\n",
      " Training:   0%|          | 0/2 [00:00<?, ?it/s]"
     ]
    },
    {
     "name": "stdout",
     "output_type": "stream",
     "text": [
      "\u001b[94m [ finished --time: 7.1s ]\u001b[0m\n",
      "\u001b[94m [ about to start training ]\u001b[0m\n"
     ]
    },
    {
     "name": "stderr",
     "output_type": "stream",
     "text": [
      " Training: 100%|██████████| 2/2 [00:06<00:00,  2.99s/it]\n"
     ]
    },
    {
     "name": "stdout",
     "output_type": "stream",
     "text": [
      "\u001b[94m [ pruning tries... ]\u001b[0m\n",
      "\u001b[94m [ finished --time: 7.2s ]\u001b[0m\n",
      "\u001b[94m [ about to start updating values... ]\u001b[0m\n",
      "\u001b[94m [ caching lv values ]\u001b[0m\n",
      "\u001b[94m    [ lv values for 0 (neg) ]\u001b[0m\n",
      "\u001b[94m    [ lv values for 1 (pos) ]\u001b[0m\n",
      "\u001b[94m [ caching sg values ]\u001b[0m\n",
      "\u001b[94m    [ sg values for 0 (neg) ]\u001b[0m\n",
      "\u001b[94m    [ sg values for 1 (pos) ]\u001b[0m\n",
      "\u001b[94m[ caching gv values ]\u001b[0m\n",
      "\u001b[94m    [ gv values for 0 (neg) ]\u001b[0m\n",
      "\u001b[94m    [ gv values for 1 (pos) ]\u001b[0m\n",
      "\u001b[94m [ updating max gv values ]\u001b[0m\n",
      "\u001b[94m    [ max gv values for 0 (neg) ]\u001b[0m\n",
      "\u001b[94m    [ max gv values for 1 (pos) ]\u001b[0m\n",
      "\u001b[94m [ max gv values have been updated ]\u001b[0m\n",
      "\u001b[94m [ caching confidence values (cvs) ]\u001b[0m\n",
      "\u001b[94m    [ cvs for 0 (neg) ]\u001b[0m\n",
      "\u001b[94m    [ cvs for 1 (pos) ]\u001b[0m\n"
     ]
    },
    {
     "name": "stderr",
     "output_type": "stream",
     "text": [
      " Classification:   2%|▏         | 9/402 [00:00<00:04, 82.07it/s]"
     ]
    },
    {
     "name": "stdout",
     "output_type": "stream",
     "text": [
      "\u001b[94m [ finished --time: 3.2s ]\u001b[0m\n",
      "\u001b[94m [ default category was automatically set to 'pos' (the most probable one) ]\u001b[0m\n",
      "\u001b[94m [ about to start classifying test documents ]\u001b[0m\n"
     ]
    },
    {
     "name": "stderr",
     "output_type": "stream",
     "text": [
      " Classification: 100%|██████████| 402/402 [00:07<00:00, 57.00it/s]\n",
      " Training:   0%|          | 0/2 [00:00<?, ?it/s]"
     ]
    },
    {
     "name": "stdout",
     "output_type": "stream",
     "text": [
      "\u001b[94m [ finished --time: 7.1s ]\u001b[0m\n",
      "\u001b[94m [ about to start training ]\u001b[0m\n"
     ]
    },
    {
     "name": "stderr",
     "output_type": "stream",
     "text": [
      " Training: 100%|██████████| 2/2 [00:07<00:00,  3.47s/it]\n"
     ]
    },
    {
     "name": "stdout",
     "output_type": "stream",
     "text": [
      "\u001b[94m [ pruning tries... ]\u001b[0m\n",
      "\u001b[94m [ finished --time: 8.0s ]\u001b[0m\n",
      "\u001b[94m [ about to start updating values... ]\u001b[0m\n",
      "\u001b[94m [ caching lv values ]\u001b[0m\n",
      "\u001b[94m    [ lv values for 0 (neg) ]\u001b[0m\n",
      "\u001b[94m    [ lv values for 1 (pos) ]\u001b[0m\n",
      "\u001b[94m [ caching sg values ]\u001b[0m\n",
      "\u001b[94m    [ sg values for 0 (neg) ]\u001b[0m\n",
      "\u001b[94m    [ sg values for 1 (pos) ]\u001b[0m\n",
      "\u001b[94m[ caching gv values ]\u001b[0m\n",
      "\u001b[94m    [ gv values for 0 (neg) ]\u001b[0m\n",
      "\u001b[94m    [ gv values for 1 (pos) ]\u001b[0m\n",
      "\u001b[94m [ updating max gv values ]\u001b[0m\n",
      "\u001b[94m    [ max gv values for 0 (neg) ]\u001b[0m\n",
      "\u001b[94m    [ max gv values for 1 (pos) ]\u001b[0m\n",
      "\u001b[94m [ max gv values have been updated ]\u001b[0m\n",
      "\u001b[94m [ caching confidence values (cvs) ]\u001b[0m\n",
      "\u001b[94m    [ cvs for 0 (neg) ]\u001b[0m\n",
      "\u001b[94m    [ cvs for 1 (pos) ]\u001b[0m\n"
     ]
    },
    {
     "name": "stderr",
     "output_type": "stream",
     "text": [
      " Classification:   2%|▏         | 9/402 [00:00<00:04, 83.10it/s]"
     ]
    },
    {
     "name": "stdout",
     "output_type": "stream",
     "text": [
      "\u001b[94m [ finished --time: 3.1s ]\u001b[0m\n",
      "\u001b[94m [ default category was automatically set to 'pos' (the most probable one) ]\u001b[0m\n",
      "\u001b[94m [ about to start classifying test documents ]\u001b[0m\n"
     ]
    },
    {
     "name": "stderr",
     "output_type": "stream",
     "text": [
      " Classification: 100%|██████████| 402/402 [00:07<00:00, 57.35it/s]\n",
      " Training:   0%|          | 0/2 [00:00<?, ?it/s]"
     ]
    },
    {
     "name": "stdout",
     "output_type": "stream",
     "text": [
      "\u001b[94m [ finished --time: 7.0s ]\u001b[0m\n",
      "\u001b[94m [ about to start training ]\u001b[0m\n"
     ]
    },
    {
     "name": "stderr",
     "output_type": "stream",
     "text": [
      " Training: 100%|██████████| 2/2 [00:06<00:00,  3.01s/it]\n"
     ]
    },
    {
     "name": "stdout",
     "output_type": "stream",
     "text": [
      "\u001b[94m [ pruning tries... ]\u001b[0m\n",
      "\u001b[94m [ finished --time: 7.3s ]\u001b[0m\n",
      "\u001b[94m [ about to start updating values... ]\u001b[0m\n",
      "\u001b[94m [ caching lv values ]\u001b[0m\n",
      "\u001b[94m    [ lv values for 0 (neg) ]\u001b[0m\n",
      "\u001b[94m    [ lv values for 1 (pos) ]\u001b[0m\n",
      "\u001b[94m [ caching sg values ]\u001b[0m\n",
      "\u001b[94m    [ sg values for 0 (neg) ]\u001b[0m\n",
      "\u001b[94m    [ sg values for 1 (pos) ]\u001b[0m\n",
      "\u001b[94m[ caching gv values ]\u001b[0m\n",
      "\u001b[94m    [ gv values for 0 (neg) ]\u001b[0m\n",
      "\u001b[94m    [ gv values for 1 (pos) ]\u001b[0m\n",
      "\u001b[94m [ updating max gv values ]\u001b[0m\n",
      "\u001b[94m    [ max gv values for 0 (neg) ]\u001b[0m\n",
      "\u001b[94m    [ max gv values for 1 (pos) ]\u001b[0m\n",
      "\u001b[94m [ max gv values have been updated ]\u001b[0m\n",
      "\u001b[94m [ caching confidence values (cvs) ]\u001b[0m\n",
      "\u001b[94m    [ cvs for 0 (neg) ]\u001b[0m\n",
      "\u001b[94m    [ cvs for 1 (pos) ]\u001b[0m\n"
     ]
    },
    {
     "name": "stderr",
     "output_type": "stream",
     "text": [
      " Classification:   2%|▏         | 8/402 [00:00<00:04, 79.84it/s]"
     ]
    },
    {
     "name": "stdout",
     "output_type": "stream",
     "text": [
      "\u001b[94m [ finished --time: 3.3s ]\u001b[0m\n",
      "\u001b[94m [ default category was automatically set to 'pos' (the most probable one) ]\u001b[0m\n",
      "\u001b[94m [ about to start classifying test documents ]\u001b[0m\n"
     ]
    },
    {
     "name": "stderr",
     "output_type": "stream",
     "text": [
      " Classification: 100%|██████████| 402/402 [00:06<00:00, 57.68it/s]\n",
      " Training:   0%|          | 0/2 [00:00<?, ?it/s]"
     ]
    },
    {
     "name": "stdout",
     "output_type": "stream",
     "text": [
      "\u001b[94m [ finished --time: 7.0s ]\u001b[0m\n",
      "\u001b[94m [ about to start training ]\u001b[0m\n"
     ]
    },
    {
     "name": "stderr",
     "output_type": "stream",
     "text": [
      " Training: 100%|██████████| 2/2 [00:06<00:00,  3.00s/it]\n"
     ]
    },
    {
     "name": "stdout",
     "output_type": "stream",
     "text": [
      "\u001b[94m [ pruning tries... ]\u001b[0m\n",
      "\u001b[94m [ finished --time: 7.2s ]\u001b[0m\n",
      "\u001b[94m [ about to start updating values... ]\u001b[0m\n",
      "\u001b[94m [ caching lv values ]\u001b[0m\n",
      "\u001b[94m    [ lv values for 0 (neg) ]\u001b[0m\n",
      "\u001b[94m    [ lv values for 1 (pos) ]\u001b[0m\n",
      "\u001b[94m [ caching sg values ]\u001b[0m\n",
      "\u001b[94m    [ sg values for 0 (neg) ]\u001b[0m\n",
      "\u001b[94m    [ sg values for 1 (pos) ]\u001b[0m\n",
      "\u001b[94m[ caching gv values ]\u001b[0m\n",
      "\u001b[94m    [ gv values for 0 (neg) ]\u001b[0m\n",
      "\u001b[94m    [ gv values for 1 (pos) ]\u001b[0m\n",
      "\u001b[94m [ updating max gv values ]\u001b[0m\n",
      "\u001b[94m    [ max gv values for 0 (neg) ]\u001b[0m\n",
      "\u001b[94m    [ max gv values for 1 (pos) ]\u001b[0m\n",
      "\u001b[94m [ max gv values have been updated ]\u001b[0m\n",
      "\u001b[94m [ caching confidence values (cvs) ]\u001b[0m\n",
      "\u001b[94m    [ cvs for 0 (neg) ]\u001b[0m\n",
      "\u001b[94m    [ cvs for 1 (pos) ]\u001b[0m\n"
     ]
    },
    {
     "name": "stderr",
     "output_type": "stream",
     "text": [
      " Classification:   2%|▏         | 9/402 [00:00<00:04, 83.78it/s]"
     ]
    },
    {
     "name": "stdout",
     "output_type": "stream",
     "text": [
      "\u001b[94m [ finished --time: 3.2s ]\u001b[0m\n",
      "\u001b[94m [ default category was automatically set to 'pos' (the most probable one) ]\u001b[0m\n",
      "\u001b[94m [ about to start classifying test documents ]\u001b[0m\n"
     ]
    },
    {
     "name": "stderr",
     "output_type": "stream",
     "text": [
      " Classification: 100%|██████████| 402/402 [00:07<00:00, 57.28it/s]\n",
      " Training:   0%|          | 0/2 [00:00<?, ?it/s]"
     ]
    },
    {
     "name": "stdout",
     "output_type": "stream",
     "text": [
      "\u001b[94m [ finished --time: 7.0s ]\u001b[0m\n",
      "\u001b[94m [ about to start training ]\u001b[0m\n"
     ]
    },
    {
     "name": "stderr",
     "output_type": "stream",
     "text": [
      " Training: 100%|██████████| 2/2 [00:06<00:00,  3.19s/it]\n"
     ]
    },
    {
     "name": "stdout",
     "output_type": "stream",
     "text": [
      "\u001b[94m [ pruning tries... ]\u001b[0m\n",
      "\u001b[94m [ finished --time: 7.5s ]\u001b[0m\n",
      "\u001b[94m [ about to start updating values... ]\u001b[0m\n",
      "\u001b[94m [ caching lv values ]\u001b[0m\n",
      "\u001b[94m    [ lv values for 0 (neg) ]\u001b[0m\n",
      "\u001b[94m    [ lv values for 1 (pos) ]\u001b[0m\n",
      "\u001b[94m [ caching sg values ]\u001b[0m\n",
      "\u001b[94m    [ sg values for 0 (neg) ]\u001b[0m\n",
      "\u001b[94m    [ sg values for 1 (pos) ]\u001b[0m\n",
      "\u001b[94m[ caching gv values ]\u001b[0m\n",
      "\u001b[94m    [ gv values for 0 (neg) ]\u001b[0m\n",
      "\u001b[94m    [ gv values for 1 (pos) ]\u001b[0m\n",
      "\u001b[94m [ updating max gv values ]\u001b[0m\n",
      "\u001b[94m    [ max gv values for 0 (neg) ]\u001b[0m\n",
      "\u001b[94m    [ max gv values for 1 (pos) ]\u001b[0m\n",
      "\u001b[94m [ max gv values have been updated ]\u001b[0m\n",
      "\u001b[94m [ caching confidence values (cvs) ]\u001b[0m\n",
      "\u001b[94m    [ cvs for 0 (neg) ]\u001b[0m\n",
      "\u001b[94m    [ cvs for 1 (pos) ]\u001b[0m\n"
     ]
    },
    {
     "name": "stderr",
     "output_type": "stream",
     "text": [
      " Classification:   2%|▏         | 8/402 [00:00<00:05, 75.57it/s]"
     ]
    },
    {
     "name": "stdout",
     "output_type": "stream",
     "text": [
      "\u001b[94m [ finished --time: 3.3s ]\u001b[0m\n",
      "\u001b[94m [ default category was automatically set to 'pos' (the most probable one) ]\u001b[0m\n",
      "\u001b[94m [ about to start classifying test documents ]\u001b[0m\n"
     ]
    },
    {
     "name": "stderr",
     "output_type": "stream",
     "text": [
      " Classification: 100%|██████████| 402/402 [00:06<00:00, 57.59it/s]\n",
      " Training:   0%|          | 0/2 [00:00<?, ?it/s]"
     ]
    },
    {
     "name": "stdout",
     "output_type": "stream",
     "text": [
      "\u001b[94m [ finished --time: 7.0s ]\u001b[0m\n",
      "\u001b[94m [ about to start training ]\u001b[0m\n"
     ]
    },
    {
     "name": "stderr",
     "output_type": "stream",
     "text": [
      " Training: 100%|██████████| 2/2 [00:07<00:00,  3.49s/it]\n"
     ]
    },
    {
     "name": "stdout",
     "output_type": "stream",
     "text": [
      "\u001b[94m [ pruning tries... ]\u001b[0m\n",
      "\u001b[94m [ finished --time: 8.0s ]\u001b[0m\n",
      "\u001b[94m [ about to start updating values... ]\u001b[0m\n",
      "\u001b[94m [ caching lv values ]\u001b[0m\n",
      "\u001b[94m    [ lv values for 0 (neg) ]\u001b[0m\n",
      "\u001b[94m    [ lv values for 1 (pos) ]\u001b[0m\n",
      "\u001b[94m [ caching sg values ]\u001b[0m\n",
      "\u001b[94m    [ sg values for 0 (neg) ]\u001b[0m\n",
      "\u001b[94m    [ sg values for 1 (pos) ]\u001b[0m\n",
      "\u001b[94m[ caching gv values ]\u001b[0m\n",
      "\u001b[94m    [ gv values for 0 (neg) ]\u001b[0m\n",
      "\u001b[94m    [ gv values for 1 (pos) ]\u001b[0m\n",
      "\u001b[94m [ updating max gv values ]\u001b[0m\n",
      "\u001b[94m    [ max gv values for 0 (neg) ]\u001b[0m\n",
      "\u001b[94m    [ max gv values for 1 (pos) ]\u001b[0m\n",
      "\u001b[94m [ max gv values have been updated ]\u001b[0m\n",
      "\u001b[94m [ caching confidence values (cvs) ]\u001b[0m\n",
      "\u001b[94m    [ cvs for 0 (neg) ]\u001b[0m\n",
      "\u001b[94m    [ cvs for 1 (pos) ]\u001b[0m\n"
     ]
    },
    {
     "name": "stderr",
     "output_type": "stream",
     "text": [
      " Classification:   2%|▏         | 9/402 [00:00<00:04, 81.92it/s]"
     ]
    },
    {
     "name": "stdout",
     "output_type": "stream",
     "text": [
      "\u001b[94m [ finished --time: 3.1s ]\u001b[0m\n",
      "\u001b[94m [ default category was automatically set to 'pos' (the most probable one) ]\u001b[0m\n",
      "\u001b[94m [ about to start classifying test documents ]\u001b[0m\n"
     ]
    },
    {
     "name": "stderr",
     "output_type": "stream",
     "text": [
      " Classification: 100%|██████████| 402/402 [00:07<00:00, 57.23it/s]\n",
      " Training:   0%|          | 0/2 [00:00<?, ?it/s]"
     ]
    },
    {
     "name": "stdout",
     "output_type": "stream",
     "text": [
      "\u001b[94m [ finished --time: 7.0s ]\u001b[0m\n",
      "\u001b[94m [ about to start training ]\u001b[0m\n"
     ]
    },
    {
     "name": "stderr",
     "output_type": "stream",
     "text": [
      " Training: 100%|██████████| 2/2 [00:06<00:00,  2.98s/it]\n"
     ]
    },
    {
     "name": "stdout",
     "output_type": "stream",
     "text": [
      "\u001b[94m [ pruning tries... ]\u001b[0m\n",
      "\u001b[94m [ finished --time: 7.2s ]\u001b[0m\n",
      "\u001b[94m [ about to start updating values... ]\u001b[0m\n",
      "\u001b[94m [ caching lv values ]\u001b[0m\n",
      "\u001b[94m    [ lv values for 0 (neg) ]\u001b[0m\n",
      "\u001b[94m    [ lv values for 1 (pos) ]\u001b[0m\n",
      "\u001b[94m [ caching sg values ]\u001b[0m\n",
      "\u001b[94m    [ sg values for 0 (neg) ]\u001b[0m\n",
      "\u001b[94m    [ sg values for 1 (pos) ]\u001b[0m\n",
      "\u001b[94m[ caching gv values ]\u001b[0m\n",
      "\u001b[94m    [ gv values for 0 (neg) ]\u001b[0m\n",
      "\u001b[94m    [ gv values for 1 (pos) ]\u001b[0m\n",
      "\u001b[94m [ updating max gv values ]\u001b[0m\n",
      "\u001b[94m    [ max gv values for 0 (neg) ]\u001b[0m\n",
      "\u001b[94m    [ max gv values for 1 (pos) ]\u001b[0m\n",
      "\u001b[94m [ max gv values have been updated ]\u001b[0m\n",
      "\u001b[94m [ caching confidence values (cvs) ]\u001b[0m\n",
      "\u001b[94m    [ cvs for 0 (neg) ]\u001b[0m\n",
      "\u001b[94m    [ cvs for 1 (pos) ]\u001b[0m\n"
     ]
    },
    {
     "name": "stderr",
     "output_type": "stream",
     "text": [
      " Classification:   2%|▏         | 9/402 [00:00<00:04, 80.65it/s]"
     ]
    },
    {
     "name": "stdout",
     "output_type": "stream",
     "text": [
      "\u001b[94m [ finished --time: 3.2s ]\u001b[0m\n",
      "\u001b[94m [ default category was automatically set to 'pos' (the most probable one) ]\u001b[0m\n",
      "\u001b[94m [ about to start classifying test documents ]\u001b[0m\n"
     ]
    },
    {
     "name": "stderr",
     "output_type": "stream",
     "text": [
      " Classification: 100%|██████████| 402/402 [00:06<00:00, 57.65it/s]\n",
      " Training:   0%|          | 0/2 [00:00<?, ?it/s]"
     ]
    },
    {
     "name": "stdout",
     "output_type": "stream",
     "text": [
      "\u001b[94m [ finished --time: 7.0s ]\u001b[0m\n",
      "\u001b[94m [ about to start training ]\u001b[0m\n"
     ]
    },
    {
     "name": "stderr",
     "output_type": "stream",
     "text": [
      " Training: 100%|██████████| 2/2 [00:06<00:00,  3.17s/it]\n"
     ]
    },
    {
     "name": "stdout",
     "output_type": "stream",
     "text": [
      "\u001b[94m [ pruning tries... ]\u001b[0m\n",
      "\u001b[94m [ finished --time: 7.5s ]\u001b[0m\n",
      "\u001b[94m [ about to start updating values... ]\u001b[0m\n",
      "\u001b[94m [ caching lv values ]\u001b[0m\n",
      "\u001b[94m    [ lv values for 0 (neg) ]\u001b[0m\n",
      "\u001b[94m    [ lv values for 1 (pos) ]\u001b[0m\n",
      "\u001b[94m [ caching sg values ]\u001b[0m\n",
      "\u001b[94m    [ sg values for 0 (neg) ]\u001b[0m\n",
      "\u001b[94m    [ sg values for 1 (pos) ]\u001b[0m\n",
      "\u001b[94m[ caching gv values ]\u001b[0m\n",
      "\u001b[94m    [ gv values for 0 (neg) ]\u001b[0m\n",
      "\u001b[94m    [ gv values for 1 (pos) ]\u001b[0m\n",
      "\u001b[94m [ updating max gv values ]\u001b[0m\n",
      "\u001b[94m    [ max gv values for 0 (neg) ]\u001b[0m\n",
      "\u001b[94m    [ max gv values for 1 (pos) ]\u001b[0m\n",
      "\u001b[94m [ max gv values have been updated ]\u001b[0m\n",
      "\u001b[94m [ caching confidence values (cvs) ]\u001b[0m\n",
      "\u001b[94m    [ cvs for 0 (neg) ]\u001b[0m\n",
      "\u001b[94m    [ cvs for 1 (pos) ]\u001b[0m\n"
     ]
    },
    {
     "name": "stderr",
     "output_type": "stream",
     "text": [
      " Classification:   2%|▏         | 9/402 [00:00<00:04, 83.16it/s]"
     ]
    },
    {
     "name": "stdout",
     "output_type": "stream",
     "text": [
      "\u001b[94m [ finished --time: 3.2s ]\u001b[0m\n",
      "\u001b[94m [ default category was automatically set to 'pos' (the most probable one) ]\u001b[0m\n",
      "\u001b[94m [ about to start classifying test documents ]\u001b[0m\n"
     ]
    },
    {
     "name": "stderr",
     "output_type": "stream",
     "text": [
      " Classification: 100%|██████████| 402/402 [00:06<00:00, 57.48it/s]\n",
      " Training:   0%|          | 0/2 [00:00<?, ?it/s]"
     ]
    },
    {
     "name": "stdout",
     "output_type": "stream",
     "text": [
      "\u001b[94m [ finished --time: 7.0s ]\u001b[0m\n",
      "\u001b[94m [ about to start training ]\u001b[0m\n"
     ]
    },
    {
     "name": "stderr",
     "output_type": "stream",
     "text": [
      " Training: 100%|██████████| 2/2 [00:07<00:00,  3.46s/it]\n"
     ]
    },
    {
     "name": "stdout",
     "output_type": "stream",
     "text": [
      "\u001b[94m [ pruning tries... ]\u001b[0m\n",
      "\u001b[94m [ finished --time: 7.9s ]\u001b[0m\n",
      "\u001b[94m [ about to start updating values... ]\u001b[0m\n",
      "\u001b[94m [ caching lv values ]\u001b[0m\n",
      "\u001b[94m    [ lv values for 0 (neg) ]\u001b[0m\n",
      "\u001b[94m    [ lv values for 1 (pos) ]\u001b[0m\n",
      "\u001b[94m [ caching sg values ]\u001b[0m\n",
      "\u001b[94m    [ sg values for 0 (neg) ]\u001b[0m\n",
      "\u001b[94m    [ sg values for 1 (pos) ]\u001b[0m\n",
      "\u001b[94m[ caching gv values ]\u001b[0m\n",
      "\u001b[94m    [ gv values for 0 (neg) ]\u001b[0m\n",
      "\u001b[94m    [ gv values for 1 (pos) ]\u001b[0m\n",
      "\u001b[94m [ updating max gv values ]\u001b[0m\n",
      "\u001b[94m    [ max gv values for 0 (neg) ]\u001b[0m\n",
      "\u001b[94m    [ max gv values for 1 (pos) ]\u001b[0m\n",
      "\u001b[94m [ max gv values have been updated ]\u001b[0m\n",
      "\u001b[94m [ caching confidence values (cvs) ]\u001b[0m\n",
      "\u001b[94m    [ cvs for 0 (neg) ]\u001b[0m\n",
      "\u001b[94m    [ cvs for 1 (pos) ]\u001b[0m\n"
     ]
    },
    {
     "name": "stderr",
     "output_type": "stream",
     "text": [
      " Classification:   2%|▏         | 8/402 [00:00<00:05, 78.52it/s]"
     ]
    },
    {
     "name": "stdout",
     "output_type": "stream",
     "text": [
      "\u001b[94m [ finished --time: 3.2s ]\u001b[0m\n",
      "\u001b[94m [ default category was automatically set to 'pos' (the most probable one) ]\u001b[0m\n",
      "\u001b[94m [ about to start classifying test documents ]\u001b[0m\n"
     ]
    },
    {
     "name": "stderr",
     "output_type": "stream",
     "text": [
      " Classification: 100%|██████████| 402/402 [00:06<00:00, 57.53it/s]\n",
      " Training:   0%|          | 0/2 [00:00<?, ?it/s]"
     ]
    },
    {
     "name": "stdout",
     "output_type": "stream",
     "text": [
      "\u001b[94m [ finished --time: 7.0s ]\u001b[0m\n",
      "\u001b[94m [ about to start training ]\u001b[0m\n"
     ]
    },
    {
     "name": "stderr",
     "output_type": "stream",
     "text": [
      " Training: 100%|██████████| 2/2 [00:06<00:00,  2.97s/it]\n"
     ]
    },
    {
     "name": "stdout",
     "output_type": "stream",
     "text": [
      "\u001b[94m [ pruning tries... ]\u001b[0m\n",
      "\u001b[94m [ finished --time: 7.2s ]\u001b[0m\n",
      "\u001b[94m [ about to start updating values... ]\u001b[0m\n",
      "\u001b[94m [ caching lv values ]\u001b[0m\n",
      "\u001b[94m    [ lv values for 0 (neg) ]\u001b[0m\n",
      "\u001b[94m    [ lv values for 1 (pos) ]\u001b[0m\n",
      "\u001b[94m [ caching sg values ]\u001b[0m\n",
      "\u001b[94m    [ sg values for 0 (neg) ]\u001b[0m\n",
      "\u001b[94m    [ sg values for 1 (pos) ]\u001b[0m\n",
      "\u001b[94m[ caching gv values ]\u001b[0m\n",
      "\u001b[94m    [ gv values for 0 (neg) ]\u001b[0m\n",
      "\u001b[94m    [ gv values for 1 (pos) ]\u001b[0m\n",
      "\u001b[94m [ updating max gv values ]\u001b[0m\n",
      "\u001b[94m    [ max gv values for 0 (neg) ]\u001b[0m\n",
      "\u001b[94m    [ max gv values for 1 (pos) ]\u001b[0m\n",
      "\u001b[94m [ max gv values have been updated ]\u001b[0m\n",
      "\u001b[94m [ caching confidence values (cvs) ]\u001b[0m\n",
      "\u001b[94m    [ cvs for 0 (neg) ]\u001b[0m\n",
      "\u001b[94m    [ cvs for 1 (pos) ]\u001b[0m\n"
     ]
    },
    {
     "name": "stderr",
     "output_type": "stream",
     "text": [
      " Classification:   2%|▏         | 9/402 [00:00<00:04, 82.18it/s]"
     ]
    },
    {
     "name": "stdout",
     "output_type": "stream",
     "text": [
      "\u001b[94m [ finished --time: 3.2s ]\u001b[0m\n",
      "\u001b[94m [ default category was automatically set to 'pos' (the most probable one) ]\u001b[0m\n",
      "\u001b[94m [ about to start classifying test documents ]\u001b[0m\n"
     ]
    },
    {
     "name": "stderr",
     "output_type": "stream",
     "text": [
      " Classification: 100%|██████████| 402/402 [00:06<00:00, 57.80it/s]\n",
      " Training:   0%|          | 0/2 [00:00<?, ?it/s]"
     ]
    },
    {
     "name": "stdout",
     "output_type": "stream",
     "text": [
      "\u001b[94m [ finished --time: 7.0s ]\u001b[0m\n",
      "\u001b[94m [ about to start training ]\u001b[0m\n"
     ]
    },
    {
     "name": "stderr",
     "output_type": "stream",
     "text": [
      " Training: 100%|██████████| 2/2 [00:07<00:00,  3.50s/it]\n"
     ]
    },
    {
     "name": "stdout",
     "output_type": "stream",
     "text": [
      "\u001b[94m [ pruning tries... ]\u001b[0m\n",
      "\u001b[94m [ finished --time: 8.0s ]\u001b[0m\n",
      "\u001b[94m [ about to start updating values... ]\u001b[0m\n",
      "\u001b[94m [ caching lv values ]\u001b[0m\n",
      "\u001b[94m    [ lv values for 0 (neg) ]\u001b[0m\n",
      "\u001b[94m    [ lv values for 1 (pos) ]\u001b[0m\n",
      "\u001b[94m [ caching sg values ]\u001b[0m\n",
      "\u001b[94m    [ sg values for 0 (neg) ]\u001b[0m\n",
      "\u001b[94m    [ sg values for 1 (pos) ]\u001b[0m\n",
      "\u001b[94m[ caching gv values ]\u001b[0m\n",
      "\u001b[94m    [ gv values for 0 (neg) ]\u001b[0m\n",
      "\u001b[94m    [ gv values for 1 (pos) ]\u001b[0m\n",
      "\u001b[94m [ updating max gv values ]\u001b[0m\n",
      "\u001b[94m    [ max gv values for 0 (neg) ]\u001b[0m\n",
      "\u001b[94m    [ max gv values for 1 (pos) ]\u001b[0m\n",
      "\u001b[94m [ max gv values have been updated ]\u001b[0m\n",
      "\u001b[94m [ caching confidence values (cvs) ]\u001b[0m\n",
      "\u001b[94m    [ cvs for 0 (neg) ]\u001b[0m\n",
      "\u001b[94m    [ cvs for 1 (pos) ]\u001b[0m\n"
     ]
    },
    {
     "name": "stderr",
     "output_type": "stream",
     "text": [
      " Classification:   2%|▏         | 9/402 [00:00<00:04, 82.56it/s]"
     ]
    },
    {
     "name": "stdout",
     "output_type": "stream",
     "text": [
      "\u001b[94m [ finished --time: 3.2s ]\u001b[0m\n",
      "\u001b[94m [ default category was automatically set to 'pos' (the most probable one) ]\u001b[0m\n",
      "\u001b[94m [ about to start classifying test documents ]\u001b[0m\n"
     ]
    },
    {
     "name": "stderr",
     "output_type": "stream",
     "text": [
      " Classification: 100%|██████████| 402/402 [00:06<00:00, 58.16it/s]\n",
      " Training:   0%|          | 0/2 [00:00<?, ?it/s]"
     ]
    },
    {
     "name": "stdout",
     "output_type": "stream",
     "text": [
      "\u001b[94m [ finished --time: 7.0s ]\u001b[0m\n",
      "\u001b[94m [ about to start training ]\u001b[0m\n"
     ]
    },
    {
     "name": "stderr",
     "output_type": "stream",
     "text": [
      " Training: 100%|██████████| 2/2 [00:06<00:00,  3.01s/it]\n"
     ]
    },
    {
     "name": "stdout",
     "output_type": "stream",
     "text": [
      "\u001b[94m [ pruning tries... ]\u001b[0m\n",
      "\u001b[94m [ finished --time: 7.3s ]\u001b[0m\n",
      "\u001b[94m [ about to start updating values... ]\u001b[0m\n",
      "\u001b[94m [ caching lv values ]\u001b[0m\n",
      "\u001b[94m    [ lv values for 0 (neg) ]\u001b[0m\n",
      "\u001b[94m    [ lv values for 1 (pos) ]\u001b[0m\n",
      "\u001b[94m [ caching sg values ]\u001b[0m\n",
      "\u001b[94m    [ sg values for 0 (neg) ]\u001b[0m\n",
      "\u001b[94m    [ sg values for 1 (pos) ]\u001b[0m\n",
      "\u001b[94m[ caching gv values ]\u001b[0m\n",
      "\u001b[94m    [ gv values for 0 (neg) ]\u001b[0m\n",
      "\u001b[94m    [ gv values for 1 (pos) ]\u001b[0m\n",
      "\u001b[94m [ updating max gv values ]\u001b[0m\n",
      "\u001b[94m    [ max gv values for 0 (neg) ]\u001b[0m\n",
      "\u001b[94m    [ max gv values for 1 (pos) ]\u001b[0m\n",
      "\u001b[94m [ max gv values have been updated ]\u001b[0m\n",
      "\u001b[94m [ caching confidence values (cvs) ]\u001b[0m\n",
      "\u001b[94m    [ cvs for 0 (neg) ]\u001b[0m\n",
      "\u001b[94m    [ cvs for 1 (pos) ]\u001b[0m\n"
     ]
    },
    {
     "name": "stderr",
     "output_type": "stream",
     "text": [
      " Classification:   2%|▏         | 9/402 [00:00<00:04, 81.87it/s]"
     ]
    },
    {
     "name": "stdout",
     "output_type": "stream",
     "text": [
      "\u001b[94m [ finished --time: 3.1s ]\u001b[0m\n",
      "\u001b[94m [ default category was automatically set to 'pos' (the most probable one) ]\u001b[0m\n",
      "\u001b[94m [ about to start classifying test documents ]\u001b[0m\n"
     ]
    },
    {
     "name": "stderr",
     "output_type": "stream",
     "text": [
      " Classification: 100%|██████████| 402/402 [00:06<00:00, 58.13it/s]\n",
      " Training:   0%|          | 0/2 [00:00<?, ?it/s]"
     ]
    },
    {
     "name": "stdout",
     "output_type": "stream",
     "text": [
      "\u001b[94m [ finished --time: 6.9s ]\u001b[0m\n",
      "\u001b[94m [ about to start training ]\u001b[0m\n"
     ]
    },
    {
     "name": "stderr",
     "output_type": "stream",
     "text": [
      " Training: 100%|██████████| 2/2 [00:06<00:00,  3.01s/it]\n"
     ]
    },
    {
     "name": "stdout",
     "output_type": "stream",
     "text": [
      "\u001b[94m [ pruning tries... ]\u001b[0m\n",
      "\u001b[94m [ finished --time: 7.3s ]\u001b[0m\n",
      "\u001b[94m [ about to start updating values... ]\u001b[0m\n",
      "\u001b[94m [ caching lv values ]\u001b[0m\n",
      "\u001b[94m    [ lv values for 0 (neg) ]\u001b[0m\n",
      "\u001b[94m    [ lv values for 1 (pos) ]\u001b[0m\n",
      "\u001b[94m [ caching sg values ]\u001b[0m\n",
      "\u001b[94m    [ sg values for 0 (neg) ]\u001b[0m\n",
      "\u001b[94m    [ sg values for 1 (pos) ]\u001b[0m\n",
      "\u001b[94m[ caching gv values ]\u001b[0m\n",
      "\u001b[94m    [ gv values for 0 (neg) ]\u001b[0m\n",
      "\u001b[94m    [ gv values for 1 (pos) ]\u001b[0m\n",
      "\u001b[94m [ updating max gv values ]\u001b[0m\n",
      "\u001b[94m    [ max gv values for 0 (neg) ]\u001b[0m\n",
      "\u001b[94m    [ max gv values for 1 (pos) ]\u001b[0m\n",
      "\u001b[94m [ max gv values have been updated ]\u001b[0m\n",
      "\u001b[94m [ caching confidence values (cvs) ]\u001b[0m\n",
      "\u001b[94m    [ cvs for 0 (neg) ]\u001b[0m\n",
      "\u001b[94m    [ cvs for 1 (pos) ]\u001b[0m\n"
     ]
    },
    {
     "name": "stderr",
     "output_type": "stream",
     "text": [
      " Classification:   2%|▏         | 8/402 [00:00<00:05, 75.91it/s]"
     ]
    },
    {
     "name": "stdout",
     "output_type": "stream",
     "text": [
      "\u001b[94m [ finished --time: 3.1s ]\u001b[0m\n",
      "\u001b[94m [ default category was automatically set to 'pos' (the most probable one) ]\u001b[0m\n",
      "\u001b[94m [ about to start classifying test documents ]\u001b[0m\n"
     ]
    },
    {
     "name": "stderr",
     "output_type": "stream",
     "text": [
      " Classification: 100%|██████████| 402/402 [00:07<00:00, 56.83it/s]\n",
      " Training:   0%|          | 0/2 [00:00<?, ?it/s]"
     ]
    },
    {
     "name": "stdout",
     "output_type": "stream",
     "text": [
      "\u001b[94m [ finished --time: 7.1s ]\u001b[0m\n",
      "\u001b[94m [ about to start training ]\u001b[0m\n"
     ]
    },
    {
     "name": "stderr",
     "output_type": "stream",
     "text": [
      " Training: 100%|██████████| 2/2 [00:06<00:00,  3.21s/it]\n"
     ]
    },
    {
     "name": "stdout",
     "output_type": "stream",
     "text": [
      "\u001b[94m [ pruning tries... ]\u001b[0m\n",
      "\u001b[94m [ finished --time: 7.5s ]\u001b[0m\n",
      "\u001b[94m [ about to start updating values... ]\u001b[0m\n",
      "\u001b[94m [ caching lv values ]\u001b[0m\n",
      "\u001b[94m    [ lv values for 0 (neg) ]\u001b[0m\n",
      "\u001b[94m    [ lv values for 1 (pos) ]\u001b[0m\n",
      "\u001b[94m [ caching sg values ]\u001b[0m\n",
      "\u001b[94m    [ sg values for 0 (neg) ]\u001b[0m\n",
      "\u001b[94m    [ sg values for 1 (pos) ]\u001b[0m\n",
      "\u001b[94m[ caching gv values ]\u001b[0m\n",
      "\u001b[94m    [ gv values for 0 (neg) ]\u001b[0m\n",
      "\u001b[94m    [ gv values for 1 (pos) ]\u001b[0m\n",
      "\u001b[94m [ updating max gv values ]\u001b[0m\n",
      "\u001b[94m    [ max gv values for 0 (neg) ]\u001b[0m\n",
      "\u001b[94m    [ max gv values for 1 (pos) ]\u001b[0m\n",
      "\u001b[94m [ max gv values have been updated ]\u001b[0m\n",
      "\u001b[94m [ caching confidence values (cvs) ]\u001b[0m\n",
      "\u001b[94m    [ cvs for 0 (neg) ]\u001b[0m\n",
      "\u001b[94m    [ cvs for 1 (pos) ]\u001b[0m\n"
     ]
    },
    {
     "name": "stderr",
     "output_type": "stream",
     "text": [
      " Classification:   2%|▏         | 9/402 [00:00<00:04, 82.10it/s]"
     ]
    },
    {
     "name": "stdout",
     "output_type": "stream",
     "text": [
      "\u001b[94m [ finished --time: 3.2s ]\u001b[0m\n",
      "\u001b[94m [ default category was automatically set to 'pos' (the most probable one) ]\u001b[0m\n",
      "\u001b[94m [ about to start classifying test documents ]\u001b[0m\n"
     ]
    },
    {
     "name": "stderr",
     "output_type": "stream",
     "text": [
      " Classification: 100%|██████████| 402/402 [00:06<00:00, 57.64it/s]\n",
      " Training:   0%|          | 0/2 [00:00<?, ?it/s]"
     ]
    },
    {
     "name": "stdout",
     "output_type": "stream",
     "text": [
      "\u001b[94m [ finished --time: 7.0s ]\u001b[0m\n",
      "\u001b[94m [ about to start training ]\u001b[0m\n"
     ]
    },
    {
     "name": "stderr",
     "output_type": "stream",
     "text": [
      " Training: 100%|██████████| 2/2 [00:07<00:00,  3.23s/it]\n"
     ]
    },
    {
     "name": "stdout",
     "output_type": "stream",
     "text": [
      "\u001b[94m [ pruning tries... ]\u001b[0m\n",
      "\u001b[94m [ finished --time: 7.6s ]\u001b[0m\n",
      "\u001b[94m [ about to start updating values... ]\u001b[0m\n",
      "\u001b[94m [ caching lv values ]\u001b[0m\n",
      "\u001b[94m    [ lv values for 0 (neg) ]\u001b[0m\n",
      "\u001b[94m    [ lv values for 1 (pos) ]\u001b[0m\n",
      "\u001b[94m [ caching sg values ]\u001b[0m\n",
      "\u001b[94m    [ sg values for 0 (neg) ]\u001b[0m\n",
      "\u001b[94m    [ sg values for 1 (pos) ]\u001b[0m\n",
      "\u001b[94m[ caching gv values ]\u001b[0m\n",
      "\u001b[94m    [ gv values for 0 (neg) ]\u001b[0m\n",
      "\u001b[94m    [ gv values for 1 (pos) ]\u001b[0m\n",
      "\u001b[94m [ updating max gv values ]\u001b[0m\n",
      "\u001b[94m    [ max gv values for 0 (neg) ]\u001b[0m\n",
      "\u001b[94m    [ max gv values for 1 (pos) ]\u001b[0m\n",
      "\u001b[94m [ max gv values have been updated ]\u001b[0m\n",
      "\u001b[94m [ caching confidence values (cvs) ]\u001b[0m\n",
      "\u001b[94m    [ cvs for 0 (neg) ]\u001b[0m\n",
      "\u001b[94m    [ cvs for 1 (pos) ]\u001b[0m\n"
     ]
    },
    {
     "name": "stderr",
     "output_type": "stream",
     "text": [
      " Classification:   2%|▏         | 8/402 [00:00<00:05, 78.58it/s]"
     ]
    },
    {
     "name": "stdout",
     "output_type": "stream",
     "text": [
      "\u001b[94m [ finished --time: 3.2s ]\u001b[0m\n",
      "\u001b[94m [ default category was automatically set to 'pos' (the most probable one) ]\u001b[0m\n",
      "\u001b[94m [ about to start classifying test documents ]\u001b[0m\n"
     ]
    },
    {
     "name": "stderr",
     "output_type": "stream",
     "text": [
      " Classification: 100%|██████████| 402/402 [00:07<00:00, 57.22it/s]\n",
      " Training:   0%|          | 0/2 [00:00<?, ?it/s]"
     ]
    },
    {
     "name": "stdout",
     "output_type": "stream",
     "text": [
      "\u001b[94m [ finished --time: 7.0s ]\u001b[0m\n",
      "\u001b[94m [ about to start training ]\u001b[0m\n"
     ]
    },
    {
     "name": "stderr",
     "output_type": "stream",
     "text": [
      " Training: 100%|██████████| 2/2 [00:06<00:00,  3.19s/it]\n"
     ]
    },
    {
     "name": "stdout",
     "output_type": "stream",
     "text": [
      "\u001b[94m [ pruning tries... ]\u001b[0m\n",
      "\u001b[94m [ finished --time: 7.5s ]\u001b[0m\n",
      "\u001b[94m [ about to start updating values... ]\u001b[0m\n",
      "\u001b[94m [ caching lv values ]\u001b[0m\n",
      "\u001b[94m    [ lv values for 0 (neg) ]\u001b[0m\n",
      "\u001b[94m    [ lv values for 1 (pos) ]\u001b[0m\n",
      "\u001b[94m [ caching sg values ]\u001b[0m\n",
      "\u001b[94m    [ sg values for 0 (neg) ]\u001b[0m\n",
      "\u001b[94m    [ sg values for 1 (pos) ]\u001b[0m\n",
      "\u001b[94m[ caching gv values ]\u001b[0m\n",
      "\u001b[94m    [ gv values for 0 (neg) ]\u001b[0m\n",
      "\u001b[94m    [ gv values for 1 (pos) ]\u001b[0m\n",
      "\u001b[94m [ updating max gv values ]\u001b[0m\n",
      "\u001b[94m    [ max gv values for 0 (neg) ]\u001b[0m\n",
      "\u001b[94m    [ max gv values for 1 (pos) ]\u001b[0m\n",
      "\u001b[94m [ max gv values have been updated ]\u001b[0m\n",
      "\u001b[94m [ caching confidence values (cvs) ]\u001b[0m\n",
      "\u001b[94m    [ cvs for 0 (neg) ]\u001b[0m\n",
      "\u001b[94m    [ cvs for 1 (pos) ]\u001b[0m\n"
     ]
    },
    {
     "name": "stderr",
     "output_type": "stream",
     "text": [
      " Classification:   2%|▏         | 9/402 [00:00<00:04, 80.96it/s]"
     ]
    },
    {
     "name": "stdout",
     "output_type": "stream",
     "text": [
      "\u001b[94m [ finished --time: 3.3s ]\u001b[0m\n",
      "\u001b[94m [ default category was automatically set to 'pos' (the most probable one) ]\u001b[0m\n",
      "\u001b[94m [ about to start classifying test documents ]\u001b[0m\n"
     ]
    },
    {
     "name": "stderr",
     "output_type": "stream",
     "text": [
      " Classification: 100%|██████████| 402/402 [00:06<00:00, 58.45it/s]\n",
      " Training:   0%|          | 0/2 [00:00<?, ?it/s]"
     ]
    },
    {
     "name": "stdout",
     "output_type": "stream",
     "text": [
      "\u001b[94m [ finished --time: 6.9s ]\u001b[0m\n",
      "\u001b[94m [ about to start training ]\u001b[0m\n"
     ]
    },
    {
     "name": "stderr",
     "output_type": "stream",
     "text": [
      " Training: 100%|██████████| 2/2 [00:07<00:00,  3.25s/it]\n"
     ]
    },
    {
     "name": "stdout",
     "output_type": "stream",
     "text": [
      "\u001b[94m [ pruning tries... ]\u001b[0m\n",
      "\u001b[94m [ finished --time: 7.6s ]\u001b[0m\n",
      "\u001b[94m [ about to start updating values... ]\u001b[0m\n",
      "\u001b[94m [ caching lv values ]\u001b[0m\n",
      "\u001b[94m    [ lv values for 0 (neg) ]\u001b[0m\n",
      "\u001b[94m    [ lv values for 1 (pos) ]\u001b[0m\n",
      "\u001b[94m [ caching sg values ]\u001b[0m\n",
      "\u001b[94m    [ sg values for 0 (neg) ]\u001b[0m\n",
      "\u001b[94m    [ sg values for 1 (pos) ]\u001b[0m\n",
      "\u001b[94m[ caching gv values ]\u001b[0m\n",
      "\u001b[94m    [ gv values for 0 (neg) ]\u001b[0m\n",
      "\u001b[94m    [ gv values for 1 (pos) ]\u001b[0m\n",
      "\u001b[94m [ updating max gv values ]\u001b[0m\n",
      "\u001b[94m    [ max gv values for 0 (neg) ]\u001b[0m\n",
      "\u001b[94m    [ max gv values for 1 (pos) ]\u001b[0m\n",
      "\u001b[94m [ max gv values have been updated ]\u001b[0m\n",
      "\u001b[94m [ caching confidence values (cvs) ]\u001b[0m\n",
      "\u001b[94m    [ cvs for 0 (neg) ]\u001b[0m\n",
      "\u001b[94m    [ cvs for 1 (pos) ]\u001b[0m\n"
     ]
    },
    {
     "name": "stderr",
     "output_type": "stream",
     "text": [
      " Classification:   2%|▏         | 8/402 [00:00<00:05, 77.55it/s]"
     ]
    },
    {
     "name": "stdout",
     "output_type": "stream",
     "text": [
      "\u001b[94m [ finished --time: 3.2s ]\u001b[0m\n",
      "\u001b[94m [ default category was automatically set to 'pos' (the most probable one) ]\u001b[0m\n",
      "\u001b[94m [ about to start classifying test documents ]\u001b[0m\n"
     ]
    },
    {
     "name": "stderr",
     "output_type": "stream",
     "text": [
      " Classification: 100%|██████████| 402/402 [00:06<00:00, 57.58it/s]\n",
      " Training:   0%|          | 0/2 [00:00<?, ?it/s]"
     ]
    },
    {
     "name": "stdout",
     "output_type": "stream",
     "text": [
      "\u001b[94m [ finished --time: 7.0s ]\u001b[0m\n",
      "\u001b[94m [ about to start training ]\u001b[0m\n"
     ]
    },
    {
     "name": "stderr",
     "output_type": "stream",
     "text": [
      " Training: 100%|██████████| 2/2 [00:06<00:00,  3.22s/it]\n"
     ]
    },
    {
     "name": "stdout",
     "output_type": "stream",
     "text": [
      "\u001b[94m [ pruning tries... ]\u001b[0m\n",
      "\u001b[94m [ finished --time: 7.6s ]\u001b[0m\n",
      "\u001b[94m [ about to start updating values... ]\u001b[0m\n",
      "\u001b[94m [ caching lv values ]\u001b[0m\n",
      "\u001b[94m    [ lv values for 0 (neg) ]\u001b[0m\n",
      "\u001b[94m    [ lv values for 1 (pos) ]\u001b[0m\n",
      "\u001b[94m [ caching sg values ]\u001b[0m\n",
      "\u001b[94m    [ sg values for 0 (neg) ]\u001b[0m\n",
      "\u001b[94m    [ sg values for 1 (pos) ]\u001b[0m\n",
      "\u001b[94m[ caching gv values ]\u001b[0m\n",
      "\u001b[94m    [ gv values for 0 (neg) ]\u001b[0m\n",
      "\u001b[94m    [ gv values for 1 (pos) ]\u001b[0m\n",
      "\u001b[94m [ updating max gv values ]\u001b[0m\n",
      "\u001b[94m    [ max gv values for 0 (neg) ]\u001b[0m\n",
      "\u001b[94m    [ max gv values for 1 (pos) ]\u001b[0m\n",
      "\u001b[94m [ max gv values have been updated ]\u001b[0m\n",
      "\u001b[94m [ caching confidence values (cvs) ]\u001b[0m\n",
      "\u001b[94m    [ cvs for 0 (neg) ]\u001b[0m\n",
      "\u001b[94m    [ cvs for 1 (pos) ]\u001b[0m\n"
     ]
    },
    {
     "name": "stderr",
     "output_type": "stream",
     "text": [
      " Classification:   2%|▏         | 8/402 [00:00<00:05, 77.23it/s]"
     ]
    },
    {
     "name": "stdout",
     "output_type": "stream",
     "text": [
      "\u001b[94m [ finished --time: 3.2s ]\u001b[0m\n",
      "\u001b[94m [ default category was automatically set to 'pos' (the most probable one) ]\u001b[0m\n",
      "\u001b[94m [ about to start classifying test documents ]\u001b[0m\n"
     ]
    },
    {
     "name": "stderr",
     "output_type": "stream",
     "text": [
      " Classification: 100%|██████████| 402/402 [00:07<00:00, 57.03it/s]\n",
      " Training:   0%|          | 0/2 [00:00<?, ?it/s]"
     ]
    },
    {
     "name": "stdout",
     "output_type": "stream",
     "text": [
      "\u001b[94m [ finished --time: 7.1s ]\u001b[0m\n",
      "\u001b[94m [ about to start training ]\u001b[0m\n"
     ]
    },
    {
     "name": "stderr",
     "output_type": "stream",
     "text": [
      " Training: 100%|██████████| 2/2 [00:07<00:00,  3.23s/it]\n"
     ]
    },
    {
     "name": "stdout",
     "output_type": "stream",
     "text": [
      "\u001b[94m [ pruning tries... ]\u001b[0m\n",
      "\u001b[94m [ finished --time: 7.6s ]\u001b[0m\n",
      "\u001b[94m [ about to start updating values... ]\u001b[0m\n",
      "\u001b[94m [ caching lv values ]\u001b[0m\n",
      "\u001b[94m    [ lv values for 0 (neg) ]\u001b[0m\n",
      "\u001b[94m    [ lv values for 1 (pos) ]\u001b[0m\n",
      "\u001b[94m [ caching sg values ]\u001b[0m\n",
      "\u001b[94m    [ sg values for 0 (neg) ]\u001b[0m\n",
      "\u001b[94m    [ sg values for 1 (pos) ]\u001b[0m\n",
      "\u001b[94m[ caching gv values ]\u001b[0m\n",
      "\u001b[94m    [ gv values for 0 (neg) ]\u001b[0m\n",
      "\u001b[94m    [ gv values for 1 (pos) ]\u001b[0m\n",
      "\u001b[94m [ updating max gv values ]\u001b[0m\n",
      "\u001b[94m    [ max gv values for 0 (neg) ]\u001b[0m\n",
      "\u001b[94m    [ max gv values for 1 (pos) ]\u001b[0m\n",
      "\u001b[94m [ max gv values have been updated ]\u001b[0m\n",
      "\u001b[94m [ caching confidence values (cvs) ]\u001b[0m\n",
      "\u001b[94m    [ cvs for 0 (neg) ]\u001b[0m\n",
      "\u001b[94m    [ cvs for 1 (pos) ]\u001b[0m\n"
     ]
    },
    {
     "name": "stderr",
     "output_type": "stream",
     "text": [
      " Classification:   2%|▏         | 9/402 [00:00<00:04, 84.12it/s]"
     ]
    },
    {
     "name": "stdout",
     "output_type": "stream",
     "text": [
      "\u001b[94m [ finished --time: 3.2s ]\u001b[0m\n",
      "\u001b[94m [ default category was automatically set to 'pos' (the most probable one) ]\u001b[0m\n",
      "\u001b[94m [ about to start classifying test documents ]\u001b[0m\n"
     ]
    },
    {
     "name": "stderr",
     "output_type": "stream",
     "text": [
      " Classification: 100%|██████████| 402/402 [00:06<00:00, 57.67it/s]\n",
      " Training:   0%|          | 0/2 [00:00<?, ?it/s]"
     ]
    },
    {
     "name": "stdout",
     "output_type": "stream",
     "text": [
      "\u001b[94m [ finished --time: 7.0s ]\u001b[0m\n",
      "\u001b[94m [ about to start training ]\u001b[0m\n"
     ]
    },
    {
     "name": "stderr",
     "output_type": "stream",
     "text": [
      " Training: 100%|██████████| 2/2 [00:07<00:00,  3.14s/it]\n"
     ]
    },
    {
     "name": "stdout",
     "output_type": "stream",
     "text": [
      "\u001b[94m [ pruning tries... ]\u001b[0m\n",
      "\u001b[94m [ finished --time: 7.7s ]\u001b[0m\n",
      "\u001b[94m [ about to start updating values... ]\u001b[0m\n",
      "\u001b[94m [ caching lv values ]\u001b[0m\n",
      "\u001b[94m    [ lv values for 0 (neg) ]\u001b[0m\n",
      "\u001b[94m    [ lv values for 1 (pos) ]\u001b[0m\n",
      "\u001b[94m [ caching sg values ]\u001b[0m\n",
      "\u001b[94m    [ sg values for 0 (neg) ]\u001b[0m\n",
      "\u001b[94m    [ sg values for 1 (pos) ]\u001b[0m\n",
      "\u001b[94m[ caching gv values ]\u001b[0m\n",
      "\u001b[94m    [ gv values for 0 (neg) ]\u001b[0m\n",
      "\u001b[94m    [ gv values for 1 (pos) ]\u001b[0m\n",
      "\u001b[94m [ updating max gv values ]\u001b[0m\n",
      "\u001b[94m    [ max gv values for 0 (neg) ]\u001b[0m\n",
      "\u001b[94m    [ max gv values for 1 (pos) ]\u001b[0m\n",
      "\u001b[94m [ max gv values have been updated ]\u001b[0m\n",
      "\u001b[94m [ caching confidence values (cvs) ]\u001b[0m\n",
      "\u001b[94m    [ cvs for 0 (neg) ]\u001b[0m\n",
      "\u001b[94m    [ cvs for 1 (pos) ]\u001b[0m\n"
     ]
    },
    {
     "name": "stderr",
     "output_type": "stream",
     "text": [
      " Classification:   2%|▏         | 9/402 [00:00<00:04, 83.20it/s]"
     ]
    },
    {
     "name": "stdout",
     "output_type": "stream",
     "text": [
      "\u001b[94m [ finished --time: 3.1s ]\u001b[0m\n",
      "\u001b[94m [ default category was automatically set to 'pos' (the most probable one) ]\u001b[0m\n",
      "\u001b[94m [ about to start classifying test documents ]\u001b[0m\n"
     ]
    },
    {
     "name": "stderr",
     "output_type": "stream",
     "text": [
      " Classification: 100%|██████████| 402/402 [00:07<00:00, 57.18it/s]\n",
      " Training:   0%|          | 0/2 [00:00<?, ?it/s]"
     ]
    },
    {
     "name": "stdout",
     "output_type": "stream",
     "text": [
      "\u001b[94m [ finished --time: 7.0s ]\u001b[0m\n",
      "\u001b[94m [ about to start training ]\u001b[0m\n"
     ]
    },
    {
     "name": "stderr",
     "output_type": "stream",
     "text": [
      " Training: 100%|██████████| 2/2 [00:06<00:00,  3.03s/it]\n"
     ]
    },
    {
     "name": "stdout",
     "output_type": "stream",
     "text": [
      "\u001b[94m [ pruning tries... ]\u001b[0m\n",
      "\u001b[94m [ finished --time: 7.3s ]\u001b[0m\n",
      "\u001b[94m [ about to start updating values... ]\u001b[0m\n",
      "\u001b[94m [ caching lv values ]\u001b[0m\n",
      "\u001b[94m    [ lv values for 0 (neg) ]\u001b[0m\n",
      "\u001b[94m    [ lv values for 1 (pos) ]\u001b[0m\n",
      "\u001b[94m [ caching sg values ]\u001b[0m\n",
      "\u001b[94m    [ sg values for 0 (neg) ]\u001b[0m\n",
      "\u001b[94m    [ sg values for 1 (pos) ]\u001b[0m\n",
      "\u001b[94m[ caching gv values ]\u001b[0m\n",
      "\u001b[94m    [ gv values for 0 (neg) ]\u001b[0m\n",
      "\u001b[94m    [ gv values for 1 (pos) ]\u001b[0m\n",
      "\u001b[94m [ updating max gv values ]\u001b[0m\n",
      "\u001b[94m    [ max gv values for 0 (neg) ]\u001b[0m\n",
      "\u001b[94m    [ max gv values for 1 (pos) ]\u001b[0m\n",
      "\u001b[94m [ max gv values have been updated ]\u001b[0m\n",
      "\u001b[94m [ caching confidence values (cvs) ]\u001b[0m\n",
      "\u001b[94m    [ cvs for 0 (neg) ]\u001b[0m\n",
      "\u001b[94m    [ cvs for 1 (pos) ]\u001b[0m\n"
     ]
    },
    {
     "name": "stderr",
     "output_type": "stream",
     "text": [
      " Classification:   2%|▏         | 9/402 [00:00<00:04, 83.09it/s]"
     ]
    },
    {
     "name": "stdout",
     "output_type": "stream",
     "text": [
      "\u001b[94m [ finished --time: 3.3s ]\u001b[0m\n",
      "\u001b[94m [ default category was automatically set to 'pos' (the most probable one) ]\u001b[0m\n",
      "\u001b[94m [ about to start classifying test documents ]\u001b[0m\n"
     ]
    },
    {
     "name": "stderr",
     "output_type": "stream",
     "text": [
      " Classification: 100%|██████████| 402/402 [00:06<00:00, 58.07it/s]\n",
      " Training:   0%|          | 0/2 [00:00<?, ?it/s]"
     ]
    },
    {
     "name": "stdout",
     "output_type": "stream",
     "text": [
      "\u001b[94m [ finished --time: 6.9s ]\u001b[0m\n",
      "\u001b[94m [ about to start training ]\u001b[0m\n"
     ]
    },
    {
     "name": "stderr",
     "output_type": "stream",
     "text": [
      " Training: 100%|██████████| 2/2 [00:06<00:00,  3.06s/it]\n"
     ]
    },
    {
     "name": "stdout",
     "output_type": "stream",
     "text": [
      "\u001b[94m [ pruning tries... ]\u001b[0m\n",
      "\u001b[94m [ finished --time: 7.4s ]\u001b[0m\n",
      "\u001b[94m [ about to start updating values... ]\u001b[0m\n",
      "\u001b[94m [ caching lv values ]\u001b[0m\n",
      "\u001b[94m    [ lv values for 0 (neg) ]\u001b[0m\n",
      "\u001b[94m    [ lv values for 1 (pos) ]\u001b[0m\n",
      "\u001b[94m [ caching sg values ]\u001b[0m\n",
      "\u001b[94m    [ sg values for 0 (neg) ]\u001b[0m\n",
      "\u001b[94m    [ sg values for 1 (pos) ]\u001b[0m\n",
      "\u001b[94m[ caching gv values ]\u001b[0m\n",
      "\u001b[94m    [ gv values for 0 (neg) ]\u001b[0m\n",
      "\u001b[94m    [ gv values for 1 (pos) ]\u001b[0m\n",
      "\u001b[94m [ updating max gv values ]\u001b[0m\n",
      "\u001b[94m    [ max gv values for 0 (neg) ]\u001b[0m\n",
      "\u001b[94m    [ max gv values for 1 (pos) ]\u001b[0m\n",
      "\u001b[94m [ max gv values have been updated ]\u001b[0m\n",
      "\u001b[94m [ caching confidence values (cvs) ]\u001b[0m\n",
      "\u001b[94m    [ cvs for 0 (neg) ]\u001b[0m\n",
      "\u001b[94m    [ cvs for 1 (pos) ]\u001b[0m\n"
     ]
    },
    {
     "name": "stderr",
     "output_type": "stream",
     "text": [
      " Classification:   2%|▏         | 9/402 [00:00<00:04, 79.98it/s]"
     ]
    },
    {
     "name": "stdout",
     "output_type": "stream",
     "text": [
      "\u001b[94m [ finished --time: 3.2s ]\u001b[0m\n",
      "\u001b[94m [ default category was automatically set to 'pos' (the most probable one) ]\u001b[0m\n",
      "\u001b[94m [ about to start classifying test documents ]\u001b[0m\n"
     ]
    },
    {
     "name": "stderr",
     "output_type": "stream",
     "text": [
      " Classification: 100%|██████████| 402/402 [00:06<00:00, 60.74it/s]\n",
      " Training:   0%|          | 0/2 [00:00<?, ?it/s]"
     ]
    },
    {
     "name": "stdout",
     "output_type": "stream",
     "text": [
      "\u001b[94m [ finished --time: 7.0s ]\u001b[0m\n",
      "\u001b[94m [ about to start training ]\u001b[0m\n"
     ]
    },
    {
     "name": "stderr",
     "output_type": "stream",
     "text": [
      " Training: 100%|██████████| 2/2 [00:06<00:00,  3.00s/it]\n"
     ]
    },
    {
     "name": "stdout",
     "output_type": "stream",
     "text": [
      "\u001b[94m [ pruning tries... ]\u001b[0m\n",
      "\u001b[94m [ finished --time: 7.2s ]\u001b[0m\n",
      "\u001b[94m [ about to start updating values... ]\u001b[0m\n",
      "\u001b[94m [ caching lv values ]\u001b[0m\n",
      "\u001b[94m    [ lv values for 0 (neg) ]\u001b[0m\n",
      "\u001b[94m    [ lv values for 1 (pos) ]\u001b[0m\n",
      "\u001b[94m [ caching sg values ]\u001b[0m\n",
      "\u001b[94m    [ sg values for 0 (neg) ]\u001b[0m\n",
      "\u001b[94m    [ sg values for 1 (pos) ]\u001b[0m\n",
      "\u001b[94m[ caching gv values ]\u001b[0m\n",
      "\u001b[94m    [ gv values for 0 (neg) ]\u001b[0m\n",
      "\u001b[94m    [ gv values for 1 (pos) ]\u001b[0m\n",
      "\u001b[94m [ updating max gv values ]\u001b[0m\n",
      "\u001b[94m    [ max gv values for 0 (neg) ]\u001b[0m\n",
      "\u001b[94m    [ max gv values for 1 (pos) ]\u001b[0m\n",
      "\u001b[94m [ max gv values have been updated ]\u001b[0m\n",
      "\u001b[94m [ caching confidence values (cvs) ]\u001b[0m\n",
      "\u001b[94m    [ cvs for 0 (neg) ]\u001b[0m\n",
      "\u001b[94m    [ cvs for 1 (pos) ]\u001b[0m\n"
     ]
    },
    {
     "name": "stderr",
     "output_type": "stream",
     "text": [
      " Classification:   2%|▏         | 9/402 [00:00<00:04, 82.96it/s]"
     ]
    },
    {
     "name": "stdout",
     "output_type": "stream",
     "text": [
      "\u001b[94m [ finished --time: 3.2s ]\u001b[0m\n",
      "\u001b[94m [ default category was automatically set to 'pos' (the most probable one) ]\u001b[0m\n",
      "\u001b[94m [ about to start classifying test documents ]\u001b[0m\n"
     ]
    },
    {
     "name": "stderr",
     "output_type": "stream",
     "text": [
      " Classification: 100%|██████████| 402/402 [00:06<00:00, 57.66it/s]\n",
      " Training:   0%|          | 0/2 [00:00<?, ?it/s]"
     ]
    },
    {
     "name": "stdout",
     "output_type": "stream",
     "text": [
      "\u001b[94m [ finished --time: 7.0s ]\u001b[0m\n",
      "\u001b[94m [ about to start training ]\u001b[0m\n"
     ]
    },
    {
     "name": "stderr",
     "output_type": "stream",
     "text": [
      " Training: 100%|██████████| 2/2 [00:07<00:00,  3.32s/it]\n"
     ]
    },
    {
     "name": "stdout",
     "output_type": "stream",
     "text": [
      "\u001b[94m [ pruning tries... ]\u001b[0m\n",
      "\u001b[94m [ finished --time: 7.7s ]\u001b[0m\n",
      "\u001b[94m [ about to start updating values... ]\u001b[0m\n",
      "\u001b[94m [ caching lv values ]\u001b[0m\n",
      "\u001b[94m    [ lv values for 0 (neg) ]\u001b[0m\n",
      "\u001b[94m    [ lv values for 1 (pos) ]\u001b[0m\n",
      "\u001b[94m [ caching sg values ]\u001b[0m\n",
      "\u001b[94m    [ sg values for 0 (neg) ]\u001b[0m\n",
      "\u001b[94m    [ sg values for 1 (pos) ]\u001b[0m\n",
      "\u001b[94m[ caching gv values ]\u001b[0m\n",
      "\u001b[94m    [ gv values for 0 (neg) ]\u001b[0m\n",
      "\u001b[94m    [ gv values for 1 (pos) ]\u001b[0m\n",
      "\u001b[94m [ updating max gv values ]\u001b[0m\n",
      "\u001b[94m    [ max gv values for 0 (neg) ]\u001b[0m\n",
      "\u001b[94m    [ max gv values for 1 (pos) ]\u001b[0m\n",
      "\u001b[94m [ max gv values have been updated ]\u001b[0m\n",
      "\u001b[94m [ caching confidence values (cvs) ]\u001b[0m\n",
      "\u001b[94m    [ cvs for 0 (neg) ]\u001b[0m\n",
      "\u001b[94m    [ cvs for 1 (pos) ]\u001b[0m\n"
     ]
    },
    {
     "name": "stderr",
     "output_type": "stream",
     "text": [
      " Classification:   2%|▏         | 8/402 [00:00<00:05, 77.57it/s]"
     ]
    },
    {
     "name": "stdout",
     "output_type": "stream",
     "text": [
      "\u001b[94m [ finished --time: 3.2s ]\u001b[0m\n",
      "\u001b[94m [ default category was automatically set to 'pos' (the most probable one) ]\u001b[0m\n",
      "\u001b[94m [ about to start classifying test documents ]\u001b[0m\n"
     ]
    },
    {
     "name": "stderr",
     "output_type": "stream",
     "text": [
      " Classification: 100%|██████████| 402/402 [00:07<00:00, 56.72it/s]\n",
      " Training:   0%|          | 0/2 [00:00<?, ?it/s]"
     ]
    },
    {
     "name": "stdout",
     "output_type": "stream",
     "text": [
      "\u001b[94m [ finished --time: 7.1s ]\u001b[0m\n",
      "\u001b[94m [ about to start training ]\u001b[0m\n"
     ]
    },
    {
     "name": "stderr",
     "output_type": "stream",
     "text": [
      " Training: 100%|██████████| 2/2 [00:07<00:00,  3.31s/it]\n"
     ]
    },
    {
     "name": "stdout",
     "output_type": "stream",
     "text": [
      "\u001b[94m [ pruning tries... ]\u001b[0m\n",
      "\u001b[94m [ finished --time: 7.8s ]\u001b[0m\n",
      "\u001b[94m [ about to start updating values... ]\u001b[0m\n",
      "\u001b[94m [ caching lv values ]\u001b[0m\n",
      "\u001b[94m    [ lv values for 0 (neg) ]\u001b[0m\n",
      "\u001b[94m    [ lv values for 1 (pos) ]\u001b[0m\n",
      "\u001b[94m [ caching sg values ]\u001b[0m\n",
      "\u001b[94m    [ sg values for 0 (neg) ]\u001b[0m\n",
      "\u001b[94m    [ sg values for 1 (pos) ]\u001b[0m\n",
      "\u001b[94m[ caching gv values ]\u001b[0m\n",
      "\u001b[94m    [ gv values for 0 (neg) ]\u001b[0m\n",
      "\u001b[94m    [ gv values for 1 (pos) ]\u001b[0m\n",
      "\u001b[94m [ updating max gv values ]\u001b[0m\n",
      "\u001b[94m    [ max gv values for 0 (neg) ]\u001b[0m\n",
      "\u001b[94m    [ max gv values for 1 (pos) ]\u001b[0m\n",
      "\u001b[94m [ max gv values have been updated ]\u001b[0m\n",
      "\u001b[94m [ caching confidence values (cvs) ]\u001b[0m\n",
      "\u001b[94m    [ cvs for 0 (neg) ]\u001b[0m\n",
      "\u001b[94m    [ cvs for 1 (pos) ]\u001b[0m\n"
     ]
    },
    {
     "name": "stderr",
     "output_type": "stream",
     "text": [
      " Classification:   2%|▏         | 9/402 [00:00<00:04, 82.21it/s]"
     ]
    },
    {
     "name": "stdout",
     "output_type": "stream",
     "text": [
      "\u001b[94m [ finished --time: 3.3s ]\u001b[0m\n",
      "\u001b[94m [ default category was automatically set to 'pos' (the most probable one) ]\u001b[0m\n",
      "\u001b[94m [ about to start classifying test documents ]\u001b[0m\n"
     ]
    },
    {
     "name": "stderr",
     "output_type": "stream",
     "text": [
      " Classification: 100%|██████████| 402/402 [00:06<00:00, 57.73it/s]\n",
      " Training:   0%|          | 0/2 [00:00<?, ?it/s]"
     ]
    },
    {
     "name": "stdout",
     "output_type": "stream",
     "text": [
      "\u001b[94m [ finished --time: 7.0s ]\u001b[0m\n",
      "\u001b[94m [ about to start training ]\u001b[0m\n"
     ]
    },
    {
     "name": "stderr",
     "output_type": "stream",
     "text": [
      " Training: 100%|██████████| 2/2 [00:06<00:00,  3.05s/it]\n"
     ]
    },
    {
     "name": "stdout",
     "output_type": "stream",
     "text": [
      "\u001b[94m [ pruning tries... ]\u001b[0m\n",
      "\u001b[94m [ finished --time: 7.3s ]\u001b[0m\n",
      "\u001b[94m [ about to start updating values... ]\u001b[0m\n",
      "\u001b[94m [ caching lv values ]\u001b[0m\n",
      "\u001b[94m    [ lv values for 0 (neg) ]\u001b[0m\n",
      "\u001b[94m    [ lv values for 1 (pos) ]\u001b[0m\n",
      "\u001b[94m [ caching sg values ]\u001b[0m\n",
      "\u001b[94m    [ sg values for 0 (neg) ]\u001b[0m\n",
      "\u001b[94m    [ sg values for 1 (pos) ]\u001b[0m\n",
      "\u001b[94m[ caching gv values ]\u001b[0m\n",
      "\u001b[94m    [ gv values for 0 (neg) ]\u001b[0m\n",
      "\u001b[94m    [ gv values for 1 (pos) ]\u001b[0m\n",
      "\u001b[94m [ updating max gv values ]\u001b[0m\n",
      "\u001b[94m    [ max gv values for 0 (neg) ]\u001b[0m\n",
      "\u001b[94m    [ max gv values for 1 (pos) ]\u001b[0m\n",
      "\u001b[94m [ max gv values have been updated ]\u001b[0m\n",
      "\u001b[94m [ caching confidence values (cvs) ]\u001b[0m\n",
      "\u001b[94m    [ cvs for 0 (neg) ]\u001b[0m\n",
      "\u001b[94m    [ cvs for 1 (pos) ]\u001b[0m\n"
     ]
    },
    {
     "name": "stderr",
     "output_type": "stream",
     "text": [
      " Classification:   2%|▏         | 8/402 [00:00<00:05, 71.07it/s]"
     ]
    },
    {
     "name": "stdout",
     "output_type": "stream",
     "text": [
      "\u001b[94m [ finished --time: 3.2s ]\u001b[0m\n",
      "\u001b[94m [ default category was automatically set to 'pos' (the most probable one) ]\u001b[0m\n",
      "\u001b[94m [ about to start classifying test documents ]\u001b[0m\n"
     ]
    },
    {
     "name": "stderr",
     "output_type": "stream",
     "text": [
      " Classification: 100%|██████████| 402/402 [00:06<00:00, 57.68it/s]\n",
      " Training:   0%|          | 0/2 [00:00<?, ?it/s]"
     ]
    },
    {
     "name": "stdout",
     "output_type": "stream",
     "text": [
      "\u001b[94m [ finished --time: 7.0s ]\u001b[0m\n",
      "\u001b[94m [ about to start training ]\u001b[0m\n"
     ]
    },
    {
     "name": "stderr",
     "output_type": "stream",
     "text": [
      " Training: 100%|██████████| 2/2 [00:06<00:00,  3.00s/it]\n"
     ]
    },
    {
     "name": "stdout",
     "output_type": "stream",
     "text": [
      "\u001b[94m [ pruning tries... ]\u001b[0m\n",
      "\u001b[94m [ finished --time: 7.3s ]\u001b[0m\n",
      "\u001b[94m [ about to start updating values... ]\u001b[0m\n",
      "\u001b[94m [ caching lv values ]\u001b[0m\n",
      "\u001b[94m    [ lv values for 0 (neg) ]\u001b[0m\n",
      "\u001b[94m    [ lv values for 1 (pos) ]\u001b[0m\n",
      "\u001b[94m [ caching sg values ]\u001b[0m\n",
      "\u001b[94m    [ sg values for 0 (neg) ]\u001b[0m\n",
      "\u001b[94m    [ sg values for 1 (pos) ]\u001b[0m\n",
      "\u001b[94m[ caching gv values ]\u001b[0m\n",
      "\u001b[94m    [ gv values for 0 (neg) ]\u001b[0m\n",
      "\u001b[94m    [ gv values for 1 (pos) ]\u001b[0m\n",
      "\u001b[94m [ updating max gv values ]\u001b[0m\n",
      "\u001b[94m    [ max gv values for 0 (neg) ]\u001b[0m\n",
      "\u001b[94m    [ max gv values for 1 (pos) ]\u001b[0m\n",
      "\u001b[94m [ max gv values have been updated ]\u001b[0m\n",
      "\u001b[94m [ caching confidence values (cvs) ]\u001b[0m\n",
      "\u001b[94m    [ cvs for 0 (neg) ]\u001b[0m\n",
      "\u001b[94m    [ cvs for 1 (pos) ]\u001b[0m\n"
     ]
    },
    {
     "name": "stderr",
     "output_type": "stream",
     "text": [
      " Classification:   2%|▏         | 9/402 [00:00<00:04, 82.12it/s]"
     ]
    },
    {
     "name": "stdout",
     "output_type": "stream",
     "text": [
      "\u001b[94m [ finished --time: 3.2s ]\u001b[0m\n",
      "\u001b[94m [ default category was automatically set to 'pos' (the most probable one) ]\u001b[0m\n",
      "\u001b[94m [ about to start classifying test documents ]\u001b[0m\n"
     ]
    },
    {
     "name": "stderr",
     "output_type": "stream",
     "text": [
      " Classification: 100%|██████████| 402/402 [00:07<00:00, 57.09it/s]\n",
      " Training:   0%|          | 0/2 [00:00<?, ?it/s]"
     ]
    },
    {
     "name": "stdout",
     "output_type": "stream",
     "text": [
      "\u001b[94m [ finished --time: 7.0s ]\u001b[0m\n",
      "\u001b[94m [ about to start training ]\u001b[0m\n"
     ]
    },
    {
     "name": "stderr",
     "output_type": "stream",
     "text": [
      " Training: 100%|██████████| 2/2 [00:07<00:00,  3.27s/it]\n"
     ]
    },
    {
     "name": "stdout",
     "output_type": "stream",
     "text": [
      "\u001b[94m [ pruning tries... ]\u001b[0m\n",
      "\u001b[94m [ finished --time: 7.7s ]\u001b[0m\n",
      "\u001b[94m [ about to start updating values... ]\u001b[0m\n",
      "\u001b[94m [ caching lv values ]\u001b[0m\n",
      "\u001b[94m    [ lv values for 0 (neg) ]\u001b[0m\n",
      "\u001b[94m    [ lv values for 1 (pos) ]\u001b[0m\n",
      "\u001b[94m [ caching sg values ]\u001b[0m\n",
      "\u001b[94m    [ sg values for 0 (neg) ]\u001b[0m\n",
      "\u001b[94m    [ sg values for 1 (pos) ]\u001b[0m\n",
      "\u001b[94m[ caching gv values ]\u001b[0m\n",
      "\u001b[94m    [ gv values for 0 (neg) ]\u001b[0m\n",
      "\u001b[94m    [ gv values for 1 (pos) ]\u001b[0m\n",
      "\u001b[94m [ updating max gv values ]\u001b[0m\n",
      "\u001b[94m    [ max gv values for 0 (neg) ]\u001b[0m\n",
      "\u001b[94m    [ max gv values for 1 (pos) ]\u001b[0m\n",
      "\u001b[94m [ max gv values have been updated ]\u001b[0m\n",
      "\u001b[94m [ caching confidence values (cvs) ]\u001b[0m\n",
      "\u001b[94m    [ cvs for 0 (neg) ]\u001b[0m\n",
      "\u001b[94m    [ cvs for 1 (pos) ]\u001b[0m\n"
     ]
    },
    {
     "name": "stderr",
     "output_type": "stream",
     "text": [
      " Classification:   2%|▏         | 9/402 [00:00<00:04, 81.49it/s]"
     ]
    },
    {
     "name": "stdout",
     "output_type": "stream",
     "text": [
      "\u001b[94m [ finished --time: 3.2s ]\u001b[0m\n",
      "\u001b[94m [ default category was automatically set to 'pos' (the most probable one) ]\u001b[0m\n",
      "\u001b[94m [ about to start classifying test documents ]\u001b[0m\n"
     ]
    },
    {
     "name": "stderr",
     "output_type": "stream",
     "text": [
      " Classification: 100%|██████████| 402/402 [00:07<00:00, 57.30it/s]\n",
      " Training:   0%|          | 0/2 [00:00<?, ?it/s]"
     ]
    },
    {
     "name": "stdout",
     "output_type": "stream",
     "text": [
      "\u001b[94m [ finished --time: 7.0s ]\u001b[0m\n",
      "\u001b[94m [ about to start training ]\u001b[0m\n"
     ]
    },
    {
     "name": "stderr",
     "output_type": "stream",
     "text": [
      " Training: 100%|██████████| 2/2 [00:07<00:00,  3.32s/it]\n"
     ]
    },
    {
     "name": "stdout",
     "output_type": "stream",
     "text": [
      "\u001b[94m [ pruning tries... ]\u001b[0m\n",
      "\u001b[94m [ finished --time: 7.8s ]\u001b[0m\n",
      "\u001b[94m [ about to start updating values... ]\u001b[0m\n",
      "\u001b[94m [ caching lv values ]\u001b[0m\n",
      "\u001b[94m    [ lv values for 0 (neg) ]\u001b[0m\n",
      "\u001b[94m    [ lv values for 1 (pos) ]\u001b[0m\n",
      "\u001b[94m [ caching sg values ]\u001b[0m\n",
      "\u001b[94m    [ sg values for 0 (neg) ]\u001b[0m\n",
      "\u001b[94m    [ sg values for 1 (pos) ]\u001b[0m\n",
      "\u001b[94m[ caching gv values ]\u001b[0m\n",
      "\u001b[94m    [ gv values for 0 (neg) ]\u001b[0m\n",
      "\u001b[94m    [ gv values for 1 (pos) ]\u001b[0m\n",
      "\u001b[94m [ updating max gv values ]\u001b[0m\n",
      "\u001b[94m    [ max gv values for 0 (neg) ]\u001b[0m\n",
      "\u001b[94m    [ max gv values for 1 (pos) ]\u001b[0m\n",
      "\u001b[94m [ max gv values have been updated ]\u001b[0m\n",
      "\u001b[94m [ caching confidence values (cvs) ]\u001b[0m\n",
      "\u001b[94m    [ cvs for 0 (neg) ]\u001b[0m\n",
      "\u001b[94m    [ cvs for 1 (pos) ]\u001b[0m\n"
     ]
    },
    {
     "name": "stderr",
     "output_type": "stream",
     "text": [
      " Classification:   2%|▏         | 8/402 [00:00<00:05, 78.32it/s]"
     ]
    },
    {
     "name": "stdout",
     "output_type": "stream",
     "text": [
      "\u001b[94m [ finished --time: 3.1s ]\u001b[0m\n",
      "\u001b[94m [ default category was automatically set to 'pos' (the most probable one) ]\u001b[0m\n",
      "\u001b[94m [ about to start classifying test documents ]\u001b[0m\n"
     ]
    },
    {
     "name": "stderr",
     "output_type": "stream",
     "text": [
      " Classification: 100%|██████████| 402/402 [00:07<00:00, 57.31it/s]\n",
      " Training:   0%|          | 0/2 [00:00<?, ?it/s]"
     ]
    },
    {
     "name": "stdout",
     "output_type": "stream",
     "text": [
      "\u001b[94m [ finished --time: 7.0s ]\u001b[0m\n",
      "\u001b[94m [ about to start training ]\u001b[0m\n"
     ]
    },
    {
     "name": "stderr",
     "output_type": "stream",
     "text": [
      " Training: 100%|██████████| 2/2 [00:06<00:00,  2.97s/it]\n"
     ]
    },
    {
     "name": "stdout",
     "output_type": "stream",
     "text": [
      "\u001b[94m [ pruning tries... ]\u001b[0m\n",
      "\u001b[94m [ finished --time: 7.2s ]\u001b[0m\n",
      "\u001b[94m [ about to start updating values... ]\u001b[0m\n",
      "\u001b[94m [ caching lv values ]\u001b[0m\n",
      "\u001b[94m    [ lv values for 0 (neg) ]\u001b[0m\n",
      "\u001b[94m    [ lv values for 1 (pos) ]\u001b[0m\n",
      "\u001b[94m [ caching sg values ]\u001b[0m\n",
      "\u001b[94m    [ sg values for 0 (neg) ]\u001b[0m\n",
      "\u001b[94m    [ sg values for 1 (pos) ]\u001b[0m\n",
      "\u001b[94m[ caching gv values ]\u001b[0m\n",
      "\u001b[94m    [ gv values for 0 (neg) ]\u001b[0m\n",
      "\u001b[94m    [ gv values for 1 (pos) ]\u001b[0m\n",
      "\u001b[94m [ updating max gv values ]\u001b[0m\n",
      "\u001b[94m    [ max gv values for 0 (neg) ]\u001b[0m\n",
      "\u001b[94m    [ max gv values for 1 (pos) ]\u001b[0m\n",
      "\u001b[94m [ max gv values have been updated ]\u001b[0m\n",
      "\u001b[94m [ caching confidence values (cvs) ]\u001b[0m\n",
      "\u001b[94m    [ cvs for 0 (neg) ]\u001b[0m\n",
      "\u001b[94m    [ cvs for 1 (pos) ]\u001b[0m\n"
     ]
    },
    {
     "name": "stderr",
     "output_type": "stream",
     "text": [
      " Classification:   2%|▏         | 8/402 [00:00<00:05, 71.64it/s]"
     ]
    },
    {
     "name": "stdout",
     "output_type": "stream",
     "text": [
      "\u001b[94m [ finished --time: 3.2s ]\u001b[0m\n",
      "\u001b[94m [ default category was automatically set to 'pos' (the most probable one) ]\u001b[0m\n",
      "\u001b[94m [ about to start classifying test documents ]\u001b[0m\n"
     ]
    },
    {
     "name": "stderr",
     "output_type": "stream",
     "text": [
      " Classification: 100%|██████████| 402/402 [00:06<00:00, 57.61it/s]\n",
      " Training:   0%|          | 0/2 [00:00<?, ?it/s]"
     ]
    },
    {
     "name": "stdout",
     "output_type": "stream",
     "text": [
      "\u001b[94m [ finished --time: 7.0s ]\u001b[0m\n",
      "\u001b[94m [ about to start training ]\u001b[0m\n"
     ]
    },
    {
     "name": "stderr",
     "output_type": "stream",
     "text": [
      " Training: 100%|██████████| 2/2 [00:06<00:00,  3.20s/it]\n"
     ]
    },
    {
     "name": "stdout",
     "output_type": "stream",
     "text": [
      "\u001b[94m [ pruning tries... ]\u001b[0m\n",
      "\u001b[94m [ finished --time: 7.5s ]\u001b[0m\n",
      "\u001b[94m [ about to start updating values... ]\u001b[0m\n",
      "\u001b[94m [ caching lv values ]\u001b[0m\n",
      "\u001b[94m    [ lv values for 0 (neg) ]\u001b[0m\n",
      "\u001b[94m    [ lv values for 1 (pos) ]\u001b[0m\n",
      "\u001b[94m [ caching sg values ]\u001b[0m\n",
      "\u001b[94m    [ sg values for 0 (neg) ]\u001b[0m\n",
      "\u001b[94m    [ sg values for 1 (pos) ]\u001b[0m\n",
      "\u001b[94m[ caching gv values ]\u001b[0m\n",
      "\u001b[94m    [ gv values for 0 (neg) ]\u001b[0m\n",
      "\u001b[94m    [ gv values for 1 (pos) ]\u001b[0m\n",
      "\u001b[94m [ updating max gv values ]\u001b[0m\n",
      "\u001b[94m    [ max gv values for 0 (neg) ]\u001b[0m\n",
      "\u001b[94m    [ max gv values for 1 (pos) ]\u001b[0m\n",
      "\u001b[94m [ max gv values have been updated ]\u001b[0m\n",
      "\u001b[94m [ caching confidence values (cvs) ]\u001b[0m\n",
      "\u001b[94m    [ cvs for 0 (neg) ]\u001b[0m\n",
      "\u001b[94m    [ cvs for 1 (pos) ]\u001b[0m\n"
     ]
    },
    {
     "name": "stderr",
     "output_type": "stream",
     "text": [
      " Classification:   2%|▏         | 9/402 [00:00<00:04, 79.65it/s]"
     ]
    },
    {
     "name": "stdout",
     "output_type": "stream",
     "text": [
      "\u001b[94m [ finished --time: 3.1s ]\u001b[0m\n",
      "\u001b[94m [ default category was automatically set to 'pos' (the most probable one) ]\u001b[0m\n",
      "\u001b[94m [ about to start classifying test documents ]\u001b[0m\n"
     ]
    },
    {
     "name": "stderr",
     "output_type": "stream",
     "text": [
      " Classification: 100%|██████████| 402/402 [00:06<00:00, 57.59it/s]"
     ]
    },
    {
     "name": "stdout",
     "output_type": "stream",
     "text": [
      "\u001b[94m [ finished --time: 7.0s ]\u001b[0m\n"
     ]
    },
    {
     "name": "stderr",
     "output_type": "stream",
     "text": [
      "\n"
     ]
    }
   ],
   "source": [
    "# clf.set_hyperparameters(s=.44, l=.48, p=1.1)\n",
    "eval_dict = {}\n",
    "for s in np.linspace(.2,.8,6):\n",
    "    for l in np.linspace(.1,2,6):\n",
    "        for p in np.linspace(.5,2,6):  \n",
    "            clf.set_hyperparameters(s=s, l=l, p=p)\n",
    "            clf.fit(X_train, y_train, n_grams=ngram) \n",
    "            y_pred = clf.predict(X_test)\n",
    "            acc = accuracy_score(y_pred, y_test)\n",
    "            eval_dict[(s,l,p)] = acc"
   ]
  },
  {
   "cell_type": "code",
   "execution_count": 22,
   "metadata": {},
   "outputs": [
    {
     "name": "stdout",
     "output_type": "stream",
     "text": [
      "{(0.2, 0.1, 0.5): 0.8407960199004975, (0.2, 0.1, 0.8): 0.845771144278607, (0.2, 0.1, 1.1): 0.8482587064676617, (0.2, 0.1, 1.4): 0.8507462686567164, (0.2, 0.1, 1.7): 0.8532338308457711, (0.2, 0.1, 2.0): 0.8631840796019901, (0.2, 0.48, 0.5): 0.9651741293532339, (0.2, 0.48, 0.8): 0.9651741293532339, (0.2, 0.48, 1.1): 0.9651741293532339, (0.2, 0.48, 1.4): 0.9651741293532339, (0.2, 0.48, 1.7): 0.9676616915422885, (0.2, 0.48, 2.0): 0.9676616915422885, (0.2, 0.86, 0.5): 0.945273631840796, (0.2, 0.86, 0.8): 0.945273631840796, (0.2, 0.86, 1.1): 0.945273631840796, (0.2, 0.86, 1.4): 0.945273631840796, (0.2, 0.86, 1.7): 0.9477611940298507, (0.2, 0.86, 2.0): 0.9477611940298507, (0.2, 1.2400000000000002, 0.5): 0.9427860696517413, (0.2, 1.2400000000000002, 0.8): 0.9427860696517413, (0.2, 1.2400000000000002, 1.1): 0.9427860696517413, (0.2, 1.2400000000000002, 1.4): 0.9427860696517413, (0.2, 1.2400000000000002, 1.7): 0.9427860696517413, (0.2, 1.2400000000000002, 2.0): 0.9427860696517413, (0.2, 1.62, 0.5): 0.9378109452736318, (0.2, 1.62, 0.8): 0.9378109452736318, (0.2, 1.62, 1.1): 0.9378109452736318, (0.2, 1.62, 1.4): 0.9378109452736318, (0.2, 1.62, 1.7): 0.9378109452736318, (0.2, 1.62, 2.0): 0.9378109452736318, (0.2, 2.0, 0.5): 0.9378109452736318, (0.2, 2.0, 0.8): 0.9378109452736318, (0.2, 2.0, 1.1): 0.9378109452736318, (0.2, 2.0, 1.4): 0.9353233830845771, (0.2, 2.0, 1.7): 0.9353233830845771, (0.2, 2.0, 2.0): 0.9353233830845771, (0.32000000000000006, 0.1, 0.5): 0.9079601990049752, (0.32000000000000006, 0.1, 0.8): 0.9129353233830846, (0.32000000000000006, 0.1, 1.1): 0.9104477611940298, (0.32000000000000006, 0.1, 1.4): 0.9104477611940298, (0.32000000000000006, 0.1, 1.7): 0.9079601990049752, (0.32000000000000006, 0.1, 2.0): 0.9079601990049752, (0.32000000000000006, 0.48, 0.5): 0.9577114427860697, (0.32000000000000006, 0.48, 0.8): 0.9577114427860697, (0.32000000000000006, 0.48, 1.1): 0.9552238805970149, (0.32000000000000006, 0.48, 1.4): 0.9527363184079602, (0.32000000000000006, 0.48, 1.7): 0.9502487562189055, (0.32000000000000006, 0.48, 2.0): 0.945273631840796, (0.32000000000000006, 0.86, 0.5): 0.9502487562189055, (0.32000000000000006, 0.86, 0.8): 0.9626865671641791, (0.32000000000000006, 0.86, 1.1): 0.9626865671641791, (0.32000000000000006, 0.86, 1.4): 0.9626865671641791, (0.32000000000000006, 0.86, 1.7): 0.9577114427860697, (0.32000000000000006, 0.86, 2.0): 0.9577114427860697, (0.32000000000000006, 1.2400000000000002, 0.5): 0.9577114427860697, (0.32000000000000006, 1.2400000000000002, 0.8): 0.9577114427860697, (0.32000000000000006, 1.2400000000000002, 1.1): 0.9577114427860697, (0.32000000000000006, 1.2400000000000002, 1.4): 0.9577114427860697, (0.32000000000000006, 1.2400000000000002, 1.7): 0.9626865671641791, (0.32000000000000006, 1.2400000000000002, 2.0): 0.9626865671641791, (0.32000000000000006, 1.62, 0.5): 0.9626865671641791, (0.32000000000000006, 1.62, 0.8): 0.9626865671641791, (0.32000000000000006, 1.62, 1.1): 0.9626865671641791, (0.32000000000000006, 1.62, 1.4): 0.9626865671641791, (0.32000000000000006, 1.62, 1.7): 0.9626865671641791, (0.32000000000000006, 1.62, 2.0): 0.9626865671641791, (0.32000000000000006, 2.0, 0.5): 0.9527363184079602, (0.32000000000000006, 2.0, 0.8): 0.9527363184079602, (0.32000000000000006, 2.0, 1.1): 0.9527363184079602, (0.32000000000000006, 2.0, 1.4): 0.9527363184079602, (0.32000000000000006, 2.0, 1.7): 0.9527363184079602, (0.32000000000000006, 2.0, 2.0): 0.9527363184079602, (0.44000000000000006, 0.1, 0.5): 0.6268656716417911, (0.44000000000000006, 0.1, 0.8): 0.6268656716417911, (0.44000000000000006, 0.1, 1.1): 0.6268656716417911, (0.44000000000000006, 0.1, 1.4): 0.6268656716417911, (0.44000000000000006, 0.1, 1.7): 0.6293532338308457, (0.44000000000000006, 0.1, 2.0): 0.6293532338308457, (0.44000000000000006, 0.48, 0.5): 0.8781094527363185, (0.44000000000000006, 0.48, 0.8): 0.8781094527363185, (0.44000000000000006, 0.48, 1.1): 0.8781094527363185, (0.44000000000000006, 0.48, 1.4): 0.8781094527363185, (0.44000000000000006, 0.48, 1.7): 0.8781094527363185, (0.44000000000000006, 0.48, 2.0): 0.8781094527363185, (0.44000000000000006, 0.86, 0.5): 0.8980099502487562, (0.44000000000000006, 0.86, 0.8): 0.8980099502487562, (0.44000000000000006, 0.86, 1.1): 0.8980099502487562, (0.44000000000000006, 0.86, 1.4): 0.8980099502487562, (0.44000000000000006, 0.86, 1.7): 0.8980099502487562, (0.44000000000000006, 0.86, 2.0): 0.900497512437811, (0.44000000000000006, 1.2400000000000002, 0.5): 0.9253731343283582, (0.44000000000000006, 1.2400000000000002, 0.8): 0.9253731343283582, (0.44000000000000006, 1.2400000000000002, 1.1): 0.9253731343283582, (0.44000000000000006, 1.2400000000000002, 1.4): 0.9253731343283582, (0.44000000000000006, 1.2400000000000002, 1.7): 0.9253731343283582, (0.44000000000000006, 1.2400000000000002, 2.0): 0.9253731343283582, (0.44000000000000006, 1.62, 0.5): 0.9154228855721394, (0.44000000000000006, 1.62, 0.8): 0.9154228855721394, (0.44000000000000006, 1.62, 1.1): 0.917910447761194, (0.44000000000000006, 1.62, 1.4): 0.9154228855721394, (0.44000000000000006, 1.62, 1.7): 0.9154228855721394, (0.44000000000000006, 1.62, 2.0): 0.9154228855721394, (0.44000000000000006, 2.0, 0.5): 0.8308457711442786, (0.44000000000000006, 2.0, 0.8): 0.835820895522388, (0.44000000000000006, 2.0, 1.1): 0.8383084577114428, (0.44000000000000006, 2.0, 1.4): 0.845771144278607, (0.44000000000000006, 2.0, 1.7): 0.8532338308457711, (0.44000000000000006, 2.0, 2.0): 0.8582089552238806, (0.56, 0.1, 0.5): 0.5223880597014925, (0.56, 0.1, 0.8): 0.5223880597014925, (0.56, 0.1, 1.1): 0.5223880597014925, (0.56, 0.1, 1.4): 0.5223880597014925, (0.56, 0.1, 1.7): 0.527363184079602, (0.56, 0.1, 2.0): 0.5298507462686567, (0.56, 0.48, 0.5): 0.6417910447761194, (0.56, 0.48, 0.8): 0.6417910447761194, (0.56, 0.48, 1.1): 0.6393034825870647, (0.56, 0.48, 1.4): 0.6368159203980099, (0.56, 0.48, 1.7): 0.6368159203980099, (0.56, 0.48, 2.0): 0.6368159203980099, (0.56, 0.86, 0.5): 0.8805970149253731, (0.56, 0.86, 0.8): 0.8805970149253731, (0.56, 0.86, 1.1): 0.8805970149253731, (0.56, 0.86, 1.4): 0.8805970149253731, (0.56, 0.86, 1.7): 0.8805970149253731, (0.56, 0.86, 2.0): 0.8805970149253731, (0.56, 1.2400000000000002, 0.5): 0.7810945273631841, (0.56, 1.2400000000000002, 0.8): 0.7810945273631841, (0.56, 1.2400000000000002, 1.1): 0.7810945273631841, (0.56, 1.2400000000000002, 1.4): 0.7810945273631841, (0.56, 1.2400000000000002, 1.7): 0.7810945273631841, (0.56, 1.2400000000000002, 2.0): 0.7810945273631841, (0.56, 1.62, 0.5): 0.8208955223880597, (0.56, 1.62, 0.8): 0.8208955223880597, (0.56, 1.62, 1.1): 0.8208955223880597, (0.56, 1.62, 1.4): 0.8208955223880597, (0.56, 1.62, 1.7): 0.8208955223880597, (0.56, 1.62, 2.0): 0.8208955223880597, (0.56, 2.0, 0.5): 0.8955223880597015, (0.56, 2.0, 0.8): 0.8930348258706468, (0.56, 2.0, 1.1): 0.8930348258706468, (0.56, 2.0, 1.4): 0.8905472636815921, (0.56, 2.0, 1.7): 0.8905472636815921, (0.56, 2.0, 2.0): 0.8880597014925373, (0.6800000000000002, 0.1, 0.5): 0.4626865671641791, (0.6800000000000002, 0.1, 0.8): 0.4626865671641791, (0.6800000000000002, 0.1, 1.1): 0.4626865671641791, (0.6800000000000002, 0.1, 1.4): 0.4626865671641791, (0.6800000000000002, 0.1, 1.7): 0.4626865671641791, (0.6800000000000002, 0.1, 2.0): 0.4626865671641791, (0.6800000000000002, 0.48, 0.5): 0.5572139303482587, (0.6800000000000002, 0.48, 0.8): 0.5572139303482587, (0.6800000000000002, 0.48, 1.1): 0.554726368159204, (0.6800000000000002, 0.48, 1.4): 0.5522388059701493, (0.6800000000000002, 0.48, 1.7): 0.5522388059701493, (0.6800000000000002, 0.48, 2.0): 0.5522388059701493, (0.6800000000000002, 0.86, 0.5): 0.7512437810945274, (0.6800000000000002, 0.86, 0.8): 0.7512437810945274, (0.6800000000000002, 0.86, 1.1): 0.7512437810945274, (0.6800000000000002, 0.86, 1.4): 0.7512437810945274, (0.6800000000000002, 0.86, 1.7): 0.7487562189054726, (0.6800000000000002, 0.86, 2.0): 0.7512437810945274, (0.6800000000000002, 1.2400000000000002, 0.5): 0.8084577114427861, (0.6800000000000002, 1.2400000000000002, 0.8): 0.8084577114427861, (0.6800000000000002, 1.2400000000000002, 1.1): 0.8084577114427861, (0.6800000000000002, 1.2400000000000002, 1.4): 0.8109452736318408, (0.6800000000000002, 1.2400000000000002, 1.7): 0.8109452736318408, (0.6800000000000002, 1.2400000000000002, 2.0): 0.8109452736318408, (0.6800000000000002, 1.62, 0.5): 0.582089552238806, (0.6800000000000002, 1.62, 0.8): 0.582089552238806, (0.6800000000000002, 1.62, 1.1): 0.582089552238806, (0.6800000000000002, 1.62, 1.4): 0.582089552238806, (0.6800000000000002, 1.62, 1.7): 0.582089552238806, (0.6800000000000002, 1.62, 2.0): 0.582089552238806, (0.6800000000000002, 2.0, 0.5): 0.5621890547263682, (0.6800000000000002, 2.0, 0.8): 0.5621890547263682, (0.6800000000000002, 2.0, 1.1): 0.5621890547263682, (0.6800000000000002, 2.0, 1.4): 0.5621890547263682, (0.6800000000000002, 2.0, 1.7): 0.5621890547263682, (0.6800000000000002, 2.0, 2.0): 0.5621890547263682, (0.8, 0.1, 0.5): 0.527363184079602, (0.8, 0.1, 0.8): 0.527363184079602, (0.8, 0.1, 1.1): 0.527363184079602, (0.8, 0.1, 1.4): 0.5223880597014925, (0.8, 0.1, 1.7): 0.5248756218905473, (0.8, 0.1, 2.0): 0.5223880597014925, (0.8, 0.48, 0.5): 0.7661691542288557, (0.8, 0.48, 0.8): 0.763681592039801, (0.8, 0.48, 1.1): 0.763681592039801, (0.8, 0.48, 1.4): 0.763681592039801, (0.8, 0.48, 1.7): 0.763681592039801, (0.8, 0.48, 2.0): 0.7587064676616916, (0.8, 0.86, 0.5): 0.6567164179104478, (0.8, 0.86, 0.8): 0.6567164179104478, (0.8, 0.86, 1.1): 0.6567164179104478, (0.8, 0.86, 1.4): 0.6567164179104478, (0.8, 0.86, 1.7): 0.6567164179104478, (0.8, 0.86, 2.0): 0.6567164179104478, (0.8, 1.2400000000000002, 0.5): 0.6094527363184079, (0.8, 1.2400000000000002, 0.8): 0.6094527363184079, (0.8, 1.2400000000000002, 1.1): 0.6094527363184079, (0.8, 1.2400000000000002, 1.4): 0.6094527363184079, (0.8, 1.2400000000000002, 1.7): 0.6094527363184079, (0.8, 1.2400000000000002, 2.0): 0.6094527363184079, (0.8, 1.62, 0.5): 0.5870646766169154, (0.8, 1.62, 0.8): 0.5870646766169154, (0.8, 1.62, 1.1): 0.5870646766169154, (0.8, 1.62, 1.4): 0.5870646766169154, (0.8, 1.62, 1.7): 0.5870646766169154, (0.8, 1.62, 2.0): 0.5870646766169154, (0.8, 2.0, 0.5): 0.5771144278606966, (0.8, 2.0, 0.8): 0.5771144278606966, (0.8, 2.0, 1.1): 0.5771144278606966, (0.8, 2.0, 1.4): 0.5771144278606966, (0.8, 2.0, 1.7): 0.5771144278606966, (0.8, 2.0, 2.0): 0.5771144278606966}\n"
     ]
    }
   ],
   "source": [
    "print(eval_dict)"
   ]
  },
  {
   "cell_type": "code",
   "execution_count": 17,
   "metadata": {},
   "outputs": [
    {
     "data": {
      "text/plain": [
       "8     617\n",
       "3     386\n",
       "9     152\n",
       "2     145\n",
       "1      32\n",
       "10     26\n",
       "Name: rating, dtype: int64"
      ]
     },
     "execution_count": 17,
     "metadata": {},
     "output_type": "execute_result"
    }
   ],
   "source": [
    "radical_reviews['rating'].value_counts()"
   ]
  },
  {
   "cell_type": "code",
   "execution_count": 20,
   "metadata": {},
   "outputs": [
    {
     "name": "stderr",
     "output_type": "stream",
     "text": [
      "/usr/local/lib/python3.7/site-packages/sklearn/model_selection/_split.py:1978: FutureWarning: The default value of cv will change from 3 to 5 in version 0.22. Specify it explicitly to silence this warning.\n",
      "  warnings.warn(CV_WARNING, FutureWarning)\n"
     ]
    },
    {
     "ename": "TypeError",
     "evalue": "Cannot clone object '<pyss3.SS3 object at 0x12cdca8d0>' (type <class 'pyss3.SS3'>): it does not seem to be a scikit-learn estimator as it does not implement a 'get_params' methods.",
     "output_type": "error",
     "traceback": [
      "\u001b[0;31m---------------------------------------------------------------------------\u001b[0m",
      "\u001b[0;31mTypeError\u001b[0m                                 Traceback (most recent call last)",
      "\u001b[0;32m<ipython-input-20-e2089cb0dd43>\u001b[0m in \u001b[0;36m<module>\u001b[0;34m\u001b[0m\n\u001b[1;32m      9\u001b[0m }\n\u001b[1;32m     10\u001b[0m \u001b[0mclf_f\u001b[0m \u001b[0;34m=\u001b[0m \u001b[0mGridSearchCV\u001b[0m\u001b[0;34m(\u001b[0m\u001b[0mclf\u001b[0m\u001b[0;34m,\u001b[0m \u001b[0mparameters\u001b[0m\u001b[0;34m,\u001b[0m \u001b[0mscoring\u001b[0m\u001b[0;34m=\u001b[0m\u001b[0macc_scorer\u001b[0m\u001b[0;34m,\u001b[0m \u001b[0mn_jobs\u001b[0m\u001b[0;34m=\u001b[0m\u001b[0;34m-\u001b[0m\u001b[0;36m1\u001b[0m\u001b[0;34m)\u001b[0m\u001b[0;34m\u001b[0m\u001b[0;34m\u001b[0m\u001b[0m\n\u001b[0;32m---> 11\u001b[0;31m \u001b[0mclf_f\u001b[0m\u001b[0;34m.\u001b[0m\u001b[0mfit\u001b[0m\u001b[0;34m(\u001b[0m\u001b[0mX_train\u001b[0m\u001b[0;34m,\u001b[0m \u001b[0my_train\u001b[0m\u001b[0;34m)\u001b[0m\u001b[0;34m\u001b[0m\u001b[0;34m\u001b[0m\u001b[0m\n\u001b[0m",
      "\u001b[0;32m/usr/local/lib/python3.7/site-packages/sklearn/model_selection/_search.py\u001b[0m in \u001b[0;36mfit\u001b[0;34m(self, X, y, groups, **fit_params)\u001b[0m\n\u001b[1;32m    630\u001b[0m         \u001b[0mn_splits\u001b[0m \u001b[0;34m=\u001b[0m \u001b[0mcv\u001b[0m\u001b[0;34m.\u001b[0m\u001b[0mget_n_splits\u001b[0m\u001b[0;34m(\u001b[0m\u001b[0mX\u001b[0m\u001b[0;34m,\u001b[0m \u001b[0my\u001b[0m\u001b[0;34m,\u001b[0m \u001b[0mgroups\u001b[0m\u001b[0;34m)\u001b[0m\u001b[0;34m\u001b[0m\u001b[0;34m\u001b[0m\u001b[0m\n\u001b[1;32m    631\u001b[0m \u001b[0;34m\u001b[0m\u001b[0m\n\u001b[0;32m--> 632\u001b[0;31m         \u001b[0mbase_estimator\u001b[0m \u001b[0;34m=\u001b[0m \u001b[0mclone\u001b[0m\u001b[0;34m(\u001b[0m\u001b[0mself\u001b[0m\u001b[0;34m.\u001b[0m\u001b[0mestimator\u001b[0m\u001b[0;34m)\u001b[0m\u001b[0;34m\u001b[0m\u001b[0;34m\u001b[0m\u001b[0m\n\u001b[0m\u001b[1;32m    633\u001b[0m \u001b[0;34m\u001b[0m\u001b[0m\n\u001b[1;32m    634\u001b[0m         parallel = Parallel(n_jobs=self.n_jobs, verbose=self.verbose,\n",
      "\u001b[0;32m/usr/local/lib/python3.7/site-packages/sklearn/base.py\u001b[0m in \u001b[0;36mclone\u001b[0;34m(estimator, safe)\u001b[0m\n\u001b[1;32m     58\u001b[0m                             \u001b[0;34m\"it does not seem to be a scikit-learn estimator \"\u001b[0m\u001b[0;34m\u001b[0m\u001b[0;34m\u001b[0m\u001b[0m\n\u001b[1;32m     59\u001b[0m                             \u001b[0;34m\"as it does not implement a 'get_params' methods.\"\u001b[0m\u001b[0;34m\u001b[0m\u001b[0;34m\u001b[0m\u001b[0m\n\u001b[0;32m---> 60\u001b[0;31m                             % (repr(estimator), type(estimator)))\n\u001b[0m\u001b[1;32m     61\u001b[0m     \u001b[0mklass\u001b[0m \u001b[0;34m=\u001b[0m \u001b[0mestimator\u001b[0m\u001b[0;34m.\u001b[0m\u001b[0m__class__\u001b[0m\u001b[0;34m\u001b[0m\u001b[0;34m\u001b[0m\u001b[0m\n\u001b[1;32m     62\u001b[0m     \u001b[0mnew_object_params\u001b[0m \u001b[0;34m=\u001b[0m \u001b[0mestimator\u001b[0m\u001b[0;34m.\u001b[0m\u001b[0mget_params\u001b[0m\u001b[0;34m(\u001b[0m\u001b[0mdeep\u001b[0m\u001b[0;34m=\u001b[0m\u001b[0;32mFalse\u001b[0m\u001b[0;34m)\u001b[0m\u001b[0;34m\u001b[0m\u001b[0;34m\u001b[0m\u001b[0m\n",
      "\u001b[0;31mTypeError\u001b[0m: Cannot clone object '<pyss3.SS3 object at 0x12cdca8d0>' (type <class 'pyss3.SS3'>): it does not seem to be a scikit-learn estimator as it does not implement a 'get_params' methods."
     ]
    }
   ],
   "source": [
    "from sklearn.model_selection import GridSearchCV\n",
    "from sklearn.metrics import make_scorer\n",
    "\n",
    "acc_scorer = make_scorer(accuracy_score)\n",
    "parameters = {\n",
    "    's': np.linspace(.2,.8,6),\n",
    "    'l': np.linspace(.1,2,6),\n",
    "    'p': np.linspace(.5,2,6)\n",
    "}\n",
    "clf_f = GridSearchCV(clf, parameters, scoring=acc_scorer, n_jobs=-1)\n",
    "clf_f.fit(X_train, y_train)"
   ]
  },
  {
   "cell_type": "code",
   "execution_count": 23,
   "metadata": {},
   "outputs": [
    {
     "name": "stderr",
     "output_type": "stream",
     "text": [
      "\r",
      " Training:   0%|          | 0/2 [00:00<?, ?it/s]"
     ]
    },
    {
     "name": "stdout",
     "output_type": "stream",
     "text": [
      "\u001b[94m [ about to start training ]\u001b[0m\n"
     ]
    },
    {
     "name": "stderr",
     "output_type": "stream",
     "text": [
      " Training: 100%|██████████| 2/2 [00:07<00:00,  3.81s/it]\n"
     ]
    },
    {
     "name": "stdout",
     "output_type": "stream",
     "text": [
      "\u001b[94m [ pruning tries... ]\u001b[0m\n",
      "\u001b[94m [ finished --time: 8.4s ]\u001b[0m\n",
      "\u001b[94m [ about to start updating values... ]\u001b[0m\n",
      "\u001b[94m [ caching lv values ]\u001b[0m\n",
      "\u001b[94m    [ lv values for 0 (neg) ]\u001b[0m\n",
      "\u001b[94m    [ lv values for 1 (pos) ]\u001b[0m\n",
      "\u001b[94m [ caching sg values ]\u001b[0m\n",
      "\u001b[94m    [ sg values for 0 (neg) ]\u001b[0m\n",
      "\u001b[94m    [ sg values for 1 (pos) ]\u001b[0m\n",
      "\u001b[94m[ caching gv values ]\u001b[0m\n",
      "\u001b[94m    [ gv values for 0 (neg) ]\u001b[0m\n",
      "\u001b[94m    [ gv values for 1 (pos) ]\u001b[0m\n",
      "\u001b[94m [ updating max gv values ]\u001b[0m\n",
      "\u001b[94m    [ max gv values for 0 (neg) ]\u001b[0m\n",
      "\u001b[94m    [ max gv values for 1 (pos) ]\u001b[0m\n",
      "\u001b[94m [ max gv values have been updated ]\u001b[0m\n",
      "\u001b[94m [ caching confidence values (cvs) ]\u001b[0m\n",
      "\u001b[94m    [ cvs for 0 (neg) ]\u001b[0m\n",
      "\u001b[94m    [ cvs for 1 (pos) ]\u001b[0m\n"
     ]
    },
    {
     "name": "stderr",
     "output_type": "stream",
     "text": [
      " Classification:   2%|▏         | 9/402 [00:00<00:04, 81.42it/s]"
     ]
    },
    {
     "name": "stdout",
     "output_type": "stream",
     "text": [
      "\u001b[94m [ finished --time: 3.3s ]\u001b[0m\n",
      "\u001b[94m [ default category was automatically set to 'pos' (the most probable one) ]\u001b[0m\n",
      "\u001b[94m [ about to start classifying test documents ]\u001b[0m\n"
     ]
    },
    {
     "name": "stderr",
     "output_type": "stream",
     "text": [
      " Classification: 100%|██████████| 402/402 [00:07<00:00, 56.20it/s]"
     ]
    },
    {
     "name": "stdout",
     "output_type": "stream",
     "text": [
      "\u001b[94m [ finished --time: 7.2s ]\u001b[0m\n",
      "Accuracy: 0.9427860696517413\n"
     ]
    },
    {
     "name": "stderr",
     "output_type": "stream",
     "text": [
      "\n"
     ]
    }
   ],
   "source": [
    "clf.set_hyperparameters(*(0.2, 0.48, 0.8))\n",
    "clf.fit(X_train, y_train, n_grams=3) \n",
    "y_pred = clf.predict(X_test)\n",
    "print(\"Accuracy:\", accuracy_score(y_pred, y_test))"
   ]
  },
  {
   "cell_type": "code",
   "execution_count": 25,
   "metadata": {},
   "outputs": [
    {
     "name": "stdout",
     "output_type": "stream",
     "text": [
      "\u001b[94m[ saving model (ss3_models/model.ss3m)... ]\u001b[0m\u001b[94m[ (1.4s) ]\u001b[0m\n"
     ]
    }
   ],
   "source": [
    "clf.save_model()"
   ]
  },
  {
   "cell_type": "code",
   "execution_count": 30,
   "metadata": {},
   "outputs": [
    {
     "name": "stdout",
     "output_type": "stream",
     "text": [
      "\u001b[94m[ loading 'model' model from disk... ]\u001b[0m\n",
      "\u001b[94m[ (1.3s) ]\u001b[0m\n",
      "(0.2, 0.48, 0.8, 0.0)\n"
     ]
    }
   ],
   "source": [
    "clf = SS3()\n",
    "\n",
    "clf.set_hyperparameters(*(0.3, 0.28, 0.18))\n",
    "clf.load_model()\n",
    "print(clf.get_hyperparameters())"
   ]
  },
  {
   "cell_type": "code",
   "execution_count": null,
   "metadata": {},
   "outputs": [],
   "source": []
  }
 ],
 "metadata": {
  "kernelspec": {
   "display_name": "Python 3",
   "language": "python",
   "name": "python3"
  },
  "language_info": {
   "codemirror_mode": {
    "name": "ipython",
    "version": 3
   },
   "file_extension": ".py",
   "mimetype": "text/x-python",
   "name": "python",
   "nbconvert_exporter": "python",
   "pygments_lexer": "ipython3",
   "version": "3.7.5"
  }
 },
 "nbformat": 4,
 "nbformat_minor": 2
}

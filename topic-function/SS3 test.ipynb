{
 "cells": [
  {
   "cell_type": "code",
   "execution_count": 3,
   "metadata": {},
   "outputs": [
    {
     "name": "stderr",
     "output_type": "stream",
     "text": [
      "/usr/local/Cellar/python/3.7.5/Frameworks/Python.framework/Versions/3.7/lib/python3.7/importlib/_bootstrap.py:219: RuntimeWarning: numpy.ufunc size changed, may indicate binary incompatibility. Expected 216, got 192\n",
      "  return f(*args, **kwds)\n",
      "/usr/local/Cellar/python/3.7.5/Frameworks/Python.framework/Versions/3.7/lib/python3.7/importlib/_bootstrap.py:219: RuntimeWarning: numpy.ufunc size changed, may indicate binary incompatibility. Expected 216, got 192\n",
      "  return f(*args, **kwds)\n"
     ]
    }
   ],
   "source": [
    "from pyss3 import SS3\n",
    "from pyss3.util import Dataset\n",
    "from pyss3.server import Server\n",
    "import pandas as pd \n",
    "import numpy as np\n",
    "\n",
    "from sklearn.metrics import accuracy_score"
   ]
  },
  {
   "cell_type": "code",
   "execution_count": 29,
   "metadata": {},
   "outputs": [],
   "source": [
    "import glob \n",
    "review_file = \"/Users/jakubmojsiejuk/Documents/agh/filmweb-nlp/reviews_for_bert*.csv\"\n",
    "\n",
    "reviews = pd.DataFrame()\n",
    "for rev_file in glob.glob(review_file):\n",
    "    r = pd.read_csv(rev_file)\n",
    "    reviews = pd.concat([reviews, r])\n",
    "    \n",
    "msk = np.random.rand(len(reviews)) < 0.7\n",
    "reviews['sent'] = reviews['rating'].apply(lambda x: 'pos' if x > 5 else 'neg')\n",
    "X_train, y_train = reviews['content'][msk].tolist(), reviews['sent'][msk].tolist()\n",
    "X_test, y_test = reviews['content'][~msk].tolist(), reviews['sent'][~msk].tolist()"
   ]
  },
  {
   "cell_type": "code",
   "execution_count": 26,
   "metadata": {},
   "outputs": [
    {
     "name": "stdout",
     "output_type": "stream",
     "text": [
      "66.89828218490639 5181\n"
     ]
    }
   ],
   "source": [
    "reviews['sent'] = (reviews['rating'] > 5)\n",
    "s = np.sum(reviews['sent'])\n",
    "\n",
    "print(s*100/len(reviews), len(reviews))"
   ]
  },
  {
   "cell_type": "code",
   "execution_count": 8,
   "metadata": {},
   "outputs": [
    {
     "name": "stdout",
     "output_type": "stream",
     "text": [
      "Smoothness(s): 0.45\n",
      "Significance(l): 0.5\n",
      "Sanction(p): 1\n"
     ]
    }
   ],
   "source": [
    "clf = SS3()\n",
    "s, l, p, _ = clf.get_hyperparameters()\n",
    "\n",
    "print(\"Smoothness(s):\", s)\n",
    "print(\"Significance(l):\", l)\n",
    "print(\"Sanction(p):\", p)"
   ]
  },
  {
   "cell_type": "code",
   "execution_count": 30,
   "metadata": {},
   "outputs": [
    {
     "name": "stderr",
     "output_type": "stream",
     "text": [
      " Training: 100%|██████████| 2/2 [00:15<00:00,  7.73s/it]\n"
     ]
    }
   ],
   "source": [
    "clf.fit(X_train, y_train)"
   ]
  },
  {
   "cell_type": "code",
   "execution_count": 32,
   "metadata": {},
   "outputs": [
    {
     "name": "stderr",
     "output_type": "stream",
     "text": [
      " Classification: 100%|██████████| 1540/1540 [00:25<00:00, 60.16it/s]"
     ]
    },
    {
     "name": "stdout",
     "output_type": "stream",
     "text": [
      "Accuracy: 0.7337662337662337\n"
     ]
    },
    {
     "name": "stderr",
     "output_type": "stream",
     "text": [
      "\n"
     ]
    }
   ],
   "source": [
    "y_pred = clf.predict(X_test)\n",
    "print(\"Accuracy:\", accuracy_score(y_pred, y_test))"
   ]
  },
  {
   "cell_type": "code",
   "execution_count": 33,
   "metadata": {},
   "outputs": [
    {
     "name": "stderr",
     "output_type": "stream",
     "text": [
      " Training: 100%|██████████| 2/2 [00:26<00:00, 13.27s/it]\n",
      " Classification: 100%|██████████| 1540/1540 [00:28<00:00, 53.33it/s]"
     ]
    },
    {
     "name": "stdout",
     "output_type": "stream",
     "text": [
      "Accuracy: 0.7350649350649351\n"
     ]
    },
    {
     "name": "stderr",
     "output_type": "stream",
     "text": [
      "\n"
     ]
    }
   ],
   "source": [
    "clf.fit(X_train, y_train, n_grams=3) \n",
    "y_pred = clf.predict(X_test)\n",
    "print(\"Accuracy:\", accuracy_score(y_pred, y_test))"
   ]
  },
  {
   "cell_type": "code",
   "execution_count": 34,
   "metadata": {},
   "outputs": [
    {
     "name": "stderr",
     "output_type": "stream",
     "text": [
      " Training: 100%|██████████| 2/2 [00:15<00:00,  7.75s/it]\n",
      " Classification: 100%|██████████| 1540/1540 [00:28<00:00, 54.29it/s]\n",
      " Training:   0%|          | 0/2 [00:00<?, ?it/s]"
     ]
    },
    {
     "name": "stdout",
     "output_type": "stream",
     "text": [
      "Accuracy: 0.7350649350649351\n"
     ]
    },
    {
     "name": "stderr",
     "output_type": "stream",
     "text": [
      " Training: 100%|██████████| 2/2 [00:19<00:00,  9.89s/it]\n",
      " Classification: 100%|██████████| 1540/1540 [00:26<00:00, 57.89it/s]\n",
      " Training:   0%|          | 0/2 [00:00<?, ?it/s]"
     ]
    },
    {
     "name": "stdout",
     "output_type": "stream",
     "text": [
      "Accuracy: 0.7357142857142858\n"
     ]
    },
    {
     "name": "stderr",
     "output_type": "stream",
     "text": [
      " Training: 100%|██████████| 2/2 [00:22<00:00, 11.45s/it]\n",
      " Classification: 100%|██████████| 1540/1540 [00:27<00:00, 55.67it/s]\n",
      " Training:   0%|          | 0/2 [00:00<?, ?it/s]"
     ]
    },
    {
     "name": "stdout",
     "output_type": "stream",
     "text": [
      "Accuracy: 0.7357142857142858\n"
     ]
    },
    {
     "name": "stderr",
     "output_type": "stream",
     "text": [
      " Training: 100%|██████████| 2/2 [00:27<00:00, 13.52s/it]\n",
      " Classification: 100%|██████████| 1540/1540 [00:26<00:00, 57.23it/s]"
     ]
    },
    {
     "name": "stdout",
     "output_type": "stream",
     "text": [
      "Accuracy: 0.7357142857142858\n"
     ]
    },
    {
     "name": "stderr",
     "output_type": "stream",
     "text": [
      "\n"
     ]
    }
   ],
   "source": [
    "for ngram in range(1, 5):\n",
    "    clf.fit(X_train, y_train, n_grams=ngram) \n",
    "    y_pred = clf.predict(X_test)\n",
    "    print(\"Accuracy:\", accuracy_score(y_pred, y_test))"
   ]
  },
  {
   "cell_type": "code",
   "execution_count": 48,
   "metadata": {},
   "outputs": [
    {
     "name": "stderr",
     "output_type": "stream",
     "text": [
      "/usr/local/lib/python3.7/site-packages/ipykernel_launcher.py:4: SettingWithCopyWarning: \n",
      "A value is trying to be set on a copy of a slice from a DataFrame.\n",
      "Try using .loc[row_indexer,col_indexer] = value instead\n",
      "\n",
      "See the caveats in the documentation: http://pandas.pydata.org/pandas-docs/stable/user_guide/indexing.html#returning-a-view-versus-a-copy\n",
      "  after removing the cwd from sys.path.\n"
     ]
    }
   ],
   "source": [
    "# more radical reviews\n",
    "radical_reviews = reviews.loc[(reviews['rating'] <= 3) | (reviews['rating'] >= 8)]\n",
    "msk = np.random.rand(len(radical_reviews)) < 0.7\n",
    "radical_reviews['sent'] = radical_reviews['rating'].apply(lambda x: 'pos' if x > 5 else 'neg')\n",
    "X_train, y_train = radical_reviews['content'][msk].tolist(), radical_reviews['sent'][msk].tolist()\n",
    "X_test, y_test = radical_reviews['content'][~msk].tolist(), radical_reviews['sent'][~msk].tolist()"
   ]
  },
  {
   "cell_type": "code",
   "execution_count": 56,
   "metadata": {},
   "outputs": [
    {
     "name": "stderr",
     "output_type": "stream",
     "text": [
      " Training: 100%|██████████| 2/2 [00:04<00:00,  2.04s/it]\n",
      " Classification: 100%|██████████| 418/418 [00:08<00:00, 51.04it/s]\n",
      " Training:   0%|          | 0/2 [00:00<?, ?it/s]"
     ]
    },
    {
     "name": "stdout",
     "output_type": "stream",
     "text": [
      "Accuracy: 0.8086124401913876\n"
     ]
    },
    {
     "name": "stderr",
     "output_type": "stream",
     "text": [
      " Training: 100%|██████████| 2/2 [00:05<00:00,  2.73s/it]\n",
      " Classification: 100%|██████████| 418/418 [00:07<00:00, 54.64it/s]\n",
      " Training:   0%|          | 0/2 [00:00<?, ?it/s]"
     ]
    },
    {
     "name": "stdout",
     "output_type": "stream",
     "text": [
      "Accuracy: 0.8181818181818182\n"
     ]
    },
    {
     "name": "stderr",
     "output_type": "stream",
     "text": [
      " Training: 100%|██████████| 2/2 [00:05<00:00,  2.79s/it]\n",
      " Classification: 100%|██████████| 418/418 [00:07<00:00, 54.67it/s]\n",
      " Training:   0%|          | 0/2 [00:00<?, ?it/s]"
     ]
    },
    {
     "name": "stdout",
     "output_type": "stream",
     "text": [
      "Accuracy: 0.8181818181818182\n"
     ]
    },
    {
     "name": "stderr",
     "output_type": "stream",
     "text": [
      " Training: 100%|██████████| 2/2 [00:07<00:00,  3.79s/it]\n",
      " Classification: 100%|██████████| 418/418 [00:07<00:00, 53.86it/s]"
     ]
    },
    {
     "name": "stdout",
     "output_type": "stream",
     "text": [
      "Accuracy: 0.8205741626794258\n"
     ]
    },
    {
     "name": "stderr",
     "output_type": "stream",
     "text": [
      "\n"
     ]
    }
   ],
   "source": [
    "clf.set_hyperparameters(s=.44, l=.48, p=1.1)\n",
    "for ngram in range(1, 5):\n",
    "    clf.fit(X_train, y_train, n_grams=ngram) \n",
    "    y_pred = clf.predict(X_test)\n",
    "    print(\"Accuracy:\", accuracy_score(y_pred, y_test))"
   ]
  },
  {
   "cell_type": "code",
   "execution_count": 54,
   "metadata": {},
   "outputs": [
    {
     "data": {
      "text/plain": [
       "8     617\n",
       "3     386\n",
       "9     152\n",
       "2     145\n",
       "1      32\n",
       "10     26\n",
       "Name: rating, dtype: int64"
      ]
     },
     "execution_count": 54,
     "metadata": {},
     "output_type": "execute_result"
    }
   ],
   "source": [
    "radical_reviews['rating'].value_counts()"
   ]
  },
  {
   "cell_type": "code",
   "execution_count": null,
   "metadata": {},
   "outputs": [],
   "source": []
  }
 ],
 "metadata": {
  "kernelspec": {
   "display_name": "Python 3",
   "language": "python",
   "name": "python3"
  },
  "language_info": {
   "codemirror_mode": {
    "name": "ipython",
    "version": 3
   },
   "file_extension": ".py",
   "mimetype": "text/x-python",
   "name": "python",
   "nbconvert_exporter": "python",
   "pygments_lexer": "ipython3",
   "version": "3.7.5"
  }
 },
 "nbformat": 4,
 "nbformat_minor": 2
}

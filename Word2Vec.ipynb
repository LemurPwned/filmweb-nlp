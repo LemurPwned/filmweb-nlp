{
 "cells": [
  {
   "cell_type": "code",
   "execution_count": null,
   "metadata": {},
   "outputs": [],
   "source": [
    "import gensim\n",
    "import numpy as np\n",
    "import matplotlib.pyplot as plt\n",
    "from tqdm import tqdm"
   ]
  },
  {
   "cell_type": "code",
   "execution_count": null,
   "metadata": {},
   "outputs": [],
   "source": [
    "from stemmer import Stemmer"
   ]
  },
  {
   "cell_type": "code",
   "execution_count": null,
   "metadata": {},
   "outputs": [],
   "source": [
    "from gensim.test.utils import datapath\n",
    "from gensim import utils\n",
    "import pandas as pd\n",
    "\n",
    "class MyCorpus(object):\n",
    "    \"\"\"This class implements an interator that yields sentences (lists of str) required by gensim. It also performs some preprocessing like: stemming, removing stop words, splittin text to words and finally converting it to numpy arrays for further processing.\"\"\"\n",
    "    \n",
    "    stop_list = ['.', ',', '\"', ')', '(', ':', ';', '?', '!', '\\'', '–', '-', '{', '}', '\\xa0']\n",
    "    \n",
    "    def __init__(self):\n",
    "        self.df = pd.read_csv(\"data/short_reviews_bert_10_1_50.csv\")\n",
    "        self.df.drop_duplicates(inplace=True)\n",
    "        self.stemmer = Stemmer(\"root_dict.json\")\n",
    "        \n",
    "        self.df_copy = self.df.copy()\n",
    "        self.df_copy['content'] = self.df_copy['content'].apply(self.sanitize_text)\n",
    "        self.X = self.df_copy['content'].to_numpy()\n",
    "        self.y = self.df_copy['rating'].to_numpy()\n",
    "        \n",
    "    def __iter__(self):\n",
    "        for row in self.X:\n",
    "            yield row.split(\" \")       \n",
    "        \n",
    "    def sanitize_text(self, text):\n",
    "        temp = text.lower()\n",
    "        for element in MyCorpus.stop_list:\n",
    "            temp = temp.replace(element, \" \")\n",
    "\n",
    "        for j in range(10):\n",
    "            temp = temp.replace(\"  \", \" \")\n",
    "\n",
    "        temp = temp.split(\" \")\n",
    "        stemmed_text = \"\"\n",
    "        for word in temp:\n",
    "            found = self.stemmer.find(word) \n",
    "            if found:\n",
    "                stemmed_text += found.replace(\" \",\"\") #sometimes word has space in the end\n",
    "            else:\n",
    "                stemmed_text += word\n",
    "            stemmed_text += \" \"\n",
    "\n",
    "        return stemmed_text[:-1]\n",
    "        \n",
    "    \n",
    "#     def __iter__(self):\n",
    "#         corpus_path = datapath('lee_background.cor')\n",
    "#         for line in open(corpus_path):\n",
    "#             # assume there's one document per line, tokens separated by whitespace\n",
    "#             yield utils.simple_preprocess(line)"
   ]
  },
  {
   "cell_type": "code",
   "execution_count": null,
   "metadata": {},
   "outputs": [],
   "source": [
    "c = MyCorpus()\n",
    "#create instance of class"
   ]
  },
  {
   "cell_type": "code",
   "execution_count": null,
   "metadata": {},
   "outputs": [],
   "source": [
    "#check if iterator is working properly\n",
    "for i in c:\n",
    "    print(i)\n",
    "    break"
   ]
  },
  {
   "cell_type": "code",
   "execution_count": null,
   "metadata": {},
   "outputs": [],
   "source": [
    "model = gensim.models.Word2Vec(sentences=c, min_count=30, size=300, workers=12, window=5)\n",
    "# create gensim Word2Vec and train it with our data\n",
    "# parameters:\n",
    "# min_count - minimal count of occurences in whole dataset to be considered as valid input (we wanted to remove some outliers)\n",
    "# size - number of dimensions that data words will be represented in\n",
    "# window - window size for Word2Vec algorithm"
   ]
  },
  {
   "cell_type": "code",
   "execution_count": null,
   "metadata": {},
   "outputs": [],
   "source": [
    "from collections import defaultdict\n",
    "X = []\n",
    "y = c.y\n",
    "\n",
    "index_to_word = defaultdict(str)\n",
    "\n",
    "#converts output from gensim to list, for further processing and store index_to_word from gensim notation\n",
    "for i, word in enumerate(model.wv.vocab):\n",
    "    X.append(model.wv[word])\n",
    "    index_to_word[i] = word\n",
    "\n"
   ]
  },
  {
   "cell_type": "code",
   "execution_count": null,
   "metadata": {},
   "outputs": [],
   "source": [
    "#convert from list to numpy array\n",
    "X = np.array(X)"
   ]
  },
  {
   "cell_type": "code",
   "execution_count": null,
   "metadata": {},
   "outputs": [],
   "source": [
    "print(X.shape)"
   ]
  },
  {
   "cell_type": "code",
   "execution_count": null,
   "metadata": {},
   "outputs": [],
   "source": [
    "len(c.df)"
   ]
  },
  {
   "cell_type": "code",
   "execution_count": null,
   "metadata": {},
   "outputs": [],
   "source": [
    "from sklearn.neighbors import NearestNeighbors\n",
    "#create and fit NearestNeighbors model to find N nearest friends in 300 dimensional space of words from Word2Vec\n",
    "N = 10\n",
    "nn = NearestNeighbors(n_neighbors = N)\n",
    "nn.fit(X)"
   ]
  },
  {
   "cell_type": "code",
   "execution_count": null,
   "metadata": {},
   "outputs": [],
   "source": [
    "#these words \"przeciętniak\" and \"pokochać\" are taken from FinalAnalysis notebook where we found that these are propably highly emotional. They have very high and very low average rating respectively. The idea is that instead of manually picking positive and negative words, we picke one for each of these groups and then with Word2Vec and KNN we will find groups of words that are positive or negative. This way we can later perform sentiment analysis without need to manually search for best words representing positive/negaitve sentiment.\n",
    "\n",
    "search1 = np.array(model.wv['gówno'])\n",
    "search2 = np.array(model.wv['widowisko'])\n",
    "search1 = search1.reshape(1, -1)\n",
    "search2 = search2.reshape(1, -1)\n",
    "\n",
    "dist1, out1 = nn.kneighbors(search1)\n",
    "dist2, out2 = nn.kneighbors(search2)"
   ]
  },
  {
   "cell_type": "code",
   "execution_count": null,
   "metadata": {},
   "outputs": [],
   "source": [
    "print(\"negatywne===============================================\")\n",
    "negative = []\n",
    "for i, index in enumerate(out1[0]):\n",
    "    print(index_to_word[index], dist1[0][i])\n",
    "    negative.append(index_to_word[index])\n",
    "\n",
    "    \n",
    "print(\"pozytywne===============================================\")\n",
    "positive = []\n",
    "for i, index in enumerate(out2[0]):\n",
    "    print(index_to_word[index], dist2[0][i])\n",
    "    positive.append(index_to_word[index])"
   ]
  },
  {
   "cell_type": "code",
   "execution_count": null,
   "metadata": {},
   "outputs": [],
   "source": [
    "np.linalg.norm(np.array(model.wv['gówno']) - np.array(model.wv['widowisko']))\n",
    "\n",
    "#it can be seen here that on average negative words have Euclidean distance to \"przeciętniak\" about 1.1, and positive to \"pokochać\" about 1.75"
   ]
  },
  {
   "cell_type": "code",
   "execution_count": null,
   "metadata": {},
   "outputs": [],
   "source": []
  },
  {
   "cell_type": "code",
   "execution_count": 76,
   "metadata": {},
   "outputs": [
    {
     "name": "stderr",
     "output_type": "stream",
     "text": "100%|██████████| 5000/5000 [00:17<00:00, 280.67it/s]\n"
    }
   ],
   "source": [
    "pd.options.display.max_colwidth = 1500\n",
    "chosen_y = []\n",
    "\n",
    "#store in lists representations of positive and negative words\n",
    "positive_representations = [model.wv[x].reshape(1, -1)[0] for x in positive]\n",
    "negative_representations = [model.wv[x].reshape(1, -1)[0] for x in negative]\n",
    "\n",
    "\n",
    "def find_closest(word):\n",
    "    '''Function calculating sum of distances to positive words and to negative words and normalizing it to N.'''\n",
    "    try:\n",
    "        w1 = np.array(model.wv[word])\n",
    "    except:\n",
    "        return None\n",
    "    pos_avg = 0\n",
    "    neg_avg = 0\n",
    "    mins = np.linalg.norm(w1 - positive_representations[0])\n",
    "    for vec in positive_representations[1:]:\n",
    "         pos_avg += np.linalg.norm(w1 - vec)\n",
    "        \n",
    "    for vec in negative_representations:\n",
    "        neg_avg -= np.linalg.norm(w1 - vec)\n",
    "\n",
    "\n",
    "    return 1/(pos_avg/N) + 1/(neg_avg/N)\n",
    "\n",
    "outcome = []\n",
    "#for first 5000 comments calculate output\n",
    "for i, comment in enumerate(tqdm(c.X[:5000])):\n",
    "    sums = 0\n",
    "    for word in comment.split(\" \"):\n",
    "        out = find_closest(word)\n",
    "        if out is None: continue\n",
    "        sums += out\n",
    "    outcome.append([c.df.iloc[i]['content'], c.df.iloc[i]['rating'], sums/len(comment.split(\" \"))])\n"
   ]
  },
  {
   "cell_type": "code",
   "execution_count": 80,
   "metadata": {},
   "outputs": [],
   "source": [
    "df_out = pd.DataFrame(outcome)"
   ]
  },
  {
   "cell_type": "code",
   "execution_count": 78,
   "metadata": {},
   "outputs": [
    {
     "data": {
      "text/html": "<div>\n<style scoped>\n    .dataframe tbody tr th:only-of-type {\n        vertical-align: middle;\n    }\n\n    .dataframe tbody tr th {\n        vertical-align: top;\n    }\n\n    .dataframe thead th {\n        text-align: right;\n    }\n</style>\n<table border=\"1\" class=\"dataframe\">\n  <thead>\n    <tr style=\"text-align: right;\">\n      <th></th>\n      <th>0</th>\n      <th>1</th>\n      <th>2</th>\n    </tr>\n  </thead>\n  <tbody>\n    <tr>\n      <th>498</th>\n      <td>Natalie- rewelacja, Jean Reno- rewelacja, Gary Oldman- wow, wow, wow ....</td>\n      <td>10</td>\n      <td>0.061332</td>\n    </tr>\n    <tr>\n      <th>4428</th>\n      <td>Zwłaszcza Russell Crowe i Jennifer Connelly zagrali znakomicie.</td>\n      <td>9</td>\n      <td>0.050307</td>\n    </tr>\n    <tr>\n      <th>2733</th>\n      <td>Marlon Brando zmiażdżył Pacino palcem. Koniec, kropka.</td>\n      <td>10</td>\n      <td>0.046059</td>\n    </tr>\n    <tr>\n      <th>4986</th>\n      <td>Genialny, ponadczasowy, przezabawny. Jak myślicie???</td>\n      <td>10</td>\n      <td>0.044811</td>\n    </tr>\n    <tr>\n      <th>3124</th>\n      <td>Przesympatyczna, przezabawna i szalona komedia, polecam. No i ten Bradley Cooper ech ...</td>\n      <td>7</td>\n      <td>0.044448</td>\n    </tr>\n    <tr>\n      <th>601</th>\n      <td>Mistrz Gary Oldman,równie dobry Jean Reno,i ta fantastyczna mała wtedy jeszcze Natalie Portman... niesamowity film...i tyle.</td>\n      <td>10</td>\n      <td>0.044368</td>\n    </tr>\n    <tr>\n      <th>1015</th>\n      <td>Ta psychodeliczna muza i scena z Bufallo Billem - niezapomniana</td>\n      <td>10</td>\n      <td>0.044112</td>\n    </tr>\n    <tr>\n      <th>3138</th>\n      <td>wybuchowa dawka śmiechu :)))zdjęcia na końcu- bezcenne ;P</td>\n      <td>8</td>\n      <td>0.043943</td>\n    </tr>\n    <tr>\n      <th>1988</th>\n      <td>Film jest rewelacyjny, nieziemskie trio: Norton, Pitt, Bonham Carter!!! Warto przeczytać także książkę!</td>\n      <td>10</td>\n      <td>0.043488</td>\n    </tr>\n    <tr>\n      <th>556</th>\n      <td>!1!Gary Oldman-\"Leon\"!2!Heat h Ledger-\"The Dark Knight\"!3!Anthony Perkins-\"Psycho\"</td>\n      <td>7</td>\n      <td>0.041759</td>\n    </tr>\n    <tr>\n      <th>704</th>\n      <td>Wspaniały, ale przytłaczający, taki smutniejszy Trainspotting.</td>\n      <td>7</td>\n      <td>0.040629</td>\n    </tr>\n    <tr>\n      <th>1523</th>\n      <td>Od lat się zastanawiam. Ogry mają warstwy, ale warstwy czego, skóry?</td>\n      <td>6</td>\n      <td>0.038712</td>\n    </tr>\n    <tr>\n      <th>1545</th>\n      <td>Najlepsze dialogi pod słońcem ;) Motyw bajki w krzywym zwierciadle cudny ;D</td>\n      <td>9</td>\n      <td>0.038266</td>\n    </tr>\n    <tr>\n      <th>2407</th>\n      <td>Piekny i poruszajacy.Swietna rola zagrana przez Bruce Willisa.</td>\n      <td>9</td>\n      <td>0.037787</td>\n    </tr>\n    <tr>\n      <th>4392</th>\n      <td>Adekwatna muzyka nadająca odpowiedni ton filmowi oraz odzwierciedlająca miejsca;)</td>\n      <td>10</td>\n      <td>0.037444</td>\n    </tr>\n    <tr>\n      <th>1025</th>\n      <td>Jodie Foster- genialna! Powinna występować we wszystkich częściach</td>\n      <td>10</td>\n      <td>0.036761</td>\n    </tr>\n    <tr>\n      <th>607</th>\n      <td>A zarazem jeden z moich ulubionych.Świetny klimat , wciągająca fabuła , znakomita reżyseria i przede wszystkim wyśmienite role Jeana Reno , Gary'ego Oldmana i Natalie Portman. Ocena moja 10/10.</td>\n      <td>10</td>\n      <td>0.036580</td>\n    </tr>\n    <tr>\n      <th>578</th>\n      <td>Najlepszy film Luca Bessona (łącznie z filmami, gdzie był tylko scenarzystą lub producentem).Najlepsza rola Jeana Reno.Najlepsza rola Gary'ego Oldmana.Jedna z najlepszych ról Natalie Potman.</td>\n      <td>10</td>\n      <td>0.036579</td>\n    </tr>\n    <tr>\n      <th>4743</th>\n      <td>Genialna kreacja Neesona, bardzo podobała mi się rola demonicznego Ralpha Fiennesa. Wiele wzruszających i przejmujących scen. Mimo wszystko ,,Pianista\" wydał mi się ciekawszy.</td>\n      <td>9</td>\n      <td>0.035944</td>\n    </tr>\n    <tr>\n      <th>1352</th>\n      <td>...po prostu oklaski.Mistrzostwo i zmysł.Wyczucie i instyknt.Tak.</td>\n      <td>9</td>\n      <td>0.035462</td>\n    </tr>\n  </tbody>\n</table>\n</div>",
      "text/plain": "                                                                                                                                                                                                      0  \\\n498                                                                                                                           Natalie- rewelacja, Jean Reno- rewelacja, Gary Oldman- wow, wow, wow ....   \n4428                                                                                                                                    Zwłaszcza Russell Crowe i Jennifer Connelly zagrali znakomicie.   \n2733                                                                                                                                             Marlon Brando zmiażdżył Pacino palcem. Koniec, kropka.   \n4986                                                                                                                                               Genialny, ponadczasowy, przezabawny. Jak myślicie???   \n3124                                                                                                           Przesympatyczna, przezabawna i szalona komedia, polecam. No i ten Bradley Cooper ech ...   \n601                                                                        Mistrz Gary Oldman,równie dobry Jean Reno,i ta fantastyczna mała wtedy jeszcze Natalie Portman... niesamowity film...i tyle.   \n1015                                                                                                                                    Ta psychodeliczna muza i scena z Bufallo Billem - niezapomniana   \n3138                                                                                                                                          wybuchowa dawka śmiechu :)))zdjęcia na końcu- bezcenne ;P   \n1988                                                                                            Film jest rewelacyjny, nieziemskie trio: Norton, Pitt, Bonham Carter!!! Warto przeczytać także książkę!   \n556                                                                                                                  !1!Gary Oldman-\"Leon\"!2!Heat h Ledger-\"The Dark Knight\"!3!Anthony Perkins-\"Psycho\"   \n704                                                                                                                                      Wspaniały, ale przytłaczający, taki smutniejszy Trainspotting.   \n1523                                                                                                                               Od lat się zastanawiam. Ogry mają warstwy, ale warstwy czego, skóry?   \n1545                                                                                                                        Najlepsze dialogi pod słońcem ;) Motyw bajki w krzywym zwierciadle cudny ;D   \n2407                                                                                                                                     Piekny i poruszajacy.Swietna rola zagrana przez Bruce Willisa.   \n4392                                                                                                                  Adekwatna muzyka nadająca odpowiedni ton filmowi oraz odzwierciedlająca miejsca;)   \n1025                                                                                                                                 Jodie Foster- genialna! Powinna występować we wszystkich częściach   \n607   A zarazem jeden z moich ulubionych.Świetny klimat , wciągająca fabuła , znakomita reżyseria i przede wszystkim wyśmienite role Jeana Reno , Gary'ego Oldmana i Natalie Portman. Ocena moja 10/10.   \n578      Najlepszy film Luca Bessona (łącznie z filmami, gdzie był tylko scenarzystą lub producentem).Najlepsza rola Jeana Reno.Najlepsza rola Gary'ego Oldmana.Jedna z najlepszych ról Natalie Potman.   \n4743                    Genialna kreacja Neesona, bardzo podobała mi się rola demonicznego Ralpha Fiennesa. Wiele wzruszających i przejmujących scen. Mimo wszystko ,,Pianista\" wydał mi się ciekawszy.   \n1352                                                                                                                                  ...po prostu oklaski.Mistrzostwo i zmysł.Wyczucie i instyknt.Tak.   \n\n       1         2  \n498   10  0.061332  \n4428   9  0.050307  \n2733  10  0.046059  \n4986  10  0.044811  \n3124   7  0.044448  \n601   10  0.044368  \n1015  10  0.044112  \n3138   8  0.043943  \n1988  10  0.043488  \n556    7  0.041759  \n704    7  0.040629  \n1523   6  0.038712  \n1545   9  0.038266  \n2407   9  0.037787  \n4392  10  0.037444  \n1025  10  0.036761  \n607   10  0.036580  \n578   10  0.036579  \n4743   9  0.035944  \n1352   9  0.035462  "
     },
     "execution_count": 78,
     "metadata": {},
     "output_type": "execute_result"
    }
   ],
   "source": [
    "# 20 most positive comments by our algorithm\n",
    "df_out.sort_values(by=2, ascending=False).head(20)"
   ]
  },
  {
   "cell_type": "code",
   "execution_count": 82,
   "metadata": {},
   "outputs": [
    {
     "data": {
      "text/html": "<div>\n<style scoped>\n    .dataframe tbody tr th:only-of-type {\n        vertical-align: middle;\n    }\n\n    .dataframe tbody tr th {\n        vertical-align: top;\n    }\n\n    .dataframe thead th {\n        text-align: right;\n    }\n</style>\n<table border=\"1\" class=\"dataframe\">\n  <thead>\n    <tr style=\"text-align: right;\">\n      <th></th>\n      <th>0</th>\n      <th>1</th>\n      <th>2</th>\n    </tr>\n  </thead>\n  <tbody>\n    <tr>\n      <th>1783</th>\n      <td>Do cholery, dlaczego nie ma wersji bluray z polskimi napisami ???? Polscy dystrybutorzy wolą wydawać szmiry na błękitnych krążkach ale o takim filmie \"zapomnieli\". Żenada!!!!</td>\n      <td>9</td>\n      <td>-0.001507</td>\n    </tr>\n    <tr>\n      <th>3654</th>\n      <td>cuuuuuuuuudoooooooooooooooo!!! !!!!kochamgoooooooooo</td>\n      <td>9</td>\n      <td>0.000000</td>\n    </tr>\n    <tr>\n      <th>4291</th>\n      <td>ten film nie zasluzyl na zadne wyróznienia!! jest nudny i przewidywalny jak zupa fasolowa. Stracilem czas ogladaja to indyjskie badziewie</td>\n      <td>2</td>\n      <td>0.000258</td>\n    </tr>\n    <tr>\n      <th>3168</th>\n      <td>NIe pojmuje tych ocen, toz to szmira pierwszego kalibru, ani razu sie nie usmiechnelam, ani ja ani nikt z mojej rodziny...</td>\n      <td>3</td>\n      <td>0.000391</td>\n    </tr>\n    <tr>\n      <th>4853</th>\n      <td>proponuję nie odpisywać na jego żałosne prowokacje, niech jego tematy spadną na sam dół</td>\n      <td>8</td>\n      <td>0.000811</td>\n    </tr>\n    <tr>\n      <th>1669</th>\n      <td>shrek to moja współlokatorka też jest zielona i śmierdzi gównem</td>\n      <td>9</td>\n      <td>0.001136</td>\n    </tr>\n    <tr>\n      <th>2263</th>\n      <td>nudny,jakies pierdoły opowiadaja, lepiej obejrzec cos mądrego na przykład  wiadomosci w tvp pierdół nie  bede słuchał kilka ciekawych scen było 2/10 daje</td>\n      <td>2</td>\n      <td>0.001475</td>\n    </tr>\n    <tr>\n      <th>4998</th>\n      <td>Sexmisji może najwyżej podskoczyć jeszcze MIś ewentualnie...</td>\n      <td>9</td>\n      <td>0.002346</td>\n    </tr>\n    <tr>\n      <th>999</th>\n      <td>no i jednak miałem racje ci kretyni z administracji wszystko kasują uprawnienia itd ,przypadkiem takiego obłąkanego kolesia jest socrer_fw ... patrze po innych jego wypowiedziach tam użytkownikom oceny znikają tylko temu debilowi nie.HAHAHAHA ale sie filmweb kompromituje !!!!!!!!!!!!!! sądzicie że ludzie nie potrafia żyć bez filmwebu żeby robić takie jajca ? admini filmweba to jacyś durnie.Wszystkim ...</td>\n      <td>10</td>\n      <td>0.002494</td>\n    </tr>\n    <tr>\n      <th>4109</th>\n      <td>Ich habe eine Pistole auf Ihre Eier gerichtet seit Sie hier sitzen.Brylant aktorski!</td>\n      <td>9</td>\n      <td>0.002715</td>\n    </tr>\n    <tr>\n      <th>3186</th>\n      <td>Nie rozumie oceny, film jest beznadziejny dawno takiego szajsu nie ogladalem, chyba nawet razu sie nie zasmialem, bo mowa tu o komedii</td>\n      <td>3</td>\n      <td>0.002753</td>\n    </tr>\n    <tr>\n      <th>2584</th>\n      <td>ZAPRASZAM -http://tohavefabulousday.blog spot.com/2014/04/nietykalni.ht ml</td>\n      <td>9</td>\n      <td>0.003585</td>\n    </tr>\n    <tr>\n      <th>2732</th>\n      <td>https://paranormalpl.wordpress .com/2010/09/05/duch-na-filmow ym-pogrzebie/</td>\n      <td>9</td>\n      <td>0.003709</td>\n    </tr>\n    <tr>\n      <th>2300</th>\n      <td>http://images.wikia.com/fanows ka-my-little-pony/pl/images/a/ a0/Rzygam-tecza.jpg</td>\n      <td>9</td>\n      <td>0.003844</td>\n    </tr>\n    <tr>\n      <th>311</th>\n      <td>To jaki według Ciebie film zasługuje na nr 1  nie mów mi ze takie gówna jak Batman Władca Pierścienie czy Harry Poter albo nawet Gwiezdne Wojny</td>\n      <td>10</td>\n      <td>0.003892</td>\n    </tr>\n    <tr>\n      <th>1718</th>\n      <td>http://www.filmweb.pl/Szeregow iec.Ryan/photos/183095wersja rezyserska?jesli tak pomozcie mi znalezc!</td>\n      <td>9</td>\n      <td>0.003931</td>\n    </tr>\n    <tr>\n      <th>1462</th>\n      <td>A nie jakieś łowcy andrody czy inne alieny nostroma</td>\n      <td>3</td>\n      <td>0.003954</td>\n    </tr>\n    <tr>\n      <th>2079</th>\n      <td>http://brudnopisarz.blog.pl/20 17/04/18/dlaczego-kochamy-tita nica/</td>\n      <td>10</td>\n      <td>0.004049</td>\n    </tr>\n    <tr>\n      <th>3683</th>\n      <td>hobbity dołem , GOLLUM na króla ( ewentualnie saruman )Wiwat gollumowi (czyli jaaaaaaaaaaaaaaaaaaaaaaa ) hi hi hi hi .</td>\n      <td>7</td>\n      <td>0.004207</td>\n    </tr>\n    <tr>\n      <th>1631</th>\n      <td>Ciekawy demothttp://demotywatory.pl/2099966 /Lord-Farquaad:)</td>\n      <td>10</td>\n      <td>0.004220</td>\n    </tr>\n    <tr>\n      <th>2176</th>\n      <td>Musiałem się tu wpisać;).Film ten mogę oglądać naokrągło.Do żadnego tak nie wracam.Tysiące razy oglądany a dalej się nie nudzi.\"...Amerykańskie imiona gówno znaczą\" ;)</td>\n      <td>10</td>\n      <td>0.004432</td>\n    </tr>\n    <tr>\n      <th>2187</th>\n      <td>Musiałem się tu wpisać;).Film ten mogę oglądać naokrągło.Do żadnego tak nie wracam.Tysiące razy oglądany a dalej się nie nudzi. \"...Amerykańskie imiona gówno znaczą\" ;)</td>\n      <td>10</td>\n      <td>0.004432</td>\n    </tr>\n    <tr>\n      <th>818</th>\n      <td>Wstyd! A kiedyś był w okolicach 50 miejsca, co to się stało? Najazd gimbusów?</td>\n      <td>10</td>\n      <td>0.004521</td>\n    </tr>\n    <tr>\n      <th>1266</th>\n      <td>Dawno mnie tu nie bylo, ale Avatar jak byl gównem tak dalej nim jest  i na pewno pozostanie :)</td>\n      <td>1</td>\n      <td>0.004521</td>\n    </tr>\n    <tr>\n      <th>883</th>\n      <td>skad morfeusz wiedzial ,ze neo to wybraniec?  na jakiej podstawie mieli przypuszczenia ,ze ktos moze byc wybrancem?</td>\n      <td>9</td>\n      <td>0.004526</td>\n    </tr>\n    <tr>\n      <th>3884</th>\n      <td>I to jest film. A nie jacys sasiedzi czy inna bzdura.</td>\n      <td>8</td>\n      <td>0.004562</td>\n    </tr>\n    <tr>\n      <th>3921</th>\n      <td>Wyświetlony w 41 krajach: Wielka Brytania, Niemcy, Polska, Francja, Rosja, Belgia, Hiszpania, Izrael, Brazylia, Szwajcaria, Grecja, Austria, Włochy, Japonia, Holandia, Stany Zjednoczone, Korea Południowa, Kanada, Czechy, Turcja, Argentyna, Australia, Słowenia, Islandia, Hong Hong, Węgry, Meksyk, Chile, Bermuda, Finlandia, Peru, Kazachstan, Słowacja, Dania, Litwa, ...</td>\n      <td>10</td>\n      <td>0.004607</td>\n    </tr>\n    <tr>\n      <th>4232</th>\n      <td>Czemu benkarty usuwały nazistom włosy z głowy? (razem z mięskiem)</td>\n      <td>8</td>\n      <td>0.004669</td>\n    </tr>\n    <tr>\n      <th>3940</th>\n      <td>Po prostu nie dalo się wymyslić głupszego filmu - tragedia</td>\n      <td>1</td>\n      <td>0.004824</td>\n    </tr>\n    <tr>\n      <th>440</th>\n      <td>Jeszcze brakowało, aby ten debil dostał nagrodę Nobla w kategorii fizyka.</td>\n      <td>2</td>\n      <td>0.004902</td>\n    </tr>\n    <tr>\n      <th>973</th>\n      <td>link - http://www.enklawa.net/prawdop odobnie-najlepszy-film,3722</td>\n      <td>10</td>\n      <td>0.004954</td>\n    </tr>\n    <tr>\n      <th>2929</th>\n      <td>http://img838.imageshack.us/im g838/6407/pirat.jpgTAK lub NIEewentualne komentarze mile widziane.</td>\n      <td>5</td>\n      <td>0.005066</td>\n    </tr>\n    <tr>\n      <th>4337</th>\n      <td>A jeśli chcesz dotknąc prawdziwych Indii, obejrzyj raczej \"Salaam Bombay\" albo \"Indyjski nokturn\".</td>\n      <td>6</td>\n      <td>0.005111</td>\n    </tr>\n    <tr>\n      <th>1980</th>\n      <td>http://chuckpalahniuk.tumblr.c om/post/56152458381/chuck-pala hniuk-announces-a-graphic-novel-sequel-toWięcej po angielsku.</td>\n      <td>9</td>\n      <td>0.005268</td>\n    </tr>\n    <tr>\n      <th>1121</th>\n      <td>Wyjaśnienie w linkuhttp://awesomenator.com/movies /silence-of-the-lambs-hidden-m essage/</td>\n      <td>9</td>\n      <td>0.005270</td>\n    </tr>\n    <tr>\n      <th>2844</th>\n      <td>\"bucior\", \"rzemyk\" a teraz chyba \"pasek\" było... co tłumaczenie to inaczej</td>\n      <td>9</td>\n      <td>0.005500</td>\n    </tr>\n    <tr>\n      <th>1264</th>\n      <td>Hej pytanie do fanów Avatara. Czy oglądaliście już Hobbita? Jeżeli tak to który z filmów wam się bardziej podobał? http://wars-stars.pl/war/50-ho bbit-czy-avatar</td>\n      <td>6</td>\n      <td>0.005512</td>\n    </tr>\n    <tr>\n      <th>4040</th>\n      <td>wiecie czemu? bo wzruszył takiego zgorzkniałego użytkownika serwisu sadistic.pl jak ja... i tyle.</td>\n      <td>9</td>\n      <td>0.005602</td>\n    </tr>\n    <tr>\n      <th>1255</th>\n      <td>Czy naprawdę u nas jest tylu fanów efektów specjalnych ? Przecież ten gniot ma fabułę bez żadnego sensu, tylko same efekty specjalne i nic więcej . Czasami to mi żal ludzi, którzy zachwycają się takim badziewiem .</td>\n      <td>6</td>\n      <td>0.005606</td>\n    </tr>\n    <tr>\n      <th>4301</th>\n      <td>To tylko słup .Na którego zarejestrowany jest majątek</td>\n      <td>1</td>\n      <td>0.005646</td>\n    </tr>\n    <tr>\n      <th>1876</th>\n      <td>ale jakoś mnie nie uwiódł ;/ spróbuje jeszcze raz go zobaczyć niedługo :)</td>\n      <td>5</td>\n      <td>0.005654</td>\n    </tr>\n    <tr>\n      <th>2206</th>\n      <td>Szukałem tego filmu na blu-ray i w końcu znalazłem:http://www.ceneo.pl/4646793#mh =R3F29l0q930007wgRlHoMJ5OJYQ_V oV_ugiV6PUnMGe7P5Qm89EoLpuHuX_ pVrF1Do1pAHe7Nbm8fufbYlSj8q_X7 C2q9YXx7WHHCWEwAk-tE8WJqKoceI1 cTvJgqvRmVlofAgrKgkLv_hEukVg6j S_ZMapWzKS0KinE-IDSXFe7Xdsi2ur OpKdhR_9Tys0mmRQ2Skąd oni wytrzasnęli taką cenę? I weź tu człowieku kupuj filmy w tym chorym kraju...</td>\n      <td>9</td>\n      <td>0.005656</td>\n    </tr>\n    <tr>\n      <th>944</th>\n      <td>jeszcze w tym roku był w rankingu na 332 a jest juz na 400 fala gnomow nie kumajacych tego filmu sie dobiero teraz obudzila he?</td>\n      <td>10</td>\n      <td>0.005662</td>\n    </tr>\n    <tr>\n      <th>3347</th>\n      <td>Cobb nie mógł przyjechać do swoich dzieci, więc dlaczego dzieci nie przyjechały do Cobba?</td>\n      <td>9</td>\n      <td>0.005689</td>\n    </tr>\n    <tr>\n      <th>2655</th>\n      <td>Nastawiłem sie na komedie i dobro zabawe. Na dodatek egzotycznie bo w końcu film nie jest USA. Niestety znowu jestem zawiedziony. Totalnie na maxa nic mnie nie rosśmieszyło znudziłem sie po 30 minutach. Kto ustawia rankingi? Tysionc razy bardziej podobał mi sie Kac Wawa niż te badziewie.</td>\n      <td>1</td>\n      <td>0.005705</td>\n    </tr>\n    <tr>\n      <th>3807</th>\n      <td>Ten Hosenfeld został uhonorowany orderem odrodzenia polski. Choć to niemiec szkoda mi go</td>\n      <td>8</td>\n      <td>0.005755</td>\n    </tr>\n    <tr>\n      <th>4833</th>\n      <td>http://img844.imageshack.us/im g844/9014/1832741.jpg</td>\n      <td>10</td>\n      <td>0.005762</td>\n    </tr>\n    <tr>\n      <th>2118</th>\n      <td>Świat : 1 listopada 1997 , Polska :13 kwietnia 2012, skąd ta data premiery polskiej, WTF ??</td>\n      <td>10</td>\n      <td>0.005774</td>\n    </tr>\n    <tr>\n      <th>3676</th>\n      <td>Czemu ten pierscien byl taki potezny, skoro jedyne co potrafil, to sprawic by wlasciciel stal sie niewidzialny i wydluzyc zycie. 2 - czemu ludzie nie najechali shire? Przeciez to dobre tereny uprawne, a hobbici raczej by sie nie stawiali jak na pokurczow przystalo. Odp</td>\n      <td>9</td>\n      <td>0.005826</td>\n    </tr>\n    <tr>\n      <th>2036</th>\n      <td>Macie jakies info czy w tym roku polsat wyemituje titanica?Co rok emituja go, ale sprawdzilem program do 25 grudnia i narazie nie bylo, go, wiec pytanie do was czy macie jakies info czy moze go po swietach puszcza czy cos?</td>\n      <td>10</td>\n      <td>0.005845</td>\n    </tr>\n  </tbody>\n</table>\n</div>",
      "text/plain": "                                                                                                                      proponuję nie odpisywać na jego żałosne prowokacje, niech jego tematy spadną na sam dół   \n1669                                                                                                                                                                                                                                                                                                                                                         shrek to moja współlokatorka też jest zielona i śmierdzi gównem   \n2263                                                                                                                                                                                                                                                               nudny,jakies pierdoły opowiadaja, lepiej obejrzec cos mądrego na przykład  wiadomosci w tvp pierdół nie  bede słuchał kilka ciekawych scen było 2/10 daje   \n4998                                                                                                                                                                                                                                                                                                                                                            Sexmisji może najwyżej podskoczyć jeszcze MIś ewentualnie...   \n999   no i jednak miałem racje ci kretyni z administracji wszystko kasują uprawnienia itd ,przypadkiem takiego obłąkanego kolesia jest socrer_fw ... patrze po innych jego wypowiedziach tam użytkownikom oceny znikają tylko temu debilowi nie.HAHAHAHA ale sie filmweb kompromituje !!!!!!!!!!!!!! sądzicie że ludzie nie potrafia żyć bez filmwebu żeby robić takie jajca ? admini filmweba to jacyś durnie.Wszystkim ...   \n4109                                                                                                                                                                                                                                                                                                                                    Ich habe eine Pistole auf Ihre Eier gerichtet seit Sie hier sitzen.Brylant aktorski!   \n3186                                                                                                                                                                                                                                                                                  Nie rozumie oceny, film jest beznadziejny dawno takiego szajsu nie ogladalem, chyba nawet razu sie nie zasmialem, bo mowa tu o komedii   \n2584                                                                                                                                                                                                                                                                                                                                              ZAPRASZAM -http://tohavefabulousday.blog spot.com/2014/04/nietykalni.ht ml   \n2732                                                                                                                                                                                                                                                                                                                                             https://paranormalpl.wordpress .com/2010/09/05/duch-na-filmow ym-pogrzebie/   \n2300                                                                                                                                                                                                                                                                                                                                       http://images.wikia.com/fanows ka-my-little-pony/pl/images/a/ a0/Rzygam-tecza.jpg   \n311                                                                                                                                                                                                                                                                          To jaki według Ciebie film zasługuje na nr 1  nie mów mi ze takie gówna jak Batman Władca Pierścienie czy Harry Poter albo nawet Gwiezdne Wojny   \n1718                                                                                                                                                                                                                                                                                                                   http://www.filmweb.pl/Szeregow iec.Ryan/photos/183095wersja rezyserska?jesli tak pomozcie mi znalezc!   \n1462                                                                                                                                                                                                                                                                                                                                                                     A nie jakieś łowcy andrody czy inne alieny nostroma   \n2079                                                                                                                                                                                                                                                                                                                                                     http://brudnopisarz.blog.pl/20 17/04/18/dlaczego-kochamy-tita nica/   \n3683                                                                                                                                                                                                                                                                                                  hobbity dołem , GOLLUM na króla ( ewentualnie saruman )Wiwat gollumowi (czyli jaaaaaaaaaaaaaaaaaaaaaaa ) hi hi hi hi .   \n1631                                                                                                                                                                                                                                                                                                                                                            Ciekawy demothttp://demotywatory.pl/2099966 /Lord-Farquaad:)   \n2176                                                                                                                                                                                                                                                 Musiałem się tu wpisać;).Film ten mogę oglądać naokrągło.Do żadnego tak nie wracam.Tysiące razy oglądany a dalej się nie nudzi.\"...Amerykańskie imiona gówno znaczą\" ;)   \n2187                                                                                                                                                                                                                                                Musiałem się tu wpisać;).Film ten mogę oglądać naokrągło.Do żadnego tak nie wracam.Tysiące razy oglądany a dalej się nie nudzi. \"...Amerykańskie imiona gówno znaczą\" ;)   \n818                                                                                                                                                                                                                                                                                                                                            Wstyd! A kiedyś był w okolicach 50 miejsca, co to się stało? Najazd gimbusów?   \n1266                                                                                                                                                                                                                                                                                                                          Dawno mnie tu nie bylo, ale Avatar jak byl gównem tak dalej nim jest  i na pewno pozostanie :)   \n883                                                                                                                                                                                                                                                                                                      skad morfeusz wiedzial ,ze neo to wybraniec?  na jakiej podstawie mieli przypuszczenia ,ze ktos moze byc wybrancem?   \n3884                                                                                                                                                                                                                                                                                                                                                                   I to jest film. A nie jacys sasiedzi czy inna bzdura.   \n3921                                       Wyświetlony w 41 krajach: Wielka Brytania, Niemcy, Polska, Francja, Rosja, Belgia, Hiszpania, Izrael, Brazylia, Szwajcaria, Grecja, Austria, Włochy, Japonia, Holandia, Stany Zjednoczone, Korea Południowa, Kanada, Czechy, Turcja, Argentyna, Australia, Słowenia, Islandia, Hong Hong, Węgry, Meksyk, Chile, Bermuda, Finlandia, Peru, Kazachstan, Słowacja, Dania, Litwa, ...   \n4232                                                                                                                                                                                                                                                                                                                                                       Czemu benkarty usuwały nazistom włosy z głowy? (razem z mięskiem)   \n3940                                                                                                                                                                                                                                                                                                                                                              Po prostu nie dalo się wymyslić głupszego filmu - tragedia   \n440                                                                                                                                                                                                                                                                                                                                                Jeszcze brakowało, aby ten debil dostał nagrodę Nobla w kategorii fizyka.   \n973                                                                                                                                                                                                                                                                                                                                                        link - http://www.enklawa.net/prawdop odobnie-najlepszy-film,3722   \n2929                                                                                                                                                                                                                                                                                                                       http://img838.imageshack.us/im g838/6407/pirat.jpgTAK lub NIEewentualne komentarze mile widziane.   \n4337                                                                                                                                                                                                                                                                                                                      A jeśli chcesz dotknąc prawdziwych Indii, obejrzyj raczej \"Salaam Bombay\" albo \"Indyjski nokturn\".   \n1980                                                                                                                                                                                                                                                                                             http://chuckpalahniuk.tumblr.c om/post/56152458381/chuck-pala hniuk-announces-a-graphic-novel-sequel-toWięcej po angielsku.   \n1121                                                                                                                                                                                                                                                                                                                                Wyjaśnienie w linkuhttp://awesomenator.com/movies /silence-of-the-lambs-hidden-m essage/   \n2844                                                                                                                                                                                                                                                                                                                                              \"bucior\", \"rzemyk\" a teraz chyba \"pasek\" było... co tłumaczenie to inaczej   \n1264                                                                                                                                                                                                                                                       Hej pytanie do fanów Avatara. Czy oglądaliście już Hobbita? Jeżeli tak to który z filmów wam się bardziej podobał? http://wars-stars.pl/war/50-ho bbit-czy-avatar   \n4040                                                                                                                                                                                                                                                                                                                       wiecie czemu? bo wzruszył takiego zgorzkniałego użytkownika serwisu sadistic.pl jak ja... i tyle.   \n1255                                                                                                                                                                                                   Czy naprawdę u nas jest tylu fanów efektów specjalnych ? Przecież ten gniot ma fabułę bez żadnego sensu, tylko same efekty specjalne i nic więcej . Czasami to mi żal ludzi, którzy zachwycają się takim badziewiem .   \n4301                                                                                                                                                                                                                                                                                                                                                                   To tylko słup .Na którego zarejestrowany jest majątek   \n1876                                                                                                                                                                                                                                                                                                                                               ale jakoś mnie nie uwiódł ;/ spróbuje jeszcze raz go zobaczyć niedługo :)   \n2206                                       Szukałem tego filmu na blu-ray i w końcu znalazłem:http://www.ceneo.pl/4646793#mh =R3F29l0q930007wgRlHoMJ5OJYQ_V oV_ugiV6PUnMGe7P5Qm89EoLpuHuX_ pVrF1Do1pAHe7Nbm8fufbYlSj8q_X7 C2q9YXx7WHHCWEwAk-tE8WJqKoceI1 cTvJgqvRmVlofAgrKgkLv_hEukVg6j S_ZMapWzKS0KinE-IDSXFe7Xdsi2ur OpKdhR_9Tys0mmRQ2Skąd oni wytrzasnęli taką cenę? I weź tu człowieku kupuj filmy w tym chorym kraju...   \n944                                                                                                                                                                                                                                                                                          jeszcze w tym roku był w rankingu na 332 a jest juz na 400 fala gnomow nie kumajacych tego filmu sie dobiero teraz obudzila he?   \n3347                                                                                                                                                                                                                                                                                                                               Cobb nie mógł przyjechać do swoich dzieci, więc dlaczego dzieci nie przyjechały do Cobba?   \n2655                                                                                                                        Nastawiłem sie na komedie i dobro zabawe. Na dodatek egzotycznie bo w końcu film nie jest USA. Niestety znowu jestem zawiedziony. Totalnie na maxa nic mnie nie rosśmieszyło znudziłem sie po 30 minutach. Kto ustawia rankingi? Tysionc razy bardziej podobał mi sie Kac Wawa niż te badziewie.   \n3807                                                                                                                                                                                                                                                                                                                                Ten Hosenfeld został uhonorowany orderem odrodzenia polski. Choć to niemiec szkoda mi go   \n4833                                                                                                                                                                                                                                                                                                                                                                    http://img844.imageshack.us/im g844/9014/1832741.jpg   \n2118                                                                                                                                                                                                                                                                                                                             Świat : 1 listopada 1997 , Polska :13 kwietnia 2012, skąd ta data premiery polskiej, WTF ??   \n3676                                                                                                                                           Czemu ten pierscien byl taki potezny, skoro jedyne co potrafil, to sprawic by wlasciciel stal sie niewidzialny i wydluzyc zycie. 2 - czemu ludzie nie najechali shire? Przeciez to dobre tereny uprawne, a hobbici raczej by sie nie stawiali jak na pokurczow przystalo. Odp   \n2036                                                                                                                                                                                          Macie jakies info czy w tym roku polsat wyemituje titanica?Co rok emituja go, ale sprawdzilem program do 25 grudnia i narazie nie bylo, go, wiec pytanie do was czy macie jakies info czy moze go po swietach puszcza czy cos?   \n\n       1         2  \n1783   9 -0.001507  \n3654   9  0.000000  \n4291   2  0.000258  \n3168   3  0.000391  \n4853   8  0.000811  \n1669   9  0.001136  \n2263   2  0.001475  \n4998   9  0.002346  \n999   10  0.002494  \n4109   9  0.002715  \n3186   3  0.002753  \n2584   9  0.003585  \n2732   9  0.003709  \n2300   9  0.003844  \n311   10  0.003892  \n1718   9  0.003931  \n1462   3  0.003954  \n2079  10  0.004049  \n3683   7  0.004207  \n1631  10  0.004220  \n2176  10  0.004432  \n2187  10  0.004432  \n818   10  0.004521  \n1266   1  0.004521  \n883    9  0.004526  \n3884   8  0.004562  \n3921  10  0.004607  \n4232   8  0.004669  \n3940   1  0.004824  \n440    2  0.004902  \n973   10  0.004954  \n2929   5  0.005066  \n4337   6  0.005111  \n1980   9  0.005268  \n1121   9  0.005270  \n2844   9  0.005500  \n1264   6  0.005512  \n4040   9  0.005602  \n1255   6  0.005606  \n4301   1  0.005646  \n1876   5  0.005654  \n2206   9  0.005656  \n944   10  0.005662  \n3347   9  0.005689  \n2655   1  0.005705  \n3807   8  0.005755  \n4833  10  0.005762  \n2118  10  0.005774  \n3676   9  0.005826  \n2036  10  0.005845  "
     },
     "execution_count": 82,
     "metadata": {},
     "output_type": "execute_result"
    }
   ],
   "source": [
    "# 50 most negative comments by our algorithm\n",
    "df_out.sort_values(by=2, ascending=True).iloc[0:50]"
   ]
  },
  {
   "cell_type": "code",
   "execution_count": null,
   "metadata": {},
   "outputs": [],
   "source": []
  }
 ],
 "metadata": {
  "kernelspec": {
   "display_name": "Python 3.6.9 64-bit ('venv_nlp': virtualenv)",
   "language": "python",
   "name": "python36964bitvenvnlpvirtualenvda4a4f4a063a4ddf8c62fe864cc8b7ef"
  },
  "language_info": {
   "codemirror_mode": {
    "name": "ipython",
    "version": 3
   },
   "file_extension": ".py",
   "mimetype": "text/x-python",
   "name": "python",
   "nbconvert_exporter": "python",
   "pygments_lexer": "ipython3",
   "version": "3.6.9-final"
  }
 },
 "nbformat": 4,
 "nbformat_minor": 2
}
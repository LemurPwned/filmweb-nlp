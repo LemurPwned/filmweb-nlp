{
 "cells": [
  {
   "cell_type": "code",
   "execution_count": 2,
   "metadata": {},
   "outputs": [],
   "source": [
    "# !pip install lxml\n",
    "from movie_reviews import Review\n",
    "from stemmer import Stemmer\n",
    "\n",
    "import json\n",
    "import numpy as np\n",
    "from sklearn.feature_extraction.text import CountVectorizer\n",
    "from sklearn.model_selection import train_test_split"
   ]
  },
  {
   "cell_type": "code",
   "execution_count": 3,
   "metadata": {},
   "outputs": [],
   "source": [
    "stemmer = Stemmer(\"root_dict.json\")"
   ]
  },
  {
   "cell_type": "code",
   "execution_count": 4,
   "metadata": {},
   "outputs": [],
   "source": [
    "f = open(\"reviews_dict.json\", \"r\")\n",
    "json_reviews = json.loads(f.read())\n",
    "f.close()"
   ]
  },
  {
   "cell_type": "code",
   "execution_count": 5,
   "metadata": {},
   "outputs": [],
   "source": [
    "reviews = []\n",
    "\n",
    "for review in json_reviews:\n",
    "    reviews.append(Review.from_json(json_reviews[review]))"
   ]
  },
  {
   "cell_type": "code",
   "execution_count": 12,
   "metadata": {},
   "outputs": [
    {
     "name": "stdout",
     "output_type": "stream",
     "text": [
      "od premier pierwszy zombielandu minąć dziesięć rok w tym czas przez popkultura przeszły prawdziwy fala produkcje o zombi od film i serial przez książki po marsz zombi w miasto na cały świecie zombi pojawiać się w taki pozorny pasować do żywy trup gatunek jak komedia romantyczny film wieczny żywy a nawet w świecie z proza jane austen duma i uprzedzić i zombi abigail breslin jesse eisenberg emma stone wood harrelson ctmg inca móc się wydawać że wszystek nasycić się motyw zombi ten jednak jak to żywy trup on przestawać kroczyć przez kultura w tym kino po truposz on umierać jim jarmusch mieść w polski kin kolejny film o zombi drug część zombielandu kulki w łeb czy film na tło pierwszy część oraz cały korpus produkcje o zombi z ostatni dekada wnosić cokolwiek nowy świeży zaskakujący lubić innowacyjny z cały pewność on jednak jak na odgrzewać kotlet z garmażerka który już dawny powinien my się znudzić smakować całkiem znośny a czas nawet smaczny jesse eisenberg wood harrelson ctmg inca działać wszystek składnik jak sprawdzić się w pierwszy część połączyć apokaliptyczny wyobraźnia i absurdalny makabryczny humor śmieszyć taki sam jak dziesięć rok ten podobny jak kontrast między odtwarzać przez woody’ego harrelson maczystowskim przypominać bohater western z rok 50 tallahassee’em a głęboki neurotyczny colombusem jesse eisenberg który sprawiać wrażenie jakby w środek zombi apokalipsa trafić prosty z któryś z film woody’ego allen w 2019 ów kontrast wybrzmiewać nawet jeszcze mocniej niż w 2009 gdyby on plaga zombi pan najpewniej nigdy by się on spotkać we współczesny głęboki podzielić na każdy front ameryka możny się spodziewać że o i ił tallahassee być w on entuzjasta prezydent trump to columbus wręczyć przeciwny precyzyjny wyliczać wad i zaleta zdolny powstrzymać on za rok kandydat demokrata z kolej postać odtwarzać przez emma stone wichity być znaczniej sprawniej napisać niż dziesięć rok ten a i sam stone bardzo rozwinąć się w tym czas aktorski dawać też rad postać drug i trzeci plan abigail breslin emma stone ctmg inca co prawda drug połowa kulki w łeb trochę siadać scenariuszowy al karnawał komiczny makabra finalny sekwencja sprawiać że szybki o tym zapominać on przeszkadzać w sum to jak bardzo przewidywalny być ten film wiedzieć doskonały że każdy katastroficzny produkcja z hollywood nawet utrzymany w komiczny toń muszy skończyć się afirmacja rodzina i rodzinny więź który właśnie w sytuacja stwarzać egzystencjalny zagrożenie potwierdzać swój siła zombieland dokładny wypełniać w tym wzgląd reguła gatunek od początek wiedzieć że dziwny par rodzina ocaleńców z zombi katastrofa jak zawiązywać się pod koniec pierwszy część rozstawać się tylko po to by zejść się ponowny spodziewać się też od początek pochwała amerykański cnota polegać na siebie zaradność kowbojski twardość walka o swój i gdy ten faktyczny wybrzmiewać w finał nawet my to specjalny on razić słowo jeśli realistyczny ustawić poprzeczka odpowiedni nisko drug zombieland móc okazać się całkiem miły filmowy doświadczyć ja bawić się nienajgorzej choć szczerza mówić mieść już serdeczny dość mod na zombi w kin i on obrazić się gdyby filmowiec w najbliższy rok skupić swój uwaga na jakiś inny monstrum  \n"
     ]
    }
   ],
   "source": [
    "stop_list = ['.', ',', '\"', ')', '(', ':', ';', '?', '!', '\\'', '–', '-', '{', '{', '\\xa0']\n",
    "\n",
    "for i, review in enumerate(reviews):\n",
    "    reviews[i].text = review.text[:review.text.find('waitingModule.runWhenReady')]\n",
    "    temp = review.text.lower()\n",
    "\n",
    "    for element in stop_list:\n",
    "        temp = temp.replace(element, \" \")\n",
    "        \n",
    "    for j in range(10):\n",
    "        temp = temp.replace(\"  \", \" \")\n",
    "\n",
    "    temp = temp.split(\" \")\n",
    "    stemmed_text = \"\"\n",
    "    for word in temp:\n",
    "        found = stemmer.find(word) \n",
    "        if found:\n",
    "            stemmed_text += found.replace(\" \",\"\") #sometimes word has space in the end\n",
    "        else:\n",
    "            stemmed_text += word\n",
    "        stemmed_text += \" \"\n",
    "    reviews[i].text = stemmed_text\n",
    "\n",
    "print(reviews[0].text)"
   ]
  },
  {
   "cell_type": "code",
   "execution_count": 86,
   "metadata": {},
   "outputs": [],
   "source": [
    "\n",
    "# import pandas as pd"
   ]
  },
  {
   "cell_type": "code",
   "execution_count": 144,
   "metadata": {},
   "outputs": [
    {
     "name": "stdout",
     "output_type": "stream",
     "text": [
      "(174,) (58,)\n"
     ]
    },
    {
     "data": {
      "text/html": [
       "<div>\n",
       "<style scoped>\n",
       "    .dataframe tbody tr th:only-of-type {\n",
       "        vertical-align: middle;\n",
       "    }\n",
       "\n",
       "    .dataframe tbody tr th {\n",
       "        vertical-align: top;\n",
       "    }\n",
       "\n",
       "    .dataframe thead th {\n",
       "        text-align: right;\n",
       "    }\n",
       "</style>\n",
       "<table border=\"1\" class=\"dataframe\">\n",
       "  <thead>\n",
       "    <tr style=\"text-align: right;\">\n",
       "      <th></th>\n",
       "      <th>text</th>\n",
       "      <th>rating</th>\n",
       "    </tr>\n",
       "  </thead>\n",
       "  <tbody>\n",
       "    <tr>\n",
       "      <th>0</th>\n",
       "      <td>mijać dekada a w głowa james gray wciąż mieszk...</td>\n",
       "      <td>7</td>\n",
       "    </tr>\n",
       "    <tr>\n",
       "      <th>1</th>\n",
       "      <td>bartosz konopka to jeden z najciekawszy polski...</td>\n",
       "      <td>6</td>\n",
       "    </tr>\n",
       "    <tr>\n",
       "      <th>2</th>\n",
       "      <td>być w sługa wojna taki ujęcie kamera zdejmować...</td>\n",
       "      <td>4</td>\n",
       "    </tr>\n",
       "    <tr>\n",
       "      <th>3</th>\n",
       "      <td>w swój drug pełny metraż kantemir balagov po r...</td>\n",
       "      <td>7</td>\n",
       "    </tr>\n",
       "    <tr>\n",
       "      <th>4</th>\n",
       "      <td>owca dolly były w 1996 al w 1995 być ty mówić...</td>\n",
       "      <td>3</td>\n",
       "    </tr>\n",
       "  </tbody>\n",
       "</table>\n",
       "</div>"
      ],
      "text/plain": [
       "                                                text  rating\n",
       "0  mijać dekada a w głowa james gray wciąż mieszk...       7\n",
       "1  bartosz konopka to jeden z najciekawszy polski...       6\n",
       "2  być w sługa wojna taki ujęcie kamera zdejmować...       4\n",
       "3  w swój drug pełny metraż kantemir balagov po r...       7\n",
       "4   owca dolly były w 1996 al w 1995 być ty mówić...       3"
      ]
     },
     "execution_count": 144,
     "metadata": {},
     "output_type": "execute_result"
    }
   ],
   "source": [
    "X = [review.text for review in reviews]\n",
    "y = [int(review.rating) for review in reviews]\n",
    "X = np.array(X)\n",
    "y = np.array(y)\n",
    "\n",
    "X_train, X_test, y_train, y_test = train_test_split(X, y)\n",
    "\n",
    "print(X_train.shape, X_test.shape)\n",
    "\n",
    "# df = pd.DataFrame()\n",
    "# df['text'] = X_train\n",
    "# df['rating'] = y_train\n",
    "\n",
    "\n",
    "df.head()\n",
    "\n"
   ]
  },
  {
   "cell_type": "code",
   "execution_count": 145,
   "metadata": {},
   "outputs": [],
   "source": [
    "vectorizer = CountVectorizer()\n",
    "X_matrix = vectorizer.fit_transform(X_train)"
   ]
  },
  {
   "cell_type": "code",
   "execution_count": 249,
   "metadata": {},
   "outputs": [
    {
     "name": "stdout",
     "output_type": "stream",
     "text": [
      "[[1 2 3]\n",
      " [2 3 4]]\n",
      "[[3 6 9]\n",
      " [2 3 4]]\n"
     ]
    }
   ],
   "source": [
    "# print(len(vectorizer.get_feature_names()), len(corpus))\n",
    "\n",
    "\n",
    "d = np.array([[1,2,3], [2,3,4]])\n",
    "print(d)\n",
    "d[0, :] = d[0, :] * 3\n",
    "print(d)\n",
    "\n",
    "# vec1 = np.array([[1,2,4]])\n",
    "# vec2 = np.array([[1,2,4]])\n",
    "# np.divide(vec1, vec2)"
   ]
  },
  {
   "cell_type": "code",
   "execution_count": 281,
   "metadata": {},
   "outputs": [
    {
     "ename": "ValueError",
     "evalue": "non-broadcastable output operand with shape (174,1) doesn't match the broadcast shape (174,15157)",
     "output_type": "error",
     "traceback": [
      "\u001b[0;31m---------------------------------------------------------------------------\u001b[0m",
      "\u001b[0;31mValueError\u001b[0m                                Traceback (most recent call last)",
      "\u001b[0;32m<ipython-input-281-c390b52e8050>\u001b[0m in \u001b[0;36m<module>\u001b[0;34m\u001b[0m\n\u001b[1;32m     21\u001b[0m \u001b[0;32mfor\u001b[0m \u001b[0mi\u001b[0m\u001b[0;34m,\u001b[0m \u001b[0mrow\u001b[0m \u001b[0;32min\u001b[0m \u001b[0menumerate\u001b[0m\u001b[0;34m(\u001b[0m\u001b[0mX_matrix\u001b[0m\u001b[0;34m.\u001b[0m\u001b[0mtoarray\u001b[0m\u001b[0;34m(\u001b[0m\u001b[0;34m)\u001b[0m\u001b[0;34m)\u001b[0m\u001b[0;34m:\u001b[0m\u001b[0;34m\u001b[0m\u001b[0;34m\u001b[0m\u001b[0m\n\u001b[1;32m     22\u001b[0m \u001b[0;31m#     pass\u001b[0m\u001b[0;34m\u001b[0m\u001b[0;34m\u001b[0m\u001b[0;34m\u001b[0m\u001b[0m\n\u001b[0;32m---> 23\u001b[0;31m     \u001b[0msummary_row\u001b[0m \u001b[0;34m+=\u001b[0m \u001b[0;34m(\u001b[0m\u001b[0mnp\u001b[0m\u001b[0;34m.\u001b[0m\u001b[0marray\u001b[0m\u001b[0;34m(\u001b[0m\u001b[0mrow\u001b[0m\u001b[0;34m)\u001b[0m \u001b[0;34m*\u001b[0m \u001b[0mint\u001b[0m\u001b[0;34m(\u001b[0m\u001b[0my_train\u001b[0m\u001b[0;34m[\u001b[0m\u001b[0mi\u001b[0m\u001b[0;34m]\u001b[0m\u001b[0;34m)\u001b[0m\u001b[0;34m)\u001b[0m\u001b[0;34m\u001b[0m\u001b[0;34m\u001b[0m\u001b[0m\n\u001b[0m\u001b[1;32m     24\u001b[0m \u001b[0;34m\u001b[0m\u001b[0m\n\u001b[1;32m     25\u001b[0m \u001b[0mprint\u001b[0m\u001b[0;34m(\u001b[0m\u001b[0msummary_row\u001b[0m\u001b[0;34m[\u001b[0m\u001b[0;36m500\u001b[0m\u001b[0;34m:\u001b[0m\u001b[0;36m510\u001b[0m\u001b[0;34m]\u001b[0m\u001b[0;34m)\u001b[0m\u001b[0;34m\u001b[0m\u001b[0;34m\u001b[0m\u001b[0m\n",
      "\u001b[0;31mValueError\u001b[0m: non-broadcastable output operand with shape (174,1) doesn't match the broadcast shape (174,15157)"
     ]
    }
   ],
   "source": [
    "#\n",
    "# print(X_matrix.shape)\n",
    "# row_sum = np.sum(X_matrix, axis=1)\n",
    "# row_multiplier = np.array(np.multiply(y_train.reshape(-1,1), 1/row_sum))\n",
    "# # print(row_multiplier.shape, row_multiplier)\n",
    "# X_matrix_mul = X_matrix.copy().astype(np.float)\n",
    "# print(X_matrix_mul.shape, X_matrix.shape)\n",
    "# for row in range(X_matrix.shape[0]):\n",
    "# #     print(np.array(row_multiplier)[0])\n",
    "# #     print((X_matrix[row, :] * row_multiplier[row][0]).shape)\n",
    "# #     print(X_matrix_mul[row, :].shape, X_matrix[row, :].shape, row_multiplier[row][0])\n",
    "#     X_matrix_mul[row, :] = X_matrix[row, :] * row_multiplier[row][0]\n",
    "\n",
    "# # X_matrix_mul = np.multiply(X_matrix.T, y_train).T\n",
    "# print(X_matrix)\n",
    "# print(X_matrix_mul.shape)\n",
    "# # print(row_multiplier)\n",
    "# print(np.sum(X_matrix_mul))\n",
    "# print(X_matrix_mul)\n",
    "# print(X_matrix[0])\n",
    "for i, column in enumerate(X_matrix.toarray()):\n",
    "#     pass\n",
    "    summary_col += (np.array(column) * int(y_train[i]))\n",
    "\n",
    "print(summary_row[500:510])\n",
    "# print(summary_row.shape)"
   ]
  },
  {
   "cell_type": "code",
   "execution_count": 18,
   "metadata": {},
   "outputs": [
    {
     "name": "stdout",
     "output_type": "stream",
     "text": [
      "[4.         5.         7.         7.         7.         7.\n",
      " 7.         7.         3.33333333 7.        ]\n"
     ]
    }
   ],
   "source": [
    "temp_arr = X.toarray()\n",
    "for i, _ in enumerate(summary_row):\n",
    "    summary_row[i] /= sum(temp_arr[:, i])\n",
    "print(summary_row[500:510])\n",
    "# vectorizer.get_feature_names()[1140]\n"
   ]
  },
  {
   "cell_type": "code",
   "execution_count": 19,
   "metadata": {},
   "outputs": [],
   "source": [
    "# our_grade\n",
    "\n",
    "for j, review in enumerate(X.toarray()[200:]):\n",
    "    grade = 0\n",
    "    counter = 0\n",
    "    for i, element in enumerate(review):\n",
    "\n",
    "        if element != 0:\n",
    "            grade += summary_row[i]\n",
    "            counter += 1\n",
    "#         print(gr)\n",
    "        \n",
    "    print(reviews[j].title, reviews[j].rating, grade/counter)\n",
    "#         print(summary_row[vectorizer.vocabulary_.get(word)], word, vectorizer.vocabulary_.get(word))\n",
    "#     print(grade)"
   ]
  },
  {
   "cell_type": "code",
   "execution_count": 56,
   "metadata": {},
   "outputs": [],
   "source": [
    "grades_guessed = []\n",
    "for review in reviews:\n",
    "    grade = 0\n",
    "    counter = 0\n",
    "    for word in review.text.split(\" \"):\n",
    "        index = vectorizer.vocabulary_.get(word)\n",
    "        \n",
    "        if index:\n",
    "#             print(index, summary_row[index])\n",
    "            grade += summary_row[index]\n",
    "            counter += 1\n",
    "    \n",
    "    grades_guessed.append(grade/counter)\n",
    "#     print(review.title, review.rating, grade/counter + 5)"
   ]
  },
  {
   "cell_type": "code",
   "execution_count": 57,
   "metadata": {},
   "outputs": [],
   "source": [
    "y = []\n",
    "for review in reviews:\n",
    "    y.append(int(review.rating))"
   ]
  },
  {
   "cell_type": "code",
   "execution_count": 58,
   "metadata": {},
   "outputs": [
    {
     "name": "stdout",
     "output_type": "stream",
     "text": [
      "5.745689655172414\n"
     ]
    }
   ],
   "source": [
    "print(np.sum(y)/len(y))"
   ]
  },
  {
   "cell_type": "code",
   "execution_count": 59,
   "metadata": {},
   "outputs": [
    {
     "name": "stdout",
     "output_type": "stream",
     "text": [
      "[[5.5849824 ]\n",
      " [5.97118097]\n",
      " [5.16164893]\n",
      " [6.06326028]\n",
      " [5.42625516]\n",
      " [5.61922667]\n",
      " [5.17640114]\n",
      " [6.19327585]\n",
      " [5.11015575]\n",
      " [6.03972952]\n",
      " [6.2818067 ]\n",
      " [6.19807999]\n",
      " [5.71772477]\n",
      " [6.25120525]\n",
      " [6.00836827]\n",
      " [5.945432  ]\n",
      " [5.96450426]\n",
      " [5.65488498]\n",
      " [5.42123858]\n",
      " [5.93864895]\n",
      " [5.76772343]\n",
      " [6.06054228]\n",
      " [5.92700796]\n",
      " [5.95259178]\n",
      " [6.08384556]\n",
      " [5.29005182]\n",
      " [5.15528903]\n",
      " [5.12842388]\n",
      " [5.2126689 ]\n",
      " [5.2679115 ]\n",
      " [5.57179601]\n",
      " [5.16331174]\n",
      " [5.82655046]\n",
      " [5.79721063]\n",
      " [5.18777821]\n",
      " [6.03274543]\n",
      " [6.23064202]\n",
      " [6.03622554]\n",
      " [6.22678338]\n",
      " [6.26674952]\n",
      " [6.12115378]\n",
      " [6.01394225]\n",
      " [5.96568238]\n",
      " [5.63563954]\n",
      " [5.5899735 ]\n",
      " [5.23131318]\n",
      " [5.63993861]\n",
      " [5.14319553]\n",
      " [5.08349368]\n",
      " [6.11464867]\n",
      " [6.28336175]\n",
      " [5.26998339]\n",
      " [5.41130616]\n",
      " [5.53059547]\n",
      " [6.05518546]\n",
      " [5.96140266]\n",
      " [5.83576499]\n",
      " [5.99210445]\n",
      " [6.0165181 ]\n",
      " [6.19992654]\n",
      " [5.83889412]\n",
      " [6.21552833]\n",
      " [6.07150508]\n",
      " [6.09301361]\n",
      " [5.0360485 ]\n",
      " [5.18053895]\n",
      " [5.62981518]\n",
      " [6.45783385]\n",
      " [5.62066132]\n",
      " [5.8010854 ]\n",
      " [5.88458215]\n",
      " [6.1969178 ]\n",
      " [5.9737198 ]\n",
      " [5.18008888]\n",
      " [5.56430307]\n",
      " [6.16507803]\n",
      " [5.59676633]\n",
      " [5.2481503 ]\n",
      " [6.22210449]\n",
      " [5.78488886]\n",
      " [5.56077608]\n",
      " [5.07360681]\n",
      " [5.07066063]\n",
      " [5.78956984]\n",
      " [5.61503128]\n",
      " [5.84307409]\n",
      " [5.60816888]\n",
      " [5.59029938]\n",
      " [5.78615054]\n",
      " [5.42313981]\n",
      " [6.16572632]\n",
      " [5.54171177]\n",
      " [5.41768802]\n",
      " [6.08458237]\n",
      " [5.85618163]\n",
      " [5.79397342]\n",
      " [5.74035393]\n",
      " [6.01030248]\n",
      " [5.75917569]\n",
      " [5.85951679]\n",
      " [5.75028645]\n",
      " [6.26036156]\n",
      " [6.06017715]\n",
      " [4.91468576]\n",
      " [5.51953636]\n",
      " [5.80331213]\n",
      " [5.82031674]\n",
      " [6.58366013]\n",
      " [6.04970237]\n",
      " [5.25571484]\n",
      " [5.04499724]\n",
      " [5.44525339]\n",
      " [5.58645534]\n",
      " [5.66231448]\n",
      " [5.161633  ]\n",
      " [6.03714853]\n",
      " [5.91397064]\n",
      " [5.57755811]\n",
      " [5.93171576]\n",
      " [5.84165828]\n",
      " [5.51863739]\n",
      " [5.31092563]\n",
      " [5.53572208]\n",
      " [6.02824033]\n",
      " [4.92366422]\n",
      " [6.02881228]\n",
      " [5.5646322 ]\n",
      " [5.19672581]\n",
      " [5.8121178 ]\n",
      " [5.55311184]\n",
      " [5.76677315]\n",
      " [5.54572539]\n",
      " [4.97932457]\n",
      " [5.57459064]\n",
      " [5.87598315]\n",
      " [6.06142278]\n",
      " [5.08681866]\n",
      " [5.81934396]\n",
      " [4.85821879]\n",
      " [5.38347407]\n",
      " [4.93663072]\n",
      " [5.77707383]\n",
      " [5.90510655]\n",
      " [5.78153855]\n",
      " [5.49923375]\n",
      " [5.72748429]\n",
      " [5.44642207]\n",
      " [5.97027215]\n",
      " [5.67928118]\n",
      " [5.394107  ]\n",
      " [6.02768178]\n",
      " [4.88564224]\n",
      " [6.03869306]\n",
      " [5.58889389]\n",
      " [6.00012552]\n",
      " [5.62625383]\n",
      " [5.96023251]\n",
      " [6.23522337]\n",
      " [6.43523836]\n",
      " [6.34129881]\n",
      " [5.64471276]\n",
      " [6.05393829]\n",
      " [6.07798332]\n",
      " [6.05746134]\n",
      " [5.61040083]\n",
      " [5.9870326 ]\n",
      " [6.06631071]\n",
      " [6.55747009]\n",
      " [5.60200382]\n",
      " [6.06030186]\n",
      " [5.59241949]\n",
      " [6.02829667]\n",
      " [6.54452548]\n",
      " [6.23457274]\n",
      " [6.06625158]\n",
      " [5.79911126]\n",
      " [5.85083333]\n",
      " [6.39374873]\n",
      " [5.99036242]\n",
      " [6.18723806]\n",
      " [5.94495958]\n",
      " [5.97018553]\n",
      " [5.90296508]\n",
      " [5.16792469]\n",
      " [6.28208397]\n",
      " [5.21002185]\n",
      " [5.83679728]\n",
      " [6.25961197]\n",
      " [5.81183535]\n",
      " [6.05835958]\n",
      " [5.7748852 ]\n",
      " [6.23642623]\n",
      " [6.35396975]\n",
      " [5.57718853]\n",
      " [6.05279373]\n",
      " [5.36922309]\n",
      " [5.00118128]\n",
      " [5.5701334 ]\n",
      " [6.02781768]\n",
      " [5.54918845]\n",
      " [5.76573677]\n",
      " [5.75413294]\n",
      " [5.66149412]\n",
      " [5.7648276 ]\n",
      " [5.77593492]\n",
      " [5.67956493]\n",
      " [5.71215936]\n",
      " [5.70555564]\n",
      " [5.67885188]\n",
      " [5.74027917]\n",
      " [5.7378112 ]\n",
      " [5.6741949 ]\n",
      " [5.72922306]\n",
      " [5.64601922]\n",
      " [5.82825069]\n",
      " [5.72261071]\n",
      " [5.73534537]\n",
      " [5.88837277]\n",
      " [5.75953087]\n",
      " [5.79113899]\n",
      " [5.58219437]\n",
      " [5.84290254]\n",
      " [5.73329932]\n",
      " [5.77326352]\n",
      " [5.62617942]\n",
      " [5.8487219 ]\n",
      " [5.66546518]\n",
      " [5.65263875]\n",
      " [5.78764166]\n",
      " [5.83550355]\n",
      " [5.76500083]\n",
      " [5.76685645]]\n"
     ]
    },
    {
     "data": {
      "text/plain": [
       "LinearRegression(copy_X=True, fit_intercept=True, n_jobs=None, normalize=False)"
      ]
     },
     "execution_count": 59,
     "metadata": {},
     "output_type": "execute_result"
    }
   ],
   "source": [
    "from sklearn.linear_model import LinearRegression\n",
    "\n",
    "grades_guessed = np.array(grades_guessed).reshape(-1, 1)\n",
    "y = np.array(y).reshape(-1, 1)\n",
    "\n",
    "print(grades_guessed)\n",
    "clf = LinearRegression()\n",
    "clf.fit(grades_guessed, y)"
   ]
  },
  {
   "cell_type": "code",
   "execution_count": 77,
   "metadata": {},
   "outputs": [
    {
     "data": {
      "text/plain": [
       "0.8761215738015546"
      ]
     },
     "execution_count": 77,
     "metadata": {},
     "output_type": "execute_result"
    }
   ],
   "source": [
    "clf.score(grades_guessed, y)"
   ]
  },
  {
   "cell_type": "code",
   "execution_count": 80,
   "metadata": {},
   "outputs": [
    {
     "data": {
      "text/plain": [
       "0.8500394632991318"
      ]
     },
     "execution_count": 80,
     "metadata": {},
     "output_type": "execute_result"
    }
   ],
   "source": [
    "predicted = np.round(clf.predict(grades_guessed))\n",
    "from sklearn.metrics import r2_score\n",
    "r2_score(predicted, y)"
   ]
  },
  {
   "cell_type": "code",
   "execution_count": 81,
   "metadata": {},
   "outputs": [
    {
     "data": {
      "text/plain": [
       "[<matplotlib.lines.Line2D at 0x7ffb3a584978>]"
      ]
     },
     "execution_count": 81,
     "metadata": {},
     "output_type": "execute_result"
    },
    {
     "data": {
      "image/png": "[encoded data removed]",
      "text/plain": [
       "<Figure size 432x288 with 1 Axes>"
      ]
     },
     "metadata": {
      "needs_background": "light"
     },
     "output_type": "display_data"
    }
   ],
   "source": [
    "import matplotlib.pyplot as plt\n",
    "\n",
    "\n",
    "plt.plot(y[:50], 'b.')\n",
    "plt.plot(predicted[:50], 'm*')"
   ]
  },
  {
   "cell_type": "code",
   "execution_count": 241,
   "metadata": {},
   "outputs": [],
   "source": [
    "data = [\"ala ma kota w zielonym domku\", \"olek ma kota w czerwonym domku\"]\n",
    "vec2 = CountVectorizer()\n",
    "z = vec2.fit_transform(data)"
   ]
  },
  {
   "cell_type": "code",
   "execution_count": null,
   "metadata": {},
   "outputs": [],
   "source": []
  },
  {
   "cell_type": "code",
   "execution_count": 261,
   "metadata": {},
   "outputs": [
    {
     "name": "stdout",
     "output_type": "stream",
     "text": [
      "[[7 0 7 7 7 0 7]\n",
      " [0 3 3 3 3 3 0]]\n",
      "[7. 3. 0. 0. 0. 3. 7.]\n"
     ]
    }
   ],
   "source": [
    "# print(z.toarray())\n",
    "all_rows = np.zeros(z.toarray().shape[1])\n",
    "mark = [7, 3]\n",
    "multiplied_matrix = z.toarray()\n",
    "for i, row in enumerate(multiplied_matrix):\n",
    "    multiplied_matrix[i, :] = multiplied_matrix[i, :] * mark[i] \n",
    "    all_rows += row\n",
    "\n",
    "\n",
    "\n",
    "for column in range(multiplied_matrix.shape[1]):\n",
    "    col_avg = sum(multiplied_matrix[:, column]) / sum(z.toarray()[:, column])\n",
    "    col_min = min([el for el in multiplied_matrix[:, column] if el > 0])\n",
    "#     print(col_min)\n",
    "    col_max = max(multiplied_matrix[:, column])\n",
    "    if abs(col_avg - col_min) > 1 or abs(col_avg - col_max) > 1:\n",
    "        all_rows[column] = 0\n",
    "    \n",
    "#     if (max(multiplied_matrix[:, column]) - (multiplied_matrix[:, column])) > 3:\n",
    "#         print(max(multiplied_matrix[:, column]))\n",
    "#         all_rows[i] = 0\n",
    "#     print(column)\n",
    "print(multiplied_matrix)\n",
    "print(all_rows)    "
   ]
  },
  {
   "cell_type": "code",
   "execution_count": 226,
   "metadata": {},
   "outputs": [
    {
     "name": "stdout",
     "output_type": "stream",
     "text": [
      "[ 7.  3. 10. 10. 10.  3.  7.]\n"
     ]
    }
   ],
   "source": [
    "print(all_rows)"
   ]
  },
  {
   "cell_type": "code",
   "execution_count": 228,
   "metadata": {},
   "outputs": [],
   "source": [
    "temp = z.toarray()\n",
    "for i in range(temp.shape[1]):\n",
    "    all_rows[i] /= sum(temp[:, i])"
   ]
  },
  {
   "cell_type": "code",
   "execution_count": 229,
   "metadata": {},
   "outputs": [
    {
     "name": "stdout",
     "output_type": "stream",
     "text": [
      "[7. 3. 5. 5. 5. 3. 7.]\n"
     ]
    }
   ],
   "source": [
    "print(all_rows)"
   ]
  },
  {
   "cell_type": "code",
   "execution_count": 231,
   "metadata": {},
   "outputs": [
    {
     "name": "stdout",
     "output_type": "stream",
     "text": [
      "ala\n",
      "ma\n",
      "kota\n",
      "w\n",
      "zielonym\n",
      "domku\n"
     ]
    }
   ],
   "source": [
    "for word in data[0].split(\" \"):\n",
    "    print(word)"
   ]
  },
  {
   "cell_type": "code",
   "execution_count": null,
   "metadata": {},
   "outputs": [],
   "source": []
  }
 ],
 "metadata": {
  "kernelspec": {
   "display_name": "venv",
   "language": "python",
   "name": "venv"
  },
  "language_info": {
   "codemirror_mode": {
    "name": "ipython",
    "version": 3
   },
   "file_extension": ".py",
   "mimetype": "text/x-python",
   "name": "python",
   "nbconvert_exporter": "python",
   "pygments_lexer": "ipython3",
   "version": "3.6.9"
  }
 },
 "nbformat": 4,
 "nbformat_minor": 2
}

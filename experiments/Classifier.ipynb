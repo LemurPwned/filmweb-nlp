{
 "cells": [
  {
   "cell_type": "code",
   "execution_count": 1,
   "metadata": {},
   "outputs": [],
   "source": [
    "from movie_reviews import Review"
   ]
  },
  {
   "cell_type": "code",
   "execution_count": 2,
   "metadata": {},
   "outputs": [],
   "source": [
    "import json"
   ]
  },
  {
   "cell_type": "code",
   "execution_count": 3,
   "metadata": {},
   "outputs": [],
   "source": [
    "with open(\"reviews_dict.json\", \"r\") as f:\n",
    "    j_data = json.loads(f.read())"
   ]
  },
  {
   "cell_type": "code",
   "execution_count": 12,
   "metadata": {},
   "outputs": [],
   "source": [
    "reviews = []\n",
    "\n",
    "for title in j_data:\n",
    "    reviews.append(Review.from_json(j_data[title]))"
   ]
  },
  {
   "cell_type": "code",
   "execution_count": 17,
   "metadata": {},
   "outputs": [
    {
     "name": "stdout",
     "output_type": "stream",
     "text": [
      "232\n"
     ]
    }
   ],
   "source": [
    "print(len(reviews))"
   ]
  },
  {
   "cell_type": "code",
   "execution_count": 18,
   "metadata": {},
   "outputs": [],
   "source": [
    "X = [review.text for review in reviews]\n",
    "y = [review.rating for review in reviews]"
   ]
  },
  {
   "cell_type": "code",
   "execution_count": 19,
   "metadata": {},
   "outputs": [],
   "source": [
    "from sklearn.model_selection import train_test_split\n",
    "x_train, y_train, x_test, y_test = train_test_split(X, y)"
   ]
  },
  {
   "cell_type": "code",
   "execution_count": 23,
   "metadata": {},
   "outputs": [
    {
     "name": "stdout",
     "output_type": "stream",
     "text": [
      "['Od premiery pierwszego \"Zombielandu\" minęło dziesięć lat. W tym czasie przez popkulturę przeszła prawdziwa fala produkcji o zombie: od filmów i seriali przez książki po marsze zombie w miastach na całym świecie. Zombie pojawiały się w tak pozornie niepasujących do żywych trupów gatunkach jak komedia romantyczna (film \"Wiecznie żywy\"), a nawet w świecie z prozy Jane Austen (\"Duma i uprzedzenie, i zombie\").\\xa0       Abigail Breslin,\\xa0 Jesse Eisenberg,\\xa0 Emma Stone,\\xa0 Woody Harrelson  CTMG, Inc. Mogłoby się wydawać, że wszyscy nasyciliśmy się motywem zombie, ten jednak – jak to żywy trup – nie przestaje kroczyć przez kulturę, w tym kino. Po \"Truposze nie umierają\" Jima Jarmuscha mamy w polskich kinach kolejny film o zombie – drugą część\\xa0\"Zombielandu\", \"Kulki w łeb\". Czy film na tle pierwszej części - oraz całego korpusu produkcji o zombie z ostatniej dekady - wnosi cokolwiek nowego, świeżego, zaskakującego, lub innowacyjnego? Z całą pewnością nie. Jednak, jak na odgrzewany kotlet z garmażerki, która już dawno powinna nam się znudzić, smakuje całkiem znośnie. A czasem nawet smacznie.\\xa0       Jesse Eisenberg,\\xa0 Woody Harrelson  CTMG, Inc. Działają wszystkie składniki, jakie sprawdziły się w pierwszej części. Połączenie apokaliptycznej wyobraźni i absurdalnego, makabrycznego humoru śmieszy tak samo, jak dziesięć lat temu. Podobnie jak kontrast między odtwarzanym przez Woody’ego Harrelsona maczystowskim, przypominającym bohaterów westernów z lat 50. Tallahassee’em, a głęboko neurotycznym Colombusem (Jesse Eisenberg), który sprawia wrażenie, jakby w środek zombie-apokalipsy trafił prosto z któregoś z filmów Woody’ego Allena. W 2019 ów kontrast wybrzmiewa nawet jeszcze mocniej niż w 2009. Gdyby nie plaga zombie, panowie najpewniej nigdy by się nie spotkali we współczesnej, głęboko podzielonej na każdym froncie Ameryce. Można się spodziewać, że o i ile Tallahassee byłby w niej entuzjastą prezydenta Trumpa, to Columbus wręcz przeciwnie – precyzyjnie wyliczałby wady i zalety zdolnych powstrzymać go za rok kandydatów Demokratów. Z kolei postać odtwarzanej przez Emmę Stone Wichity jest znaczniej sprawniej napisana niż dziesięć lat temu, a i sama Stone bardzo rozwinęła się w tym czasie aktorsko. Dają też radę postaci drugiego i trzeciego planu.       Abigail Breslin,\\xa0 Emma Stone  CTMG, Inc. Co prawda, druga połowa \"Kulek w łeb\" trochę siada scenariuszowo, ale karnawał komicznej makabry finalnej sekwencji sprawia, że szybko o tym zapominamy. Nie przeszkadza w sumie to, jak bardzo przewidywalny jest ten film. Wiemy doskonale, że każda katastroficzna produkcja z Hollywood – nawet utrzymana w komicznym tonie – musi skończyć się afirmacją rodziny i rodzinnych więzi, które właśnie w sytuacjach stwarzających egzystencjalne zagrożenie potwierdzają swoją siłę. \"Zombieland\" dokładnie wypełnia w tym względzie reguły gatunku: od początku wiemy, że dziwna para-rodzina ocaleńców z zombie-katastrofy, jaka zawiązuje się pod koniec pierwszej części, rozstaje się tylko po to, by zejść się ponownie. Spodziewamy się też od początku pochwały amerykańskich cnót: polegania na sobie, zaradności, kowbojskiej twardości, walki o swoje – i gdy ta faktycznie wybrzmiewa w finale, nawet nas to specjalnie nie razi.  Słowem, jeśli realistycznie ustawimy poprzeczkę odpowiednio nisko, drugi \"Zombieland\" może okazać się całkiem miłym filmowym doświadczeniem. Ja bawiłem się nienajgorzej, choć szczerze mówiąc, mam już serdecznie dość mody na zombie w kinie i nie obraziłbym się, gdyby filmowcy w najbliższych latach skupili swoją uwagę na jakimś innym monstrum.\\xa0 waitingModule.runWhenReady(\"FOOTER\",function(){rodo.canProfileVisitor(function(a){var b=getKeywords(a);sas.cmd.push(function(){sas.call(\"std\",{siteId:smartSiteId,pageId:smartPageId,formatId:46596,target:b})})})});']\n"
     ]
    }
   ],
   "source": [
    "print(X[:1])"
   ]
  },
  {
   "cell_type": "code",
   "execution_count": 25,
   "metadata": {},
   "outputs": [
    {
     "name": "stdout",
     "output_type": "stream",
     "text": [
      "['5', '7', '3', '7', '4', '5', '2', '8', '3', '7']\n"
     ]
    }
   ],
   "source": [
    "print(y[:10])"
   ]
  },
  {
   "cell_type": "code",
   "execution_count": null,
   "metadata": {},
   "outputs": [],
   "source": []
  }
 ],
 "metadata": {
  "kernelspec": {
   "display_name": "venv",
   "language": "python",
   "name": "venv"
  },
  "language_info": {
   "codemirror_mode": {
    "name": "ipython",
    "version": 3
   },
   "file_extension": ".py",
   "mimetype": "text/x-python",
   "name": "python",
   "nbconvert_exporter": "python",
   "pygments_lexer": "ipython3",
   "version": "3.6.9"
  }
 },
 "nbformat": 4,
 "nbformat_minor": 2
}
